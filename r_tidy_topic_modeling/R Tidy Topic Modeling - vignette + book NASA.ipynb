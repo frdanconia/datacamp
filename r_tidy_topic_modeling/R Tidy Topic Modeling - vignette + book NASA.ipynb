{
 "cells": [
  {
   "cell_type": "markdown",
   "metadata": {
    "toc": true
   },
   "source": [
    "<h1>Table of Contents<span class=\"tocSkip\"></span></h1>\n",
    "<div class=\"toc\"><ul class=\"toc-item\"><li><span><a href=\"#How-can-we-restore-disorganized-chapters-to-their-original-books?\" data-toc-modified-id=\"How-can-we-restore-disorganized-chapters-to-their-original-books?-1\"><span class=\"toc-item-num\">1&nbsp;&nbsp;</span>How can we restore disorganized chapters to their original books?</a></span></li><li><span><a href=\"#Latent-Dirichlet-Allocation-with-the-topicmodels-package\" data-toc-modified-id=\"Latent-Dirichlet-Allocation-with-the-topicmodels-package-2\"><span class=\"toc-item-num\">2&nbsp;&nbsp;</span>Latent Dirichlet Allocation with the topicmodels package</a></span></li><li><span><a href=\"#Per-document-classification\" data-toc-modified-id=\"Per-document-classification-3\"><span class=\"toc-item-num\">3&nbsp;&nbsp;</span>Per-document classification</a></span></li><li><span><a href=\"#Which-chapters-were-misidentified?\" data-toc-modified-id=\"Which-chapters-were-misidentified?-4\"><span class=\"toc-item-num\">4&nbsp;&nbsp;</span>Which chapters were misidentified?</a></span></li><li><span><a href=\"#By-word-assignments:-augment\" data-toc-modified-id=\"By-word-assignments:-augment-5\"><span class=\"toc-item-num\">5&nbsp;&nbsp;</span>By word assignments: augment</a></span></li><li><span><a href=\"#What-were-the-most-commonly-mistaken-words?\" data-toc-modified-id=\"What-were-the-most-commonly-mistaken-words?-6\"><span class=\"toc-item-num\">6&nbsp;&nbsp;</span>What were the most commonly mistaken words?</a></span></li><li><span><a href=\"#Case-study:-mining-NASA-metadata\" data-toc-modified-id=\"Case-study:-mining-NASA-metadata-7\"><span class=\"toc-item-num\">7&nbsp;&nbsp;</span>Case study: mining NASA metadata</a></span></li><li><span><a href=\"#How-data-is-organized-at-NASA\" data-toc-modified-id=\"How-data-is-organized-at-NASA-8\"><span class=\"toc-item-num\">8&nbsp;&nbsp;</span>How data is organized at NASA</a></span><ul class=\"toc-item\"><li><span><a href=\"#Wrangling-and-tidying-the-data\" data-toc-modified-id=\"Wrangling-and-tidying-the-data-8.1\"><span class=\"toc-item-num\">8.1&nbsp;&nbsp;</span>Wrangling and tidying the data</a></span></li></ul></li></ul></div>"
   ]
  },
  {
   "cell_type": "markdown",
   "metadata": {},
   "source": [
    "https://cran.r-project.org/web/packages/tidytext/vignettes/topic_modeling.html\n",
    "\n",
    "- Topic modeling is a method for unsupervised classification of documents, by modeling each document as a mixture of topics and each topic as a mixture of words. Latent Dirichlet allocation is a particularly popular method for fitting a topic model: https://en.wikipedia.org/wiki/Latent_Dirichlet_allocation.\n",
    "\n",
    "- We can use tidy text principles, as described in the main vignette (https://cran.r-project.org/web/packages/tidytext/vignettes/tidytext.html), to approach topic modeling. In particular, we’ll be using **tidying functions for LDA objects** from the `topicmodels` package: https://cran.r-project.org/web/packages/topicmodels/index.html."
   ]
  },
  {
   "cell_type": "markdown",
   "metadata": {},
   "source": [
    "## How can we restore disorganized chapters to their original books?\n",
    "- Great Expectations by Charles Dickens\n",
    "- The War of the Worlds by H.G. Wells\n",
    "- Twenty Thousand Leagues Under the Sea by Jules Verne\n",
    "- Pride and Prejudice by Jane Austen"
   ]
  },
  {
   "cell_type": "code",
   "execution_count": 2,
   "metadata": {},
   "outputs": [],
   "source": [
    "library(dplyr)\n",
    "library(gutenbergr)\n",
    "titles <- c(\"Twenty Thousand Leagues under the Sea\", \"The War of the Worlds\",\n",
    "            \"Pride and Prejudice\", \"Great Expectations\")\n",
    "books <- gutenberg_works(title %in% titles) %>% gutenberg_download(meta_fields = \"title\")"
   ]
  },
  {
   "cell_type": "code",
   "execution_count": 5,
   "metadata": {},
   "outputs": [
    {
     "data": {
      "text/html": [
       "<table>\n",
       "<thead><tr><th scope=col>gutenberg_id</th><th scope=col>text</th><th scope=col>title</th></tr></thead>\n",
       "<tbody>\n",
       "\t<tr><td>36                                                 </td><td>The War of the Worlds                              </td><td>The War of the Worlds                              </td></tr>\n",
       "\t<tr><td>36                                                 </td><td>                                                   </td><td>The War of the Worlds                              </td></tr>\n",
       "\t<tr><td>36                                                 </td><td>by H. G. Wells [1898]                              </td><td>The War of the Worlds                              </td></tr>\n",
       "\t<tr><td>36                                                 </td><td>                                                   </td><td>The War of the Worlds                              </td></tr>\n",
       "\t<tr><td>36                                                 </td><td>                                                   </td><td>The War of the Worlds                              </td></tr>\n",
       "\t<tr><td>36                                                 </td><td>     But who shall dwell in these worlds if they be</td><td>The War of the Worlds                              </td></tr>\n",
       "</tbody>\n",
       "</table>\n"
      ],
      "text/latex": [
       "\\begin{tabular}{r|lll}\n",
       " gutenberg\\_id & text & title\\\\\n",
       "\\hline\n",
       "\t 36                                                  & The War of the Worlds                               & The War of the Worlds                              \\\\\n",
       "\t 36                                                  &                                                     & The War of the Worlds                              \\\\\n",
       "\t 36                                                      & by H. G. Wells {[}1898{]}                               & The War of the Worlds                                  \\\\\n",
       "\t 36                                                  &                                                     & The War of the Worlds                              \\\\\n",
       "\t 36                                                  &                                                     & The War of the Worlds                              \\\\\n",
       "\t 36                                                  &      But who shall dwell in these worlds if they be & The War of the Worlds                              \\\\\n",
       "\\end{tabular}\n"
      ],
      "text/markdown": [
       "\n",
       "gutenberg_id | text | title | \n",
       "|---|---|---|---|---|---|\n",
       "| 36                                                  | The War of the Worlds                               | The War of the Worlds                               | \n",
       "| 36                                                  |                                                     | The War of the Worlds                               | \n",
       "| 36                                                  | by H. G. Wells [1898]                               | The War of the Worlds                               | \n",
       "| 36                                                  |                                                     | The War of the Worlds                               | \n",
       "| 36                                                  |                                                     | The War of the Worlds                               | \n",
       "| 36                                                  |      But who shall dwell in these worlds if they be | The War of the Worlds                               | \n",
       "\n",
       "\n"
      ],
      "text/plain": [
       "  gutenberg_id text                                               \n",
       "1 36           The War of the Worlds                              \n",
       "2 36                                                              \n",
       "3 36           by H. G. Wells [1898]                              \n",
       "4 36                                                              \n",
       "5 36                                                              \n",
       "6 36                But who shall dwell in these worlds if they be\n",
       "  title                \n",
       "1 The War of the Worlds\n",
       "2 The War of the Worlds\n",
       "3 The War of the Worlds\n",
       "4 The War of the Worlds\n",
       "5 The War of the Worlds\n",
       "6 The War of the Worlds"
      ]
     },
     "metadata": {},
     "output_type": "display_data"
    },
    {
     "data": {
      "text/html": [
       "<table>\n",
       "<thead><tr><th scope=col>gutenberg_id</th><th scope=col>text</th><th scope=col>title</th></tr></thead>\n",
       "<tbody>\n",
       "\t<tr><td>1400                                                                    </td><td>\"And will continue friends apart,\" said Estella.                        </td><td>Great Expectations                                                      </td></tr>\n",
       "\t<tr><td>1400                                                                    </td><td>                                                                        </td><td>Great Expectations                                                      </td></tr>\n",
       "\t<tr><td>1400                                                                    </td><td>I took her hand in mine, and we went out of the ruined place; and, as   </td><td>Great Expectations                                                      </td></tr>\n",
       "\t<tr><td>1400                                                                    </td><td>the morning mists had risen long ago when I first left the forge, so the</td><td>Great Expectations                                                      </td></tr>\n",
       "\t<tr><td>1400                                                                    </td><td>evening mists were rising now, and in all the broad expanse of tranquil </td><td>Great Expectations                                                      </td></tr>\n",
       "\t<tr><td>1400                                                                    </td><td>light they showed to me, I saw no shadow of another parting from her.   </td><td>Great Expectations                                                      </td></tr>\n",
       "</tbody>\n",
       "</table>\n"
      ],
      "text/latex": [
       "\\begin{tabular}{r|lll}\n",
       " gutenberg\\_id & text & title\\\\\n",
       "\\hline\n",
       "\t 1400                                                                     & \"And will continue friends apart,\" said Estella.                         & Great Expectations                                                      \\\\\n",
       "\t 1400                                                                     &                                                                          & Great Expectations                                                      \\\\\n",
       "\t 1400                                                                     & I took her hand in mine, and we went out of the ruined place; and, as    & Great Expectations                                                      \\\\\n",
       "\t 1400                                                                     & the morning mists had risen long ago when I first left the forge, so the & Great Expectations                                                      \\\\\n",
       "\t 1400                                                                     & evening mists were rising now, and in all the broad expanse of tranquil  & Great Expectations                                                      \\\\\n",
       "\t 1400                                                                     & light they showed to me, I saw no shadow of another parting from her.    & Great Expectations                                                      \\\\\n",
       "\\end{tabular}\n"
      ],
      "text/markdown": [
       "\n",
       "gutenberg_id | text | title | \n",
       "|---|---|---|---|---|---|\n",
       "| 1400                                                                     | \"And will continue friends apart,\" said Estella.                         | Great Expectations                                                       | \n",
       "| 1400                                                                     |                                                                          | Great Expectations                                                       | \n",
       "| 1400                                                                     | I took her hand in mine, and we went out of the ruined place; and, as    | Great Expectations                                                       | \n",
       "| 1400                                                                     | the morning mists had risen long ago when I first left the forge, so the | Great Expectations                                                       | \n",
       "| 1400                                                                     | evening mists were rising now, and in all the broad expanse of tranquil  | Great Expectations                                                       | \n",
       "| 1400                                                                     | light they showed to me, I saw no shadow of another parting from her.    | Great Expectations                                                       | \n",
       "\n",
       "\n"
      ],
      "text/plain": [
       "  gutenberg_id\n",
       "1 1400        \n",
       "2 1400        \n",
       "3 1400        \n",
       "4 1400        \n",
       "5 1400        \n",
       "6 1400        \n",
       "  text                                                                    \n",
       "1 \"And will continue friends apart,\" said Estella.                        \n",
       "2                                                                         \n",
       "3 I took her hand in mine, and we went out of the ruined place; and, as   \n",
       "4 the morning mists had risen long ago when I first left the forge, so the\n",
       "5 evening mists were rising now, and in all the broad expanse of tranquil \n",
       "6 light they showed to me, I saw no shadow of another parting from her.   \n",
       "  title             \n",
       "1 Great Expectations\n",
       "2 Great Expectations\n",
       "3 Great Expectations\n",
       "4 Great Expectations\n",
       "5 Great Expectations\n",
       "6 Great Expectations"
      ]
     },
     "metadata": {},
     "output_type": "display_data"
    }
   ],
   "source": [
    "head(books)\n",
    "tail(books)"
   ]
  },
  {
   "cell_type": "code",
   "execution_count": 7,
   "metadata": {},
   "outputs": [
    {
     "name": "stdout",
     "output_type": "stream",
     "text": [
      "Classes 'tbl_df', 'tbl' and 'data.frame':\t51663 obs. of  3 variables:\n",
      " $ gutenberg_id: int  36 36 36 36 36 36 36 36 36 36 ...\n",
      " $ text        : chr  \"The War of the Worlds\" \"\" \"by H. G. Wells [1898]\" \"\" ...\n",
      " $ title       : chr  \"The War of the Worlds\" \"The War of the Worlds\" \"The War of the Worlds\" \"The War of the Worlds\" ...\n"
     ]
    }
   ],
   "source": [
    "str(books)"
   ]
  },
  {
   "cell_type": "markdown",
   "metadata": {},
   "source": [
    "As pre-processing, we divide these into chapters, use tidytext’s `unnest_tokens` to separate them into words, then remove `stop_words`. We’re treating every chapter as a separate “document”, each with a name like Great Expectations_1 or Pride and Prejudice_11."
   ]
  },
  {
   "cell_type": "code",
   "execution_count": 13,
   "metadata": {},
   "outputs": [
    {
     "data": {
      "text/html": [
       "<table>\n",
       "<thead><tr><th scope=col>gutenberg_id</th><th scope=col>text</th><th scope=col>title</th><th scope=col>chapter</th></tr></thead>\n",
       "<tbody>\n",
       "\t<tr><td>36                   </td><td>The War of the Worlds</td><td>The War of the Worlds</td><td>0                    </td></tr>\n",
       "\t<tr><td>36                   </td><td>                     </td><td>The War of the Worlds</td><td>0                    </td></tr>\n",
       "\t<tr><td>36                   </td><td>by H. G. Wells [1898]</td><td>The War of the Worlds</td><td>0                    </td></tr>\n",
       "</tbody>\n",
       "</table>\n"
      ],
      "text/latex": [
       "\\begin{tabular}{r|llll}\n",
       " gutenberg\\_id & text & title & chapter\\\\\n",
       "\\hline\n",
       "\t 36                    & The War of the Worlds & The War of the Worlds & 0                    \\\\\n",
       "\t 36                    &                       & The War of the Worlds & 0                    \\\\\n",
       "\t 36                        & by H. G. Wells {[}1898{]} & The War of the Worlds     & 0                        \\\\\n",
       "\\end{tabular}\n"
      ],
      "text/markdown": [
       "\n",
       "gutenberg_id | text | title | chapter | \n",
       "|---|---|---|\n",
       "| 36                    | The War of the Worlds | The War of the Worlds | 0                     | \n",
       "| 36                    |                       | The War of the Worlds | 0                     | \n",
       "| 36                    | by H. G. Wells [1898] | The War of the Worlds | 0                     | \n",
       "\n",
       "\n"
      ],
      "text/plain": [
       "  gutenberg_id text                  title                 chapter\n",
       "1 36           The War of the Worlds The War of the Worlds 0      \n",
       "2 36                                 The War of the Worlds 0      \n",
       "3 36           by H. G. Wells [1898] The War of the Worlds 0      "
      ]
     },
     "metadata": {},
     "output_type": "display_data"
    }
   ],
   "source": [
    "library(tidytext)\n",
    "library(stringr)\n",
    "library(tidyr)\n",
    "# add column indicating from which chapter each line of text comes from\n",
    "books %>% group_by(title) %>% mutate(chapter = cumsum(str_detect(text, regex(\"^chapter \", ignore_case = TRUE)))) %>% head(3)"
   ]
  },
  {
   "cell_type": "code",
   "execution_count": 10,
   "metadata": {},
   "outputs": [
    {
     "data": {
      "text/html": [
       "<table>\n",
       "<thead><tr><th scope=col>gutenberg_id</th><th scope=col>text</th><th scope=col>title</th><th scope=col>chapter</th></tr></thead>\n",
       "<tbody>\n",
       "\t<tr><td>36                                                            </td><td>CHAPTER ONE                                                   </td><td>The War of the Worlds                                         </td><td>1                                                             </td></tr>\n",
       "\t<tr><td>36                                                            </td><td>                                                              </td><td>The War of the Worlds                                         </td><td>1                                                             </td></tr>\n",
       "\t<tr><td>36                                                            </td><td>THE EVE OF THE WAR                                            </td><td>The War of the Worlds                                         </td><td>1                                                             </td></tr>\n",
       "\t<tr><td>36                                                            </td><td>                                                              </td><td>The War of the Worlds                                         </td><td>1                                                             </td></tr>\n",
       "\t<tr><td>36                                                            </td><td>                                                              </td><td>The War of the Worlds                                         </td><td>1                                                             </td></tr>\n",
       "\t<tr><td>36                                                            </td><td>No one would have believed in the last years of the nineteenth</td><td>The War of the Worlds                                         </td><td>1                                                             </td></tr>\n",
       "</tbody>\n",
       "</table>\n"
      ],
      "text/latex": [
       "\\begin{tabular}{r|llll}\n",
       " gutenberg\\_id & text & title & chapter\\\\\n",
       "\\hline\n",
       "\t 36                                                             & CHAPTER ONE                                                    & The War of the Worlds                                          & 1                                                             \\\\\n",
       "\t 36                                                             &                                                                & The War of the Worlds                                          & 1                                                             \\\\\n",
       "\t 36                                                             & THE EVE OF THE WAR                                             & The War of the Worlds                                          & 1                                                             \\\\\n",
       "\t 36                                                             &                                                                & The War of the Worlds                                          & 1                                                             \\\\\n",
       "\t 36                                                             &                                                                & The War of the Worlds                                          & 1                                                             \\\\\n",
       "\t 36                                                             & No one would have believed in the last years of the nineteenth & The War of the Worlds                                          & 1                                                             \\\\\n",
       "\\end{tabular}\n"
      ],
      "text/markdown": [
       "\n",
       "gutenberg_id | text | title | chapter | \n",
       "|---|---|---|---|---|---|\n",
       "| 36                                                             | CHAPTER ONE                                                    | The War of the Worlds                                          | 1                                                              | \n",
       "| 36                                                             |                                                                | The War of the Worlds                                          | 1                                                              | \n",
       "| 36                                                             | THE EVE OF THE WAR                                             | The War of the Worlds                                          | 1                                                              | \n",
       "| 36                                                             |                                                                | The War of the Worlds                                          | 1                                                              | \n",
       "| 36                                                             |                                                                | The War of the Worlds                                          | 1                                                              | \n",
       "| 36                                                             | No one would have believed in the last years of the nineteenth | The War of the Worlds                                          | 1                                                              | \n",
       "\n",
       "\n"
      ],
      "text/plain": [
       "  gutenberg_id text                                                          \n",
       "1 36           CHAPTER ONE                                                   \n",
       "2 36                                                                         \n",
       "3 36           THE EVE OF THE WAR                                            \n",
       "4 36                                                                         \n",
       "5 36                                                                         \n",
       "6 36           No one would have believed in the last years of the nineteenth\n",
       "  title                 chapter\n",
       "1 The War of the Worlds 1      \n",
       "2 The War of the Worlds 1      \n",
       "3 The War of the Worlds 1      \n",
       "4 The War of the Worlds 1      \n",
       "5 The War of the Worlds 1      \n",
       "6 The War of the Worlds 1      "
      ]
     },
     "metadata": {},
     "output_type": "display_data"
    }
   ],
   "source": [
    "by_chapter <- books %>%\n",
    "              group_by(title) %>%\n",
    "              mutate(chapter = cumsum(str_detect(text, regex(\"^chapter \", ignore_case = TRUE)))) %>%\n",
    "              ungroup() %>%\n",
    "              filter(chapter > 0) # to eliminate forword, introduction etc. and start with chapter 1\n",
    "head(by_chapter)"
   ]
  },
  {
   "cell_type": "code",
   "execution_count": 12,
   "metadata": {},
   "outputs": [
    {
     "data": {
      "text/html": [
       "<table>\n",
       "<thead><tr><th scope=col>gutenberg_id</th><th scope=col>text</th><th scope=col>title_chapter</th></tr></thead>\n",
       "<tbody>\n",
       "\t<tr><td>36                     </td><td>CHAPTER ONE            </td><td>The War of the Worlds_1</td></tr>\n",
       "\t<tr><td>36                     </td><td>                       </td><td>The War of the Worlds_1</td></tr>\n",
       "\t<tr><td>36                     </td><td>THE EVE OF THE WAR     </td><td>The War of the Worlds_1</td></tr>\n",
       "</tbody>\n",
       "</table>\n"
      ],
      "text/latex": [
       "\\begin{tabular}{r|lll}\n",
       " gutenberg\\_id & text & title\\_chapter\\\\\n",
       "\\hline\n",
       "\t 36                        & CHAPTER ONE               & The War of the Worlds\\_1\\\\\n",
       "\t 36                        &                           & The War of the Worlds\\_1\\\\\n",
       "\t 36                        & THE EVE OF THE WAR        & The War of the Worlds\\_1\\\\\n",
       "\\end{tabular}\n"
      ],
      "text/markdown": [
       "\n",
       "gutenberg_id | text | title_chapter | \n",
       "|---|---|---|\n",
       "| 36                      | CHAPTER ONE             | The War of the Worlds_1 | \n",
       "| 36                      |                         | The War of the Worlds_1 | \n",
       "| 36                      | THE EVE OF THE WAR      | The War of the Worlds_1 | \n",
       "\n",
       "\n"
      ],
      "text/plain": [
       "  gutenberg_id text               title_chapter          \n",
       "1 36           CHAPTER ONE        The War of the Worlds_1\n",
       "2 36                              The War of the Worlds_1\n",
       "3 36           THE EVE OF THE WAR The War of the Worlds_1"
      ]
     },
     "metadata": {},
     "output_type": "display_data"
    }
   ],
   "source": [
    "by_chapter %>% unite(title_chapter, title, chapter) %>% head(3) # combine title + chapter into col title_chapter"
   ]
  },
  {
   "cell_type": "code",
   "execution_count": 14,
   "metadata": {},
   "outputs": [
    {
     "data": {
      "text/html": [
       "<table>\n",
       "<thead><tr><th scope=col>gutenberg_id</th><th scope=col>title_chapter</th><th scope=col>word</th></tr></thead>\n",
       "<tbody>\n",
       "\t<tr><td>36                     </td><td>The War of the Worlds_1</td><td>chapter                </td></tr>\n",
       "\t<tr><td>36                     </td><td>The War of the Worlds_1</td><td>one                    </td></tr>\n",
       "\t<tr><td>36                     </td><td>The War of the Worlds_1</td><td>the                    </td></tr>\n",
       "</tbody>\n",
       "</table>\n"
      ],
      "text/latex": [
       "\\begin{tabular}{r|lll}\n",
       " gutenberg\\_id & title\\_chapter & word\\\\\n",
       "\\hline\n",
       "\t 36                        & The War of the Worlds\\_1 & chapter                  \\\\\n",
       "\t 36                        & The War of the Worlds\\_1 & one                      \\\\\n",
       "\t 36                        & The War of the Worlds\\_1 & the                      \\\\\n",
       "\\end{tabular}\n"
      ],
      "text/markdown": [
       "\n",
       "gutenberg_id | title_chapter | word | \n",
       "|---|---|---|\n",
       "| 36                      | The War of the Worlds_1 | chapter                 | \n",
       "| 36                      | The War of the Worlds_1 | one                     | \n",
       "| 36                      | The War of the Worlds_1 | the                     | \n",
       "\n",
       "\n"
      ],
      "text/plain": [
       "  gutenberg_id title_chapter           word   \n",
       "1 36           The War of the Worlds_1 chapter\n",
       "2 36           The War of the Worlds_1 one    \n",
       "3 36           The War of the Worlds_1 the    "
      ]
     },
     "metadata": {},
     "output_type": "display_data"
    }
   ],
   "source": [
    "by_chapter_word <- by_chapter %>% unite(title_chapter, title, chapter) %>%\n",
    "                        unnest_tokens(word, text) # unnest into word from text\n",
    "head(by_chapter_word, 3)"
   ]
  },
  {
   "cell_type": "code",
   "execution_count": 15,
   "metadata": {},
   "outputs": [
    {
     "name": "stderr",
     "output_type": "stream",
     "text": [
      "Joining, by = \"word\"\n"
     ]
    },
    {
     "data": {
      "text/html": [
       "<table>\n",
       "<thead><tr><th scope=col>title_chapter</th><th scope=col>word</th><th scope=col>n</th></tr></thead>\n",
       "<tbody>\n",
       "\t<tr><td>Great Expectations_57</td><td>joe                  </td><td>88                   </td></tr>\n",
       "\t<tr><td>Great Expectations_7 </td><td>joe                  </td><td>70                   </td></tr>\n",
       "</tbody>\n",
       "</table>\n"
      ],
      "text/latex": [
       "\\begin{tabular}{r|lll}\n",
       " title\\_chapter & word & n\\\\\n",
       "\\hline\n",
       "\t Great Expectations\\_57 & joe                     & 88                     \\\\\n",
       "\t Great Expectations\\_7  & joe                     & 70                     \\\\\n",
       "\\end{tabular}\n"
      ],
      "text/markdown": [
       "\n",
       "title_chapter | word | n | \n",
       "|---|---|\n",
       "| Great Expectations_57 | joe                   | 88                    | \n",
       "| Great Expectations_7  | joe                   | 70                    | \n",
       "\n",
       "\n"
      ],
      "text/plain": [
       "  title_chapter         word n \n",
       "1 Great Expectations_57 joe  88\n",
       "2 Great Expectations_7  joe  70"
      ]
     },
     "metadata": {},
     "output_type": "display_data"
    }
   ],
   "source": [
    "by_chapter_word %>% anti_join(stop_words) %>%\n",
    "              count(title_chapter, word, sort = TRUE) %>% head(2)"
   ]
  },
  {
   "cell_type": "code",
   "execution_count": 16,
   "metadata": {},
   "outputs": [
    {
     "name": "stderr",
     "output_type": "stream",
     "text": [
      "Joining, by = \"word\"\n"
     ]
    },
    {
     "data": {
      "text/html": [
       "<table>\n",
       "<thead><tr><th scope=col>title_chapter</th><th scope=col>word</th><th scope=col>n</th></tr></thead>\n",
       "<tbody>\n",
       "\t<tr><td>Great Expectations_57</td><td>joe                  </td><td>88                   </td></tr>\n",
       "\t<tr><td>Great Expectations_7 </td><td>joe                  </td><td>70                   </td></tr>\n",
       "\t<tr><td>Great Expectations_17</td><td>biddy                </td><td>63                   </td></tr>\n",
       "\t<tr><td>Great Expectations_27</td><td>joe                  </td><td>58                   </td></tr>\n",
       "\t<tr><td>Great Expectations_38</td><td>estella              </td><td>58                   </td></tr>\n",
       "\t<tr><td>Great Expectations_2 </td><td>joe                  </td><td>56                   </td></tr>\n",
       "</tbody>\n",
       "</table>\n"
      ],
      "text/latex": [
       "\\begin{tabular}{r|lll}\n",
       " title\\_chapter & word & n\\\\\n",
       "\\hline\n",
       "\t Great Expectations\\_57 & joe                     & 88                     \\\\\n",
       "\t Great Expectations\\_7  & joe                     & 70                     \\\\\n",
       "\t Great Expectations\\_17 & biddy                   & 63                     \\\\\n",
       "\t Great Expectations\\_27 & joe                     & 58                     \\\\\n",
       "\t Great Expectations\\_38 & estella                 & 58                     \\\\\n",
       "\t Great Expectations\\_2  & joe                     & 56                     \\\\\n",
       "\\end{tabular}\n"
      ],
      "text/markdown": [
       "\n",
       "title_chapter | word | n | \n",
       "|---|---|---|---|---|---|\n",
       "| Great Expectations_57 | joe                   | 88                    | \n",
       "| Great Expectations_7  | joe                   | 70                    | \n",
       "| Great Expectations_17 | biddy                 | 63                    | \n",
       "| Great Expectations_27 | joe                   | 58                    | \n",
       "| Great Expectations_38 | estella               | 58                    | \n",
       "| Great Expectations_2  | joe                   | 56                    | \n",
       "\n",
       "\n"
      ],
      "text/plain": [
       "  title_chapter         word    n \n",
       "1 Great Expectations_57 joe     88\n",
       "2 Great Expectations_7  joe     70\n",
       "3 Great Expectations_17 biddy   63\n",
       "4 Great Expectations_27 joe     58\n",
       "5 Great Expectations_38 estella 58\n",
       "6 Great Expectations_2  joe     56"
      ]
     },
     "metadata": {},
     "output_type": "display_data"
    }
   ],
   "source": [
    "word_counts <- by_chapter_word %>%\n",
    "                  anti_join(stop_words) %>%\n",
    "                  count(title_chapter, word, sort = TRUE) %>%\n",
    "                  ungroup() # no effect now, but important for later pipes\n",
    "head(word_counts)"
   ]
  },
  {
   "cell_type": "markdown",
   "metadata": {},
   "source": [
    "## Latent Dirichlet Allocation with the topicmodels package\n",
    "Right now this data frame is in a tidy form, with `one-term-per-document-per-row`. However, the `topicmodels` package requires a `tm::DocumentTermMatrix`. We can **cast a one-token-per-row table into a DocumentTermMatrix** with `tidytext::cast_dtm`:"
   ]
  },
  {
   "cell_type": "code",
   "execution_count": 17,
   "metadata": {},
   "outputs": [
    {
     "data": {
      "text/plain": [
       "<<DocumentTermMatrix (documents: 193, terms: 18215)>>\n",
       "Non-/sparse entries: 104722/3410773\n",
       "Sparsity           : 97%\n",
       "Maximal term length: 19\n",
       "Weighting          : term frequency (tf)"
      ]
     },
     "metadata": {},
     "output_type": "display_data"
    }
   ],
   "source": [
    "chapters_dtm <- word_counts %>% cast_dtm(title_chapter, word, n)\n",
    "chapters_dtm"
   ]
  },
  {
   "cell_type": "markdown",
   "metadata": {},
   "source": [
    "Now we are ready to use the topicmodels package to **create a four topic LDA model**."
   ]
  },
  {
   "cell_type": "code",
   "execution_count": 18,
   "metadata": {},
   "outputs": [
    {
     "name": "stderr",
     "output_type": "stream",
     "text": [
      "Warning message:\n",
      "\"package 'topicmodels' was built under R version 3.4.4\""
     ]
    },
    {
     "data": {
      "text/plain": [
       "A LDA_VEM topic model with 4 topics."
      ]
     },
     "metadata": {},
     "output_type": "display_data"
    }
   ],
   "source": [
    "library(topicmodels)\n",
    "chapters_lda <- LDA(chapters_dtm, k = 4, control = list(seed = 1234))\n",
    "chapters_lda"
   ]
  },
  {
   "cell_type": "markdown",
   "metadata": {},
   "source": [
    "- In this case **we know there are four topics because there are four books**; in practice **we may need to try a few different values of k**.\n",
    "- tidytext gives us the option of returning to a tidy analysis, using the `tidy` and `augment` verbs borrowed from the `broom` package. In particular, we start with the tidy verb."
   ]
  },
  {
   "cell_type": "code",
   "execution_count": 20,
   "metadata": {},
   "outputs": [
    {
     "data": {
      "text/html": [
       "<table>\n",
       "<thead><tr><th scope=col>topic</th><th scope=col>term</th><th scope=col>beta</th></tr></thead>\n",
       "<tbody>\n",
       "\t<tr><td>1           </td><td>joe         </td><td>1.436612e-17</td></tr>\n",
       "\t<tr><td>2           </td><td>joe         </td><td>5.962111e-61</td></tr>\n",
       "\t<tr><td>3           </td><td>joe         </td><td>9.881855e-25</td></tr>\n",
       "\t<tr><td>4           </td><td>joe         </td><td>1.447329e-02</td></tr>\n",
       "\t<tr><td>1           </td><td>biddy       </td><td>5.139275e-28</td></tr>\n",
       "\t<tr><td>2           </td><td>biddy       </td><td>5.022015e-73</td></tr>\n",
       "</tbody>\n",
       "</table>\n"
      ],
      "text/latex": [
       "\\begin{tabular}{r|lll}\n",
       " topic & term & beta\\\\\n",
       "\\hline\n",
       "\t 1            & joe          & 1.436612e-17\\\\\n",
       "\t 2            & joe          & 5.962111e-61\\\\\n",
       "\t 3            & joe          & 9.881855e-25\\\\\n",
       "\t 4            & joe          & 1.447329e-02\\\\\n",
       "\t 1            & biddy        & 5.139275e-28\\\\\n",
       "\t 2            & biddy        & 5.022015e-73\\\\\n",
       "\\end{tabular}\n"
      ],
      "text/markdown": [
       "\n",
       "topic | term | beta | \n",
       "|---|---|---|---|---|---|\n",
       "| 1            | joe          | 1.436612e-17 | \n",
       "| 2            | joe          | 5.962111e-61 | \n",
       "| 3            | joe          | 9.881855e-25 | \n",
       "| 4            | joe          | 1.447329e-02 | \n",
       "| 1            | biddy        | 5.139275e-28 | \n",
       "| 2            | biddy        | 5.022015e-73 | \n",
       "\n",
       "\n"
      ],
      "text/plain": [
       "  topic term  beta        \n",
       "1 1     joe   1.436612e-17\n",
       "2 2     joe   5.962111e-61\n",
       "3 3     joe   9.881855e-25\n",
       "4 4     joe   1.447329e-02\n",
       "5 1     biddy 5.139275e-28\n",
       "6 2     biddy 5.022015e-73"
      ]
     },
     "metadata": {},
     "output_type": "display_data"
    },
    {
     "name": "stdout",
     "output_type": "stream",
     "text": [
      "Classes 'tbl_df', 'tbl' and 'data.frame':\t72860 obs. of  3 variables:\n",
      " $ topic: int  1 2 3 4 1 2 3 4 1 2 ...\n",
      " $ term : chr  \"joe\" \"joe\" \"joe\" \"joe\" ...\n",
      " $ beta : num  1.44e-17 5.96e-61 9.88e-25 1.45e-02 5.14e-28 ...\n"
     ]
    }
   ],
   "source": [
    "chapters_lda_td <- tidy(chapters_lda)\n",
    "head(chapters_lda_td)\n",
    "str(chapters_lda_td)"
   ]
  },
  {
   "cell_type": "markdown",
   "metadata": {},
   "source": [
    "- this has turned the model into a `one-topic-per-term-per-row` format. For each combination the model has **β = probability of that term being generated from that topic**.\n",
    "- We could use dplyr’s `top_n` to find the top 5 terms within each topic:"
   ]
  },
  {
   "cell_type": "code",
   "execution_count": 21,
   "metadata": {},
   "outputs": [
    {
     "data": {
      "text/html": [
       "<table>\n",
       "<thead><tr><th scope=col>topic</th><th scope=col>term</th><th scope=col>beta</th></tr></thead>\n",
       "<tbody>\n",
       "\t<tr><td>4          </td><td>joe        </td><td>0.014473289</td></tr>\n",
       "\t<tr><td>1          </td><td>miss       </td><td>0.008708777</td></tr>\n",
       "\t<tr><td>4          </td><td>miss       </td><td>0.006232761</td></tr>\n",
       "\t<tr><td>1          </td><td>elizabeth  </td><td>0.014101270</td></tr>\n",
       "\t<tr><td>2          </td><td>captain    </td><td>0.015510635</td></tr>\n",
       "\t<tr><td>2          </td><td>nautilus   </td><td>0.013051927</td></tr>\n",
       "\t<tr><td>1          </td><td>darcy      </td><td>0.008810341</td></tr>\n",
       "\t<tr><td>2          </td><td>sea        </td><td>0.008843483</td></tr>\n",
       "\t<tr><td>4          </td><td>pip        </td><td>0.006828209</td></tr>\n",
       "\t<tr><td>2          </td><td>ned        </td><td>0.008031955</td></tr>\n",
       "\t<tr><td>3          </td><td>people     </td><td>0.006785987</td></tr>\n",
       "\t<tr><td>3          </td><td>night      </td><td>0.004491174</td></tr>\n",
       "\t<tr><td>3          </td><td>martians   </td><td>0.006456394</td></tr>\n",
       "\t<tr><td>2          </td><td>nemo       </td><td>0.008709651</td></tr>\n",
       "\t<tr><td>1          </td><td>jane       </td><td>0.006494613</td></tr>\n",
       "\t<tr><td>1          </td><td>bennet     </td><td>0.006944344</td></tr>\n",
       "\t<tr><td>4          </td><td>looked     </td><td>0.006366418</td></tr>\n",
       "\t<tr><td>3          </td><td>black      </td><td>0.005277449</td></tr>\n",
       "\t<tr><td>3          </td><td>time       </td><td>0.005343667</td></tr>\n",
       "\t<tr><td>4          </td><td>time       </td><td>0.006852889</td></tr>\n",
       "</tbody>\n",
       "</table>\n"
      ],
      "text/latex": [
       "\\begin{tabular}{r|lll}\n",
       " topic & term & beta\\\\\n",
       "\\hline\n",
       "\t 4           & joe         & 0.014473289\\\\\n",
       "\t 1           & miss        & 0.008708777\\\\\n",
       "\t 4           & miss        & 0.006232761\\\\\n",
       "\t 1           & elizabeth   & 0.014101270\\\\\n",
       "\t 2           & captain     & 0.015510635\\\\\n",
       "\t 2           & nautilus    & 0.013051927\\\\\n",
       "\t 1           & darcy       & 0.008810341\\\\\n",
       "\t 2           & sea         & 0.008843483\\\\\n",
       "\t 4           & pip         & 0.006828209\\\\\n",
       "\t 2           & ned         & 0.008031955\\\\\n",
       "\t 3           & people      & 0.006785987\\\\\n",
       "\t 3           & night       & 0.004491174\\\\\n",
       "\t 3           & martians    & 0.006456394\\\\\n",
       "\t 2           & nemo        & 0.008709651\\\\\n",
       "\t 1           & jane        & 0.006494613\\\\\n",
       "\t 1           & bennet      & 0.006944344\\\\\n",
       "\t 4           & looked      & 0.006366418\\\\\n",
       "\t 3           & black       & 0.005277449\\\\\n",
       "\t 3           & time        & 0.005343667\\\\\n",
       "\t 4           & time        & 0.006852889\\\\\n",
       "\\end{tabular}\n"
      ],
      "text/markdown": [
       "\n",
       "topic | term | beta | \n",
       "|---|---|---|---|---|---|---|---|---|---|---|---|---|---|---|---|---|---|---|---|\n",
       "| 4           | joe         | 0.014473289 | \n",
       "| 1           | miss        | 0.008708777 | \n",
       "| 4           | miss        | 0.006232761 | \n",
       "| 1           | elizabeth   | 0.014101270 | \n",
       "| 2           | captain     | 0.015510635 | \n",
       "| 2           | nautilus    | 0.013051927 | \n",
       "| 1           | darcy       | 0.008810341 | \n",
       "| 2           | sea         | 0.008843483 | \n",
       "| 4           | pip         | 0.006828209 | \n",
       "| 2           | ned         | 0.008031955 | \n",
       "| 3           | people      | 0.006785987 | \n",
       "| 3           | night       | 0.004491174 | \n",
       "| 3           | martians    | 0.006456394 | \n",
       "| 2           | nemo        | 0.008709651 | \n",
       "| 1           | jane        | 0.006494613 | \n",
       "| 1           | bennet      | 0.006944344 | \n",
       "| 4           | looked      | 0.006366418 | \n",
       "| 3           | black       | 0.005277449 | \n",
       "| 3           | time        | 0.005343667 | \n",
       "| 4           | time        | 0.006852889 | \n",
       "\n",
       "\n"
      ],
      "text/plain": [
       "   topic term      beta       \n",
       "1  4     joe       0.014473289\n",
       "2  1     miss      0.008708777\n",
       "3  4     miss      0.006232761\n",
       "4  1     elizabeth 0.014101270\n",
       "5  2     captain   0.015510635\n",
       "6  2     nautilus  0.013051927\n",
       "7  1     darcy     0.008810341\n",
       "8  2     sea       0.008843483\n",
       "9  4     pip       0.006828209\n",
       "10 2     ned       0.008031955\n",
       "11 3     people    0.006785987\n",
       "12 3     night     0.004491174\n",
       "13 3     martians  0.006456394\n",
       "14 2     nemo      0.008709651\n",
       "15 1     jane      0.006494613\n",
       "16 1     bennet    0.006944344\n",
       "17 4     looked    0.006366418\n",
       "18 3     black     0.005277449\n",
       "19 3     time      0.005343667\n",
       "20 4     time      0.006852889"
      ]
     },
     "metadata": {},
     "output_type": "display_data"
    }
   ],
   "source": [
    "chapters_lda_td %>% group_by(topic) %>% top_n(5, beta)"
   ]
  },
  {
   "cell_type": "code",
   "execution_count": 22,
   "metadata": {},
   "outputs": [
    {
     "data": {
      "text/html": [
       "<table>\n",
       "<thead><tr><th scope=col>topic</th><th scope=col>term</th><th scope=col>beta</th></tr></thead>\n",
       "<tbody>\n",
       "\t<tr><td>1          </td><td>elizabeth  </td><td>0.014101270</td></tr>\n",
       "\t<tr><td>1          </td><td>darcy      </td><td>0.008810341</td></tr>\n",
       "\t<tr><td>1          </td><td>miss       </td><td>0.008708777</td></tr>\n",
       "\t<tr><td>1          </td><td>bennet     </td><td>0.006944344</td></tr>\n",
       "\t<tr><td>1          </td><td>jane       </td><td>0.006494613</td></tr>\n",
       "\t<tr><td>2          </td><td>captain    </td><td>0.015510635</td></tr>\n",
       "\t<tr><td>2          </td><td>nautilus   </td><td>0.013051927</td></tr>\n",
       "\t<tr><td>2          </td><td>sea        </td><td>0.008843483</td></tr>\n",
       "\t<tr><td>2          </td><td>nemo       </td><td>0.008709651</td></tr>\n",
       "\t<tr><td>2          </td><td>ned        </td><td>0.008031955</td></tr>\n",
       "\t<tr><td>3          </td><td>people     </td><td>0.006785987</td></tr>\n",
       "\t<tr><td>3          </td><td>martians   </td><td>0.006456394</td></tr>\n",
       "\t<tr><td>3          </td><td>time       </td><td>0.005343667</td></tr>\n",
       "\t<tr><td>3          </td><td>black      </td><td>0.005277449</td></tr>\n",
       "\t<tr><td>3          </td><td>night      </td><td>0.004491174</td></tr>\n",
       "\t<tr><td>4          </td><td>joe        </td><td>0.014473289</td></tr>\n",
       "\t<tr><td>4          </td><td>time       </td><td>0.006852889</td></tr>\n",
       "\t<tr><td>4          </td><td>pip        </td><td>0.006828209</td></tr>\n",
       "\t<tr><td>4          </td><td>looked     </td><td>0.006366418</td></tr>\n",
       "\t<tr><td>4          </td><td>miss       </td><td>0.006232761</td></tr>\n",
       "</tbody>\n",
       "</table>\n"
      ],
      "text/latex": [
       "\\begin{tabular}{r|lll}\n",
       " topic & term & beta\\\\\n",
       "\\hline\n",
       "\t 1           & elizabeth   & 0.014101270\\\\\n",
       "\t 1           & darcy       & 0.008810341\\\\\n",
       "\t 1           & miss        & 0.008708777\\\\\n",
       "\t 1           & bennet      & 0.006944344\\\\\n",
       "\t 1           & jane        & 0.006494613\\\\\n",
       "\t 2           & captain     & 0.015510635\\\\\n",
       "\t 2           & nautilus    & 0.013051927\\\\\n",
       "\t 2           & sea         & 0.008843483\\\\\n",
       "\t 2           & nemo        & 0.008709651\\\\\n",
       "\t 2           & ned         & 0.008031955\\\\\n",
       "\t 3           & people      & 0.006785987\\\\\n",
       "\t 3           & martians    & 0.006456394\\\\\n",
       "\t 3           & time        & 0.005343667\\\\\n",
       "\t 3           & black       & 0.005277449\\\\\n",
       "\t 3           & night       & 0.004491174\\\\\n",
       "\t 4           & joe         & 0.014473289\\\\\n",
       "\t 4           & time        & 0.006852889\\\\\n",
       "\t 4           & pip         & 0.006828209\\\\\n",
       "\t 4           & looked      & 0.006366418\\\\\n",
       "\t 4           & miss        & 0.006232761\\\\\n",
       "\\end{tabular}\n"
      ],
      "text/markdown": [
       "\n",
       "topic | term | beta | \n",
       "|---|---|---|---|---|---|---|---|---|---|---|---|---|---|---|---|---|---|---|---|\n",
       "| 1           | elizabeth   | 0.014101270 | \n",
       "| 1           | darcy       | 0.008810341 | \n",
       "| 1           | miss        | 0.008708777 | \n",
       "| 1           | bennet      | 0.006944344 | \n",
       "| 1           | jane        | 0.006494613 | \n",
       "| 2           | captain     | 0.015510635 | \n",
       "| 2           | nautilus    | 0.013051927 | \n",
       "| 2           | sea         | 0.008843483 | \n",
       "| 2           | nemo        | 0.008709651 | \n",
       "| 2           | ned         | 0.008031955 | \n",
       "| 3           | people      | 0.006785987 | \n",
       "| 3           | martians    | 0.006456394 | \n",
       "| 3           | time        | 0.005343667 | \n",
       "| 3           | black       | 0.005277449 | \n",
       "| 3           | night       | 0.004491174 | \n",
       "| 4           | joe         | 0.014473289 | \n",
       "| 4           | time        | 0.006852889 | \n",
       "| 4           | pip         | 0.006828209 | \n",
       "| 4           | looked      | 0.006366418 | \n",
       "| 4           | miss        | 0.006232761 | \n",
       "\n",
       "\n"
      ],
      "text/plain": [
       "   topic term      beta       \n",
       "1  1     elizabeth 0.014101270\n",
       "2  1     darcy     0.008810341\n",
       "3  1     miss      0.008708777\n",
       "4  1     bennet    0.006944344\n",
       "5  1     jane      0.006494613\n",
       "6  2     captain   0.015510635\n",
       "7  2     nautilus  0.013051927\n",
       "8  2     sea       0.008843483\n",
       "9  2     nemo      0.008709651\n",
       "10 2     ned       0.008031955\n",
       "11 3     people    0.006785987\n",
       "12 3     martians  0.006456394\n",
       "13 3     time      0.005343667\n",
       "14 3     black     0.005277449\n",
       "15 3     night     0.004491174\n",
       "16 4     joe       0.014473289\n",
       "17 4     time      0.006852889\n",
       "18 4     pip       0.006828209\n",
       "19 4     looked    0.006366418\n",
       "20 4     miss      0.006232761"
      ]
     },
     "metadata": {},
     "output_type": "display_data"
    }
   ],
   "source": [
    "top_terms <- chapters_lda_td %>% group_by(topic) %>% top_n(5, beta) %>%\n",
    "              ungroup() %>% arrange(topic, -beta) # ORDER the output from above BY topic ASC a. beta DESC\n",
    "\n",
    "top_terms"
   ]
  },
  {
   "cell_type": "code",
   "execution_count": null,
   "metadata": {},
   "outputs": [],
   "source": []
  },
  {
   "cell_type": "code",
   "execution_count": 24,
   "metadata": {},
   "outputs": [
    {
     "data": {},
     "metadata": {},
     "output_type": "display_data"
    },
    {
     "data": {
      "image/png": "[encoded data removed]",
      "text/plain": [
       "plot without title"
      ]
     },
     "metadata": {},
     "output_type": "display_data"
    }
   ],
   "source": [
    "# This model lends itself to a visualization:\n",
    "library(ggplot2)\n",
    "theme_set(theme_bw())\n",
    "\n",
    "top_terms %>% mutate(term = reorder(term, beta)) %>% # does nothing\n",
    "  ggplot(aes(term, beta)) +\n",
    "  geom_bar(stat = \"identity\") + # If you want heights of bars to represent values in the data \n",
    "# (you need to map a value to the y aesthetic) - without this stat = \"identity\" plot returns an error\n",
    "  facet_wrap(~ topic, scales = \"free\") + # free cause scales vary across rows and columns\n",
    "  theme(axis.text.x = element_text(size = 15, angle = 90, hjust = 1))"
   ]
  },
  {
   "cell_type": "markdown",
   "metadata": {},
   "source": [
    "## Per-document classification\n",
    "Each chapter was a “document” in this analysis. Thus, we may want to know which topics are associated with each document. **Can we put the chapters back together in the correct books?**"
   ]
  },
  {
   "cell_type": "code",
   "execution_count": 27,
   "metadata": {},
   "outputs": [
    {
     "data": {
      "text/html": [
       "<table>\n",
       "<thead><tr><th scope=col>document</th><th scope=col>topic</th><th scope=col>gamma</th></tr></thead>\n",
       "<tbody>\n",
       "\t<tr><td>Great Expectations_57</td><td>1                    </td><td>1.338547e-05         </td></tr>\n",
       "\t<tr><td>Great Expectations_7 </td><td>1                    </td><td>1.456215e-05         </td></tr>\n",
       "\t<tr><td>Great Expectations_17</td><td>1                    </td><td>2.096237e-05         </td></tr>\n",
       "\t<tr><td>Great Expectations_27</td><td>1                    </td><td>1.900804e-05         </td></tr>\n",
       "\t<tr><td>Great Expectations_38</td><td>1                    </td><td>3.552749e-01         </td></tr>\n",
       "\t<tr><td>Great Expectations_2 </td><td>1                    </td><td>1.706715e-05         </td></tr>\n",
       "</tbody>\n",
       "</table>\n"
      ],
      "text/latex": [
       "\\begin{tabular}{r|lll}\n",
       " document & topic & gamma\\\\\n",
       "\\hline\n",
       "\t Great Expectations\\_57 & 1                       & 1.338547e-05           \\\\\n",
       "\t Great Expectations\\_7  & 1                       & 1.456215e-05           \\\\\n",
       "\t Great Expectations\\_17 & 1                       & 2.096237e-05           \\\\\n",
       "\t Great Expectations\\_27 & 1                       & 1.900804e-05           \\\\\n",
       "\t Great Expectations\\_38 & 1                       & 3.552749e-01           \\\\\n",
       "\t Great Expectations\\_2  & 1                       & 1.706715e-05           \\\\\n",
       "\\end{tabular}\n"
      ],
      "text/markdown": [
       "\n",
       "document | topic | gamma | \n",
       "|---|---|---|---|---|---|\n",
       "| Great Expectations_57 | 1                     | 1.338547e-05          | \n",
       "| Great Expectations_7  | 1                     | 1.456215e-05          | \n",
       "| Great Expectations_17 | 1                     | 2.096237e-05          | \n",
       "| Great Expectations_27 | 1                     | 1.900804e-05          | \n",
       "| Great Expectations_38 | 1                     | 3.552749e-01          | \n",
       "| Great Expectations_2  | 1                     | 1.706715e-05          | \n",
       "\n",
       "\n"
      ],
      "text/plain": [
       "  document              topic gamma       \n",
       "1 Great Expectations_57 1     1.338547e-05\n",
       "2 Great Expectations_7  1     1.456215e-05\n",
       "3 Great Expectations_17 1     2.096237e-05\n",
       "4 Great Expectations_27 1     1.900804e-05\n",
       "5 Great Expectations_38 1     3.552749e-01\n",
       "6 Great Expectations_2  1     1.706715e-05"
      ]
     },
     "metadata": {},
     "output_type": "display_data"
    },
    {
     "data": {
      "text/html": [
       "<table>\n",
       "<thead><tr><th scope=col>document</th><th scope=col>topic</th><th scope=col>gamma</th></tr></thead>\n",
       "<tbody>\n",
       "\t<tr><td>Pride and Prejudice_5                   </td><td>4                                       </td><td>6.485469e-05                            </td></tr>\n",
       "\t<tr><td>Pride and Prejudice_60                  </td><td>4                                       </td><td>4.068034e-05                            </td></tr>\n",
       "\t<tr><td>Pride and Prejudice_12                  </td><td>4                                       </td><td>8.029132e-05                            </td></tr>\n",
       "\t<tr><td>The War of the Worlds_3                 </td><td>4                                       </td><td>5.096009e-05                            </td></tr>\n",
       "\t<tr><td>The War of the Worlds_7                 </td><td>4                                       </td><td>4.177962e-05                            </td></tr>\n",
       "\t<tr><td>Twenty Thousand Leagues under the Sea_46</td><td>4                                       </td><td>1.188746e-04                            </td></tr>\n",
       "</tbody>\n",
       "</table>\n"
      ],
      "text/latex": [
       "\\begin{tabular}{r|lll}\n",
       " document & topic & gamma\\\\\n",
       "\\hline\n",
       "\t Pride and Prejudice\\_5                    & 4                                          & 6.485469e-05                              \\\\\n",
       "\t Pride and Prejudice\\_60                   & 4                                          & 4.068034e-05                              \\\\\n",
       "\t Pride and Prejudice\\_12                   & 4                                          & 8.029132e-05                              \\\\\n",
       "\t The War of the Worlds\\_3                  & 4                                          & 5.096009e-05                              \\\\\n",
       "\t The War of the Worlds\\_7                  & 4                                          & 4.177962e-05                              \\\\\n",
       "\t Twenty Thousand Leagues under the Sea\\_46 & 4                                          & 1.188746e-04                              \\\\\n",
       "\\end{tabular}\n"
      ],
      "text/markdown": [
       "\n",
       "document | topic | gamma | \n",
       "|---|---|---|---|---|---|\n",
       "| Pride and Prejudice_5                    | 4                                        | 6.485469e-05                             | \n",
       "| Pride and Prejudice_60                   | 4                                        | 4.068034e-05                             | \n",
       "| Pride and Prejudice_12                   | 4                                        | 8.029132e-05                             | \n",
       "| The War of the Worlds_3                  | 4                                        | 5.096009e-05                             | \n",
       "| The War of the Worlds_7                  | 4                                        | 4.177962e-05                             | \n",
       "| Twenty Thousand Leagues under the Sea_46 | 4                                        | 1.188746e-04                             | \n",
       "\n",
       "\n"
      ],
      "text/plain": [
       "  document                                 topic gamma       \n",
       "1 Pride and Prejudice_5                    4     6.485469e-05\n",
       "2 Pride and Prejudice_60                   4     4.068034e-05\n",
       "3 Pride and Prejudice_12                   4     8.029132e-05\n",
       "4 The War of the Worlds_3                  4     5.096009e-05\n",
       "5 The War of the Worlds_7                  4     4.177962e-05\n",
       "6 Twenty Thousand Leagues under the Sea_46 4     1.188746e-04"
      ]
     },
     "metadata": {},
     "output_type": "display_data"
    }
   ],
   "source": [
    "chapters_lda_gamma <- tidy(chapters_lda, matrix = \"gamma\")\n",
    "head(chapters_lda_gamma)\n",
    "tail(chapters_lda_gamma)"
   ]
  },
  {
   "cell_type": "markdown",
   "metadata": {},
   "source": [
    "Setting `matrix = \"gamma\"` returns a tidied version with one-document-per-topic-per-row. \n",
    "- Now that we have these document classifications, we can see **how well our unsupervised learning did at distinguishing the four books**. \n",
    "- First we **re-separate** the document name **into title and chapter**:"
   ]
  },
  {
   "cell_type": "code",
   "execution_count": 28,
   "metadata": {},
   "outputs": [
    {
     "data": {
      "text/html": [
       "<table>\n",
       "<thead><tr><th scope=col>title</th><th scope=col>chapter</th><th scope=col>topic</th><th scope=col>gamma</th></tr></thead>\n",
       "<tbody>\n",
       "\t<tr><td>Great Expectations</td><td>57                </td><td>1                 </td><td>1.338547e-05      </td></tr>\n",
       "\t<tr><td>Great Expectations</td><td> 7                </td><td>1                 </td><td>1.456215e-05      </td></tr>\n",
       "\t<tr><td>Great Expectations</td><td>17                </td><td>1                 </td><td>2.096237e-05      </td></tr>\n",
       "\t<tr><td>Great Expectations</td><td>27                </td><td>1                 </td><td>1.900804e-05      </td></tr>\n",
       "\t<tr><td>Great Expectations</td><td>38                </td><td>1                 </td><td>3.552749e-01      </td></tr>\n",
       "\t<tr><td>Great Expectations</td><td> 2                </td><td>1                 </td><td>1.706715e-05      </td></tr>\n",
       "</tbody>\n",
       "</table>\n"
      ],
      "text/latex": [
       "\\begin{tabular}{r|llll}\n",
       " title & chapter & topic & gamma\\\\\n",
       "\\hline\n",
       "\t Great Expectations & 57                 & 1                  & 1.338547e-05      \\\\\n",
       "\t Great Expectations &  7                 & 1                  & 1.456215e-05      \\\\\n",
       "\t Great Expectations & 17                 & 1                  & 2.096237e-05      \\\\\n",
       "\t Great Expectations & 27                 & 1                  & 1.900804e-05      \\\\\n",
       "\t Great Expectations & 38                 & 1                  & 3.552749e-01      \\\\\n",
       "\t Great Expectations &  2                 & 1                  & 1.706715e-05      \\\\\n",
       "\\end{tabular}\n"
      ],
      "text/markdown": [
       "\n",
       "title | chapter | topic | gamma | \n",
       "|---|---|---|---|---|---|\n",
       "| Great Expectations | 57                 | 1                  | 1.338547e-05       | \n",
       "| Great Expectations |  7                 | 1                  | 1.456215e-05       | \n",
       "| Great Expectations | 17                 | 1                  | 2.096237e-05       | \n",
       "| Great Expectations | 27                 | 1                  | 1.900804e-05       | \n",
       "| Great Expectations | 38                 | 1                  | 3.552749e-01       | \n",
       "| Great Expectations |  2                 | 1                  | 1.706715e-05       | \n",
       "\n",
       "\n"
      ],
      "text/plain": [
       "  title              chapter topic gamma       \n",
       "1 Great Expectations 57      1     1.338547e-05\n",
       "2 Great Expectations  7      1     1.456215e-05\n",
       "3 Great Expectations 17      1     2.096237e-05\n",
       "4 Great Expectations 27      1     1.900804e-05\n",
       "5 Great Expectations 38      1     3.552749e-01\n",
       "6 Great Expectations  2      1     1.706715e-05"
      ]
     },
     "metadata": {},
     "output_type": "display_data"
    },
    {
     "name": "stdout",
     "output_type": "stream",
     "text": [
      "Classes 'tbl_df', 'tbl' and 'data.frame':\t772 obs. of  4 variables:\n",
      " $ title  : chr  \"Great Expectations\" \"Great Expectations\" \"Great Expectations\" \"Great Expectations\" ...\n",
      " $ chapter: int  57 7 17 27 38 2 23 15 18 16 ...\n",
      " $ topic  : int  1 1 1 1 1 1 1 1 1 1 ...\n",
      " $ gamma  : num  1.34e-05 1.46e-05 2.10e-05 1.90e-05 3.55e-01 ...\n"
     ]
    }
   ],
   "source": [
    "chapters_lda_gamma <- chapters_lda_gamma %>% separate(document, c(\"title\", \"chapter\"), sep = \"_\", convert = TRUE)\n",
    "head(chapters_lda_gamma)\n",
    "str(chapters_lda_gamma)"
   ]
  },
  {
   "cell_type": "code",
   "execution_count": 29,
   "metadata": {},
   "outputs": [
    {
     "name": "stderr",
     "output_type": "stream",
     "text": [
      "`stat_bin()` using `bins = 30`. Pick better value with `binwidth`.\n"
     ]
    },
    {
     "data": {},
     "metadata": {},
     "output_type": "display_data"
    },
    {
     "data": {
      "image/png": "[encoded data removed]",
      "text/plain": [
       "plot without title"
      ]
     },
     "metadata": {},
     "output_type": "display_data"
    }
   ],
   "source": [
    "# Then we examine what fraction of chapters we got right for each:\n",
    "ggplot(chapters_lda_gamma, aes(gamma, fill = factor(topic))) + geom_histogram() + facet_wrap(~ title, nrow = 2)"
   ]
  },
  {
   "cell_type": "markdown",
   "metadata": {},
   "source": [
    "We notice that almost all of the chapters from top right & both at the bottom were **uniquely identified as a single topic each**."
   ]
  },
  {
   "cell_type": "code",
   "execution_count": 31,
   "metadata": {},
   "outputs": [
    {
     "data": {
      "text/html": [
       "<table>\n",
       "<thead><tr><th scope=col>title</th><th scope=col>chapter</th><th scope=col>topic</th><th scope=col>gamma</th></tr></thead>\n",
       "<tbody>\n",
       "\t<tr><td>Great Expectations</td><td>54                </td><td>3                 </td><td>0.4812041         </td></tr>\n",
       "\t<tr><td>Great Expectations</td><td>22                </td><td>4                 </td><td>0.5362582         </td></tr>\n",
       "\t<tr><td>Great Expectations</td><td>23                </td><td>1                 </td><td>0.5470853         </td></tr>\n",
       "\t<tr><td>Great Expectations</td><td>31                </td><td>4                 </td><td>0.5473876         </td></tr>\n",
       "\t<tr><td>Great Expectations</td><td>33                </td><td>4                 </td><td>0.5689223         </td></tr>\n",
       "\t<tr><td>Great Expectations</td><td>47                </td><td>4                 </td><td>0.5799048         </td></tr>\n",
       "</tbody>\n",
       "</table>\n"
      ],
      "text/latex": [
       "\\begin{tabular}{r|llll}\n",
       " title & chapter & topic & gamma\\\\\n",
       "\\hline\n",
       "\t Great Expectations & 54                 & 3                  & 0.4812041         \\\\\n",
       "\t Great Expectations & 22                 & 4                  & 0.5362582         \\\\\n",
       "\t Great Expectations & 23                 & 1                  & 0.5470853         \\\\\n",
       "\t Great Expectations & 31                 & 4                  & 0.5473876         \\\\\n",
       "\t Great Expectations & 33                 & 4                  & 0.5689223         \\\\\n",
       "\t Great Expectations & 47                 & 4                  & 0.5799048         \\\\\n",
       "\\end{tabular}\n"
      ],
      "text/markdown": [
       "\n",
       "title | chapter | topic | gamma | \n",
       "|---|---|---|---|---|---|\n",
       "| Great Expectations | 54                 | 3                  | 0.4812041          | \n",
       "| Great Expectations | 22                 | 4                  | 0.5362582          | \n",
       "| Great Expectations | 23                 | 1                  | 0.5470853          | \n",
       "| Great Expectations | 31                 | 4                  | 0.5473876          | \n",
       "| Great Expectations | 33                 | 4                  | 0.5689223          | \n",
       "| Great Expectations | 47                 | 4                  | 0.5799048          | \n",
       "\n",
       "\n"
      ],
      "text/plain": [
       "  title              chapter topic gamma    \n",
       "1 Great Expectations 54      3     0.4812041\n",
       "2 Great Expectations 22      4     0.5362582\n",
       "3 Great Expectations 23      1     0.5470853\n",
       "4 Great Expectations 31      4     0.5473876\n",
       "5 Great Expectations 33      4     0.5689223\n",
       "6 Great Expectations 47      4     0.5799048"
      ]
     },
     "metadata": {},
     "output_type": "display_data"
    },
    {
     "name": "stdout",
     "output_type": "stream",
     "text": [
      "Classes 'tbl_df', 'tbl' and 'data.frame':\t193 obs. of  4 variables:\n",
      " $ title  : chr  \"Great Expectations\" \"Great Expectations\" \"Great Expectations\" \"Great Expectations\" ...\n",
      " $ chapter: int  54 22 23 31 33 47 56 38 3 11 ...\n",
      " $ topic  : int  3 4 1 4 4 4 4 4 4 4 ...\n",
      " $ gamma  : num  0.481 0.536 0.547 0.547 0.569 ...\n"
     ]
    }
   ],
   "source": [
    "chapter_classifications <- chapters_lda_gamma %>% group_by(title, chapter) %>%\n",
    "                              top_n(1, gamma) %>% ungroup() %>% arrange(gamma)\n",
    "head(chapter_classifications)\n",
    "str(chapter_classifications)"
   ]
  },
  {
   "cell_type": "markdown",
   "metadata": {},
   "source": [
    "We can determine this by finding the consensus book for each, which we note is correct based on our earlier visualization:"
   ]
  },
  {
   "cell_type": "code",
   "execution_count": 32,
   "metadata": {},
   "outputs": [
    {
     "data": {
      "text/html": [
       "<table>\n",
       "<thead><tr><th scope=col>title</th><th scope=col>topic</th><th scope=col>n</th></tr></thead>\n",
       "<tbody>\n",
       "\t<tr><td>Pride and Prejudice</td><td>1                  </td><td>61                 </td></tr>\n",
       "</tbody>\n",
       "</table>\n"
      ],
      "text/latex": [
       "\\begin{tabular}{r|lll}\n",
       " title & topic & n\\\\\n",
       "\\hline\n",
       "\t Pride and Prejudice & 1                   & 61                 \\\\\n",
       "\\end{tabular}\n"
      ],
      "text/markdown": [
       "\n",
       "title | topic | n | \n",
       "|---|\n",
       "| Pride and Prejudice | 1                   | 61                  | \n",
       "\n",
       "\n"
      ],
      "text/plain": [
       "  title               topic n \n",
       "1 Pride and Prejudice 1     61"
      ]
     },
     "metadata": {},
     "output_type": "display_data"
    }
   ],
   "source": [
    "chapter_classifications %>% count(title, topic) %>% top_n(1, n) %>% ungroup()"
   ]
  },
  {
   "cell_type": "code",
   "execution_count": 33,
   "metadata": {},
   "outputs": [
    {
     "data": {
      "text/html": [
       "<table>\n",
       "<thead><tr><th scope=col>consensus</th><th scope=col>topic</th></tr></thead>\n",
       "<tbody>\n",
       "\t<tr><td>Pride and Prejudice</td><td>1                  </td></tr>\n",
       "</tbody>\n",
       "</table>\n"
      ],
      "text/latex": [
       "\\begin{tabular}{r|ll}\n",
       " consensus & topic\\\\\n",
       "\\hline\n",
       "\t Pride and Prejudice & 1                  \\\\\n",
       "\\end{tabular}\n"
      ],
      "text/markdown": [
       "\n",
       "consensus | topic | \n",
       "|---|\n",
       "| Pride and Prejudice | 1                   | \n",
       "\n",
       "\n"
      ],
      "text/plain": [
       "  consensus           topic\n",
       "1 Pride and Prejudice 1    "
      ]
     },
     "metadata": {},
     "output_type": "display_data"
    }
   ],
   "source": [
    "book_topics <- chapter_classifications %>% count(title, topic) %>% top_n(1, n) %>% ungroup() %>%\n",
    "                transmute(consensus = title, topic) # Adds new variable consensus and drops title and topic \n",
    "book_topics"
   ]
  },
  {
   "cell_type": "markdown",
   "metadata": {},
   "source": [
    "## Which chapters were misidentified?"
   ]
  },
  {
   "cell_type": "code",
   "execution_count": 34,
   "metadata": {},
   "outputs": [
    {
     "data": {
      "text/html": [
       "<table>\n",
       "<thead><tr><th scope=col>title</th><th scope=col>consensus</th><th scope=col>n</th></tr></thead>\n",
       "<tbody>\n",
       "\t<tr><td>Great Expectations </td><td>Pride and Prejudice</td><td> 1                 </td></tr>\n",
       "\t<tr><td>Pride and Prejudice</td><td>Pride and Prejudice</td><td>61                 </td></tr>\n",
       "</tbody>\n",
       "</table>\n"
      ],
      "text/latex": [
       "\\begin{tabular}{r|lll}\n",
       " title & consensus & n\\\\\n",
       "\\hline\n",
       "\t Great Expectations  & Pride and Prejudice &  1                 \\\\\n",
       "\t Pride and Prejudice & Pride and Prejudice & 61                 \\\\\n",
       "\\end{tabular}\n"
      ],
      "text/markdown": [
       "\n",
       "title | consensus | n | \n",
       "|---|---|\n",
       "| Great Expectations  | Pride and Prejudice |  1                  | \n",
       "| Pride and Prejudice | Pride and Prejudice | 61                  | \n",
       "\n",
       "\n"
      ],
      "text/plain": [
       "  title               consensus           n \n",
       "1 Great Expectations  Pride and Prejudice  1\n",
       "2 Pride and Prejudice Pride and Prejudice 61"
      ]
     },
     "metadata": {},
     "output_type": "display_data"
    }
   ],
   "source": [
    "chapter_classifications %>% inner_join(book_topics, by = \"topic\") %>% count(title, consensus)"
   ]
  },
  {
   "cell_type": "markdown",
   "metadata": {},
   "source": [
    "We see that only a few chapters from Great Expectations were misclassified. Not bad for unsupervised clustering!"
   ]
  },
  {
   "cell_type": "markdown",
   "metadata": {},
   "source": [
    "## By word assignments: augment\n",
    "One important step in the topic modeling expectation-maximization algorithm is **assigning each word in each document to a topic**. \n",
    "- The more words in a document are assigned to a topic, the more weight (`gamma`) will go on that document-topic classification.\n",
    "- We may want to take the original document-word pairs and find which words in each document were assigned to which topic. This is the job of the `augment`."
   ]
  },
  {
   "cell_type": "code",
   "execution_count": 35,
   "metadata": {},
   "outputs": [
    {
     "name": "stdout",
     "output_type": "stream",
     "text": [
      "Classes 'tbl_df', 'tbl' and 'data.frame':\t104722 obs. of  4 variables:\n",
      " $ document: chr  \"Great Expectations_57\" \"Great Expectations_7\" \"Great Expectations_17\" \"Great Expectations_27\" ...\n",
      " $ term    : chr  \"joe\" \"joe\" \"joe\" \"joe\" ...\n",
      " $ count   : num  88 70 5 58 56 1 50 50 44 40 ...\n",
      " $ .topic  : num  4 4 4 4 4 4 4 4 4 4 ...\n"
     ]
    }
   ],
   "source": [
    "assignments <- augment(chapters_lda, data = chapters_dtm)\n",
    "str(assignments)"
   ]
  },
  {
   "cell_type": "markdown",
   "metadata": {},
   "source": [
    "We can combine this with the consensus book titles to find which words were incorrectly classified."
   ]
  },
  {
   "cell_type": "code",
   "execution_count": 36,
   "metadata": {},
   "outputs": [
    {
     "data": {
      "text/html": [
       "<table>\n",
       "<thead><tr><th scope=col>title</th><th scope=col>chapter</th><th scope=col>term</th><th scope=col>count</th><th scope=col>.topic</th><th scope=col>consensus</th></tr></thead>\n",
       "<tbody>\n",
       "\t<tr><td>Pride and Prejudice</td><td>47                 </td><td>pocket             </td><td>1                  </td><td>1                  </td><td>Pride and Prejudice</td></tr>\n",
       "\t<tr><td>Pride and Prejudice</td><td>50                 </td><td>pocket             </td><td>1                  </td><td>1                  </td><td>Pride and Prejudice</td></tr>\n",
       "\t<tr><td>Pride and Prejudice</td><td>49                 </td><td>pocket             </td><td>1                  </td><td>1                  </td><td>Pride and Prejudice</td></tr>\n",
       "\t<tr><td>Great Expectations </td><td>38                 </td><td>brother            </td><td>2                  </td><td>1                  </td><td>Pride and Prejudice</td></tr>\n",
       "\t<tr><td>Pride and Prejudice</td><td>43                 </td><td>brother            </td><td>4                  </td><td>1                  </td><td>Pride and Prejudice</td></tr>\n",
       "\t<tr><td>Pride and Prejudice</td><td>18                 </td><td>brother            </td><td>1                  </td><td>1                  </td><td>Pride and Prejudice</td></tr>\n",
       "</tbody>\n",
       "</table>\n"
      ],
      "text/latex": [
       "\\begin{tabular}{r|llllll}\n",
       " title & chapter & term & count & .topic & consensus\\\\\n",
       "\\hline\n",
       "\t Pride and Prejudice & 47                  & pocket              & 1                   & 1                   & Pride and Prejudice\\\\\n",
       "\t Pride and Prejudice & 50                  & pocket              & 1                   & 1                   & Pride and Prejudice\\\\\n",
       "\t Pride and Prejudice & 49                  & pocket              & 1                   & 1                   & Pride and Prejudice\\\\\n",
       "\t Great Expectations  & 38                  & brother             & 2                   & 1                   & Pride and Prejudice\\\\\n",
       "\t Pride and Prejudice & 43                  & brother             & 4                   & 1                   & Pride and Prejudice\\\\\n",
       "\t Pride and Prejudice & 18                  & brother             & 1                   & 1                   & Pride and Prejudice\\\\\n",
       "\\end{tabular}\n"
      ],
      "text/markdown": [
       "\n",
       "title | chapter | term | count | .topic | consensus | \n",
       "|---|---|---|---|---|---|\n",
       "| Pride and Prejudice | 47                  | pocket              | 1                   | 1                   | Pride and Prejudice | \n",
       "| Pride and Prejudice | 50                  | pocket              | 1                   | 1                   | Pride and Prejudice | \n",
       "| Pride and Prejudice | 49                  | pocket              | 1                   | 1                   | Pride and Prejudice | \n",
       "| Great Expectations  | 38                  | brother             | 2                   | 1                   | Pride and Prejudice | \n",
       "| Pride and Prejudice | 43                  | brother             | 4                   | 1                   | Pride and Prejudice | \n",
       "| Pride and Prejudice | 18                  | brother             | 1                   | 1                   | Pride and Prejudice | \n",
       "\n",
       "\n"
      ],
      "text/plain": [
       "  title               chapter term    count .topic consensus          \n",
       "1 Pride and Prejudice 47      pocket  1     1      Pride and Prejudice\n",
       "2 Pride and Prejudice 50      pocket  1     1      Pride and Prejudice\n",
       "3 Pride and Prejudice 49      pocket  1     1      Pride and Prejudice\n",
       "4 Great Expectations  38      brother 2     1      Pride and Prejudice\n",
       "5 Pride and Prejudice 43      brother 4     1      Pride and Prejudice\n",
       "6 Pride and Prejudice 18      brother 1     1      Pride and Prejudice"
      ]
     },
     "metadata": {},
     "output_type": "display_data"
    },
    {
     "name": "stdout",
     "output_type": "stream",
     "text": [
      "Classes 'tbl_df', 'tbl' and 'data.frame':\t29412 obs. of  6 variables:\n",
      " $ title    : chr  \"Pride and Prejudice\" \"Pride and Prejudice\" \"Pride and Prejudice\" \"Great Expectations\" ...\n",
      " $ chapter  : int  47 50 49 38 43 18 22 45 16 10 ...\n",
      " $ term     : chr  \"pocket\" \"pocket\" \"pocket\" \"brother\" ...\n",
      " $ count    : num  1 1 1 2 4 1 4 2 1 2 ...\n",
      " $ .topic   : num  1 1 1 1 1 1 1 1 1 1 ...\n",
      " $ consensus: chr  \"Pride and Prejudice\" \"Pride and Prejudice\" \"Pride and Prejudice\" \"Pride and Prejudice\" ...\n"
     ]
    }
   ],
   "source": [
    "assignments <- assignments %>% separate(document, c(\"title\", \"chapter\"), sep = \"_\", convert = TRUE) %>%\n",
    "                      inner_join(book_topics, by = c(\".topic\" = \"topic\"))\n",
    "head(assignments)\n",
    "str(assignments)"
   ]
  },
  {
   "cell_type": "markdown",
   "metadata": {},
   "source": [
    "We can, for example, create a “confusion matrix” using `dplyr::count` and `tidyr::spread`:"
   ]
  },
  {
   "cell_type": "code",
   "execution_count": 37,
   "metadata": {},
   "outputs": [
    {
     "data": {
      "text/html": [
       "<table>\n",
       "<thead><tr><th scope=col>title</th><th scope=col>Pride and Prejudice</th></tr></thead>\n",
       "<tbody>\n",
       "\t<tr><td>Great Expectations                   </td><td> 3908                                </td></tr>\n",
       "\t<tr><td>Pride and Prejudice                  </td><td>37231                                </td></tr>\n",
       "\t<tr><td>Twenty Thousand Leagues under the Sea</td><td>    5                                </td></tr>\n",
       "</tbody>\n",
       "</table>\n"
      ],
      "text/latex": [
       "\\begin{tabular}{r|ll}\n",
       " title & Pride and Prejudice\\\\\n",
       "\\hline\n",
       "\t Great Expectations                    &  3908                                \\\\\n",
       "\t Pride and Prejudice                   & 37231                                \\\\\n",
       "\t Twenty Thousand Leagues under the Sea &     5                                \\\\\n",
       "\\end{tabular}\n"
      ],
      "text/markdown": [
       "\n",
       "title | Pride and Prejudice | \n",
       "|---|---|---|\n",
       "| Great Expectations                    |  3908                                 | \n",
       "| Pride and Prejudice                   | 37231                                 | \n",
       "| Twenty Thousand Leagues under the Sea |     5                                 | \n",
       "\n",
       "\n"
      ],
      "text/plain": [
       "  title                                 Pride and Prejudice\n",
       "1 Great Expectations                     3908              \n",
       "2 Pride and Prejudice                   37231              \n",
       "3 Twenty Thousand Leagues under the Sea     5              "
      ]
     },
     "metadata": {},
     "output_type": "display_data"
    }
   ],
   "source": [
    "assignments %>% count(title, consensus, wt = count) %>% spread(consensus, n, fill = 0)"
   ]
  },
  {
   "cell_type": "markdown",
   "metadata": {},
   "source": [
    "We notice that almost all the words for Pride and Prejudice, Twenty Thousand (*only 5 misclassifications*), and War of the Worlds (*perfectly assigned*) were **correctly assigned**, while Great Expectations was 3908 times misassigned as Pride and Prejudice.\n",
    "\n",
    "## What were the most commonly mistaken words?"
   ]
  },
  {
   "cell_type": "code",
   "execution_count": 38,
   "metadata": {},
   "outputs": [
    {
     "data": {
      "text/html": [
       "<table>\n",
       "<thead><tr><th scope=col>title</th><th scope=col>chapter</th><th scope=col>term</th><th scope=col>count</th><th scope=col>.topic</th><th scope=col>consensus</th></tr></thead>\n",
       "<tbody>\n",
       "\t<tr><td>Great Expectations                   </td><td>38                                   </td><td>brother                              </td><td> 2                                   </td><td>1                                    </td><td>Pride and Prejudice                  </td></tr>\n",
       "\t<tr><td>Great Expectations                   </td><td>22                                   </td><td>brother                              </td><td> 4                                   </td><td>1                                    </td><td>Pride and Prejudice                  </td></tr>\n",
       "\t<tr><td>Great Expectations                   </td><td>23                                   </td><td>miss                                 </td><td> 2                                   </td><td>1                                    </td><td>Pride and Prejudice                  </td></tr>\n",
       "\t<tr><td>Great Expectations                   </td><td>22                                   </td><td>miss                                 </td><td>23                                   </td><td>1                                    </td><td>Pride and Prejudice                  </td></tr>\n",
       "\t<tr><td>Twenty Thousand Leagues under the Sea</td><td> 8                                   </td><td>miss                                 </td><td> 1                                   </td><td>1                                    </td><td>Pride and Prejudice                  </td></tr>\n",
       "\t<tr><td>Great Expectations                   </td><td>31                                   </td><td>miss                                 </td><td> 1                                   </td><td>1                                    </td><td>Pride and Prejudice                  </td></tr>\n",
       "</tbody>\n",
       "</table>\n"
      ],
      "text/latex": [
       "\\begin{tabular}{r|llllll}\n",
       " title & chapter & term & count & .topic & consensus\\\\\n",
       "\\hline\n",
       "\t Great Expectations                    & 38                                    & brother                               &  2                                    & 1                                     & Pride and Prejudice                  \\\\\n",
       "\t Great Expectations                    & 22                                    & brother                               &  4                                    & 1                                     & Pride and Prejudice                  \\\\\n",
       "\t Great Expectations                    & 23                                    & miss                                  &  2                                    & 1                                     & Pride and Prejudice                  \\\\\n",
       "\t Great Expectations                    & 22                                    & miss                                  & 23                                    & 1                                     & Pride and Prejudice                  \\\\\n",
       "\t Twenty Thousand Leagues under the Sea &  8                                    & miss                                  &  1                                    & 1                                     & Pride and Prejudice                  \\\\\n",
       "\t Great Expectations                    & 31                                    & miss                                  &  1                                    & 1                                     & Pride and Prejudice                  \\\\\n",
       "\\end{tabular}\n"
      ],
      "text/markdown": [
       "\n",
       "title | chapter | term | count | .topic | consensus | \n",
       "|---|---|---|---|---|---|\n",
       "| Great Expectations                    | 38                                    | brother                               |  2                                    | 1                                     | Pride and Prejudice                   | \n",
       "| Great Expectations                    | 22                                    | brother                               |  4                                    | 1                                     | Pride and Prejudice                   | \n",
       "| Great Expectations                    | 23                                    | miss                                  |  2                                    | 1                                     | Pride and Prejudice                   | \n",
       "| Great Expectations                    | 22                                    | miss                                  | 23                                    | 1                                     | Pride and Prejudice                   | \n",
       "| Twenty Thousand Leagues under the Sea |  8                                    | miss                                  |  1                                    | 1                                     | Pride and Prejudice                   | \n",
       "| Great Expectations                    | 31                                    | miss                                  |  1                                    | 1                                     | Pride and Prejudice                   | \n",
       "\n",
       "\n"
      ],
      "text/plain": [
       "  title                                 chapter term    count .topic\n",
       "1 Great Expectations                    38      brother  2    1     \n",
       "2 Great Expectations                    22      brother  4    1     \n",
       "3 Great Expectations                    23      miss     2    1     \n",
       "4 Great Expectations                    22      miss    23    1     \n",
       "5 Twenty Thousand Leagues under the Sea  8      miss     1    1     \n",
       "6 Great Expectations                    31      miss     1    1     \n",
       "  consensus          \n",
       "1 Pride and Prejudice\n",
       "2 Pride and Prejudice\n",
       "3 Pride and Prejudice\n",
       "4 Pride and Prejudice\n",
       "5 Pride and Prejudice\n",
       "6 Pride and Prejudice"
      ]
     },
     "metadata": {},
     "output_type": "display_data"
    },
    {
     "name": "stdout",
     "output_type": "stream",
     "text": [
      "Classes 'tbl_df', 'tbl' and 'data.frame':\t3140 obs. of  6 variables:\n",
      " $ title    : chr  \"Great Expectations\" \"Great Expectations\" \"Great Expectations\" \"Great Expectations\" ...\n",
      " $ chapter  : int  38 22 23 22 8 31 5 22 31 23 ...\n",
      " $ term     : chr  \"brother\" \"brother\" \"miss\" \"miss\" ...\n",
      " $ count    : num  2 4 2 23 1 1 37 3 2 10 ...\n",
      " $ .topic   : num  1 1 1 1 1 1 1 1 1 1 ...\n",
      " $ consensus: chr  \"Pride and Prejudice\" \"Pride and Prejudice\" \"Pride and Prejudice\" \"Pride and Prejudice\" ...\n"
     ]
    }
   ],
   "source": [
    "wrong_words <- assignments %>% filter(title != consensus)\n",
    "head(wrong_words)\n",
    "str(wrong_words)"
   ]
  },
  {
   "cell_type": "code",
   "execution_count": 40,
   "metadata": {},
   "outputs": [
    {
     "data": {
      "text/html": [
       "<table>\n",
       "<thead><tr><th scope=col>title</th><th scope=col>consensus</th><th scope=col>term</th><th scope=col>n</th></tr></thead>\n",
       "<tbody>\n",
       "\t<tr><td>Great Expectations </td><td>Pride and Prejudice</td><td>love               </td><td>44                 </td></tr>\n",
       "\t<tr><td>Great Expectations </td><td>Pride and Prejudice</td><td>sergeant           </td><td>37                 </td></tr>\n",
       "\t<tr><td>Great Expectations </td><td>Pride and Prejudice</td><td>lady               </td><td>32                 </td></tr>\n",
       "\t<tr><td>Great Expectations </td><td>Pride and Prejudice</td><td>miss               </td><td>26                 </td></tr>\n",
       "\t<tr><td>Great Expectations </td><td>Pride and Prejudice</td><td>father             </td><td>19                 </td></tr>\n",
       "\t<tr><td>Great Expectations </td><td>Pride and Prejudice</td><td>baby               </td><td>18                 </td></tr>\n",
       "\t<tr><td>Great Expectations </td><td>Pride and Prejudice</td><td>flopson            </td><td>18                 </td></tr>\n",
       "\t<tr><td>Great Expectations </td><td>Pride and Prejudice</td><td>family             </td><td>16                 </td></tr>\n",
       "\t<tr><td>Great Expectations </td><td>Pride and Prejudice</td><td>replied            </td><td>16                 </td></tr>\n",
       "\t<tr><td>Great Expectations </td><td>Pride and Prejudice</td><td>attention          </td><td>14                 </td></tr>\n",
       "</tbody>\n",
       "</table>\n"
      ],
      "text/latex": [
       "\\begin{tabular}{r|llll}\n",
       " title & consensus & term & n\\\\\n",
       "\\hline\n",
       "\t Great Expectations  & Pride and Prejudice & love                & 44                 \\\\\n",
       "\t Great Expectations  & Pride and Prejudice & sergeant            & 37                 \\\\\n",
       "\t Great Expectations  & Pride and Prejudice & lady                & 32                 \\\\\n",
       "\t Great Expectations  & Pride and Prejudice & miss                & 26                 \\\\\n",
       "\t Great Expectations  & Pride and Prejudice & father              & 19                 \\\\\n",
       "\t Great Expectations  & Pride and Prejudice & baby                & 18                 \\\\\n",
       "\t Great Expectations  & Pride and Prejudice & flopson             & 18                 \\\\\n",
       "\t Great Expectations  & Pride and Prejudice & family              & 16                 \\\\\n",
       "\t Great Expectations  & Pride and Prejudice & replied             & 16                 \\\\\n",
       "\t Great Expectations  & Pride and Prejudice & attention           & 14                 \\\\\n",
       "\\end{tabular}\n"
      ],
      "text/markdown": [
       "\n",
       "title | consensus | term | n | \n",
       "|---|---|---|---|---|---|---|---|---|---|\n",
       "| Great Expectations  | Pride and Prejudice | love                | 44                  | \n",
       "| Great Expectations  | Pride and Prejudice | sergeant            | 37                  | \n",
       "| Great Expectations  | Pride and Prejudice | lady                | 32                  | \n",
       "| Great Expectations  | Pride and Prejudice | miss                | 26                  | \n",
       "| Great Expectations  | Pride and Prejudice | father              | 19                  | \n",
       "| Great Expectations  | Pride and Prejudice | baby                | 18                  | \n",
       "| Great Expectations  | Pride and Prejudice | flopson             | 18                  | \n",
       "| Great Expectations  | Pride and Prejudice | family              | 16                  | \n",
       "| Great Expectations  | Pride and Prejudice | replied             | 16                  | \n",
       "| Great Expectations  | Pride and Prejudice | attention           | 14                  | \n",
       "\n",
       "\n"
      ],
      "text/plain": [
       "   title              consensus           term      n \n",
       "1  Great Expectations Pride and Prejudice love      44\n",
       "2  Great Expectations Pride and Prejudice sergeant  37\n",
       "3  Great Expectations Pride and Prejudice lady      32\n",
       "4  Great Expectations Pride and Prejudice miss      26\n",
       "5  Great Expectations Pride and Prejudice father    19\n",
       "6  Great Expectations Pride and Prejudice baby      18\n",
       "7  Great Expectations Pride and Prejudice flopson   18\n",
       "8  Great Expectations Pride and Prejudice family    16\n",
       "9  Great Expectations Pride and Prejudice replied   16\n",
       "10 Great Expectations Pride and Prejudice attention 14"
      ]
     },
     "metadata": {},
     "output_type": "display_data"
    }
   ],
   "source": [
    "wrong_words %>% count(title, consensus, term, wt = count) %>% ungroup() %>% arrange(desc(n)) %>% head(10)"
   ]
  },
  {
   "cell_type": "markdown",
   "metadata": {},
   "source": [
    "Notice the word **“flopson”** here; these **wrong words do not necessarily appear in the novels they were misassigned to**. Indeed, we can confirm “flopson” appears only in Great Expectations:"
   ]
  },
  {
   "cell_type": "code",
   "execution_count": 41,
   "metadata": {},
   "outputs": [
    {
     "data": {
      "text/html": [
       "<table>\n",
       "<thead><tr><th scope=col>title_chapter</th><th scope=col>word</th><th scope=col>n</th></tr></thead>\n",
       "<tbody>\n",
       "\t<tr><td>Great Expectations_22</td><td>flopson              </td><td>10                   </td></tr>\n",
       "\t<tr><td>Great Expectations_23</td><td>flopson              </td><td> 7                   </td></tr>\n",
       "\t<tr><td>Great Expectations_33</td><td>flopson              </td><td> 1                   </td></tr>\n",
       "</tbody>\n",
       "</table>\n"
      ],
      "text/latex": [
       "\\begin{tabular}{r|lll}\n",
       " title\\_chapter & word & n\\\\\n",
       "\\hline\n",
       "\t Great Expectations\\_22 & flopson                 & 10                     \\\\\n",
       "\t Great Expectations\\_23 & flopson                 &  7                     \\\\\n",
       "\t Great Expectations\\_33 & flopson                 &  1                     \\\\\n",
       "\\end{tabular}\n"
      ],
      "text/markdown": [
       "\n",
       "title_chapter | word | n | \n",
       "|---|---|---|\n",
       "| Great Expectations_22 | flopson               | 10                    | \n",
       "| Great Expectations_23 | flopson               |  7                    | \n",
       "| Great Expectations_33 | flopson               |  1                    | \n",
       "\n",
       "\n"
      ],
      "text/plain": [
       "  title_chapter         word    n \n",
       "1 Great Expectations_22 flopson 10\n",
       "2 Great Expectations_23 flopson  7\n",
       "3 Great Expectations_33 flopson  1"
      ]
     },
     "metadata": {},
     "output_type": "display_data"
    }
   ],
   "source": [
    "word_counts %>% filter(word == \"flopson\")"
   ]
  },
  {
   "cell_type": "markdown",
   "metadata": {},
   "source": [
    "The algorithm is stochastic and iterative, and it can accidentally land on a topic that spans multiple books."
   ]
  },
  {
   "cell_type": "markdown",
   "metadata": {},
   "source": [
    "## Case study: mining NASA metadata\n",
    "https://www.tidytextmining.com/nasa.html\n"
   ]
  },
  {
   "cell_type": "code",
   "execution_count": 1,
   "metadata": {},
   "outputs": [],
   "source": [
    "library(ggplot2)\n",
    "library(methods)\n",
    "theme_set(theme_light())"
   ]
  },
  {
   "cell_type": "markdown",
   "metadata": {},
   "source": [
    "There are over 32,000 datasets hosted and/or maintained by [NASA](https://www.nasa.gov/); \n",
    "- these datasets cover **topics from Earth science to aerospace engineering to management of NASA itself**. We can use the metadata for these datasets to understand the connections between them. \n",
    "- The metadata includes information like the title of the dataset, a description field, what **organization(s)** within NASA is responsible for the dataset, **keywords** for the dataset that have been assigned by a human being, and so forth. \n",
    "- NASA places a high priority on making its data open and accessible, even requiring all NASA-funded research to be [openly accessible online](https://www.nasa.gov/press-release/nasa-unveils-new-public-web-portal-for-research-results). The metadata for all its datasets is [publicly available online in JSON format](https://data.nasa.gov/data.json).\n",
    "- **We will treat the NASA metadata as a text dataset**: \n",
    "    - word co-occurrences \n",
    "    - correlations, \n",
    "    - tf-idf,\n",
    "    - topic modeling **to explore the connections between the datasets**: find datasets that are related to each other (=find clusters of similar datasets)\n",
    "- text fields: \n",
    "    - title, description, keyword"
   ]
  },
  {
   "cell_type": "markdown",
   "metadata": {},
   "source": [
    "## How data is organized at NASA\n",
    "let's download the JSON file and take a look at the names of what is stored in the metadata."
   ]
  },
  {
   "cell_type": "code",
   "execution_count": 1,
   "metadata": {},
   "outputs": [
    {
     "data": {
      "text/html": [
       "<ol class=list-inline>\n",
       "\t<li>'_id'</li>\n",
       "\t<li>'@type'</li>\n",
       "\t<li>'accessLevel'</li>\n",
       "\t<li>'accrualPeriodicity'</li>\n",
       "\t<li>'bureauCode'</li>\n",
       "\t<li>'contactPoint'</li>\n",
       "\t<li>'description'</li>\n",
       "\t<li>'distribution'</li>\n",
       "\t<li>'identifier'</li>\n",
       "\t<li>'issued'</li>\n",
       "\t<li>'keyword'</li>\n",
       "\t<li>'landingPage'</li>\n",
       "\t<li>'language'</li>\n",
       "\t<li>'modified'</li>\n",
       "\t<li>'programCode'</li>\n",
       "\t<li>'publisher'</li>\n",
       "\t<li>'spatial'</li>\n",
       "\t<li>'temporal'</li>\n",
       "\t<li>'theme'</li>\n",
       "\t<li>'title'</li>\n",
       "\t<li>'license'</li>\n",
       "\t<li>'isPartOf'</li>\n",
       "\t<li>'references'</li>\n",
       "\t<li>'rights'</li>\n",
       "\t<li>'describedBy'</li>\n",
       "</ol>\n"
      ],
      "text/latex": [
       "\\begin{enumerate*}\n",
       "\\item '\\_id'\n",
       "\\item '@type'\n",
       "\\item 'accessLevel'\n",
       "\\item 'accrualPeriodicity'\n",
       "\\item 'bureauCode'\n",
       "\\item 'contactPoint'\n",
       "\\item 'description'\n",
       "\\item 'distribution'\n",
       "\\item 'identifier'\n",
       "\\item 'issued'\n",
       "\\item 'keyword'\n",
       "\\item 'landingPage'\n",
       "\\item 'language'\n",
       "\\item 'modified'\n",
       "\\item 'programCode'\n",
       "\\item 'publisher'\n",
       "\\item 'spatial'\n",
       "\\item 'temporal'\n",
       "\\item 'theme'\n",
       "\\item 'title'\n",
       "\\item 'license'\n",
       "\\item 'isPartOf'\n",
       "\\item 'references'\n",
       "\\item 'rights'\n",
       "\\item 'describedBy'\n",
       "\\end{enumerate*}\n"
      ],
      "text/markdown": [
       "1. '_id'\n",
       "2. '@type'\n",
       "3. 'accessLevel'\n",
       "4. 'accrualPeriodicity'\n",
       "5. 'bureauCode'\n",
       "6. 'contactPoint'\n",
       "7. 'description'\n",
       "8. 'distribution'\n",
       "9. 'identifier'\n",
       "10. 'issued'\n",
       "11. 'keyword'\n",
       "12. 'landingPage'\n",
       "13. 'language'\n",
       "14. 'modified'\n",
       "15. 'programCode'\n",
       "16. 'publisher'\n",
       "17. 'spatial'\n",
       "18. 'temporal'\n",
       "19. 'theme'\n",
       "20. 'title'\n",
       "21. 'license'\n",
       "22. 'isPartOf'\n",
       "23. 'references'\n",
       "24. 'rights'\n",
       "25. 'describedBy'\n",
       "\n",
       "\n"
      ],
      "text/plain": [
       " [1] \"_id\"                \"@type\"              \"accessLevel\"       \n",
       " [4] \"accrualPeriodicity\" \"bureauCode\"         \"contactPoint\"      \n",
       " [7] \"description\"        \"distribution\"       \"identifier\"        \n",
       "[10] \"issued\"             \"keyword\"            \"landingPage\"       \n",
       "[13] \"language\"           \"modified\"           \"programCode\"       \n",
       "[16] \"publisher\"          \"spatial\"            \"temporal\"          \n",
       "[19] \"theme\"              \"title\"              \"license\"           \n",
       "[22] \"isPartOf\"           \"references\"         \"rights\"            \n",
       "[25] \"describedBy\"       "
      ]
     },
     "metadata": {},
     "output_type": "display_data"
    }
   ],
   "source": [
    "#library(jsonlite)\n",
    "#metadata <- fromJSON(\"https://data.nasa.gov/data.json\")\n",
    "load(\"data/metadata.rda\")\n",
    "names(metadata$dataset)"
   ]
  },
  {
   "cell_type": "markdown",
   "metadata": {},
   "source": [
    "- we could extract information from **who publishes each dataset** to what license they are released under. \n",
    "- title, description, keywords are best for drawing connections between datasets."
   ]
  },
  {
   "cell_type": "code",
   "execution_count": 2,
   "metadata": {},
   "outputs": [
    {
     "data": {
      "text/html": [
       "'character'"
      ],
      "text/latex": [
       "'character'"
      ],
      "text/markdown": [
       "'character'"
      ],
      "text/plain": [
       "[1] \"character\""
      ]
     },
     "metadata": {},
     "output_type": "display_data"
    },
    {
     "data": {
      "text/html": [
       "'character'"
      ],
      "text/latex": [
       "'character'"
      ],
      "text/markdown": [
       "'character'"
      ],
      "text/plain": [
       "[1] \"character\""
      ]
     },
     "metadata": {},
     "output_type": "display_data"
    },
    {
     "data": {
      "text/html": [
       "'list'"
      ],
      "text/latex": [
       "'list'"
      ],
      "text/markdown": [
       "'list'"
      ],
      "text/plain": [
       "[1] \"list\""
      ]
     },
     "metadata": {},
     "output_type": "display_data"
    }
   ],
   "source": [
    "class(metadata$dataset$title)\n",
    "class(metadata$dataset$description)"
   ]
  },
  {
   "cell_type": "markdown",
   "metadata": {},
   "source": [
    "title & description - stored as character vectors, keywords - stored as a list of character vectors.\n",
    "### Wrangling and tidying the data\n",
    "Let's set up separate tidy data frames for title, description, and keyword, keeping the dataset ids for each so that we can connect them later if necessary."
   ]
  },
  {
   "cell_type": "code",
   "execution_count": 2,
   "metadata": {},
   "outputs": [
    {
     "name": "stderr",
     "output_type": "stream",
     "text": [
      "\n",
      "Attaching package: 'dplyr'\n",
      "\n",
      "The following objects are masked from 'package:stats':\n",
      "\n",
      "    filter, lag\n",
      "\n",
      "The following objects are masked from 'package:base':\n",
      "\n",
      "    intersect, setdiff, setequal, union\n",
      "\n"
     ]
    },
    {
     "data": {
      "text/html": [
       "<table>\n",
       "<thead><tr><th scope=col>id</th><th scope=col>title</th></tr></thead>\n",
       "<tbody>\n",
       "\t<tr><td>55942a57c63a7fe59b495a77                           </td><td>15 Minute Stream Flow Data: USGS (FIFE)            </td></tr>\n",
       "\t<tr><td>55942a57c63a7fe59b495a78                           </td><td>15 Minute Stream Flow Data: USGS (FIFE)            </td></tr>\n",
       "\t<tr><td>55942a58c63a7fe59b495a79                           </td><td>15 Minute Stream Flow Data: USGS (FIFE)            </td></tr>\n",
       "\t<tr><td>55942a58c63a7fe59b495a7a                           </td><td>2000 Pilot Environmental Sustainability Index (ESI)</td></tr>\n",
       "\t<tr><td>55942a58c63a7fe59b495a7b                           </td><td>2000 Pilot Environmental Sustainability Index (ESI)</td></tr>\n",
       "\t<tr><td>55942a58c63a7fe59b495a7c                           </td><td>2000 Pilot Environmental Sustainability Index (ESI)</td></tr>\n",
       "</tbody>\n",
       "</table>\n"
      ],
      "text/latex": [
       "\\begin{tabular}{r|ll}\n",
       " id & title\\\\\n",
       "\\hline\n",
       "\t 55942a57c63a7fe59b495a77                            & 15 Minute Stream Flow Data: USGS (FIFE)            \\\\\n",
       "\t 55942a57c63a7fe59b495a78                            & 15 Minute Stream Flow Data: USGS (FIFE)            \\\\\n",
       "\t 55942a58c63a7fe59b495a79                            & 15 Minute Stream Flow Data: USGS (FIFE)            \\\\\n",
       "\t 55942a58c63a7fe59b495a7a                            & 2000 Pilot Environmental Sustainability Index (ESI)\\\\\n",
       "\t 55942a58c63a7fe59b495a7b                            & 2000 Pilot Environmental Sustainability Index (ESI)\\\\\n",
       "\t 55942a58c63a7fe59b495a7c                            & 2000 Pilot Environmental Sustainability Index (ESI)\\\\\n",
       "\\end{tabular}\n"
      ],
      "text/markdown": [
       "\n",
       "id | title | \n",
       "|---|---|---|---|---|---|\n",
       "| 55942a57c63a7fe59b495a77                            | 15 Minute Stream Flow Data: USGS (FIFE)             | \n",
       "| 55942a57c63a7fe59b495a78                            | 15 Minute Stream Flow Data: USGS (FIFE)             | \n",
       "| 55942a58c63a7fe59b495a79                            | 15 Minute Stream Flow Data: USGS (FIFE)             | \n",
       "| 55942a58c63a7fe59b495a7a                            | 2000 Pilot Environmental Sustainability Index (ESI) | \n",
       "| 55942a58c63a7fe59b495a7b                            | 2000 Pilot Environmental Sustainability Index (ESI) | \n",
       "| 55942a58c63a7fe59b495a7c                            | 2000 Pilot Environmental Sustainability Index (ESI) | \n",
       "\n",
       "\n"
      ],
      "text/plain": [
       "  id                       title                                              \n",
       "1 55942a57c63a7fe59b495a77 15 Minute Stream Flow Data: USGS (FIFE)            \n",
       "2 55942a57c63a7fe59b495a78 15 Minute Stream Flow Data: USGS (FIFE)            \n",
       "3 55942a58c63a7fe59b495a79 15 Minute Stream Flow Data: USGS (FIFE)            \n",
       "4 55942a58c63a7fe59b495a7a 2000 Pilot Environmental Sustainability Index (ESI)\n",
       "5 55942a58c63a7fe59b495a7b 2000 Pilot Environmental Sustainability Index (ESI)\n",
       "6 55942a58c63a7fe59b495a7c 2000 Pilot Environmental Sustainability Index (ESI)"
      ]
     },
     "metadata": {},
     "output_type": "display_data"
    },
    {
     "name": "stdout",
     "output_type": "stream",
     "text": [
      "Classes 'tbl_df', 'tbl' and 'data.frame':\t32089 obs. of  2 variables:\n",
      " $ id   : chr  \"55942a57c63a7fe59b495a77\" \"55942a57c63a7fe59b495a78\" \"55942a58c63a7fe59b495a79\" \"55942a58c63a7fe59b495a7a\" ...\n",
      " $ title: chr  \"15 Minute Stream Flow Data: USGS (FIFE)\" \"15 Minute Stream Flow Data: USGS (FIFE)\" \"15 Minute Stream Flow Data: USGS (FIFE)\" \"2000 Pilot Environmental Sustainability Index (ESI)\" ...\n"
     ]
    }
   ],
   "source": [
    "library(dplyr)\n",
    "nasa_title <- data_frame(id = metadata$dataset$`_id`$`$oid`, title = metadata$dataset$title)\n",
    "head(nasa_title) # there are duplicate titles on separate datasets\n",
    "str(nasa_title)"
   ]
  },
  {
   "cell_type": "code",
   "execution_count": 3,
   "metadata": {},
   "outputs": [
    {
     "data": {
      "text/html": [
       "<table>\n",
       "<thead><tr><th scope=col>desc</th></tr></thead>\n",
       "<tbody>\n",
       "\t<tr><td>Coherent Logix, Incorporated proposes the Software Defined Common Processing System (SDCPS) program to facilitate the development of a Software Defined Radio development kit based on HyperX Technology with an accompanying software development flow to support rapid development and fielding of this technology to NASA and high reliability system integrators.  NASA's exploration, science, and space operations systems are critically dependent on the hardware technologies used in their implementation.  Specifically, the performance and deployment of autonomous and computationally-intensive capabilities for space based observatories, orbiters, autonomous landing and hazard avoidance, autonomous rendezvous and capture, robotic, relative navigation, command, control and communications systems are directly dependent on the availability of radiation-tolerant, high-performance, reconfigurable and adaptable, modern communications and underlying energy-efficient processor technology.  The HyperX Technology will simultaneously enable order of magnitude improvement in power savings while reducing chipset count, thus size and weight of the radio.  The HyperX processor technology is fully programmable and reconfigurable on the fly and is supported by industry standards based [hardware agnostic software development flow and] programming model using ANSI-C and MPI (message passing interface) API.  This provides reduced life-cycle costs and future proofing of hardware through fully portable software code.                                                                                                                                                                                                                                                                                                                                                                                                                                                   </td></tr>\n",
       "\t<tr><td>The land water content data used to create these images were generated from The Global Land Data Assimilation System (GLDAS).                                                                                                                                                                                                                                                                                                                                                                                                                                                                                                                                                                                                                                                                                                                                                                                                                                                                                                                                                                                                                                                                                                                                                                                                                                                                                                                                                                                                                                                                                                                                                                                                                                                                                                                                                                                                                                                                                           </td></tr>\n",
       "\t<tr><td>MODIS (or Moderate Resolution Imaging Spectroradiometer) is a key instrument aboard the\n",
       "Terra (EOS AM) and Aqua (EOS PM) satellites. Terra's orbit around the Earth is timed so\n",
       "that it passes from north to south across the equator in the morning, while Aqua passes\n",
       "south to north over the equator in the afternoon. Terra MODIS and Aqua MODIS are viewing\n",
       "the entire Earth's surface every 1 to 2 days, acquiring data in 36 spectral bands, or\n",
       "groups of wavelengths (see MODIS Technical Specifications). These data will improve our\n",
       "understanding of global dynamics and processes occurring on the land, in the oceans,\n",
       "and in the lower atmosphere. MODIS is playing a vital role in the development of\n",
       "validated, global, interactive Earth system models able to predict global change\n",
       "accurately enough to assist policy makers in making sound decisions concerning the\n",
       "protection of our environment.                                                                                                                                                                                                                                                                                                                                                                                                                                                                                                                                                                                                                                                                                                                                                                                                                                                                                                                                                                                                                                                                                       </td></tr>\n",
       "\t<tr><td>The Coastal Zone Color Scanner Experiment (CZCS) was the first instrument devoted to the measurement of ocean color and flown on a spacecraft. Although other instruments flown on other spacecraft had sensed ocean color, their spectral bands, spatial resolution and dynamic range were optimized for land or meteorological use and had limited sensitivity in this area, whereas in CZCS, every parameter was optimized for use over water to the exclusion of any other type of sensing. CZCS had six spectral bands, four of which were used primarily for ocean color. These were of a 20 nanometer bandwidth centered at 443, 520, 550, and 670 nm. Band 5 had a 100 nm bandwidth centered at 750 nm and a dynamic range more suited to land. Band 6 operated in the 10.5 to 12.5 micrometer region and sensed emitted thermal radiance for derivation of equivalent black body temperature. (This thermal band failed within the first year of the mission, and so was not used in the global processing effort.) Bands 1-4 were preset to view water only and saturated when the IFOV was over most types of land surfaces, or clouds.\n",
       "        \n",
       "        The most important objective of the Coastal Zone Color Scanner mission was to determine if satellite remote sensing of color could be used to identify and quantify material suspended or dissolved in ocean waters. Specifically CZCS attempted to discriminate between organic and inorganic materials in the water, determine the quantity of material and discriminate between different organic particulate types.\n",
       "        \n",
       "        This product contains monthly climatological Level-3 Standard Mapped Image (Equal-Angular Cylindrical grid) data products.  Each product contains one of the following parameters at 4 or 9 km resolution:\n",
       "        Remote sensing reflectance at 443, 520, 555 and 670nm\n",
       "        Diffuse attenuation at 490nm\n",
       "        Aerosol opticatl thickness at 670nm\n",
       "        Chlorophyll a concentration\n",
       "    </td></tr>\n",
       "\t<tr><td>The Aura-OMI Daily Gridded Surface UV Irradiance Product (OMUVBd) is now available from the NASA Goddard Earth Sciences Data and Information Services Center (GES DISC) for the public access.\n",
       "\n",
       "(The shortname for this Level-3 OMI Surface UVB product is OMUVBd_V003)\n",
       "\n",
       "The algorithm team consists of FMI scientists Drs. J. Hovila, A. Arola and J. Tamminen.\n",
       "\n",
       "The OMUVBd product contains global erythemally weighted daily dose and erythemal dose rate at local solar noon at 1.0x1.0 deg grids.\n",
       "\n",
       "OMUVBd files are available in EOS Hierarchical Data Format (HDF-EOS) and TOMS-Like ASCII Format. Each file contains daily data from the day lit portion of the globe. The maximum file size for the OMUVBd data product is about 2 MBytes.                                                                                                                                                                                                                                                                                                                                                                                                                                                                                                                                                                                                                                                                                                                                                                                                                                                                                                                                                                                                                                                                                                                                                                                                                                                              </td></tr>\n",
       "</tbody>\n",
       "</table>\n"
      ],
      "text/latex": [
       "\\begin{tabular}{r|l}\n",
       " desc\\\\\n",
       "\\hline\n",
       "\t Coherent Logix, Incorporated proposes the Software Defined Common Processing System (SDCPS) program to facilitate the development of a Software Defined Radio development kit based on HyperX Technology with an accompanying software development flow to support rapid development and fielding of this technology to NASA and high reliability system integrators.  NASA's exploration, science, and space operations systems are critically dependent on the hardware technologies used in their implementation.  Specifically, the performance and deployment of autonomous and computationally-intensive capabilities for space based observatories, orbiters, autonomous landing and hazard avoidance, autonomous rendezvous and capture, robotic, relative navigation, command, control and communications systems are directly dependent on the availability of radiation-tolerant, high-performance, reconfigurable and adaptable, modern communications and underlying energy-efficient processor technology.  The HyperX Technology will simultaneously enable order of magnitude improvement in power savings while reducing chipset count, thus size and weight of the radio.  The HyperX processor technology is fully programmable and reconfigurable on the fly and is supported by industry standards based {[}hardware agnostic software development flow and{]} programming model using ANSI-C and MPI (message passing interface) API.  This provides reduced life-cycle costs and future proofing of hardware through fully portable software code.                                                                                                                                                                                                                                                                                                                                                                                                                                                   \\\\\n",
       "\t The land water content data used to create these images were generated from The Global Land Data Assimilation System (GLDAS).                                                                                                                                                                                                                                                                                                                                                                                                                                                                                                                                                                                                                                                                                                                                                                                                                                                                                                                                                                                                                                                                                                                                                                                                                                                                                                                                                                                                                                                                                                                                                                                                                                                                                                                                                                                                                                                                                           \\\\\n",
       "\t MODIS (or Moderate Resolution Imaging Spectroradiometer) is a key instrument aboard the\n",
       "Terra (EOS AM) and Aqua (EOS PM) satellites. Terra's orbit around the Earth is timed so\n",
       "that it passes from north to south across the equator in the morning, while Aqua passes\n",
       "south to north over the equator in the afternoon. Terra MODIS and Aqua MODIS are viewing\n",
       "the entire Earth's surface every 1 to 2 days, acquiring data in 36 spectral bands, or\n",
       "groups of wavelengths (see MODIS Technical Specifications). These data will improve our\n",
       "understanding of global dynamics and processes occurring on the land, in the oceans,\n",
       "and in the lower atmosphere. MODIS is playing a vital role in the development of\n",
       "validated, global, interactive Earth system models able to predict global change\n",
       "accurately enough to assist policy makers in making sound decisions concerning the\n",
       "protection of our environment.                                                                                                                                                                                                                                                                                                                                                                                                                                                                                                                                                                                                                                                                                                                                                                                                                                                                                                                                                                                                                                                                                       \\\\\n",
       "\t The Coastal Zone Color Scanner Experiment (CZCS) was the first instrument devoted to the measurement of ocean color and flown on a spacecraft. Although other instruments flown on other spacecraft had sensed ocean color, their spectral bands, spatial resolution and dynamic range were optimized for land or meteorological use and had limited sensitivity in this area, whereas in CZCS, every parameter was optimized for use over water to the exclusion of any other type of sensing. CZCS had six spectral bands, four of which were used primarily for ocean color. These were of a 20 nanometer bandwidth centered at 443, 520, 550, and 670 nm. Band 5 had a 100 nm bandwidth centered at 750 nm and a dynamic range more suited to land. Band 6 operated in the 10.5 to 12.5 micrometer region and sensed emitted thermal radiance for derivation of equivalent black body temperature. (This thermal band failed within the first year of the mission, and so was not used in the global processing effort.) Bands 1-4 were preset to view water only and saturated when the IFOV was over most types of land surfaces, or clouds.\n",
       "        \n",
       "        The most important objective of the Coastal Zone Color Scanner mission was to determine if satellite remote sensing of color could be used to identify and quantify material suspended or dissolved in ocean waters. Specifically CZCS attempted to discriminate between organic and inorganic materials in the water, determine the quantity of material and discriminate between different organic particulate types.\n",
       "        \n",
       "        This product contains monthly climatological Level-3 Standard Mapped Image (Equal-Angular Cylindrical grid) data products.  Each product contains one of the following parameters at 4 or 9 km resolution:\n",
       "        Remote sensing reflectance at 443, 520, 555 and 670nm\n",
       "        Diffuse attenuation at 490nm\n",
       "        Aerosol opticatl thickness at 670nm\n",
       "        Chlorophyll a concentration\n",
       "    \\\\\n",
       "\t The Aura-OMI Daily Gridded Surface UV Irradiance Product (OMUVBd) is now available from the NASA Goddard Earth Sciences Data and Information Services Center (GES DISC) for the public access.\n",
       "\n",
       "(The shortname for this Level-3 OMI Surface UVB product is OMUVBd\\_V003)\n",
       "\n",
       "The algorithm team consists of FMI scientists Drs. J. Hovila, A. Arola and J. Tamminen.\n",
       "\n",
       "The OMUVBd product contains global erythemally weighted daily dose and erythemal dose rate at local solar noon at 1.0x1.0 deg grids.\n",
       "\n",
       "OMUVBd files are available in EOS Hierarchical Data Format (HDF-EOS) and TOMS-Like ASCII Format. Each file contains daily data from the day lit portion of the globe. The maximum file size for the OMUVBd data product is about 2 MBytes.                                                                                                                                                                                                                                                                                                                                                                                                                                                                                                                                                                                                                                                                                                                                                                                                                                                                                                                                                                                                                                                                                                                                                                                                                                                              \\\\\n",
       "\\end{tabular}\n"
      ],
      "text/markdown": [
       "\n",
       "desc | \n",
       "|---|---|---|---|---|\n",
       "| Coherent Logix, Incorporated proposes the Software Defined Common Processing System (SDCPS) program to facilitate the development of a Software Defined Radio development kit based on HyperX Technology with an accompanying software development flow to support rapid development and fielding of this technology to NASA and high reliability system integrators.  NASA's exploration, science, and space operations systems are critically dependent on the hardware technologies used in their implementation.  Specifically, the performance and deployment of autonomous and computationally-intensive capabilities for space based observatories, orbiters, autonomous landing and hazard avoidance, autonomous rendezvous and capture, robotic, relative navigation, command, control and communications systems are directly dependent on the availability of radiation-tolerant, high-performance, reconfigurable and adaptable, modern communications and underlying energy-efficient processor technology.  The HyperX Technology will simultaneously enable order of magnitude improvement in power savings while reducing chipset count, thus size and weight of the radio.  The HyperX processor technology is fully programmable and reconfigurable on the fly and is supported by industry standards based [hardware agnostic software development flow and] programming model using ANSI-C and MPI (message passing interface) API.  This provides reduced life-cycle costs and future proofing of hardware through fully portable software code.                                                                                                                                                                                                                                                                                                                                                                                                                                                    | \n",
       "| The land water content data used to create these images were generated from The Global Land Data Assimilation System (GLDAS).                                                                                                                                                                                                                                                                                                                                                                                                                                                                                                                                                                                                                                                                                                                                                                                                                                                                                                                                                                                                                                                                                                                                                                                                                                                                                                                                                                                                                                                                                                                                                                                                                                                                                                                                                                                                                                                                                            | \n",
       "| MODIS (or Moderate Resolution Imaging Spectroradiometer) is a key instrument aboard the\n",
       "Terra (EOS AM) and Aqua (EOS PM) satellites. Terra's orbit around the Earth is timed so\n",
       "that it passes from north to south across the equator in the morning, while Aqua passes\n",
       "south to north over the equator in the afternoon. Terra MODIS and Aqua MODIS are viewing\n",
       "the entire Earth's surface every 1 to 2 days, acquiring data in 36 spectral bands, or\n",
       "groups of wavelengths (see MODIS Technical Specifications). These data will improve our\n",
       "understanding of global dynamics and processes occurring on the land, in the oceans,\n",
       "and in the lower atmosphere. MODIS is playing a vital role in the development of\n",
       "validated, global, interactive Earth system models able to predict global change\n",
       "accurately enough to assist policy makers in making sound decisions concerning the\n",
       "protection of our environment.                                                                                                                                                                                                                                                                                                                                                                                                                                                                                                                                                                                                                                                                                                                                                                                                                                                                                                                                                                                                                                                                                        | \n",
       "| The Coastal Zone Color Scanner Experiment (CZCS) was the first instrument devoted to the measurement of ocean color and flown on a spacecraft. Although other instruments flown on other spacecraft had sensed ocean color, their spectral bands, spatial resolution and dynamic range were optimized for land or meteorological use and had limited sensitivity in this area, whereas in CZCS, every parameter was optimized for use over water to the exclusion of any other type of sensing. CZCS had six spectral bands, four of which were used primarily for ocean color. These were of a 20 nanometer bandwidth centered at 443, 520, 550, and 670 nm. Band 5 had a 100 nm bandwidth centered at 750 nm and a dynamic range more suited to land. Band 6 operated in the 10.5 to 12.5 micrometer region and sensed emitted thermal radiance for derivation of equivalent black body temperature. (This thermal band failed within the first year of the mission, and so was not used in the global processing effort.) Bands 1-4 were preset to view water only and saturated when the IFOV was over most types of land surfaces, or clouds.\n",
       "        \n",
       "        The most important objective of the Coastal Zone Color Scanner mission was to determine if satellite remote sensing of color could be used to identify and quantify material suspended or dissolved in ocean waters. Specifically CZCS attempted to discriminate between organic and inorganic materials in the water, determine the quantity of material and discriminate between different organic particulate types.\n",
       "        \n",
       "        This product contains monthly climatological Level-3 Standard Mapped Image (Equal-Angular Cylindrical grid) data products.  Each product contains one of the following parameters at 4 or 9 km resolution:\n",
       "        Remote sensing reflectance at 443, 520, 555 and 670nm\n",
       "        Diffuse attenuation at 490nm\n",
       "        Aerosol opticatl thickness at 670nm\n",
       "        Chlorophyll a concentration\n",
       "     | \n",
       "| The Aura-OMI Daily Gridded Surface UV Irradiance Product (OMUVBd) is now available from the NASA Goddard Earth Sciences Data and Information Services Center (GES DISC) for the public access.\n",
       "\n",
       "(The shortname for this Level-3 OMI Surface UVB product is OMUVBd_V003)\n",
       "\n",
       "The algorithm team consists of FMI scientists Drs. J. Hovila, A. Arola and J. Tamminen.\n",
       "\n",
       "The OMUVBd product contains global erythemally weighted daily dose and erythemal dose rate at local solar noon at 1.0x1.0 deg grids.\n",
       "\n",
       "OMUVBd files are available in EOS Hierarchical Data Format (HDF-EOS) and TOMS-Like ASCII Format. Each file contains daily data from the day lit portion of the globe. The maximum file size for the OMUVBd data product is about 2 MBytes.                                                                                                                                                                                                                                                                                                                                                                                                                                                                                                                                                                                                                                                                                                                                                                                                                                                                                                                                                                                                                                                                                                                                                                                                                                                               | \n",
       "\n",
       "\n"
      ],
      "text/plain": [
       "  desc                                                                                                                                                                                                                                                                                                                                                                                                                                                                                                                                                                                                                                                                                                                                                                                                                                                                                                                                                                                                                                                                                                                                                                                                                                                                                                                                                                                                                                                                                                                                                                                                                                                                                                                                                                                                                                                                                                                                                                                                                    \n",
       "1 Coherent Logix, Incorporated proposes the Software Defined Common Processing System (SDCPS) program to facilitate the development of a Software Defined Radio development kit based on HyperX Technology with an accompanying software development flow to support rapid development and fielding of this technology to NASA and high reliability system integrators.  NASA's exploration, science, and space operations systems are critically dependent on the hardware technologies used in their implementation.  Specifically, the performance and deployment of autonomous and computationally-intensive capabilities for space based observatories, orbiters, autonomous landing and hazard avoidance, autonomous rendezvous and capture, robotic, relative navigation, command, control and communications systems are directly dependent on the availability of radiation-tolerant, high-performance, reconfigurable and adaptable, modern communications and underlying energy-efficient processor technology.  The HyperX Technology will simultaneously enable order of magnitude improvement in power savings while reducing chipset count, thus size and weight of the radio.  The HyperX processor technology is fully programmable and reconfigurable on the fly and is supported by industry standards based [hardware agnostic software development flow and] programming model using ANSI-C and MPI (message passing interface) API.  This provides reduced life-cycle costs and future proofing of hardware through fully portable software code.                                                                                                                                                                                                                                                                                                                                                                                                                                                   \n",
       "2 The land water content data used to create these images were generated from The Global Land Data Assimilation System (GLDAS).                                                                                                                                                                                                                                                                                                                                                                                                                                                                                                                                                                                                                                                                                                                                                                                                                                                                                                                                                                                                                                                                                                                                                                                                                                                                                                                                                                                                                                                                                                                                                                                                                                                                                                                                                                                                                                                                                           \n",
       "3 MODIS (or Moderate Resolution Imaging Spectroradiometer) is a key instrument aboard the\\nTerra (EOS AM) and Aqua (EOS PM) satellites. Terra's orbit around the Earth is timed so\\nthat it passes from north to south across the equator in the morning, while Aqua passes\\nsouth to north over the equator in the afternoon. Terra MODIS and Aqua MODIS are viewing\\nthe entire Earth's surface every 1 to 2 days, acquiring data in 36 spectral bands, or\\ngroups of wavelengths (see MODIS Technical Specifications). These data will improve our\\nunderstanding of global dynamics and processes occurring on the land, in the oceans,\\nand in the lower atmosphere. MODIS is playing a vital role in the development of\\nvalidated, global, interactive Earth system models able to predict global change\\naccurately enough to assist policy makers in making sound decisions concerning the\\nprotection of our environment.                                                                                                                                                                                                                                                                                                                                                                                                                                                                                                                                                                                                                                                                                                                                                                                                                                                                                                                                                                                                                                                                                       \n",
       "4 The Coastal Zone Color Scanner Experiment (CZCS) was the first instrument devoted to the measurement of ocean color and flown on a spacecraft. Although other instruments flown on other spacecraft had sensed ocean color, their spectral bands, spatial resolution and dynamic range were optimized for land or meteorological use and had limited sensitivity in this area, whereas in CZCS, every parameter was optimized for use over water to the exclusion of any other type of sensing. CZCS had six spectral bands, four of which were used primarily for ocean color. These were of a 20 nanometer bandwidth centered at 443, 520, 550, and 670 nm. Band 5 had a 100 nm bandwidth centered at 750 nm and a dynamic range more suited to land. Band 6 operated in the 10.5 to 12.5 micrometer region and sensed emitted thermal radiance for derivation of equivalent black body temperature. (This thermal band failed within the first year of the mission, and so was not used in the global processing effort.) Bands 1-4 were preset to view water only and saturated when the IFOV was over most types of land surfaces, or clouds.\\n        \\n        The most important objective of the Coastal Zone Color Scanner mission was to determine if satellite remote sensing of color could be used to identify and quantify material suspended or dissolved in ocean waters. Specifically CZCS attempted to discriminate between organic and inorganic materials in the water, determine the quantity of material and discriminate between different organic particulate types.\\n        \\n        This product contains monthly climatological Level-3 Standard Mapped Image (Equal-Angular Cylindrical grid) data products.  Each product contains one of the following parameters at 4 or 9 km resolution:\\n        Remote sensing reflectance at 443, 520, 555 and 670nm\\n        Diffuse attenuation at 490nm\\n        Aerosol opticatl thickness at 670nm\\n        Chlorophyll a concentration\\n    \n",
       "5 The Aura-OMI Daily Gridded Surface UV Irradiance Product (OMUVBd) is now available from the NASA Goddard Earth Sciences Data and Information Services Center (GES DISC) for the public access.\\n\\n(The shortname for this Level-3 OMI Surface UVB product is OMUVBd_V003)\\n\\nThe algorithm team consists of FMI scientists Drs. J. Hovila, A. Arola and J. Tamminen.\\n\\nThe OMUVBd product contains global erythemally weighted daily dose and erythemal dose rate at local solar noon at 1.0x1.0 deg grids.\\n\\nOMUVBd files are available in EOS Hierarchical Data Format (HDF-EOS) and TOMS-Like ASCII Format. Each file contains daily data from the day lit portion of the globe. The maximum file size for the OMUVBd data product is about 2 MBytes.                                                                                                                                                                                                                                                                                                                                                                                                                                                                                                                                                                                                                                                                                                                                                                                                                                                                                                                                                                                                                                                                                                                                                                                                                                                              "
      ]
     },
     "metadata": {},
     "output_type": "display_data"
    }
   ],
   "source": [
    "nasa_desc <- data_frame(id = metadata$dataset$`_id`$`$oid`, desc = metadata$dataset$description)\n",
    "nasa_desc %>% select(desc) %>% sample_n(5)"
   ]
  },
  {
   "cell_type": "markdown",
   "metadata": {},
   "source": [
    "Here we see the first part of several selected description fields from the metadata.\n",
    "Now we can build the tidy data frame for the keywords. For this one, we need to use `unnest()` from tidyr, because they are in a list-column."
   ]
  },
  {
   "cell_type": "code",
   "execution_count": null,
   "metadata": {},
   "outputs": [],
   "source": [
    "library(tidyr)"
   ]
  },
  {
   "cell_type": "code",
   "execution_count": null,
   "metadata": {},
   "outputs": [],
   "source": [
    "nasa_keyword <- data_frame(id = metadata$dataset$`_id`$`$oid`, keyword = metadata$dataset$keyword) %>% unnest(keyword)\n",
    "head(nasa_keyword)\n",
    "str(nasa_keyword)"
   ]
  },
  {
   "cell_type": "markdown",
   "metadata": {},
   "source": [
    "This is a tidy data frame because we have one row for each keyword; this means we will have multiple rows for each dataset because a dataset can have more than one keyword.\n",
    "Now it is time to use tidytext's `unnest_tokens()` for the title and description fields so we can do the text analysis. Let's also remove stop words from the titles and descriptions. We will not remove stop words from the keywords, because those are short, human-assigned keywords like \"RADIATION\" or \"CLIMATE INDICATORS\"."
   ]
  },
  {
   "cell_type": "code",
   "execution_count": null,
   "metadata": {},
   "outputs": [],
   "source": [
    "library(tidytext)\n",
    "nasa_title <- nasa_title %>% unnest_tokens(word, title) %>% anti_join(stop_words)\n",
    "head(nasa_title)\n",
    "str(nasa_title)"
   ]
  },
  {
   "cell_type": "markdown",
   "metadata": {},
   "source": [
    "These are now in the tidy text format that we have been working with throughout this book, with one token (word, in this case) per row; let's take a look before we move on in our analysis."
   ]
  },
  {
   "cell_type": "code",
   "execution_count": null,
   "metadata": {},
   "outputs": [],
   "source": [
    "nasa_desc <- nasa_desc %>% unnest_tokens(word, desc) %>% anti_join(stop_words)\n",
    "nasa_desc"
   ]
  },
  {
   "cell_type": "code",
   "execution_count": null,
   "metadata": {},
   "outputs": [],
   "source": []
  },
  {
   "cell_type": "code",
   "execution_count": null,
   "metadata": {},
   "outputs": [],
   "source": [
    "### Some initial simple exploration\n",
    "What are the most common words in the NASA dataset titles? We can use `count()` from dplyr to check this out.\n",
    "\n",
    "```{r dependson = \"unnest\"}\n",
    "nasa_title %>% count(word, sort = TRUE)\n",
    "```\n",
    "\n",
    "What about the descriptions?\n",
    "\n",
    "```{r dependson = \"unnest\"}\n",
    "nasa_desc %>% count(word, sort = TRUE)\n",
    "```\n",
    "\n",
    "Words like \"data\" and \"global\" are used very often in NASA titles and descriptions. We may want to remove digits and some \"words\" like \"v1\" from these data frames for many types of analyses; they are not too meaningful for most audiences. \n",
    "\n",
    "```{block, type = \"rmdtip\"}\n",
    "We can do this by making a list of custom stop words and using `anti_join()` to remove them from the data frame, just like we removed the default stop words that are in the tidytext package. This approach can be used in many instances and is a great tool to bear in mind.\n",
    "```\n",
    "\n",
    "```{r my_stopwords, dependson = \"unnest\"}\n",
    "my_stopwords <- data_frame(word = c(as.character(1:10), \n",
    "                                    \"v1\", \"v03\", \"l2\", \"l3\", \"l4\", \"v5.2.0\", \n",
    "                                    \"v003\", \"v004\", \"v005\", \"v006\", \"v7\"))\n",
    "nasa_title <- nasa_title %>% anti_join(my_stopwords)\n",
    "nasa_desc <- nasa_desc %>% anti_join(my_stopwords)\n",
    "```\n",
    "\n",
    "What are the most common keywords?\n",
    "\n",
    "```{r dependson = \"keyword\"}\n",
    "nasa_keyword %>% \n",
    "  group_by(keyword) %>% \n",
    "  count(sort = TRUE)\n",
    "```\n",
    "\n",
    "We likely want to change all of the keywords to either lower or upper case to get rid of duplicates like \"OCEANS\" and \"Oceans\". Let's do that here.\n",
    "\n",
    "```{r toupper, dependson = \"keyword\"}\n",
    "nasa_keyword <- nasa_keyword %>% \n",
    "  mutate(keyword = toupper(keyword))\n",
    "```\n",
    "\n",
    "## Word co-ocurrences and correlations\n",
    "\n",
    "As a next step, let's examine which words commonly occur together in the titles, descriptions, and keywords of NASA datasets, as described in Chapter \\@ref(ngrams). We can then examine word networks for these fields; this may help us see, for example, which datasets are related to each other. \n",
    "\n",
    "### Networks of Description and Title Words\n",
    "\n",
    "We can use `pairwise_count()` from the widyr package to count how many times each pair of words occurs together in a title or description field.\n",
    "\n",
    "```{r title_word_pairs, dependson = \"my_stopwords\"}\n",
    "library(widyr)\n",
    "\n",
    "title_word_pairs <- nasa_title %>% \n",
    "  pairwise_count(word, id, sort = TRUE, upper = FALSE)\n",
    "\n",
    "title_word_pairs\n",
    "```\n",
    "\n",
    "These are the pairs of words that occur together most often in title fields. Some of these words are obviously acronyms used within NASA, and we see how often words like \"project\" and \"system\" are used.\n",
    "\n",
    "```{r desc_word_pairs, dependson = \"my_stopwords\"}\n",
    "desc_word_pairs <- nasa_desc %>% \n",
    "  pairwise_count(word, id, sort = TRUE, upper = FALSE)\n",
    "\n",
    "desc_word_pairs\n",
    "```\n",
    "\n",
    "These are the pairs of words that occur together most often in descripton fields. \"Data\" is a very common word in description fields; there is no shortage of data in the datasets at NASA!\n",
    "\n",
    "Let's plot networks of these co-occurring words so we can see these relationships better in Figure \\@ref(fig:plottitle). We will again use the ggraph package for visualizing our networks.\n",
    "\n",
    "```{r plottitle, dependson = \"title_word_pairs\", fig.height=6, fig.width=9, fig.cap=\"Word network in NASA dataset titles\"}\n",
    "library(ggplot2)\n",
    "library(igraph)\n",
    "library(ggraph)\n",
    "\n",
    "set.seed(1234)\n",
    "title_word_pairs %>%\n",
    "  filter(n >= 250) %>%\n",
    "  graph_from_data_frame() %>%\n",
    "  ggraph(layout = \"fr\") +\n",
    "  geom_edge_link(aes(edge_alpha = n, edge_width = n), edge_colour = \"cyan4\") +\n",
    "  geom_node_point(size = 5) +\n",
    "  geom_node_text(aes(label = name), repel = TRUE, \n",
    "                 point.padding = unit(0.2, \"lines\")) +\n",
    "  theme_void()\n",
    "```\n",
    "\n",
    "We see some clear clustering in this network of title words; words in NASA dataset titles are largely organized into several families of words that tend to go together.\n",
    "\n",
    "What about the words from the description fields?\n",
    "\n",
    "```{r plotdesc, dependson = \"desc_word_pairs\", fig.height=6, fig.width=9, fig.cap=\"Word network in NASA dataset descriptions\"}\n",
    "set.seed(1234)\n",
    "desc_word_pairs %>%\n",
    "  filter(n >= 5000) %>%\n",
    "  graph_from_data_frame() %>%\n",
    "  ggraph(layout = \"fr\") +\n",
    "  geom_edge_link(aes(edge_alpha = n, edge_width = n), edge_colour = \"darkred\") +\n",
    "  geom_node_point(size = 5) +\n",
    "  geom_node_text(aes(label = name), repel = TRUE,\n",
    "                 point.padding = unit(0.2, \"lines\")) +\n",
    "  theme_void()\n",
    "\n",
    "```\n",
    "\n",
    "Figure \\@ref(fig:plotdesc) shows such *strong* connections between the top dozen or so words (words like \"data\", \"global\", \"resolution\", and \"instrument\") that we do not see clear clustering structure in the network. We may want to use tf-idf (as described in detail in Chapter \\@ref(tfidf)) as a metric to find characteristic words for each description field, instead of looking at counts of words. \n",
    "\n",
    "### Networks of Keywords\n",
    "\n",
    "Next, let's make a network of the keywords in Figure \\@ref(fig:plotcounts) to see which keywords commonly occur together in the same datasets.\n",
    "\n",
    "```{r plotcounts, dependson = \"toupper\", fig.height=7, fig.width=9, fig.cap=\"Co-occurrence network in NASA dataset keywords\"}\n",
    "keyword_pairs <- nasa_keyword %>% \n",
    "  pairwise_count(keyword, id, sort = TRUE, upper = FALSE)\n",
    "\n",
    "keyword_pairs\n",
    "\n",
    "set.seed(1234)\n",
    "keyword_pairs %>%\n",
    "  filter(n >= 700) %>%\n",
    "  graph_from_data_frame() %>%\n",
    "  ggraph(layout = \"fr\") +\n",
    "  geom_edge_link(aes(edge_alpha = n, edge_width = n), edge_colour = \"royalblue\") +\n",
    "  geom_node_point(size = 5) +\n",
    "  geom_node_text(aes(label = name), repel = TRUE,\n",
    "                 point.padding = unit(0.2, \"lines\")) +\n",
    "  theme_void()\n",
    "```\n",
    "\n",
    "We definitely see clustering here, and strong connections between keywords like \"OCEANS\", \"OCEAN OPTICS\", and \"OCEAN COLOR\", or \"PROJECT\" and \"COMPLETED\". \n",
    "\n",
    "```{block, type = \"rmdwarning\"}\n",
    "These are the most commonly co-occurring words, but also just the most common keywords in general. \n",
    "```\n",
    "\n",
    "To examine the relationships among keywords in a different way, we can find the correlation among the keywords as described in Chapter \\@ref(ngrams). This looks for those keywords that are more likely to occur together than with other keywords in a description field.\n",
    "\n",
    "```{r keyword_cors, dependson = \"toupper\"}\n",
    "keyword_cors <- nasa_keyword %>% \n",
    "  group_by(keyword) %>%\n",
    "  filter(n() >= 50) %>%\n",
    "  pairwise_cor(keyword, id, sort = TRUE, upper = FALSE)\n",
    "\n",
    "keyword_cors\n",
    "```\n",
    "\n",
    "Notice that these keywords at the top of this sorted data frame have correlation coefficients equal to 1; they always occur together. This means these are redundant keywords. It may not make sense to continue to use both of the keywords in these sets of pairs; instead, just one keyword could be used.\n",
    "\n",
    "Let's visualize the network of keyword correlations, just as we did for keyword co-occurences.\n",
    "\n",
    "```{r plotcors, dependson = \"keyword_cors\", fig.height=8, fig.width=12, fig.cap=\"Correlation network in NASA dataset keywords\"}\n",
    "set.seed(1234)\n",
    "keyword_cors %>%\n",
    "  filter(correlation > .6) %>%\n",
    "  graph_from_data_frame() %>%\n",
    "  ggraph(layout = \"fr\") +\n",
    "  geom_edge_link(aes(edge_alpha = correlation, edge_width = correlation), edge_colour = \"royalblue\") +\n",
    "  geom_node_point(size = 5) +\n",
    "  geom_node_text(aes(label = name), repel = TRUE,\n",
    "                 point.padding = unit(0.2, \"lines\")) +\n",
    "  theme_void()\n",
    "```\n",
    "\n",
    "This network in Figure \\@ref(fig:plotcors) appears much different than the co-occurence network. The difference is that the co-occurrence network asks a question about which keyword pairs occur most often, and the correlation network asks a question about which keywordsoccur more often together than with other keywords. Notice here the high number of small clusters of keywords; the network structure can be extracted (for further analysis) from the `graph_from_data_frame()` function above.\n",
    "\n",
    "## Calculating tf-idf for the description fields\n",
    "\n",
    "The network graph in Figure \\@ref(fig:plotdesc) showed us that the description fields are dominated by a few common words like \"data\", \"global\", and \"resolution\"; this would be an excellent opportunity to use tf-idf as a statistic to find characteristic words for individual description fields. As discussed in Chapter \\@ref(tfidf), we can use tf-idf, the term frequency times inverse document frequency, to identify words that are especially important to a document within a collection of documents. Let's apply that approach to the description fields of these NASA datasets. \n",
    "\n",
    "### What is tf-idf for the description field words?\n",
    "\n",
    "We will consider each description field a document, and the whole set of description fields the collection or corpus of documents. We have already used `unnest_tokens()` earlier in this chapter to make a tidy data frame of the words in the description fields, so now we can use `bind_tf_idf()` to calculate tf-idf for each word.\n",
    "\n",
    "```{r desc_tf_idf, dependson = \"my_stopwords\"}\n",
    "desc_tf_idf <- nasa_desc %>% \n",
    "  count(id, word, sort = TRUE) %>%\n",
    "  ungroup() %>%\n",
    "  bind_tf_idf(word, id, n)\n",
    "```\n",
    "\n",
    "What are the highest tf-idf words in the NASA description fields?\n",
    "\n",
    "```{r dependson = \"desc_tf_idf\"}\n",
    "desc_tf_idf %>% \n",
    "  arrange(-tf_idf)\n",
    "```\n",
    "\n",
    "These are the most important words in the description fields as measured by tf-idf, meaning they are common but not too common. \n",
    "\n",
    "```{block, type = \"rmdwarning\"}\n",
    "Notice we have run into an issue here; both $n$ and term frequency are equal to 1 for these terms, meaning that these were description fields that only had a single word in them. If a description field only contains one word, the tf-idf algorithm will think that is a very important word. \n",
    "```\n",
    "\n",
    "Depending on our analytic goals, it might be a good idea to throw out all description fields that have very few words.\n",
    "\n",
    "### Connecting description fields to keywords\n",
    "\n",
    "We now know which words in the descriptions have high tf-idf, and we also have labels for these descriptions in the keywords. Letâs do a full join of the keyword data frame and the data frame of description words with tf-idf, and then find the highest tf-idf words for a given keyword.\n",
    "\n",
    "```{r full_join, dependson = c(\"desc_tf_idf\", \"toupper\")}\n",
    "desc_tf_idf <- full_join(desc_tf_idf, nasa_keyword, by = \"id\")\n",
    "```\n",
    "\n",
    "Let's plot some of the most important words, as measured by tf-idf, for a few example keywords used on NASA datasets. First, let's use dplyr operations to filter for the keywords we want to examine and take just the top 15 words for each keyword. Then, let's plot those words in Figure \\@ref(fig:plottfidf).\n",
    "\n",
    "```{r plottfidf, dependson = \"full_join\", fig.width=10, fig.height=7, fig.cap=\"Distribution of tf-idf for words from datasets labeled with select keywords\"}\n",
    "desc_tf_idf %>% \n",
    "  filter(!near(tf, 1)) %>%\n",
    "  filter(keyword %in% c(\"SOLAR ACTIVITY\", \"CLOUDS\", \n",
    "                        \"SEISMOLOGY\", \"ASTROPHYSICS\",\n",
    "                        \"HUMAN HEALTH\", \"BUDGET\")) %>%\n",
    "  arrange(desc(tf_idf)) %>%\n",
    "  group_by(keyword) %>%\n",
    "  distinct(word, keyword, .keep_all = TRUE) %>%\n",
    "  top_n(15, tf_idf) %>% \n",
    "  ungroup() %>%\n",
    "  mutate(word = factor(word, levels = rev(unique(word)))) %>%\n",
    "  ggplot(aes(word, tf_idf, fill = keyword)) +\n",
    "  geom_col(show.legend = FALSE) +\n",
    "  facet_wrap(~keyword, ncol = 3, scales = \"free\") +\n",
    "  coord_flip() +\n",
    "  labs(title = \"Highest tf-idf words in NASA metadata description fields\",\n",
    "       caption = \"NASA metadata from https://data.nasa.gov/data.json\",\n",
    "       x = NULL, y = \"tf-idf\")\n",
    "```\n",
    "\n",
    "Using tf-idf has allowed us to identify important description words for each of these keywords. Datasets labeled with the keyword \"SEISMOLOGY\" have words like \"earthquake\", \"risk\", and \"hazard\" in their description, while those labeled with \"HUMAN HEALTH\" have descriptions characterized by words like \"wellbeing\", \"vulnerability\", and \"children.\" Most of the combinations of letters that are not English words are certainly acronyms (like OMB for the Office of Management and Budget), and the examples of years and numbers are important for these topics. The tf-idf statistic has identified the kinds of words it is intended to, important words for individual documents within a collection of documents.\n",
    "\n",
    "## Topic modeling\n",
    "\n",
    "Using tf-idf as a statistic has already given us insight into the content of NASA description fields, but let's try an additional approach to the question of what the NASA descriptions fields are about. We can use topic modeling as described in Chapter \\@ref(topicmodeling) to model each document (description field) as a mixture of topics and each topic as a mixture of words. As in earlier chapters, we will use [latent Dirichlet allocation (LDA)](https://en.wikipedia.org/wiki/Latent_Dirichlet_allocation) for our topic modeling; there are other possible approaches for topic modeling.\n",
    "\n",
    "### Casting to a document-term matrix\n",
    "\n",
    "To do the topic modeling as implemented here, we need to make a `DocumentTermMatrix`, a special kind of matrix from the tm package (of course, this is just a specific implementation of the general concept of a \"document-term matrix\"). Rows correspond to documents (description texts in our case) and columns correspond to terms (i.e., words); it is a sparse matrix and the values are word counts.\n",
    "\n",
    "Letâs clean up the text a bit using stop words to remove some of the nonsense \"words\" leftover from HTML or other character encoding. We can use `bind_rows()` to add our custom stop words to the list of default stop words from the tidytext package, and then all at once use `anti_join()` to remove them all from our data frame.\n",
    "\n",
    "```{r word_counts, dependson = \"my_stopwords\"}\n",
    "my_stop_words <- bind_rows(stop_words, \n",
    "                           data_frame(word = c(\"nbsp\", \"amp\", \"gt\", \"lt\",\n",
    "                                               \"timesnewromanpsmt\", \"font\",\n",
    "                                               \"td\", \"li\", \"br\", \"tr\", \"quot\",\n",
    "                                               \"st\", \"img\", \"src\", \"strong\",\n",
    "                                               \"http\", \"file\", \"files\",\n",
    "                                               as.character(1:12)), \n",
    "                                      lexicon = rep(\"custom\", 30)))\n",
    "\n",
    "word_counts <- nasa_desc %>%\n",
    "  anti_join(my_stop_words) %>%\n",
    "  count(id, word, sort = TRUE) %>%\n",
    "  ungroup()\n",
    "\n",
    "word_counts\n",
    "```\n",
    "\n",
    "This is the information we need, the number of times each word is used in each document, to make a `DocumentTermMatrix`. We can `cast()` from our tidy text format to this non-tidy format as described in detail in Chapter \\@ref(dtm).\n",
    "\n",
    "```{r desc_dtm, dependson = \"word_counts\"}\n",
    "desc_dtm <- word_counts %>%\n",
    "  cast_dtm(id, word, n)\n",
    "\n",
    "desc_dtm\n",
    "```\n",
    "\n",
    "We see that this dataset contains documents (each of them a NASA description field) and terms (words). Notice that this example document-term matrix is (very close to) 100% sparse, meaning that almost all of the entries in this matrix are zero. Each non-zero entry corresponds to a certain word appearing in a certain document.\n",
    "\n",
    "### Ready for topic modeling\n",
    "\n",
    "Now letâs use the [topicmodels](https://cran.r-project.org/package=topicmodels) package to create an LDA model. How many topics will we tell the algorithm to make? This is a question much like in $k$-means clustering; we donât really know ahead of time. We tried the following modeling procedure using 8, 16, 24, 32, and 64 topics; we found that at 24 topics, documents are still getting sorted into topics cleanly but going much beyond that caused the distributions of $\\gamma$, the probability that each document belongs in each topic, to look worrisome. We will show more details on this later.\n",
    "\n",
    "```{r, eval = FALSE}\n",
    "library(topicmodels)\n",
    "\n",
    "# be aware that running this model is time intensive\n",
    "desc_lda <- LDA(desc_dtm, k = 24, control = list(seed = 1234))\n",
    "desc_lda\n",
    "```\n",
    "\n",
    "```{r desc_lda, echo=FALSE}\n",
    "library(topicmodels)\n",
    "load(\"data/desc_lda.rda\")\n",
    "desc_lda\n",
    "```\n",
    "\n",
    "This is a stochastic algorithm that could have different results depending on where the algorithm starts, so we need to specify a `seed` for reproducibility as shown here.\n",
    "\n",
    "### Interpreting the topic model\n",
    "\n",
    "Now that we have built the model, let's `tidy()` the results of the model, i.e., construct a tidy data frame that summarizes the results of the model. The tidytext package includes a tidying method for LDA models from the topicmodels package.\n",
    "\n",
    "```{r tidy_lda, dependson = \"desc_lda\"}\n",
    "tidy_lda <- tidy(desc_lda)\n",
    "\n",
    "tidy_lda\n",
    "```\n",
    "\n",
    "The column $\\beta$ tells us the probability of that term being generated from that topic for that document. It is the probability of that term (word) belonging to that topic. Notice that some of the values for $\\beta$ are very, very low, and some are not so low.\n",
    "\n",
    "What is each topic about? Let's examine the top 10 terms for each topic.\n",
    "\n",
    "```{r top_terms, dependson = \"tidy_lda\"}\n",
    "top_terms <- tidy_lda %>%\n",
    "  group_by(topic) %>%\n",
    "  top_n(10, beta) %>%\n",
    "  ungroup() %>%\n",
    "  arrange(topic, -beta)\n",
    "\n",
    "top_terms\n",
    "```\n",
    "\n",
    "It is not very easy to interpret what the topics are about from a data frame like this so letâs look at this information visually in Figure \\@ref(fig:plotbeta).\n",
    "\n",
    "```{r plotbeta, dependson = \"top_terms\", fig.width=12, fig.height=16, fig.cap=\"Top terms in topic modeling of NASA metadata description field texts\"}\n",
    "top_terms %>%\n",
    "  mutate(term = reorder(term, beta)) %>%\n",
    "  group_by(topic, term) %>%    \n",
    "  arrange(desc(beta)) %>%  \n",
    "  ungroup() %>%\n",
    "  mutate(term = factor(paste(term, topic, sep = \"__\"), \n",
    "                       levels = rev(paste(term, topic, sep = \"__\")))) %>%\n",
    "  ggplot(aes(term, beta, fill = as.factor(topic))) +\n",
    "  geom_col(show.legend = FALSE) +\n",
    "  coord_flip() +\n",
    "  scale_x_discrete(labels = function(x) gsub(\"__.+$\", \"\", x)) +\n",
    "  labs(title = \"Top 10 terms in each LDA topic\",\n",
    "       x = NULL, y = expression(beta)) +\n",
    "  facet_wrap(~ topic, ncol = 4, scales = \"free\")\n",
    "```\n",
    "\n",
    "We can see what a dominant word \"data\" is in these description texts. In addition, there are meaningful differences between these collections of terms, from terms about soil, forests, and biomass in topic 12 to terms about design, systems, and technology in topic 21. The topic modeling process has identified groupings of terms that we can understand as human readers of these description fields.\n",
    "\n",
    "We just explored which words are associated with which topics. Next, letâs examine which topics are associated with which description fields (i.e., documents). We will look at a different probability for this, $\\gamma$, the probability that each document belongs in each topic, again using the `tidy` verb.\n",
    "\n",
    "```{r lda_gamma, dependson = \"desc_lda\"}\n",
    "lda_gamma <- tidy(desc_lda, matrix = \"gamma\")\n",
    "\n",
    "lda_gamma\n",
    "```\n",
    "\n",
    "Notice that some of the probabilites visible at the top of the data frame are low and some are higher. Our model has assigned a probability to each description belonging to each of the topics we constructed from the sets of words. How are the probabilities distributed? Let's visualize them (Figure \\@ref(fig:plotgammaall)).\n",
    "\n",
    "```{r plotgammaall, dependson = \"lda_gamma\", fig.width=7, fig.height=5, fig.cap=\"Probability distribution in topic modeling of NASA metadata description field texts\"}\n",
    "ggplot(lda_gamma, aes(gamma)) +\n",
    "  geom_histogram() +\n",
    "  scale_y_log10() +\n",
    "  labs(title = \"Distribution of probabilities for all topics\",\n",
    "       y = \"Number of documents\", x = expression(gamma))\n",
    "```\n",
    "\n",
    "First notice that the y-axis is plotted on a log scale; otherwise it is difficult to make out any detail in the plot. Next, notice that $\\gamma$ runs from 0 to 1; remember that this is the probability that a given document belongs in a given topic. There are many values near zero, which means there are many documents that do not belong in each topic. Also, there are many values near $\\gamma = 1$; these are the documents that *do* belong in those topics. This distribution shows that documents are being well discriminated as belonging to a topic or not. We can also look at how the probabilities are distributed within each topic, as shown in Figure \\@ref(fig:plotgamma).\n",
    "\n",
    "```{r plotgamma, dependson = \"lda_gamma\", fig.width=10, fig.height=12, fig.cap=\"Probability distribution for each topic in topic modeling of NASA metadata description field texts\"}\n",
    "ggplot(lda_gamma, aes(gamma, fill = as.factor(topic))) +\n",
    "  geom_histogram(show.legend = FALSE) +\n",
    "  facet_wrap(~ topic, ncol = 4) +\n",
    "  scale_y_log10() +\n",
    "  labs(title = \"Distribution of probability for each topic\",\n",
    "       y = \"Number of documents\", x = expression(gamma))\n",
    "```\n",
    "\n",
    "Let's look specifically at topic 18 in Figure \\@ref(fig:plotgammaall), a topic that had documents cleanly sorted in and out of it. There are many documents with $\\gamma$ close to 1; these are the documents that *do* belong to topic 18 according to the model. There are also many documents with $\\gamma$ close to 0; these are the documents that do *not* belong to topic 18. Each document appears in each panel in this plot, and its $\\gamma$ for that topic tells us that document's probability of belonging in that topic.\n",
    "\n",
    "This plot displays the type of information we used to choose how many topics for our topic modeling procedure. When we tried options higher than 24 (such as 32 or 64), the distributions for $\\gamma$ started to look very flat toward $\\gamma = 1$; documents were not getting sorted into topics very well.\n",
    "\n",
    "### Connecting topic modeling with keywords\n",
    "\n",
    "Letâs connect these topic models with the keywords and see what relationships we can find. We can `full_join()` this to the human-tagged keywords and discover which keywords are associated with which topic.\n",
    "\n",
    "```{r lda_join, dependson = c(\"lda_gamma\", \"toupper\")}\n",
    "lda_gamma <- full_join(lda_gamma, nasa_keyword, by = c(\"document\" = \"id\"))\n",
    "\n",
    "lda_gamma\n",
    "```\n",
    "\n",
    "Now we can use `filter()` to keep only the document-topic entries that have probabilities ($\\gamma$) greater than some cut-off value; let's use 0.9.\n",
    "\n",
    "```{r top_keywords, dependson = \"lda_join\"}\n",
    "top_keywords <- lda_gamma %>% \n",
    "  filter(gamma > 0.9) %>% \n",
    "  count(topic, keyword, sort = TRUE)\n",
    "\n",
    "top_keywords\n",
    "```\n",
    "\n",
    "What are the top keywords for each topic?\n",
    "\n",
    "```{r plottopkeywords, dependson = \"top_keywords\", fig.width=16, fig.height=16, fig.cap=\"Top keywords in topic modeling of NASA metadata description field texts\"}\n",
    "top_keywords %>%\n",
    "  group_by(topic) %>%\n",
    "  top_n(5, n) %>%\n",
    "  group_by(topic, keyword) %>%\n",
    "  arrange(desc(n)) %>%  \n",
    "  ungroup() %>%\n",
    "  mutate(keyword = factor(paste(keyword, topic, sep = \"__\"), \n",
    "                          levels = rev(paste(keyword, topic, sep = \"__\")))) %>%\n",
    "  ggplot(aes(keyword, n, fill = as.factor(topic))) +\n",
    "  geom_col(show.legend = FALSE) +\n",
    "  labs(title = \"Top keywords for each LDA topic\",\n",
    "       x = NULL, y = \"Number of documents\") +\n",
    "  coord_flip() +\n",
    "  scale_x_discrete(labels = function(x) gsub(\"__.+$\", \"\", x)) +\n",
    "  facet_wrap(~ topic, ncol = 4, scales = \"free\")\n",
    "```\n",
    "\n",
    "Let's take a step back and remind ourselves what Figure \\@ref(fig:plottopkeywords) is telling us. NASA datasets are tagged with keywords by human beings, and we have built an LDA topic model (with 24 topics) for the description fields of the NASA datasets. This plot answers the question, \"For the datasets with description fields that have a high probability of belonging to a given topic, what are the most common human-assigned keywords?\"\n",
    "\n",
    "Itâs interesting that the keywords for topics 13, 16, and 18 are essentially duplicates of each other (\"OCEAN COLOR\", \"OCEAN OPTICS\", \"OCEANS\"), because the top words in those topics do exhibit meaningful differences, as shown in Figure \\@ref(fig:plotbeta). Also note that by number of documents, the combination of 13, 16, and 18 is quite a large percentage of the total number of datasets represented in this plot, and even more if we were to include topic 11. By number, there are *many* datasets at NASA that deal with oceans, ocean color, and ocean optics. We see \"PROJECT COMPLETED\" in topics 9, 10, and 21, along with the names of NASA laboratories and research centers. Other important subject areas that stand out are groups of keywords about atmospheric science, budget/finance, and population/human dimensions. We can go back to Figure \\@ref(fig:plotbeta) on terms and topics to see which words in the description fields are driving datasets being assigned to these topics. For example, topic 4 is associated with keywords about population and human dimensions, and some of the top terms for that topic are \"population\", \"international\", \"center\", and \"university\".\n",
    "\n",
    "## Summary\n",
    "\n",
    "By using a combination of network analysis, tf-idf, and topic modeling, we have come to a greater understanding of how datasets are related at NASA. Specifically, we have more information now about how keywords are connected to each other and which datasets are likely to be related. The topic model could be used to suggest keywords based on the words in the description field, or the work on the keywords could suggest the most important combination of keywords for certain areas of study."
   ]
  }
 ],
 "metadata": {
  "kernelspec": {
   "display_name": "R",
   "language": "R",
   "name": "ir"
  },
  "language_info": {
   "codemirror_mode": "r",
   "file_extension": ".r",
   "mimetype": "text/x-r-source",
   "name": "R",
   "pygments_lexer": "r",
   "version": "3.4.3"
  },
  "toc": {
   "nav_menu": {},
   "number_sections": true,
   "sideBar": true,
   "skip_h1_title": true,
   "title_cell": "Table of Contents",
   "title_sidebar": "Table of Contents",
   "toc_cell": true,
   "toc_position": {
    "height": "calc(100% - 180px)",
    "left": "10px",
    "top": "150px",
    "width": "242px"
   },
   "toc_section_display": true,
   "toc_window_display": true
  },
  "varInspector": {
   "cols": {
    "lenName": 16,
    "lenType": 16,
    "lenVar": 40
   },
   "kernels_config": {
    "python": {
     "delete_cmd_postfix": "",
     "delete_cmd_prefix": "del ",
     "library": "var_list.py",
     "varRefreshCmd": "print(var_dic_list())"
    },
    "r": {
     "delete_cmd_postfix": ") ",
     "delete_cmd_prefix": "rm(",
     "library": "var_list.r",
     "varRefreshCmd": "cat(var_dic_list()) "
    }
   },
   "position": {
    "height": "238px",
    "left": "1066px",
    "right": "20px",
    "top": "138px",
    "width": "350px"
   },
   "types_to_exclude": [
    "module",
    "function",
    "builtin_function_or_method",
    "instance",
    "_Feature"
   ],
   "window_display": false
  }
 },
 "nbformat": 4,
 "nbformat_minor": 2
}
