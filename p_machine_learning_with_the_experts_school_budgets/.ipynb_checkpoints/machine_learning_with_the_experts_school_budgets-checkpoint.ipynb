{
 "cells": [
  {
   "cell_type": "markdown",
   "metadata": {},
   "source": [
    "# Machine Learning with the Experts: School Budgets\n",
    "- William Surles\n",
    "- 2017-12-04\n",
    "- Datacamp course\n",
    "- [https://www.datacamp.com/courses/machine-learning-with-the-experts-school-budgets](https://www.datacamp.com/courses/machine-learning-with-the-experts-school-budgets)"
   ]
  },
  {
   "cell_type": "markdown",
   "metadata": {},
   "source": [
    "## Whats Covered\n",
    "** Exploring the raw data **\n",
    "- Introducing the challenge\n",
    "- Exploring the data\n",
    "- Looking at the datatypes\n",
    "- How do we measure success?\n",
    "\n",
    "** Creating a simple first model **\n",
    "- It's time to build a model\n",
    "- Making predictions\n",
    "- A very brief introduction to NLP\n",
    "- Representing text numerically\n",
    "\n",
    "** Improving your model **\n",
    "- Pipelines, feature & text preprocessing\n",
    "- Text features and feature unions\n",
    "- Choosing a classification model\n",
    "\n",
    "** Learning from the experts **\n",
    "- Learning from the expert: processing\n",
    "- Learning from the expert: a stats trick\n",
    "- Learning from the expert: a computational trick and the winning model\n",
    "- Next steps and the social impact of your work"
   ]
  },
  {
   "cell_type": "markdown",
   "metadata": {},
   "source": [
    "## Additional Resources"
   ]
  },
  {
   "cell_type": "markdown",
   "metadata": {
    "collapsed": true
   },
   "source": [
    "- [Box Plots for Education Competition on DrivenData](https://www.drivendata.org/competitions/46/box-plots-for-education-reboot/)\n",
    " - Get the data and try the models for real. "
   ]
  },
  {
   "cell_type": "markdown",
   "metadata": {},
   "source": [
    "## Libraries and Data"
   ]
  },
  {
   "cell_type": "code",
   "execution_count": 4,
   "metadata": {
    "collapsed": true
   },
   "outputs": [],
   "source": [
    "import numpy as np\n",
    "import pandas as pd\n",
    "import matplotlib.pyplot as plt"
   ]
  },
  {
   "cell_type": "markdown",
   "metadata": {},
   "source": [
    "# Exploring the raw data"
   ]
  },
  {
   "cell_type": "markdown",
   "metadata": {},
   "source": [
    "## Introducing the challenge"
   ]
  },
  {
   "cell_type": "markdown",
   "metadata": {},
   "source": [
    "- Learn from the expert who won DrivenData's challenge\n",
    " - Natural language processing\n",
    " - Feature engineering\n",
    " - Efficiency boosting hashing tricks\n",
    "- Use data to have a social impact\n",
    "- Budgets for schools are uge, complex, and not standardized\n",
    " - Hundreds of hous each year are spent manually labelling\n",
    "- Goal: Build a machine learning algorithm that can automate the process\n",
    "- Budget data\n",
    " - Line-item: \"Algebra books for 8th grade students\"\n",
    " - Labels: \"Textbooks\", \"math\", \"Middle school\"\n",
    "- This is a supervised learning problem\n",
    " - We want to build an algorithm that can correctly label categories based on a set of labeled data\n",
    " - If we had no labels and just wanted to see what items go together, it would be unsupervised\n",
    "- Over 100 target variables\n",
    " - This is a classification problem. We want to predict a label\n",
    " - If we tried to predict a value it would be a regression problem\n",
    "- We don't want our algorithm to just label the data\n",
    " - We want to say we are 60% sure its textbooks, 30% office supplies, etc."
   ]
  },
  {
   "cell_type": "markdown",
   "metadata": {},
   "source": [
    "### What category of problem is this?"
   ]
  },
  {
   "cell_type": "code",
   "execution_count": null,
   "metadata": {
    "collapsed": true
   },
   "outputs": [],
   "source": []
  },
  {
   "cell_type": "markdown",
   "metadata": {},
   "source": [
    "### What is the goal of the algorithm?"
   ]
  },
  {
   "cell_type": "code",
   "execution_count": null,
   "metadata": {
    "collapsed": true
   },
   "outputs": [],
   "source": []
  },
  {
   "cell_type": "markdown",
   "metadata": {},
   "source": [
    "## Exploring the data"
   ]
  },
  {
   "cell_type": "markdown",
   "metadata": {},
   "source": [
    "### Loading the data"
   ]
  },
  {
   "cell_type": "code",
   "execution_count": 5,
   "metadata": {},
   "outputs": [
    {
     "data": {
      "text/html": [
       "<div>\n",
       "<style>\n",
       "    .dataframe thead tr:only-child th {\n",
       "        text-align: right;\n",
       "    }\n",
       "\n",
       "    .dataframe thead th {\n",
       "        text-align: left;\n",
       "    }\n",
       "\n",
       "    .dataframe tbody tr th {\n",
       "        vertical-align: top;\n",
       "    }\n",
       "</style>\n",
       "<table border=\"1\" class=\"dataframe\">\n",
       "  <thead>\n",
       "    <tr style=\"text-align: right;\">\n",
       "      <th></th>\n",
       "      <th>Function</th>\n",
       "      <th>Use</th>\n",
       "      <th>Sharing</th>\n",
       "      <th>Reporting</th>\n",
       "      <th>Student_Type</th>\n",
       "      <th>Position_Type</th>\n",
       "      <th>Object_Type</th>\n",
       "      <th>Pre_K</th>\n",
       "      <th>Operating_Status</th>\n",
       "      <th>Object_Description</th>\n",
       "      <th>...</th>\n",
       "      <th>Sub_Object_Description</th>\n",
       "      <th>Location_Description</th>\n",
       "      <th>FTE</th>\n",
       "      <th>Function_Description</th>\n",
       "      <th>Facility_or_Department</th>\n",
       "      <th>Position_Extra</th>\n",
       "      <th>Total</th>\n",
       "      <th>Program_Description</th>\n",
       "      <th>Fund_Description</th>\n",
       "      <th>Text_1</th>\n",
       "    </tr>\n",
       "  </thead>\n",
       "  <tbody>\n",
       "    <tr>\n",
       "      <th>134338</th>\n",
       "      <td>Teacher Compensation</td>\n",
       "      <td>Instruction</td>\n",
       "      <td>School Reported</td>\n",
       "      <td>School</td>\n",
       "      <td>NO_LABEL</td>\n",
       "      <td>Teacher</td>\n",
       "      <td>NO_LABEL</td>\n",
       "      <td>NO_LABEL</td>\n",
       "      <td>PreK-12 Operating</td>\n",
       "      <td>NaN</td>\n",
       "      <td>...</td>\n",
       "      <td>NaN</td>\n",
       "      <td>NaN</td>\n",
       "      <td>1.0</td>\n",
       "      <td>NaN</td>\n",
       "      <td>NaN</td>\n",
       "      <td>KINDERGARTEN</td>\n",
       "      <td>50471.810</td>\n",
       "      <td>KINDERGARTEN</td>\n",
       "      <td>General Fund</td>\n",
       "      <td>NaN</td>\n",
       "    </tr>\n",
       "    <tr>\n",
       "      <th>206341</th>\n",
       "      <td>NO_LABEL</td>\n",
       "      <td>NO_LABEL</td>\n",
       "      <td>NO_LABEL</td>\n",
       "      <td>NO_LABEL</td>\n",
       "      <td>NO_LABEL</td>\n",
       "      <td>NO_LABEL</td>\n",
       "      <td>NO_LABEL</td>\n",
       "      <td>NO_LABEL</td>\n",
       "      <td>Non-Operating</td>\n",
       "      <td>CONTRACTOR SERVICES</td>\n",
       "      <td>...</td>\n",
       "      <td>NaN</td>\n",
       "      <td>NaN</td>\n",
       "      <td>NaN</td>\n",
       "      <td>RGN  GOB</td>\n",
       "      <td>NaN</td>\n",
       "      <td>UNDESIGNATED</td>\n",
       "      <td>3477.860</td>\n",
       "      <td>BUILDING IMPROVEMENT SERVICES</td>\n",
       "      <td>NaN</td>\n",
       "      <td>BUILDING IMPROVEMENT SERVICES</td>\n",
       "    </tr>\n",
       "    <tr>\n",
       "      <th>326408</th>\n",
       "      <td>Teacher Compensation</td>\n",
       "      <td>Instruction</td>\n",
       "      <td>School Reported</td>\n",
       "      <td>School</td>\n",
       "      <td>Unspecified</td>\n",
       "      <td>Teacher</td>\n",
       "      <td>Base Salary/Compensation</td>\n",
       "      <td>Non PreK</td>\n",
       "      <td>PreK-12 Operating</td>\n",
       "      <td>Personal Services - Teachers</td>\n",
       "      <td>...</td>\n",
       "      <td>NaN</td>\n",
       "      <td>NaN</td>\n",
       "      <td>1.0</td>\n",
       "      <td>NaN</td>\n",
       "      <td>NaN</td>\n",
       "      <td>TEACHER</td>\n",
       "      <td>62237.130</td>\n",
       "      <td>Instruction - Regular</td>\n",
       "      <td>General Purpose School</td>\n",
       "      <td>NaN</td>\n",
       "    </tr>\n",
       "    <tr>\n",
       "      <th>364634</th>\n",
       "      <td>Substitute Compensation</td>\n",
       "      <td>Instruction</td>\n",
       "      <td>School Reported</td>\n",
       "      <td>School</td>\n",
       "      <td>Unspecified</td>\n",
       "      <td>Substitute</td>\n",
       "      <td>Benefits</td>\n",
       "      <td>NO_LABEL</td>\n",
       "      <td>PreK-12 Operating</td>\n",
       "      <td>EMPLOYEE BENEFITS</td>\n",
       "      <td>...</td>\n",
       "      <td>NaN</td>\n",
       "      <td>NaN</td>\n",
       "      <td>NaN</td>\n",
       "      <td>UNALLOC BUDGETS/SCHOOLS</td>\n",
       "      <td>NaN</td>\n",
       "      <td>PROFESSIONAL-INSTRUCTIONAL</td>\n",
       "      <td>22.300</td>\n",
       "      <td>GENERAL MIDDLE/JUNIOR HIGH SCH</td>\n",
       "      <td>NaN</td>\n",
       "      <td>REGULAR INSTRUCTION</td>\n",
       "    </tr>\n",
       "    <tr>\n",
       "      <th>47683</th>\n",
       "      <td>Substitute Compensation</td>\n",
       "      <td>Instruction</td>\n",
       "      <td>School Reported</td>\n",
       "      <td>School</td>\n",
       "      <td>Unspecified</td>\n",
       "      <td>Teacher</td>\n",
       "      <td>Substitute Compensation</td>\n",
       "      <td>NO_LABEL</td>\n",
       "      <td>PreK-12 Operating</td>\n",
       "      <td>TEACHER COVERAGE FOR TEACHER</td>\n",
       "      <td>...</td>\n",
       "      <td>NaN</td>\n",
       "      <td>NaN</td>\n",
       "      <td>NaN</td>\n",
       "      <td>NON-PROJECT</td>\n",
       "      <td>NaN</td>\n",
       "      <td>PROFESSIONAL-INSTRUCTIONAL</td>\n",
       "      <td>54.166</td>\n",
       "      <td>GENERAL HIGH SCHOOL EDUCATION</td>\n",
       "      <td>NaN</td>\n",
       "      <td>REGULAR INSTRUCTION</td>\n",
       "    </tr>\n",
       "  </tbody>\n",
       "</table>\n",
       "<p>5 rows × 25 columns</p>\n",
       "</div>"
      ],
      "text/plain": [
       "                       Function          Use          Sharing Reporting  \\\n",
       "134338     Teacher Compensation  Instruction  School Reported    School   \n",
       "206341                 NO_LABEL     NO_LABEL         NO_LABEL  NO_LABEL   \n",
       "326408     Teacher Compensation  Instruction  School Reported    School   \n",
       "364634  Substitute Compensation  Instruction  School Reported    School   \n",
       "47683   Substitute Compensation  Instruction  School Reported    School   \n",
       "\n",
       "       Student_Type Position_Type               Object_Type     Pre_K  \\\n",
       "134338     NO_LABEL       Teacher                  NO_LABEL  NO_LABEL   \n",
       "206341     NO_LABEL      NO_LABEL                  NO_LABEL  NO_LABEL   \n",
       "326408  Unspecified       Teacher  Base Salary/Compensation  Non PreK   \n",
       "364634  Unspecified    Substitute                  Benefits  NO_LABEL   \n",
       "47683   Unspecified       Teacher   Substitute Compensation  NO_LABEL   \n",
       "\n",
       "         Operating_Status            Object_Description  \\\n",
       "134338  PreK-12 Operating                           NaN   \n",
       "206341      Non-Operating           CONTRACTOR SERVICES   \n",
       "326408  PreK-12 Operating  Personal Services - Teachers   \n",
       "364634  PreK-12 Operating             EMPLOYEE BENEFITS   \n",
       "47683   PreK-12 Operating  TEACHER COVERAGE FOR TEACHER   \n",
       "\n",
       "                    ...               Sub_Object_Description  \\\n",
       "134338              ...                                  NaN   \n",
       "206341              ...                                  NaN   \n",
       "326408              ...                                  NaN   \n",
       "364634              ...                                  NaN   \n",
       "47683               ...                                  NaN   \n",
       "\n",
       "       Location_Description  FTE     Function_Description  \\\n",
       "134338                  NaN  1.0                      NaN   \n",
       "206341                  NaN  NaN                 RGN  GOB   \n",
       "326408                  NaN  1.0                      NaN   \n",
       "364634                  NaN  NaN  UNALLOC BUDGETS/SCHOOLS   \n",
       "47683                   NaN  NaN              NON-PROJECT   \n",
       "\n",
       "       Facility_or_Department              Position_Extra      Total  \\\n",
       "134338                    NaN               KINDERGARTEN   50471.810   \n",
       "206341                    NaN                UNDESIGNATED   3477.860   \n",
       "326408                    NaN                     TEACHER  62237.130   \n",
       "364634                    NaN  PROFESSIONAL-INSTRUCTIONAL     22.300   \n",
       "47683                     NaN  PROFESSIONAL-INSTRUCTIONAL     54.166   \n",
       "\n",
       "                   Program_Description        Fund_Description  \\\n",
       "134338                    KINDERGARTEN            General Fund   \n",
       "206341   BUILDING IMPROVEMENT SERVICES                     NaN   \n",
       "326408           Instruction - Regular  General Purpose School   \n",
       "364634  GENERAL MIDDLE/JUNIOR HIGH SCH                     NaN   \n",
       "47683    GENERAL HIGH SCHOOL EDUCATION                     NaN   \n",
       "\n",
       "                               Text_1  \n",
       "134338                            NaN  \n",
       "206341  BUILDING IMPROVEMENT SERVICES  \n",
       "326408                            NaN  \n",
       "364634            REGULAR INSTRUCTION  \n",
       "47683             REGULAR INSTRUCTION  \n",
       "\n",
       "[5 rows x 25 columns]"
      ]
     },
     "execution_count": 5,
     "metadata": {},
     "output_type": "execute_result"
    }
   ],
   "source": [
    "file = 'data/TrainingData.csv'\n",
    "df = pd.read_csv(file, index_col = 0)\n",
    "df.head()"
   ]
  },
  {
   "cell_type": "code",
   "execution_count": 6,
   "metadata": {},
   "outputs": [
    {
     "name": "stdout",
     "output_type": "stream",
     "text": [
      "<class 'pandas.core.frame.DataFrame'>\n",
      "Int64Index: 400277 entries, 134338 to 415831\n",
      "Data columns (total 25 columns):\n",
      "Function                  400277 non-null object\n",
      "Use                       400277 non-null object\n",
      "Sharing                   400277 non-null object\n",
      "Reporting                 400277 non-null object\n",
      "Student_Type              400277 non-null object\n",
      "Position_Type             400277 non-null object\n",
      "Object_Type               400277 non-null object\n",
      "Pre_K                     400277 non-null object\n",
      "Operating_Status          400277 non-null object\n",
      "Object_Description        375493 non-null object\n",
      "Text_2                    88217 non-null object\n",
      "SubFund_Description       306855 non-null object\n",
      "Job_Title_Description     292743 non-null object\n",
      "Text_3                    179964 non-null object\n",
      "Text_4                    53746 non-null object\n",
      "Sub_Object_Description    91603 non-null object\n",
      "Location_Description      162054 non-null object\n",
      "FTE                       126071 non-null float64\n",
      "Function_Description      342195 non-null object\n",
      "Facility_or_Department    53886 non-null object\n",
      "Position_Extra            264764 non-null object\n",
      "Total                     395722 non-null float64\n",
      "Program_Description       304660 non-null object\n",
      "Fund_Description          202877 non-null object\n",
      "Text_1                    292285 non-null object\n",
      "dtypes: float64(2), object(23)\n",
      "memory usage: 79.4+ MB\n"
     ]
    }
   ],
   "source": [
    "df.info()"
   ]
  },
  {
   "cell_type": "code",
   "execution_count": 7,
   "metadata": {},
   "outputs": [
    {
     "data": {
      "text/html": [
       "<div>\n",
       "<style>\n",
       "    .dataframe thead tr:only-child th {\n",
       "        text-align: right;\n",
       "    }\n",
       "\n",
       "    .dataframe thead th {\n",
       "        text-align: left;\n",
       "    }\n",
       "\n",
       "    .dataframe tbody tr th {\n",
       "        vertical-align: top;\n",
       "    }\n",
       "</style>\n",
       "<table border=\"1\" class=\"dataframe\">\n",
       "  <thead>\n",
       "    <tr style=\"text-align: right;\">\n",
       "      <th></th>\n",
       "      <th>FTE</th>\n",
       "      <th>Total</th>\n",
       "    </tr>\n",
       "  </thead>\n",
       "  <tbody>\n",
       "    <tr>\n",
       "      <th>count</th>\n",
       "      <td>126071.000000</td>\n",
       "      <td>3.957220e+05</td>\n",
       "    </tr>\n",
       "    <tr>\n",
       "      <th>mean</th>\n",
       "      <td>0.426794</td>\n",
       "      <td>1.310586e+04</td>\n",
       "    </tr>\n",
       "    <tr>\n",
       "      <th>std</th>\n",
       "      <td>0.573576</td>\n",
       "      <td>3.682254e+05</td>\n",
       "    </tr>\n",
       "    <tr>\n",
       "      <th>min</th>\n",
       "      <td>-0.087551</td>\n",
       "      <td>-8.746631e+07</td>\n",
       "    </tr>\n",
       "    <tr>\n",
       "      <th>25%</th>\n",
       "      <td>0.000792</td>\n",
       "      <td>7.379770e+01</td>\n",
       "    </tr>\n",
       "    <tr>\n",
       "      <th>50%</th>\n",
       "      <td>0.130927</td>\n",
       "      <td>4.612300e+02</td>\n",
       "    </tr>\n",
       "    <tr>\n",
       "      <th>75%</th>\n",
       "      <td>1.000000</td>\n",
       "      <td>3.652662e+03</td>\n",
       "    </tr>\n",
       "    <tr>\n",
       "      <th>max</th>\n",
       "      <td>46.800000</td>\n",
       "      <td>1.297000e+08</td>\n",
       "    </tr>\n",
       "  </tbody>\n",
       "</table>\n",
       "</div>"
      ],
      "text/plain": [
       "                 FTE         Total\n",
       "count  126071.000000  3.957220e+05\n",
       "mean        0.426794  1.310586e+04\n",
       "std         0.573576  3.682254e+05\n",
       "min        -0.087551 -8.746631e+07\n",
       "25%         0.000792  7.379770e+01\n",
       "50%         0.130927  4.612300e+02\n",
       "75%         1.000000  3.652662e+03\n",
       "max        46.800000  1.297000e+08"
      ]
     },
     "execution_count": 7,
     "metadata": {},
     "output_type": "execute_result"
    }
   ],
   "source": [
    "df.describe()"
   ]
  },
  {
   "cell_type": "markdown",
   "metadata": {},
   "source": [
    "### Summarizing the data\n",
    "- For some reason, there is a vary large value under FTE that skews the data. It is around 48 I believe."
   ]
  },
  {
   "cell_type": "code",
   "execution_count": 8,
   "metadata": {
    "collapsed": true
   },
   "outputs": [],
   "source": [
    "df2 = df[df.FTE < 2]"
   ]
  },
  {
   "cell_type": "code",
   "execution_count": 9,
   "metadata": {},
   "outputs": [
    {
     "data": {
      "image/png": "[encoded data removed]",
      "text/plain": [
       "<matplotlib.figure.Figure at 0x10c51f630>"
      ]
     },
     "metadata": {},
     "output_type": "display_data"
    }
   ],
   "source": [
    "# Create the histogram\n",
    "plt.hist(df2.FTE.dropna(), edgecolor = 'k')\n",
    "\n",
    "# Add title and labels\n",
    "plt.title('Distribution of %full-time \\n employee works')\n",
    "plt.xlabel('% of full-time')\n",
    "plt.ylabel('num employees')\n",
    "\n",
    "# Display the histogram\n",
    "plt.show()"
   ]
  },
  {
   "cell_type": "markdown",
   "metadata": {},
   "source": [
    "## Looking at the datatypes"
   ]
  },
  {
   "cell_type": "markdown",
   "metadata": {
    "collapsed": true
   },
   "source": [
    "#### Encode labels as categories\n",
    "- ML algorithms work on numbers, not strings\n",
    " - Need a numeric representation of these strings\n",
    "- Strings can be slow compared to numbers\n",
    "- In pandas, 'category' dtype encodes categorical data numerically\n",
    " - Can speed up code"
   ]
  },
  {
   "cell_type": "markdown",
   "metadata": {},
   "source": [
    "### Exploring datatypes in pandas"
   ]
  },
  {
   "cell_type": "markdown",
   "metadata": {
    "collapsed": true
   },
   "source": [
    "- It's always good to know what datatypes you're working with, especially when the inefficient pandas type object may be involved. \n",
    " - Towards that end, let's explore what we have."
   ]
  },
  {
   "cell_type": "code",
   "execution_count": 10,
   "metadata": {},
   "outputs": [
    {
     "data": {
      "text/plain": [
       "object     23\n",
       "float64     2\n",
       "dtype: int64"
      ]
     },
     "execution_count": 10,
     "metadata": {},
     "output_type": "execute_result"
    }
   ],
   "source": [
    "df.dtypes.value_counts()"
   ]
  },
  {
   "cell_type": "markdown",
   "metadata": {},
   "source": [
    "### Encode the labels as categorical variables"
   ]
  },
  {
   "cell_type": "markdown",
   "metadata": {},
   "source": [
    "- There are 9 columns of labels in the dataset. Each of these columns is a category that has many possible values it can take)."
   ]
  },
  {
   "cell_type": "code",
   "execution_count": 11,
   "metadata": {
    "collapsed": true
   },
   "outputs": [],
   "source": [
    "labels = ['Function', 'Use', 'Sharing', 'Reporting', 'Student_Type',\n",
    " 'Position_Type', 'Object_Type', 'Pre_K', 'Operating_Status']"
   ]
  },
  {
   "cell_type": "code",
   "execution_count": 12,
   "metadata": {},
   "outputs": [
    {
     "data": {
      "text/plain": [
       "Function            object\n",
       "Use                 object\n",
       "Sharing             object\n",
       "Reporting           object\n",
       "Student_Type        object\n",
       "Position_Type       object\n",
       "Object_Type         object\n",
       "Pre_K               object\n",
       "Operating_Status    object\n",
       "dtype: object"
      ]
     },
     "execution_count": 12,
     "metadata": {},
     "output_type": "execute_result"
    }
   ],
   "source": [
    "df[labels].dtypes"
   ]
  },
  {
   "cell_type": "code",
   "execution_count": 13,
   "metadata": {},
   "outputs": [
    {
     "name": "stdout",
     "output_type": "stream",
     "text": [
      "Function            category\n",
      "Use                 category\n",
      "Sharing             category\n",
      "Reporting           category\n",
      "Student_Type        category\n",
      "Position_Type       category\n",
      "Object_Type         category\n",
      "Pre_K               category\n",
      "Operating_Status    category\n",
      "dtype: object\n"
     ]
    }
   ],
   "source": [
    "# Define the lambda function: categorize_label\n",
    "categorize_label = lambda x: x.astype('category')\n",
    "\n",
    "# Convert df[labels] to a categorical type\n",
    "df[labels] = df[labels].apply(categorize_label, axis = 0)\n",
    "\n",
    "# Print the converted dtypes\n",
    "print(df[labels].dtypes)"
   ]
  },
  {
   "cell_type": "markdown",
   "metadata": {},
   "source": [
    "### Counting unique labels"
   ]
  },
  {
   "cell_type": "code",
   "execution_count": 14,
   "metadata": {},
   "outputs": [
    {
     "data": {
      "image/png": "[encoded data removed]",
      "text/plain": [
       "<matplotlib.figure.Figure at 0x10c51fb70>"
      ]
     },
     "metadata": {},
     "output_type": "display_data"
    }
   ],
   "source": [
    "# Calculate number of unique values for each label: num_unique_labels\n",
    "num_unique_labels = df[labels].apply(pd.Series.nunique)\n",
    "\n",
    "# Plot number of unique values for each label\n",
    "num_unique_labels.plot(kind = 'bar')\n",
    "\n",
    "# Label the axes\n",
    "plt.xlabel('labels')\n",
    "plt.ylabel('Number of unique values')\n",
    "\n",
    "# Display the plot\n",
    "plt.show()"
   ]
  },
  {
   "cell_type": "markdown",
   "metadata": {},
   "source": [
    "## How do we measure success?"
   ]
  },
  {
   "cell_type": "markdown",
   "metadata": {
    "collapsed": true
   },
   "source": [
    "#### How do we measure success?\n",
    "- Accuracy can be misleading when classes are imbalanced\n",
    " - Legitimate email: 99%, Spam: 1%\n",
    " - Model that never predicts spam will be 99% accurate\n",
    " - But this is not useful at all\n",
    "- Metric used in the problem: log loss\n",
    " - It is a loss funciton\n",
    " - measure of error\n",
    " - Wnat to minimize the error (unlike accuracy)\n",
    " \n",
    "#### Log loss binary classification\n",
    "- Log loss binary classification\n",
    " - Actual value: y = {1=yes, 0=no}\n",
    " - Prediction (probability that the value is 1): p\n",
    "\n",
    "$$ logloss = -\\frac{1}{N}\\sum_{i=1}^{N}(y_i log(p_i) + (1 - y_i)log(1 - p_i)) $$"
   ]
  },
  {
   "cell_type": "markdown",
   "metadata": {},
   "source": [
    "#### Log loss binary classification: example\n",
    "\n",
    "$$ logloss_{(N=1)} = ylog(p) + (1 - y)log(1 - p) $$\n",
    "\n",
    "- True label = 0\n",
    "- Model confidently predicts 1 (with p = 0.90)\n",
    "- Log loss = \n",
    " - ylog(p) + (1 - y)log(1 - p)\n",
    " - 0log(.9) + (1 - 0)log(1 - .9)\n",
    " - 0 + log(0.1)\n",
    " - 2.30\n",
    "\n",
    "- Another case with label = 1\n",
    "- Model predicts 0 (with p = 0.50)\n",
    "- log loss = 0.69\n",
    "- better to be less confident than confident and wrong"
   ]
  },
  {
   "cell_type": "markdown",
   "metadata": {},
   "source": [
    "#### Computing log loss it NumPy"
   ]
  },
  {
   "cell_type": "code",
   "execution_count": 15,
   "metadata": {
    "collapsed": true
   },
   "outputs": [],
   "source": [
    "def compute_log_loss(predicted, actual, eps=1e-14):\n",
    "    \"\"\"Computes the logarithmic los between predicted and actual when these are 1D arrays.\n",
    "    \n",
    "    :param predicted: The predicted probabilities as floats bwtween 0-1\n",
    "    :param actual: The actual binary labels. Either 0 or 1.\n",
    "    :param eps (optional): log(0) is inf, so we need to offset our predicted values slightly by eps from 0 or 1.\n",
    "    \"\"\"\n",
    "    \n",
    "    predicted = np.clip(predicted, eps, 1 - eps)\n",
    "    loss = -1 * np.mean(actual * np.log(predicted) + (1 - actual) * np.log(1 - predicted))\n",
    "\n",
    "    return loss"
   ]
  },
  {
   "cell_type": "markdown",
   "metadata": {},
   "source": [
    "### Penalizing highly confident wrong answers"
   ]
  },
  {
   "cell_type": "code",
   "execution_count": 16,
   "metadata": {},
   "outputs": [
    {
     "data": {
      "text/plain": [
       "0.16251892949777494"
      ]
     },
     "execution_count": 16,
     "metadata": {},
     "output_type": "execute_result"
    }
   ],
   "source": [
    "## right and fairly confident\n",
    "compute_log_loss(predicted = 0.85, actual = 1)"
   ]
  },
  {
   "cell_type": "code",
   "execution_count": 17,
   "metadata": {},
   "outputs": [
    {
     "data": {
      "text/plain": [
       "4.6051701859880909"
      ]
     },
     "execution_count": 17,
     "metadata": {},
     "output_type": "execute_result"
    }
   ],
   "source": [
    "## wrong and confident\n",
    "compute_log_loss(predicted = 0.99, actual = 0)"
   ]
  },
  {
   "cell_type": "code",
   "execution_count": 18,
   "metadata": {},
   "outputs": [
    {
     "data": {
      "text/plain": [
       "0.71334988787746478"
      ]
     },
     "execution_count": 18,
     "metadata": {},
     "output_type": "execute_result"
    }
   ],
   "source": [
    "## wrong and not confident\n",
    "compute_log_loss(predicted = 0.51, actual = 0)"
   ]
  },
  {
   "cell_type": "markdown",
   "metadata": {},
   "source": [
    "### Computing log loss with NumPy"
   ]
  },
  {
   "cell_type": "code",
   "execution_count": 19,
   "metadata": {
    "collapsed": true
   },
   "outputs": [],
   "source": [
    "actual_labels = np.array([ 1.,  1.,  1.,  1.,  1.,  0.,  0.,  0.,  0.,  0.])\n",
    "correct_confident = np.array([ 0.95,  0.95,  0.95,  0.95,  0.95,  0.05,  0.05,  0.05,  0.05,  0.05])\n",
    "correct_not_confident = np.array([ 0.65,  0.65,  0.65,  0.65,  0.65,  0.35,  0.35,  0.35,  0.35,  0.35])\n",
    "wrong_not_confident = np.array([ 0.35,  0.35,  0.35,  0.35,  0.35,  0.65,  0.65,  0.65,  0.65,  0.65])\n",
    "wrong_confident = np.array([ 0.05,  0.05,  0.05,  0.05,  0.05,  0.95,  0.95,  0.95,  0.95,  0.95])"
   ]
  },
  {
   "cell_type": "code",
   "execution_count": 20,
   "metadata": {},
   "outputs": [
    {
     "name": "stdout",
     "output_type": "stream",
     "text": [
      "Log loss, correct and confident: 0.05129329438755058\n"
     ]
    }
   ],
   "source": [
    "# Compute and print log loss for 1st case\n",
    "correct_confident = compute_log_loss(correct_confident, actual_labels)\n",
    "print(\"Log loss, correct and confident: {}\".format(correct_confident)) "
   ]
  },
  {
   "cell_type": "code",
   "execution_count": 21,
   "metadata": {},
   "outputs": [
    {
     "name": "stdout",
     "output_type": "stream",
     "text": [
      "Log loss, correct and not confident: 0.4307829160924542\n"
     ]
    }
   ],
   "source": [
    "# Compute log loss for 2nd case\n",
    "correct_not_confident = compute_log_loss(correct_not_confident, actual_labels)\n",
    "print(\"Log loss, correct and not confident: {}\".format(correct_not_confident)) "
   ]
  },
  {
   "cell_type": "code",
   "execution_count": 22,
   "metadata": {},
   "outputs": [
    {
     "name": "stdout",
     "output_type": "stream",
     "text": [
      "Log loss, wrong and not confident: 1.049822124498678\n"
     ]
    }
   ],
   "source": [
    "# Compute and print log loss for 3rd case\n",
    "wrong_not_confident = compute_log_loss(wrong_not_confident, actual_labels)\n",
    "print(\"Log loss, wrong and not confident: {}\".format(wrong_not_confident)) "
   ]
  },
  {
   "cell_type": "code",
   "execution_count": 23,
   "metadata": {},
   "outputs": [
    {
     "name": "stdout",
     "output_type": "stream",
     "text": [
      "Log loss, wrong and confident: 2.9957322735539904\n"
     ]
    }
   ],
   "source": [
    "# Compute and print log loss for 4th case\n",
    "wrong_confident = compute_log_loss(wrong_confident, actual_labels)\n",
    "print(\"Log loss, wrong and confident: {}\".format(wrong_confident)) "
   ]
  },
  {
   "cell_type": "code",
   "execution_count": 24,
   "metadata": {},
   "outputs": [
    {
     "name": "stdout",
     "output_type": "stream",
     "text": [
      "Log loss, actual labels: 9.99200722162646e-15\n"
     ]
    }
   ],
   "source": [
    "# Compute and print log loss for actual labels\n",
    "actual_labels = compute_log_loss(actual_labels, actual_labels)\n",
    "print(\"Log loss, actual labels: {}\".format(actual_labels)) "
   ]
  },
  {
   "cell_type": "markdown",
   "metadata": {},
   "source": [
    "# Creating a simple first model"
   ]
  },
  {
   "cell_type": "markdown",
   "metadata": {},
   "source": [
    "## It's time to build a model"
   ]
  },
  {
   "cell_type": "markdown",
   "metadata": {
    "collapsed": true
   },
   "source": [
    "#### It's time to build a model\n",
    "- Always a good appraoch to start with a very simple mondel\n",
    "- Gives a sense of how challenging the problem is\n",
    "- Many more things can go wrong in complex models\n",
    "- How much signal can we pull out using basic methods?\n",
    "- Train basic model on numeric data only\n",
    " - Want to go from raw data to predictions only\n",
    "- Multi-class logistic regression\n",
    " - Train classifier on each label separately and use those to predict\n",
    "- Format predictions and save to csv\n",
    "- Compute log loss score"
   ]
  },
  {
   "cell_type": "markdown",
   "metadata": {},
   "source": [
    "#### Splitting the multi-class dataset\n",
    "- Recall: Train-test split\n",
    " - Will not work here\n",
    " - Some of the labels are rare\n",
    " - May end up with labels in test set that never appear in training set\n",
    "- Solution: StratifiedShuffleSplit\n",
    " - But only works with a single target variable\n",
    " - We have many target variables\n",
    " - `multilabel_train_test_split()` function will be provided for use to split properly"
   ]
  },
  {
   "cell_type": "markdown",
   "metadata": {},
   "source": [
    "#### Training the model\n",
    "- One vs Rest Classifier:\n",
    " - Treats each column of y independently\n",
    " - Fits a separate classifier for each of the columns"
   ]
  },
  {
   "cell_type": "markdown",
   "metadata": {},
   "source": [
    "#### Multilabel train test split\n",
    "- This function will ensue that atleast `min_count` examples of each label appear in each split\n",
    "- This is provided by Peter Bull, the instructor, [here](https://github.com/drivendataorg/box-plots-sklearn/blob/master/src/data/multilabel.py)"
   ]
  },
  {
   "cell_type": "code",
   "execution_count": 25,
   "metadata": {
    "collapsed": true
   },
   "outputs": [],
   "source": [
    "def multilabel_sample(y, size=1000, min_count=5, seed=None):\n",
    "    \"\"\" Takes a matrix of binary labels `y` and returns\n",
    "        the indices for a sample of size `size` if\n",
    "        `size` > 1 or `size` * len(y) if size =< 1.\n",
    "        The sample is guaranteed to have > `min_count` of\n",
    "        each label.\n",
    "    \"\"\"\n",
    "    try:\n",
    "        if (np.unique(y).astype(int) != np.array([0, 1])).all():\n",
    "            raise ValueError()\n",
    "    except (TypeError, ValueError):\n",
    "        raise ValueError('multilabel_sample only works with binary indicator matrices')\n",
    "\n",
    "    if (y.sum(axis=0) < min_count).any():\n",
    "        raise ValueError('Some classes do not have enough examples. Change min_count if necessary.')\n",
    "\n",
    "    if size <= 1:\n",
    "        size = np.floor(y.shape[0] * size)\n",
    "\n",
    "    if y.shape[1] * min_count > size:\n",
    "        msg = \"Size less than number of columns * min_count, returning {} items instead of {}.\"\n",
    "        warn(msg.format(y.shape[1] * min_count, size))\n",
    "        size = y.shape[1] * min_count\n",
    "\n",
    "    rng = np.random.RandomState(seed if seed is not None else np.random.randint(1))\n",
    "\n",
    "    if isinstance(y, pd.DataFrame):\n",
    "        choices = y.index\n",
    "        y = y.values\n",
    "    else:\n",
    "        choices = np.arange(y.shape[0])\n",
    "\n",
    "    sample_idxs = np.array([], dtype=choices.dtype)\n",
    "\n",
    "    # first, guarantee > min_count of each label\n",
    "    for j in range(y.shape[1]):\n",
    "        label_choices = choices[y[:, j] == 1]\n",
    "        label_idxs_sampled = rng.choice(label_choices, size=min_count, replace=False)\n",
    "        sample_idxs = np.concatenate([label_idxs_sampled, sample_idxs])\n",
    "\n",
    "    sample_idxs = np.unique(sample_idxs)\n",
    "\n",
    "    # now that we have at least min_count of each, we can just random sample\n",
    "    sample_count = int(size - sample_idxs.shape[0])\n",
    "\n",
    "    # get sample_count indices from remaining choices\n",
    "    remaining_choices = np.setdiff1d(choices, sample_idxs)\n",
    "    remaining_sampled = rng.choice(remaining_choices,\n",
    "                                   size=sample_count,\n",
    "                                   replace=False)\n",
    "\n",
    "    return np.concatenate([sample_idxs, remaining_sampled])\n",
    "\n",
    "\n",
    "def multilabel_sample_dataframe(df, labels, size, min_count=5, seed=None):\n",
    "    \"\"\" Takes a dataframe `df` and returns a sample of size `size` where all\n",
    "        classes in the binary matrix `labels` are represented at\n",
    "        least `min_count` times.\n",
    "    \"\"\"\n",
    "    idxs = multilabel_sample(labels, size=size, min_count=min_count, seed=seed)\n",
    "    return df.loc[idxs]\n",
    "\n",
    "\n",
    "def multilabel_train_test_split(X, Y, size, min_count=5, seed=None):\n",
    "    \"\"\" Takes a features matrix `X` and a label matrix `Y` and\n",
    "        returns (X_train, X_test, Y_train, Y_test) where all\n",
    "        classes in Y are represented at least `min_count` times.\n",
    "    \"\"\"\n",
    "    index = Y.index if isinstance(Y, pd.DataFrame) else np.arange(Y.shape[0])\n",
    "\n",
    "    test_set_idxs = multilabel_sample(Y, size=size, min_count=min_count, seed=seed)\n",
    "    train_set_idxs = np.setdiff1d(index, test_set_idxs)\n",
    "\n",
    "    test_set_mask = index.isin(test_set_idxs)\n",
    "    train_set_mask = ~test_set_mask\n",
    "\n",
    "    return (X[train_set_mask], X[test_set_mask], Y[train_set_mask], Y[test_set_mask])"
   ]
  },
  {
   "cell_type": "markdown",
   "metadata": {},
   "source": [
    "### Setting up a train-test split in scikit-learn"
   ]
  },
  {
   "cell_type": "code",
   "execution_count": 103,
   "metadata": {
    "collapsed": true
   },
   "outputs": [],
   "source": [
    "numeric_columns = ['FTE', 'Total']"
   ]
  },
  {
   "cell_type": "code",
   "execution_count": 104,
   "metadata": {},
   "outputs": [
    {
     "data": {
      "text/html": [
       "<div>\n",
       "<style>\n",
       "    .dataframe thead tr:only-child th {\n",
       "        text-align: right;\n",
       "    }\n",
       "\n",
       "    .dataframe thead th {\n",
       "        text-align: left;\n",
       "    }\n",
       "\n",
       "    .dataframe tbody tr th {\n",
       "        vertical-align: top;\n",
       "    }\n",
       "</style>\n",
       "<table border=\"1\" class=\"dataframe\">\n",
       "  <thead>\n",
       "    <tr style=\"text-align: right;\">\n",
       "      <th></th>\n",
       "      <th>FTE</th>\n",
       "      <th>Total</th>\n",
       "    </tr>\n",
       "  </thead>\n",
       "  <tbody>\n",
       "    <tr>\n",
       "      <th>134338</th>\n",
       "      <td>1.0</td>\n",
       "      <td>50471.810</td>\n",
       "    </tr>\n",
       "    <tr>\n",
       "      <th>206341</th>\n",
       "      <td>-1000.0</td>\n",
       "      <td>3477.860</td>\n",
       "    </tr>\n",
       "    <tr>\n",
       "      <th>326408</th>\n",
       "      <td>1.0</td>\n",
       "      <td>62237.130</td>\n",
       "    </tr>\n",
       "    <tr>\n",
       "      <th>364634</th>\n",
       "      <td>-1000.0</td>\n",
       "      <td>22.300</td>\n",
       "    </tr>\n",
       "    <tr>\n",
       "      <th>47683</th>\n",
       "      <td>-1000.0</td>\n",
       "      <td>54.166</td>\n",
       "    </tr>\n",
       "  </tbody>\n",
       "</table>\n",
       "</div>"
      ],
      "text/plain": [
       "           FTE      Total\n",
       "134338     1.0  50471.810\n",
       "206341 -1000.0   3477.860\n",
       "326408     1.0  62237.130\n",
       "364634 -1000.0     22.300\n",
       "47683  -1000.0     54.166"
      ]
     },
     "execution_count": 104,
     "metadata": {},
     "output_type": "execute_result"
    }
   ],
   "source": [
    "# Create the new DataFrame: numeric_data_only\n",
    "numeric_data_only = df[numeric_columns].fillna(-1000)\n",
    "\n",
    "numeric_data_only.head()"
   ]
  },
  {
   "cell_type": "code",
   "execution_count": 105,
   "metadata": {},
   "outputs": [
    {
     "data": {
      "text/html": [
       "<div>\n",
       "<style>\n",
       "    .dataframe thead tr:only-child th {\n",
       "        text-align: right;\n",
       "    }\n",
       "\n",
       "    .dataframe thead th {\n",
       "        text-align: left;\n",
       "    }\n",
       "\n",
       "    .dataframe tbody tr th {\n",
       "        vertical-align: top;\n",
       "    }\n",
       "</style>\n",
       "<table border=\"1\" class=\"dataframe\">\n",
       "  <thead>\n",
       "    <tr style=\"text-align: right;\">\n",
       "      <th></th>\n",
       "      <th>Function_Aides Compensation</th>\n",
       "      <th>Function_Career &amp; Academic Counseling</th>\n",
       "      <th>Function_Communications</th>\n",
       "      <th>Function_Curriculum Development</th>\n",
       "      <th>Function_Data Processing &amp; Information Services</th>\n",
       "      <th>Function_Development &amp; Fundraising</th>\n",
       "      <th>Function_Enrichment</th>\n",
       "      <th>Function_Extended Time &amp; Tutoring</th>\n",
       "      <th>Function_Facilities &amp; Maintenance</th>\n",
       "      <th>Function_Facilities Planning</th>\n",
       "      <th>...</th>\n",
       "      <th>Object_Type_Rent/Utilities</th>\n",
       "      <th>Object_Type_Substitute Compensation</th>\n",
       "      <th>Object_Type_Supplies/Materials</th>\n",
       "      <th>Object_Type_Travel &amp; Conferences</th>\n",
       "      <th>Pre_K_NO_LABEL</th>\n",
       "      <th>Pre_K_Non PreK</th>\n",
       "      <th>Pre_K_PreK</th>\n",
       "      <th>Operating_Status_Non-Operating</th>\n",
       "      <th>Operating_Status_Operating, Not PreK-12</th>\n",
       "      <th>Operating_Status_PreK-12 Operating</th>\n",
       "    </tr>\n",
       "  </thead>\n",
       "  <tbody>\n",
       "    <tr>\n",
       "      <th>134338</th>\n",
       "      <td>0</td>\n",
       "      <td>0</td>\n",
       "      <td>0</td>\n",
       "      <td>0</td>\n",
       "      <td>0</td>\n",
       "      <td>0</td>\n",
       "      <td>0</td>\n",
       "      <td>0</td>\n",
       "      <td>0</td>\n",
       "      <td>0</td>\n",
       "      <td>...</td>\n",
       "      <td>0</td>\n",
       "      <td>0</td>\n",
       "      <td>0</td>\n",
       "      <td>0</td>\n",
       "      <td>1</td>\n",
       "      <td>0</td>\n",
       "      <td>0</td>\n",
       "      <td>0</td>\n",
       "      <td>0</td>\n",
       "      <td>1</td>\n",
       "    </tr>\n",
       "    <tr>\n",
       "      <th>206341</th>\n",
       "      <td>0</td>\n",
       "      <td>0</td>\n",
       "      <td>0</td>\n",
       "      <td>0</td>\n",
       "      <td>0</td>\n",
       "      <td>0</td>\n",
       "      <td>0</td>\n",
       "      <td>0</td>\n",
       "      <td>0</td>\n",
       "      <td>0</td>\n",
       "      <td>...</td>\n",
       "      <td>0</td>\n",
       "      <td>0</td>\n",
       "      <td>0</td>\n",
       "      <td>0</td>\n",
       "      <td>1</td>\n",
       "      <td>0</td>\n",
       "      <td>0</td>\n",
       "      <td>1</td>\n",
       "      <td>0</td>\n",
       "      <td>0</td>\n",
       "    </tr>\n",
       "    <tr>\n",
       "      <th>326408</th>\n",
       "      <td>0</td>\n",
       "      <td>0</td>\n",
       "      <td>0</td>\n",
       "      <td>0</td>\n",
       "      <td>0</td>\n",
       "      <td>0</td>\n",
       "      <td>0</td>\n",
       "      <td>0</td>\n",
       "      <td>0</td>\n",
       "      <td>0</td>\n",
       "      <td>...</td>\n",
       "      <td>0</td>\n",
       "      <td>0</td>\n",
       "      <td>0</td>\n",
       "      <td>0</td>\n",
       "      <td>0</td>\n",
       "      <td>1</td>\n",
       "      <td>0</td>\n",
       "      <td>0</td>\n",
       "      <td>0</td>\n",
       "      <td>1</td>\n",
       "    </tr>\n",
       "    <tr>\n",
       "      <th>364634</th>\n",
       "      <td>0</td>\n",
       "      <td>0</td>\n",
       "      <td>0</td>\n",
       "      <td>0</td>\n",
       "      <td>0</td>\n",
       "      <td>0</td>\n",
       "      <td>0</td>\n",
       "      <td>0</td>\n",
       "      <td>0</td>\n",
       "      <td>0</td>\n",
       "      <td>...</td>\n",
       "      <td>0</td>\n",
       "      <td>0</td>\n",
       "      <td>0</td>\n",
       "      <td>0</td>\n",
       "      <td>1</td>\n",
       "      <td>0</td>\n",
       "      <td>0</td>\n",
       "      <td>0</td>\n",
       "      <td>0</td>\n",
       "      <td>1</td>\n",
       "    </tr>\n",
       "    <tr>\n",
       "      <th>47683</th>\n",
       "      <td>0</td>\n",
       "      <td>0</td>\n",
       "      <td>0</td>\n",
       "      <td>0</td>\n",
       "      <td>0</td>\n",
       "      <td>0</td>\n",
       "      <td>0</td>\n",
       "      <td>0</td>\n",
       "      <td>0</td>\n",
       "      <td>0</td>\n",
       "      <td>...</td>\n",
       "      <td>0</td>\n",
       "      <td>1</td>\n",
       "      <td>0</td>\n",
       "      <td>0</td>\n",
       "      <td>1</td>\n",
       "      <td>0</td>\n",
       "      <td>0</td>\n",
       "      <td>0</td>\n",
       "      <td>0</td>\n",
       "      <td>1</td>\n",
       "    </tr>\n",
       "  </tbody>\n",
       "</table>\n",
       "<p>5 rows × 104 columns</p>\n",
       "</div>"
      ],
      "text/plain": [
       "        Function_Aides Compensation  Function_Career & Academic Counseling  \\\n",
       "134338                            0                                      0   \n",
       "206341                            0                                      0   \n",
       "326408                            0                                      0   \n",
       "364634                            0                                      0   \n",
       "47683                             0                                      0   \n",
       "\n",
       "        Function_Communications  Function_Curriculum Development  \\\n",
       "134338                        0                                0   \n",
       "206341                        0                                0   \n",
       "326408                        0                                0   \n",
       "364634                        0                                0   \n",
       "47683                         0                                0   \n",
       "\n",
       "        Function_Data Processing & Information Services  \\\n",
       "134338                                                0   \n",
       "206341                                                0   \n",
       "326408                                                0   \n",
       "364634                                                0   \n",
       "47683                                                 0   \n",
       "\n",
       "        Function_Development & Fundraising  Function_Enrichment  \\\n",
       "134338                                   0                    0   \n",
       "206341                                   0                    0   \n",
       "326408                                   0                    0   \n",
       "364634                                   0                    0   \n",
       "47683                                    0                    0   \n",
       "\n",
       "        Function_Extended Time & Tutoring  Function_Facilities & Maintenance  \\\n",
       "134338                                  0                                  0   \n",
       "206341                                  0                                  0   \n",
       "326408                                  0                                  0   \n",
       "364634                                  0                                  0   \n",
       "47683                                   0                                  0   \n",
       "\n",
       "        Function_Facilities Planning                 ...                  \\\n",
       "134338                             0                 ...                   \n",
       "206341                             0                 ...                   \n",
       "326408                             0                 ...                   \n",
       "364634                             0                 ...                   \n",
       "47683                              0                 ...                   \n",
       "\n",
       "        Object_Type_Rent/Utilities  Object_Type_Substitute Compensation  \\\n",
       "134338                           0                                    0   \n",
       "206341                           0                                    0   \n",
       "326408                           0                                    0   \n",
       "364634                           0                                    0   \n",
       "47683                            0                                    1   \n",
       "\n",
       "        Object_Type_Supplies/Materials  Object_Type_Travel & Conferences  \\\n",
       "134338                               0                                 0   \n",
       "206341                               0                                 0   \n",
       "326408                               0                                 0   \n",
       "364634                               0                                 0   \n",
       "47683                                0                                 0   \n",
       "\n",
       "        Pre_K_NO_LABEL  Pre_K_Non PreK  Pre_K_PreK  \\\n",
       "134338               1               0           0   \n",
       "206341               1               0           0   \n",
       "326408               0               1           0   \n",
       "364634               1               0           0   \n",
       "47683                1               0           0   \n",
       "\n",
       "        Operating_Status_Non-Operating  \\\n",
       "134338                               0   \n",
       "206341                               1   \n",
       "326408                               0   \n",
       "364634                               0   \n",
       "47683                                0   \n",
       "\n",
       "        Operating_Status_Operating, Not PreK-12  \\\n",
       "134338                                        0   \n",
       "206341                                        0   \n",
       "326408                                        0   \n",
       "364634                                        0   \n",
       "47683                                         0   \n",
       "\n",
       "        Operating_Status_PreK-12 Operating  \n",
       "134338                                   1  \n",
       "206341                                   0  \n",
       "326408                                   1  \n",
       "364634                                   1  \n",
       "47683                                    1  \n",
       "\n",
       "[5 rows x 104 columns]"
      ]
     },
     "execution_count": 105,
     "metadata": {},
     "output_type": "execute_result"
    }
   ],
   "source": [
    "# Get labels and convert to dummy variables: label_dummies\n",
    "label_dummies = pd.get_dummies(df[labels])\n",
    "\n",
    "label_dummies.head()"
   ]
  },
  {
   "cell_type": "code",
   "execution_count": 106,
   "metadata": {},
   "outputs": [
    {
     "name": "stdout",
     "output_type": "stream",
     "text": [
      "X_train info:\n",
      "<class 'pandas.core.frame.DataFrame'>\n",
      "Int64Index: 320222 entries, 134338 to 415831\n",
      "Data columns (total 2 columns):\n",
      "FTE      320222 non-null float64\n",
      "Total    320222 non-null float64\n",
      "dtypes: float64(2)\n",
      "memory usage: 7.3 MB\n",
      "None\n",
      "\n",
      "X_test info:\n",
      "<class 'pandas.core.frame.DataFrame'>\n",
      "Int64Index: 80055 entries, 206341 to 72072\n",
      "Data columns (total 2 columns):\n",
      "FTE      80055 non-null float64\n",
      "Total    80055 non-null float64\n",
      "dtypes: float64(2)\n",
      "memory usage: 1.8 MB\n",
      "None\n",
      "\n",
      "y_train info:\n",
      "<class 'pandas.core.frame.DataFrame'>\n",
      "Int64Index: 320222 entries, 134338 to 415831\n",
      "Columns: 104 entries, Function_Aides Compensation to Operating_Status_PreK-12 Operating\n",
      "dtypes: uint8(104)\n",
      "memory usage: 34.2 MB\n",
      "None\n",
      "\n",
      "y_test info:\n",
      "<class 'pandas.core.frame.DataFrame'>\n",
      "Int64Index: 80055 entries, 206341 to 72072\n",
      "Columns: 104 entries, Function_Aides Compensation to Operating_Status_PreK-12 Operating\n",
      "dtypes: uint8(104)\n",
      "memory usage: 8.6 MB\n",
      "None\n"
     ]
    }
   ],
   "source": [
    "# Create training and test sets\n",
    "X_train, X_test, y_train, y_test = multilabel_train_test_split(\n",
    "    numeric_data_only, label_dummies,\n",
    "    size=0.2, \n",
    "    seed=123)\n",
    "\n",
    "# Print the info\n",
    "print(\"X_train info:\")\n",
    "print(X_train.info())\n",
    "print(\"\\nX_test info:\")  \n",
    "print(X_test.info())\n",
    "print(\"\\ny_train info:\")  \n",
    "print(y_train.info())\n",
    "print(\"\\ny_test info:\")  \n",
    "print(y_test.info()) "
   ]
  },
  {
   "cell_type": "markdown",
   "metadata": {},
   "source": [
    "### Training a model"
   ]
  },
  {
   "cell_type": "code",
   "execution_count": 107,
   "metadata": {},
   "outputs": [
    {
     "data": {
      "text/plain": [
       "OneVsRestClassifier(estimator=LogisticRegression(C=1.0, class_weight=None, dual=False, fit_intercept=True,\n",
       "          intercept_scaling=1, max_iter=100, multi_class='ovr', n_jobs=1,\n",
       "          penalty='l2', random_state=None, solver='liblinear', tol=0.0001,\n",
       "          verbose=0, warm_start=False),\n",
       "          n_jobs=1)"
      ]
     },
     "execution_count": 107,
     "metadata": {},
     "output_type": "execute_result"
    }
   ],
   "source": [
    "# Import classifiers\n",
    "from sklearn.linear_model import LogisticRegression\n",
    "from sklearn.multiclass import OneVsRestClassifier\n",
    "\n",
    "# Instantiate the classifier: clf\n",
    "clf = OneVsRestClassifier(LogisticRegression())\n",
    "\n",
    "# Fit the classifier to the training data\n",
    "clf.fit(X_train, y_train)"
   ]
  },
  {
   "cell_type": "code",
   "execution_count": 108,
   "metadata": {},
   "outputs": [
    {
     "name": "stdout",
     "output_type": "stream",
     "text": [
      "Accuracy: 0.0\n"
     ]
    }
   ],
   "source": [
    "# Print the accuracy\n",
    "print(\"Accuracy: {}\".format(clf.score(X_test, y_test)))"
   ]
  },
  {
   "cell_type": "markdown",
   "metadata": {},
   "source": [
    "#### Let me use the log loss scoring"
   ]
  },
  {
   "cell_type": "code",
   "execution_count": 117,
   "metadata": {},
   "outputs": [
    {
     "name": "stderr",
     "output_type": "stream",
     "text": [
      "/Users/williamsurles/anaconda3/envs/python_datacamp/lib/python3.6/site-packages/sklearn/linear_model/base.py:340: RuntimeWarning: overflow encountered in exp\n",
      "  np.exp(prob, prob)\n"
     ]
    },
    {
     "data": {
      "text/html": [
       "<div>\n",
       "<style>\n",
       "    .dataframe thead tr:only-child th {\n",
       "        text-align: right;\n",
       "    }\n",
       "\n",
       "    .dataframe thead th {\n",
       "        text-align: left;\n",
       "    }\n",
       "\n",
       "    .dataframe tbody tr th {\n",
       "        vertical-align: top;\n",
       "    }\n",
       "</style>\n",
       "<table border=\"1\" class=\"dataframe\">\n",
       "  <thead>\n",
       "    <tr style=\"text-align: right;\">\n",
       "      <th></th>\n",
       "      <th>Function_Aides Compensation</th>\n",
       "      <th>Function_Career &amp; Academic Counseling</th>\n",
       "      <th>Function_Communications</th>\n",
       "      <th>Function_Curriculum Development</th>\n",
       "      <th>Function_Data Processing &amp; Information Services</th>\n",
       "      <th>Function_Development &amp; Fundraising</th>\n",
       "      <th>Function_Enrichment</th>\n",
       "      <th>Function_Extended Time &amp; Tutoring</th>\n",
       "      <th>Function_Facilities &amp; Maintenance</th>\n",
       "      <th>Function_Facilities Planning</th>\n",
       "      <th>...</th>\n",
       "      <th>Object_Type_Rent/Utilities</th>\n",
       "      <th>Object_Type_Substitute Compensation</th>\n",
       "      <th>Object_Type_Supplies/Materials</th>\n",
       "      <th>Object_Type_Travel &amp; Conferences</th>\n",
       "      <th>Pre_K_NO_LABEL</th>\n",
       "      <th>Pre_K_Non PreK</th>\n",
       "      <th>Pre_K_PreK</th>\n",
       "      <th>Operating_Status_Non-Operating</th>\n",
       "      <th>Operating_Status_Operating, Not PreK-12</th>\n",
       "      <th>Operating_Status_PreK-12 Operating</th>\n",
       "    </tr>\n",
       "  </thead>\n",
       "  <tbody>\n",
       "    <tr>\n",
       "      <th>206341</th>\n",
       "      <td>0.035848</td>\n",
       "      <td>0.006466</td>\n",
       "      <td>0.000830</td>\n",
       "      <td>0.023919</td>\n",
       "      <td>0.008916</td>\n",
       "      <td>0.000221</td>\n",
       "      <td>0.032078</td>\n",
       "      <td>0.024406</td>\n",
       "      <td>0.052102</td>\n",
       "      <td>0.000048</td>\n",
       "      <td>...</td>\n",
       "      <td>0.010728</td>\n",
       "      <td>0.036952</td>\n",
       "      <td>0.116162</td>\n",
       "      <td>0.017361</td>\n",
       "      <td>0.831233</td>\n",
       "      <td>0.141041</td>\n",
       "      <td>0.027751</td>\n",
       "      <td>0.169607</td>\n",
       "      <td>0.019930</td>\n",
       "      <td>0.810552</td>\n",
       "    </tr>\n",
       "    <tr>\n",
       "      <th>275539</th>\n",
       "      <td>0.035883</td>\n",
       "      <td>0.006465</td>\n",
       "      <td>0.000830</td>\n",
       "      <td>0.023923</td>\n",
       "      <td>0.008915</td>\n",
       "      <td>0.000221</td>\n",
       "      <td>0.032085</td>\n",
       "      <td>0.024410</td>\n",
       "      <td>0.052119</td>\n",
       "      <td>0.000048</td>\n",
       "      <td>...</td>\n",
       "      <td>0.010726</td>\n",
       "      <td>0.037619</td>\n",
       "      <td>0.116387</td>\n",
       "      <td>0.017363</td>\n",
       "      <td>0.831181</td>\n",
       "      <td>0.141101</td>\n",
       "      <td>0.027762</td>\n",
       "      <td>0.169575</td>\n",
       "      <td>0.019932</td>\n",
       "      <td>0.810608</td>\n",
       "    </tr>\n",
       "    <tr>\n",
       "      <th>330504</th>\n",
       "      <td>0.035886</td>\n",
       "      <td>0.006465</td>\n",
       "      <td>0.000830</td>\n",
       "      <td>0.023923</td>\n",
       "      <td>0.008915</td>\n",
       "      <td>0.000221</td>\n",
       "      <td>0.032085</td>\n",
       "      <td>0.024411</td>\n",
       "      <td>0.052120</td>\n",
       "      <td>0.000048</td>\n",
       "      <td>...</td>\n",
       "      <td>0.010726</td>\n",
       "      <td>0.037663</td>\n",
       "      <td>0.116402</td>\n",
       "      <td>0.017364</td>\n",
       "      <td>0.831177</td>\n",
       "      <td>0.141105</td>\n",
       "      <td>0.027763</td>\n",
       "      <td>0.169573</td>\n",
       "      <td>0.019932</td>\n",
       "      <td>0.810612</td>\n",
       "    </tr>\n",
       "    <tr>\n",
       "      <th>18698</th>\n",
       "      <td>0.035885</td>\n",
       "      <td>0.006465</td>\n",
       "      <td>0.000830</td>\n",
       "      <td>0.023923</td>\n",
       "      <td>0.008915</td>\n",
       "      <td>0.000221</td>\n",
       "      <td>0.032085</td>\n",
       "      <td>0.024410</td>\n",
       "      <td>0.052120</td>\n",
       "      <td>0.000048</td>\n",
       "      <td>...</td>\n",
       "      <td>0.010726</td>\n",
       "      <td>0.037647</td>\n",
       "      <td>0.116397</td>\n",
       "      <td>0.017364</td>\n",
       "      <td>0.831178</td>\n",
       "      <td>0.141103</td>\n",
       "      <td>0.027763</td>\n",
       "      <td>0.169574</td>\n",
       "      <td>0.019932</td>\n",
       "      <td>0.810610</td>\n",
       "    </tr>\n",
       "    <tr>\n",
       "      <th>291539</th>\n",
       "      <td>0.122566</td>\n",
       "      <td>0.009044</td>\n",
       "      <td>0.001524</td>\n",
       "      <td>0.028673</td>\n",
       "      <td>0.016024</td>\n",
       "      <td>0.017081</td>\n",
       "      <td>0.043998</td>\n",
       "      <td>0.031789</td>\n",
       "      <td>0.114389</td>\n",
       "      <td>0.017294</td>\n",
       "      <td>...</td>\n",
       "      <td>0.005603</td>\n",
       "      <td>0.175223</td>\n",
       "      <td>0.139555</td>\n",
       "      <td>0.016081</td>\n",
       "      <td>0.500542</td>\n",
       "      <td>0.473756</td>\n",
       "      <td>0.099110</td>\n",
       "      <td>0.095647</td>\n",
       "      <td>0.051075</td>\n",
       "      <td>0.928649</td>\n",
       "    </tr>\n",
       "  </tbody>\n",
       "</table>\n",
       "<p>5 rows × 104 columns</p>\n",
       "</div>"
      ],
      "text/plain": [
       "        Function_Aides Compensation  Function_Career & Academic Counseling  \\\n",
       "206341                     0.035848                               0.006466   \n",
       "275539                     0.035883                               0.006465   \n",
       "330504                     0.035886                               0.006465   \n",
       "18698                      0.035885                               0.006465   \n",
       "291539                     0.122566                               0.009044   \n",
       "\n",
       "        Function_Communications  Function_Curriculum Development  \\\n",
       "206341                 0.000830                         0.023919   \n",
       "275539                 0.000830                         0.023923   \n",
       "330504                 0.000830                         0.023923   \n",
       "18698                  0.000830                         0.023923   \n",
       "291539                 0.001524                         0.028673   \n",
       "\n",
       "        Function_Data Processing & Information Services  \\\n",
       "206341                                         0.008916   \n",
       "275539                                         0.008915   \n",
       "330504                                         0.008915   \n",
       "18698                                          0.008915   \n",
       "291539                                         0.016024   \n",
       "\n",
       "        Function_Development & Fundraising  Function_Enrichment  \\\n",
       "206341                            0.000221             0.032078   \n",
       "275539                            0.000221             0.032085   \n",
       "330504                            0.000221             0.032085   \n",
       "18698                             0.000221             0.032085   \n",
       "291539                            0.017081             0.043998   \n",
       "\n",
       "        Function_Extended Time & Tutoring  Function_Facilities & Maintenance  \\\n",
       "206341                           0.024406                           0.052102   \n",
       "275539                           0.024410                           0.052119   \n",
       "330504                           0.024411                           0.052120   \n",
       "18698                            0.024410                           0.052120   \n",
       "291539                           0.031789                           0.114389   \n",
       "\n",
       "        Function_Facilities Planning                 ...                  \\\n",
       "206341                      0.000048                 ...                   \n",
       "275539                      0.000048                 ...                   \n",
       "330504                      0.000048                 ...                   \n",
       "18698                       0.000048                 ...                   \n",
       "291539                      0.017294                 ...                   \n",
       "\n",
       "        Object_Type_Rent/Utilities  Object_Type_Substitute Compensation  \\\n",
       "206341                    0.010728                             0.036952   \n",
       "275539                    0.010726                             0.037619   \n",
       "330504                    0.010726                             0.037663   \n",
       "18698                     0.010726                             0.037647   \n",
       "291539                    0.005603                             0.175223   \n",
       "\n",
       "        Object_Type_Supplies/Materials  Object_Type_Travel & Conferences  \\\n",
       "206341                        0.116162                          0.017361   \n",
       "275539                        0.116387                          0.017363   \n",
       "330504                        0.116402                          0.017364   \n",
       "18698                         0.116397                          0.017364   \n",
       "291539                        0.139555                          0.016081   \n",
       "\n",
       "        Pre_K_NO_LABEL  Pre_K_Non PreK  Pre_K_PreK  \\\n",
       "206341        0.831233        0.141041    0.027751   \n",
       "275539        0.831181        0.141101    0.027762   \n",
       "330504        0.831177        0.141105    0.027763   \n",
       "18698         0.831178        0.141103    0.027763   \n",
       "291539        0.500542        0.473756    0.099110   \n",
       "\n",
       "        Operating_Status_Non-Operating  \\\n",
       "206341                        0.169607   \n",
       "275539                        0.169575   \n",
       "330504                        0.169573   \n",
       "18698                         0.169574   \n",
       "291539                        0.095647   \n",
       "\n",
       "        Operating_Status_Operating, Not PreK-12  \\\n",
       "206341                                 0.019930   \n",
       "275539                                 0.019932   \n",
       "330504                                 0.019932   \n",
       "18698                                  0.019932   \n",
       "291539                                 0.051075   \n",
       "\n",
       "        Operating_Status_PreK-12 Operating  \n",
       "206341                            0.810552  \n",
       "275539                            0.810608  \n",
       "330504                            0.810612  \n",
       "18698                             0.810610  \n",
       "291539                            0.928649  \n",
       "\n",
       "[5 rows x 104 columns]"
      ]
     },
     "execution_count": 117,
     "metadata": {},
     "output_type": "execute_result"
    }
   ],
   "source": [
    "test_predictions = pd.DataFrame(\n",
    "    data = clf.predict_proba(X_test[numeric_columns].fillna(-1000)),\n",
    "    columns = pd.get_dummies(df[labels]).columns,\n",
    "    index = y_test.index,)\n",
    "\n",
    "test_predictions.head()"
   ]
  },
  {
   "cell_type": "code",
   "execution_count": 118,
   "metadata": {},
   "outputs": [
    {
     "data": {
      "text/html": [
       "<div>\n",
       "<style>\n",
       "    .dataframe thead tr:only-child th {\n",
       "        text-align: right;\n",
       "    }\n",
       "\n",
       "    .dataframe thead th {\n",
       "        text-align: left;\n",
       "    }\n",
       "\n",
       "    .dataframe tbody tr th {\n",
       "        vertical-align: top;\n",
       "    }\n",
       "</style>\n",
       "<table border=\"1\" class=\"dataframe\">\n",
       "  <thead>\n",
       "    <tr style=\"text-align: right;\">\n",
       "      <th></th>\n",
       "      <th>Function_Aides Compensation</th>\n",
       "      <th>Function_Career &amp; Academic Counseling</th>\n",
       "      <th>Function_Communications</th>\n",
       "      <th>Function_Curriculum Development</th>\n",
       "      <th>Function_Data Processing &amp; Information Services</th>\n",
       "      <th>Function_Development &amp; Fundraising</th>\n",
       "      <th>Function_Enrichment</th>\n",
       "      <th>Function_Extended Time &amp; Tutoring</th>\n",
       "      <th>Function_Facilities &amp; Maintenance</th>\n",
       "      <th>Function_Facilities Planning</th>\n",
       "      <th>...</th>\n",
       "      <th>Object_Type_Rent/Utilities</th>\n",
       "      <th>Object_Type_Substitute Compensation</th>\n",
       "      <th>Object_Type_Supplies/Materials</th>\n",
       "      <th>Object_Type_Travel &amp; Conferences</th>\n",
       "      <th>Pre_K_NO_LABEL</th>\n",
       "      <th>Pre_K_Non PreK</th>\n",
       "      <th>Pre_K_PreK</th>\n",
       "      <th>Operating_Status_Non-Operating</th>\n",
       "      <th>Operating_Status_Operating, Not PreK-12</th>\n",
       "      <th>Operating_Status_PreK-12 Operating</th>\n",
       "    </tr>\n",
       "  </thead>\n",
       "  <tbody>\n",
       "    <tr>\n",
       "      <th>206341</th>\n",
       "      <td>0</td>\n",
       "      <td>0</td>\n",
       "      <td>0</td>\n",
       "      <td>0</td>\n",
       "      <td>0</td>\n",
       "      <td>0</td>\n",
       "      <td>0</td>\n",
       "      <td>0</td>\n",
       "      <td>0</td>\n",
       "      <td>0</td>\n",
       "      <td>...</td>\n",
       "      <td>0</td>\n",
       "      <td>0</td>\n",
       "      <td>0</td>\n",
       "      <td>0</td>\n",
       "      <td>1</td>\n",
       "      <td>0</td>\n",
       "      <td>0</td>\n",
       "      <td>1</td>\n",
       "      <td>0</td>\n",
       "      <td>0</td>\n",
       "    </tr>\n",
       "    <tr>\n",
       "      <th>275539</th>\n",
       "      <td>0</td>\n",
       "      <td>0</td>\n",
       "      <td>0</td>\n",
       "      <td>0</td>\n",
       "      <td>0</td>\n",
       "      <td>0</td>\n",
       "      <td>0</td>\n",
       "      <td>0</td>\n",
       "      <td>0</td>\n",
       "      <td>0</td>\n",
       "      <td>...</td>\n",
       "      <td>0</td>\n",
       "      <td>0</td>\n",
       "      <td>0</td>\n",
       "      <td>0</td>\n",
       "      <td>1</td>\n",
       "      <td>0</td>\n",
       "      <td>0</td>\n",
       "      <td>0</td>\n",
       "      <td>0</td>\n",
       "      <td>1</td>\n",
       "    </tr>\n",
       "    <tr>\n",
       "      <th>330504</th>\n",
       "      <td>0</td>\n",
       "      <td>0</td>\n",
       "      <td>0</td>\n",
       "      <td>0</td>\n",
       "      <td>0</td>\n",
       "      <td>0</td>\n",
       "      <td>0</td>\n",
       "      <td>0</td>\n",
       "      <td>0</td>\n",
       "      <td>0</td>\n",
       "      <td>...</td>\n",
       "      <td>0</td>\n",
       "      <td>0</td>\n",
       "      <td>1</td>\n",
       "      <td>0</td>\n",
       "      <td>1</td>\n",
       "      <td>0</td>\n",
       "      <td>0</td>\n",
       "      <td>0</td>\n",
       "      <td>0</td>\n",
       "      <td>1</td>\n",
       "    </tr>\n",
       "    <tr>\n",
       "      <th>18698</th>\n",
       "      <td>0</td>\n",
       "      <td>0</td>\n",
       "      <td>0</td>\n",
       "      <td>0</td>\n",
       "      <td>0</td>\n",
       "      <td>0</td>\n",
       "      <td>0</td>\n",
       "      <td>0</td>\n",
       "      <td>0</td>\n",
       "      <td>0</td>\n",
       "      <td>...</td>\n",
       "      <td>0</td>\n",
       "      <td>1</td>\n",
       "      <td>0</td>\n",
       "      <td>0</td>\n",
       "      <td>0</td>\n",
       "      <td>1</td>\n",
       "      <td>0</td>\n",
       "      <td>0</td>\n",
       "      <td>0</td>\n",
       "      <td>1</td>\n",
       "    </tr>\n",
       "    <tr>\n",
       "      <th>291539</th>\n",
       "      <td>0</td>\n",
       "      <td>0</td>\n",
       "      <td>0</td>\n",
       "      <td>0</td>\n",
       "      <td>0</td>\n",
       "      <td>0</td>\n",
       "      <td>0</td>\n",
       "      <td>0</td>\n",
       "      <td>0</td>\n",
       "      <td>0</td>\n",
       "      <td>...</td>\n",
       "      <td>0</td>\n",
       "      <td>0</td>\n",
       "      <td>0</td>\n",
       "      <td>0</td>\n",
       "      <td>1</td>\n",
       "      <td>0</td>\n",
       "      <td>0</td>\n",
       "      <td>0</td>\n",
       "      <td>0</td>\n",
       "      <td>1</td>\n",
       "    </tr>\n",
       "  </tbody>\n",
       "</table>\n",
       "<p>5 rows × 104 columns</p>\n",
       "</div>"
      ],
      "text/plain": [
       "        Function_Aides Compensation  Function_Career & Academic Counseling  \\\n",
       "206341                            0                                      0   \n",
       "275539                            0                                      0   \n",
       "330504                            0                                      0   \n",
       "18698                             0                                      0   \n",
       "291539                            0                                      0   \n",
       "\n",
       "        Function_Communications  Function_Curriculum Development  \\\n",
       "206341                        0                                0   \n",
       "275539                        0                                0   \n",
       "330504                        0                                0   \n",
       "18698                         0                                0   \n",
       "291539                        0                                0   \n",
       "\n",
       "        Function_Data Processing & Information Services  \\\n",
       "206341                                                0   \n",
       "275539                                                0   \n",
       "330504                                                0   \n",
       "18698                                                 0   \n",
       "291539                                                0   \n",
       "\n",
       "        Function_Development & Fundraising  Function_Enrichment  \\\n",
       "206341                                   0                    0   \n",
       "275539                                   0                    0   \n",
       "330504                                   0                    0   \n",
       "18698                                    0                    0   \n",
       "291539                                   0                    0   \n",
       "\n",
       "        Function_Extended Time & Tutoring  Function_Facilities & Maintenance  \\\n",
       "206341                                  0                                  0   \n",
       "275539                                  0                                  0   \n",
       "330504                                  0                                  0   \n",
       "18698                                   0                                  0   \n",
       "291539                                  0                                  0   \n",
       "\n",
       "        Function_Facilities Planning                 ...                  \\\n",
       "206341                             0                 ...                   \n",
       "275539                             0                 ...                   \n",
       "330504                             0                 ...                   \n",
       "18698                              0                 ...                   \n",
       "291539                             0                 ...                   \n",
       "\n",
       "        Object_Type_Rent/Utilities  Object_Type_Substitute Compensation  \\\n",
       "206341                           0                                    0   \n",
       "275539                           0                                    0   \n",
       "330504                           0                                    0   \n",
       "18698                            0                                    1   \n",
       "291539                           0                                    0   \n",
       "\n",
       "        Object_Type_Supplies/Materials  Object_Type_Travel & Conferences  \\\n",
       "206341                               0                                 0   \n",
       "275539                               0                                 0   \n",
       "330504                               1                                 0   \n",
       "18698                                0                                 0   \n",
       "291539                               0                                 0   \n",
       "\n",
       "        Pre_K_NO_LABEL  Pre_K_Non PreK  Pre_K_PreK  \\\n",
       "206341               1               0           0   \n",
       "275539               1               0           0   \n",
       "330504               1               0           0   \n",
       "18698                0               1           0   \n",
       "291539               1               0           0   \n",
       "\n",
       "        Operating_Status_Non-Operating  \\\n",
       "206341                               1   \n",
       "275539                               0   \n",
       "330504                               0   \n",
       "18698                                0   \n",
       "291539                               0   \n",
       "\n",
       "        Operating_Status_Operating, Not PreK-12  \\\n",
       "206341                                        0   \n",
       "275539                                        0   \n",
       "330504                                        0   \n",
       "18698                                         0   \n",
       "291539                                        0   \n",
       "\n",
       "        Operating_Status_PreK-12 Operating  \n",
       "206341                                   0  \n",
       "275539                                   1  \n",
       "330504                                   1  \n",
       "18698                                    1  \n",
       "291539                                   1  \n",
       "\n",
       "[5 rows x 104 columns]"
      ]
     },
     "execution_count": 118,
     "metadata": {},
     "output_type": "execute_result"
    }
   ],
   "source": [
    "y_test.head()"
   ]
  },
  {
   "cell_type": "code",
   "execution_count": 122,
   "metadata": {},
   "outputs": [
    {
     "data": {
      "text/plain": [
       "0.18192283047299601"
      ]
     },
     "execution_count": 122,
     "metadata": {},
     "output_type": "execute_result"
    }
   ],
   "source": [
    "# make sure that format is correct\n",
    "assert (test_predictions.columns == y_test.columns).all()\n",
    "assert (test_predictions.index == y_test.index).all()\n",
    "\n",
    "compute_log_loss(test_predictions.values, y_test.values)"
   ]
  },
  {
   "cell_type": "markdown",
   "metadata": {},
   "source": [
    "- Well that seems suprisingly good.\n",
    "- I can see how some of the labels are predicted correclty in just the top of the data frames\n",
    "- But the best score on the scoreboard of the competition is 0.3665\n",
    " - Something must be different there. I know its using data we don't have here. "
   ]
  },
  {
   "cell_type": "markdown",
   "metadata": {},
   "source": [
    "## Making predictions"
   ]
  },
  {
   "cell_type": "markdown",
   "metadata": {
    "collapsed": true
   },
   "source": [
    "#### Predicting on holdout data\n",
    "- If `.predict()` was used instead:\n",
    " - output would be 0 or 1\n",
    " - log loss penalizes being confident and wrong\n",
    " - worse performance compared to `.predict_proba()`\n",
    "- All formatting can be done with the pandas `to_csv` funciton"
   ]
  },
  {
   "cell_type": "markdown",
   "metadata": {},
   "source": [
    "### Use your model to predict values on holdout data"
   ]
  },
  {
   "cell_type": "markdown",
   "metadata": {},
   "source": [
    "#### Load the holdout data: holdout\n",
    "- I needed to scrape this from the class. \n",
    "- They have their own set of holdout data that they use\n",
    "- And later we will compare this to the holdout labels they use\n",
    "- I have the test dataset from the competition by the labels for the test data are hidden. \n",
    " - This is what the competition uses to score the models on the leaderboard"
   ]
  },
  {
   "cell_type": "code",
   "execution_count": 77,
   "metadata": {},
   "outputs": [],
   "source": [
    "%run data/HoldoutData.py"
   ]
  },
  {
   "cell_type": "code",
   "execution_count": 78,
   "metadata": {},
   "outputs": [
    {
     "data": {
      "text/html": [
       "<div>\n",
       "<style>\n",
       "    .dataframe thead tr:only-child th {\n",
       "        text-align: right;\n",
       "    }\n",
       "\n",
       "    .dataframe thead th {\n",
       "        text-align: left;\n",
       "    }\n",
       "\n",
       "    .dataframe tbody tr th {\n",
       "        vertical-align: top;\n",
       "    }\n",
       "</style>\n",
       "<table border=\"1\" class=\"dataframe\">\n",
       "  <thead>\n",
       "    <tr style=\"text-align: right;\">\n",
       "      <th></th>\n",
       "      <th>Object_Description</th>\n",
       "      <th>Program_Description</th>\n",
       "      <th>SubFund_Description</th>\n",
       "      <th>Job_Title_Description</th>\n",
       "      <th>Facility_or_Department</th>\n",
       "      <th>Sub_Object_Description</th>\n",
       "      <th>Location_Description</th>\n",
       "      <th>FTE</th>\n",
       "      <th>Function_Description</th>\n",
       "      <th>Position_Extra</th>\n",
       "      <th>Text_4</th>\n",
       "      <th>Total</th>\n",
       "      <th>Text_2</th>\n",
       "      <th>Text_3</th>\n",
       "      <th>Fund_Description</th>\n",
       "      <th>Text_1</th>\n",
       "    </tr>\n",
       "  </thead>\n",
       "  <tbody>\n",
       "    <tr>\n",
       "      <th>0</th>\n",
       "      <td>Personal Services - Teachers</td>\n",
       "      <td>Instruction - Regular</td>\n",
       "      <td>NaN</td>\n",
       "      <td>NaN</td>\n",
       "      <td>NaN</td>\n",
       "      <td>NaN</td>\n",
       "      <td>NaN</td>\n",
       "      <td>0.0</td>\n",
       "      <td>NaN</td>\n",
       "      <td>TIME CARD CERTIFIEDAddl</td>\n",
       "      <td>Alternative Schools Instruction</td>\n",
       "      <td>175.350000</td>\n",
       "      <td>NaN</td>\n",
       "      <td>NaN</td>\n",
       "      <td>General Purpose School</td>\n",
       "      <td>NaN</td>\n",
       "    </tr>\n",
       "    <tr>\n",
       "      <th>1</th>\n",
       "      <td>Extra Duty/Signing Bonus Pay</td>\n",
       "      <td>Basic Educational Services</td>\n",
       "      <td>NaN</td>\n",
       "      <td>NaN</td>\n",
       "      <td>NaN</td>\n",
       "      <td>General</td>\n",
       "      <td>School</td>\n",
       "      <td>NaN</td>\n",
       "      <td>Instruction</td>\n",
       "      <td>NaN</td>\n",
       "      <td>NaN</td>\n",
       "      <td>43424.905849</td>\n",
       "      <td>NaN</td>\n",
       "      <td>NaN</td>\n",
       "      <td>General Fund</td>\n",
       "      <td>NaN</td>\n",
       "    </tr>\n",
       "    <tr>\n",
       "      <th>2</th>\n",
       "      <td>OTHER PERSONAL SERVICES</td>\n",
       "      <td>NaN</td>\n",
       "      <td>NaN</td>\n",
       "      <td>SUB TEACHER ALL</td>\n",
       "      <td>NaN</td>\n",
       "      <td>NaN</td>\n",
       "      <td>STAFF DEV AND INSTR MEDIA</td>\n",
       "      <td>0.0</td>\n",
       "      <td>INST STAFF TRAINING SVCS</td>\n",
       "      <td>NaN</td>\n",
       "      <td>NaN</td>\n",
       "      <td>75.090000</td>\n",
       "      <td>NaN</td>\n",
       "      <td>NaN</td>\n",
       "      <td>GENERAL FUND</td>\n",
       "      <td>TEACHER TRAINING</td>\n",
       "    </tr>\n",
       "    <tr>\n",
       "      <th>3</th>\n",
       "      <td>TERMINAL LEAVE VACATION</td>\n",
       "      <td>NaN</td>\n",
       "      <td>NaN</td>\n",
       "      <td>INSPECTOR &amp; SERVICE TECHNICIAN</td>\n",
       "      <td>NaN</td>\n",
       "      <td>NaN</td>\n",
       "      <td>TRANSPORTATION</td>\n",
       "      <td>0.0</td>\n",
       "      <td>PUPIL TRANSPORTATION SERVICES</td>\n",
       "      <td>NaN</td>\n",
       "      <td>NaN</td>\n",
       "      <td>5274.805500</td>\n",
       "      <td>NaN</td>\n",
       "      <td>NaN</td>\n",
       "      <td>GENERAL FUND</td>\n",
       "      <td>TERMINAL LEAVE</td>\n",
       "    </tr>\n",
       "    <tr>\n",
       "      <th>4</th>\n",
       "      <td>Extra Duty/Signing Bonus Pay</td>\n",
       "      <td>Undistributed</td>\n",
       "      <td>NaN</td>\n",
       "      <td>NaN</td>\n",
       "      <td>NaN</td>\n",
       "      <td>Principal &amp; Asst. Principal Support</td>\n",
       "      <td>Educator Quality</td>\n",
       "      <td>NaN</td>\n",
       "      <td>Curriculum &amp; Instructional Staff Development</td>\n",
       "      <td>NaN</td>\n",
       "      <td>NaN</td>\n",
       "      <td>44789.326495</td>\n",
       "      <td>NaN</td>\n",
       "      <td>NaN</td>\n",
       "      <td>General Fund</td>\n",
       "      <td>NaN</td>\n",
       "    </tr>\n",
       "  </tbody>\n",
       "</table>\n",
       "</div>"
      ],
      "text/plain": [
       "               Object_Description         Program_Description  \\\n",
       "0    Personal Services - Teachers       Instruction - Regular   \n",
       "1    Extra Duty/Signing Bonus Pay  Basic Educational Services   \n",
       "2  OTHER PERSONAL SERVICES                                NaN   \n",
       "3  TERMINAL LEAVE VACATION                                NaN   \n",
       "4    Extra Duty/Signing Bonus Pay               Undistributed   \n",
       "\n",
       "  SubFund_Description           Job_Title_Description Facility_or_Department  \\\n",
       "0                 NaN                             NaN                    NaN   \n",
       "1                 NaN                             NaN                    NaN   \n",
       "2                 NaN  SUB TEACHER ALL                                   NaN   \n",
       "3                 NaN  INSPECTOR & SERVICE TECHNICIAN                    NaN   \n",
       "4                 NaN                             NaN                    NaN   \n",
       "\n",
       "                Sub_Object_Description            Location_Description  FTE  \\\n",
       "0                                  NaN                             NaN  0.0   \n",
       "1                              General                         School   NaN   \n",
       "2                                  NaN  STAFF DEV AND INSTR MEDIA       0.0   \n",
       "3                                  NaN  TRANSPORTATION                  0.0   \n",
       "4  Principal & Asst. Principal Support               Educator Quality   NaN   \n",
       "\n",
       "                           Function_Description           Position_Extra  \\\n",
       "0                                           NaN  TIME CARD CERTIFIEDAddl   \n",
       "1                                   Instruction                      NaN   \n",
       "2                INST STAFF TRAINING SVCS                            NaN   \n",
       "3                PUPIL TRANSPORTATION SERVICES                       NaN   \n",
       "4  Curriculum & Instructional Staff Development                      NaN   \n",
       "\n",
       "                            Text_4         Total Text_2 Text_3  \\\n",
       "0  Alternative Schools Instruction    175.350000    NaN    NaN   \n",
       "1                              NaN  43424.905849    NaN    NaN   \n",
       "2                              NaN     75.090000    NaN    NaN   \n",
       "3                              NaN   5274.805500    NaN    NaN   \n",
       "4                              NaN  44789.326495    NaN    NaN   \n",
       "\n",
       "                 Fund_Description                          Text_1  \n",
       "0          General Purpose School                             NaN  \n",
       "1                    General Fund                             NaN  \n",
       "2  GENERAL FUND                    TEACHER TRAINING                \n",
       "3  GENERAL FUND                    TERMINAL LEAVE                  \n",
       "4                    General Fund                             NaN  "
      ]
     },
     "execution_count": 78,
     "metadata": {},
     "output_type": "execute_result"
    }
   ],
   "source": [
    "holdout.head()"
   ]
  },
  {
   "cell_type": "code",
   "execution_count": 79,
   "metadata": {},
   "outputs": [
    {
     "name": "stdout",
     "output_type": "stream",
     "text": [
      "<class 'pandas.core.frame.DataFrame'>\n",
      "RangeIndex: 2000 entries, 0 to 1999\n",
      "Data columns (total 16 columns):\n",
      "Object_Description        1918 non-null object\n",
      "Program_Description       1798 non-null object\n",
      "SubFund_Description       664 non-null object\n",
      "Job_Title_Description     1303 non-null object\n",
      "Facility_or_Department    133 non-null object\n",
      "Sub_Object_Description    1317 non-null object\n",
      "Location_Description      1515 non-null object\n",
      "FTE                       782 non-null float64\n",
      "Function_Description      1851 non-null object\n",
      "Position_Extra            594 non-null object\n",
      "Text_4                    137 non-null object\n",
      "Total                     1974 non-null float64\n",
      "Text_2                    198 non-null object\n",
      "Text_3                    394 non-null object\n",
      "Fund_Description          1559 non-null object\n",
      "Text_1                    627 non-null object\n",
      "dtypes: float64(2), object(14)\n",
      "memory usage: 250.1+ KB\n"
     ]
    }
   ],
   "source": [
    "holdout.info()"
   ]
  },
  {
   "cell_type": "markdown",
   "metadata": {},
   "source": [
    "#### Load the holdout labels\n",
    "- I need to go ahead and get this now so I can match the holdout data index.\n",
    "- I just pulled the holdout data from the class with `holdout.values.tolist()` so it has no index\n",
    " - I don't really know a better way to get it right now"
   ]
  },
  {
   "cell_type": "code",
   "execution_count": 83,
   "metadata": {},
   "outputs": [
    {
     "data": {
      "text/html": [
       "<div>\n",
       "<style>\n",
       "    .dataframe thead tr:only-child th {\n",
       "        text-align: right;\n",
       "    }\n",
       "\n",
       "    .dataframe thead th {\n",
       "        text-align: left;\n",
       "    }\n",
       "\n",
       "    .dataframe tbody tr th {\n",
       "        vertical-align: top;\n",
       "    }\n",
       "</style>\n",
       "<table border=\"1\" class=\"dataframe\">\n",
       "  <thead>\n",
       "    <tr style=\"text-align: right;\">\n",
       "      <th></th>\n",
       "      <th>Function</th>\n",
       "      <th>Use</th>\n",
       "      <th>Sharing</th>\n",
       "      <th>Reporting</th>\n",
       "      <th>Student_Type</th>\n",
       "      <th>Position_Type</th>\n",
       "      <th>Object_Type</th>\n",
       "      <th>Pre_K</th>\n",
       "      <th>Operating_Status</th>\n",
       "    </tr>\n",
       "  </thead>\n",
       "  <tbody>\n",
       "    <tr>\n",
       "      <th>237</th>\n",
       "      <td>Teacher Compensation</td>\n",
       "      <td>Instruction</td>\n",
       "      <td>School Reported</td>\n",
       "      <td>School</td>\n",
       "      <td>Alternative</td>\n",
       "      <td>Teacher</td>\n",
       "      <td>Other Compensation/Stipend</td>\n",
       "      <td>Non PreK</td>\n",
       "      <td>PreK-12 Operating</td>\n",
       "    </tr>\n",
       "    <tr>\n",
       "      <th>466</th>\n",
       "      <td>Other Compensation</td>\n",
       "      <td>Instruction</td>\n",
       "      <td>School Reported</td>\n",
       "      <td>School</td>\n",
       "      <td>Unspecified</td>\n",
       "      <td>NO_LABEL</td>\n",
       "      <td>Other Compensation/Stipend</td>\n",
       "      <td>NO_LABEL</td>\n",
       "      <td>PreK-12 Operating</td>\n",
       "    </tr>\n",
       "    <tr>\n",
       "      <th>784</th>\n",
       "      <td>Professional Development</td>\n",
       "      <td>ISPD</td>\n",
       "      <td>Leadership &amp; Management</td>\n",
       "      <td>Non-School</td>\n",
       "      <td>Unspecified</td>\n",
       "      <td>Substitute</td>\n",
       "      <td>Substitute Compensation</td>\n",
       "      <td>NO_LABEL</td>\n",
       "      <td>PreK-12 Operating</td>\n",
       "    </tr>\n",
       "    <tr>\n",
       "      <th>1786</th>\n",
       "      <td>Student Transportation</td>\n",
       "      <td>O&amp;M</td>\n",
       "      <td>Shared Services</td>\n",
       "      <td>Non-School</td>\n",
       "      <td>Unspecified</td>\n",
       "      <td>Other</td>\n",
       "      <td>Other Compensation/Stipend</td>\n",
       "      <td>NO_LABEL</td>\n",
       "      <td>PreK-12 Operating</td>\n",
       "    </tr>\n",
       "    <tr>\n",
       "      <th>2643</th>\n",
       "      <td>Recruitment</td>\n",
       "      <td>ISPD</td>\n",
       "      <td>School on Central Budgets</td>\n",
       "      <td>Non-School</td>\n",
       "      <td>Unspecified</td>\n",
       "      <td>NO_LABEL</td>\n",
       "      <td>Other Compensation/Stipend</td>\n",
       "      <td>NO_LABEL</td>\n",
       "      <td>PreK-12 Operating</td>\n",
       "    </tr>\n",
       "    <tr>\n",
       "      <th>3602</th>\n",
       "      <td>Social &amp; Emotional</td>\n",
       "      <td>Pupil Services &amp; Enrichment</td>\n",
       "      <td>Shared Services</td>\n",
       "      <td>Non-School</td>\n",
       "      <td>Unspecified</td>\n",
       "      <td>NO_LABEL</td>\n",
       "      <td>Rent/Utilities</td>\n",
       "      <td>NO_LABEL</td>\n",
       "      <td>PreK-12 Operating</td>\n",
       "    </tr>\n",
       "    <tr>\n",
       "      <th>5196</th>\n",
       "      <td>Utilities</td>\n",
       "      <td>O&amp;M</td>\n",
       "      <td>School Reported</td>\n",
       "      <td>School</td>\n",
       "      <td>Unspecified</td>\n",
       "      <td>NO_LABEL</td>\n",
       "      <td>Rent/Utilities</td>\n",
       "      <td>NO_LABEL</td>\n",
       "      <td>PreK-12 Operating</td>\n",
       "    </tr>\n",
       "    <tr>\n",
       "      <th>5233</th>\n",
       "      <td>Substitute Compensation</td>\n",
       "      <td>Instruction</td>\n",
       "      <td>School Reported</td>\n",
       "      <td>School</td>\n",
       "      <td>Unspecified</td>\n",
       "      <td>Substitute</td>\n",
       "      <td>Substitute Compensation</td>\n",
       "      <td>NO_LABEL</td>\n",
       "      <td>PreK-12 Operating</td>\n",
       "    </tr>\n",
       "    <tr>\n",
       "      <th>6496</th>\n",
       "      <td>School Supervision</td>\n",
       "      <td>Leadership</td>\n",
       "      <td>Leadership &amp; Management</td>\n",
       "      <td>Non-School</td>\n",
       "      <td>Unspecified</td>\n",
       "      <td>(Exec) Director</td>\n",
       "      <td>Base Salary/Compensation</td>\n",
       "      <td>NO_LABEL</td>\n",
       "      <td>PreK-12 Operating</td>\n",
       "    </tr>\n",
       "    <tr>\n",
       "      <th>8074</th>\n",
       "      <td>Instructional Materials &amp; Supplies</td>\n",
       "      <td>Instruction</td>\n",
       "      <td>School Reported</td>\n",
       "      <td>School</td>\n",
       "      <td>Unspecified</td>\n",
       "      <td>NO_LABEL</td>\n",
       "      <td>Other Non-Compensation</td>\n",
       "      <td>NO_LABEL</td>\n",
       "      <td>PreK-12 Operating</td>\n",
       "    </tr>\n",
       "  </tbody>\n",
       "</table>\n",
       "</div>"
      ],
      "text/plain": [
       "                                Function                          Use  \\\n",
       "237                 Teacher Compensation                  Instruction   \n",
       "466                   Other Compensation                  Instruction   \n",
       "784             Professional Development                         ISPD   \n",
       "1786              Student Transportation                          O&M   \n",
       "2643                         Recruitment                         ISPD   \n",
       "3602                  Social & Emotional  Pupil Services & Enrichment   \n",
       "5196                           Utilities                          O&M   \n",
       "5233             Substitute Compensation                  Instruction   \n",
       "6496                  School Supervision                   Leadership   \n",
       "8074  Instructional Materials & Supplies                  Instruction   \n",
       "\n",
       "                        Sharing   Reporting Student_Type    Position_Type  \\\n",
       "237             School Reported      School  Alternative          Teacher   \n",
       "466             School Reported      School  Unspecified         NO_LABEL   \n",
       "784     Leadership & Management  Non-School  Unspecified       Substitute   \n",
       "1786            Shared Services  Non-School  Unspecified            Other   \n",
       "2643  School on Central Budgets  Non-School  Unspecified         NO_LABEL   \n",
       "3602            Shared Services  Non-School  Unspecified         NO_LABEL   \n",
       "5196            School Reported      School  Unspecified         NO_LABEL   \n",
       "5233            School Reported      School  Unspecified       Substitute   \n",
       "6496    Leadership & Management  Non-School  Unspecified  (Exec) Director   \n",
       "8074            School Reported      School  Unspecified         NO_LABEL   \n",
       "\n",
       "                     Object_Type     Pre_K   Operating_Status  \n",
       "237   Other Compensation/Stipend  Non PreK  PreK-12 Operating  \n",
       "466   Other Compensation/Stipend  NO_LABEL  PreK-12 Operating  \n",
       "784      Substitute Compensation  NO_LABEL  PreK-12 Operating  \n",
       "1786  Other Compensation/Stipend  NO_LABEL  PreK-12 Operating  \n",
       "2643  Other Compensation/Stipend  NO_LABEL  PreK-12 Operating  \n",
       "3602              Rent/Utilities  NO_LABEL  PreK-12 Operating  \n",
       "5196              Rent/Utilities  NO_LABEL  PreK-12 Operating  \n",
       "5233     Substitute Compensation  NO_LABEL  PreK-12 Operating  \n",
       "6496    Base Salary/Compensation  NO_LABEL  PreK-12 Operating  \n",
       "8074      Other Non-Compensation  NO_LABEL  PreK-12 Operating  "
      ]
     },
     "execution_count": 83,
     "metadata": {},
     "output_type": "execute_result"
    }
   ],
   "source": [
    "file = 'https://s3.amazonaws.com/assets.datacamp.com/production/course_2826/datasets/TestSetLabelsSample.csv'\n",
    "holdout_labels = pd.read_csv(file, index_col = 0)\n",
    "holdout_labels.head(10)"
   ]
  },
  {
   "cell_type": "markdown",
   "metadata": {},
   "source": [
    "#### Make sure the indexes match\n",
    "- I need to set the holdout df to have the same index as the labels df"
   ]
  },
  {
   "cell_type": "code",
   "execution_count": 85,
   "metadata": {},
   "outputs": [
    {
     "data": {
      "text/plain": [
       "RangeIndex(start=0, stop=2000, step=1)"
      ]
     },
     "execution_count": 85,
     "metadata": {},
     "output_type": "execute_result"
    }
   ],
   "source": [
    "holdout.index"
   ]
  },
  {
   "cell_type": "code",
   "execution_count": 86,
   "metadata": {},
   "outputs": [
    {
     "data": {
      "text/plain": [
       "Int64Index([   237,    466,    784,   1786,   2643,   3602,   5196,   5233,\n",
       "              6496,   8074,\n",
       "            ...\n",
       "             17103, 356179,  53919,  24779, 296009, 272864, 448362, 181209,\n",
       "            364039, 142060],\n",
       "           dtype='int64', length=2000)"
      ]
     },
     "execution_count": 86,
     "metadata": {},
     "output_type": "execute_result"
    }
   ],
   "source": [
    "holdout_labels.index"
   ]
  },
  {
   "cell_type": "code",
   "execution_count": 90,
   "metadata": {},
   "outputs": [
    {
     "data": {
      "text/plain": [
       "Int64Index([   237,    466,    784,   1786,   2643,   3602,   5196,   5233,\n",
       "              6496,   8074,\n",
       "            ...\n",
       "             17103, 356179,  53919,  24779, 296009, 272864, 448362, 181209,\n",
       "            364039, 142060],\n",
       "           dtype='int64', length=2000)"
      ]
     },
     "execution_count": 90,
     "metadata": {},
     "output_type": "execute_result"
    }
   ],
   "source": [
    "holdout = holdout.set_index(holdout_labels.index)\n",
    "holdout.index"
   ]
  },
  {
   "cell_type": "markdown",
   "metadata": {},
   "source": [
    "#### Now, back to the class steps\n",
    "- that was a little detour for me to get the holdout data set up correctly.\n",
    "- I think the rest of the class steps should work now. We'll see\n",
    "\n",
    "#### Make predictions with just two numerical columns\n",
    "- this really should not be a very good model, but it will atleast give us a steal thread to test\n",
    "- Then we will add some NLP using the text columns later"
   ]
  },
  {
   "cell_type": "code",
   "execution_count": 91,
   "metadata": {},
   "outputs": [
    {
     "data": {
      "text/plain": [
       "array([[  1.22569239e-01,   9.04357943e-03,   1.52396058e-03, ...,\n",
       "          9.56472697e-02,   5.10743328e-02,   9.28649023e-01],\n",
       "       [  3.54171771e-02,   6.47628012e-03,   8.29100098e-04, ...,\n",
       "          1.70001234e-01,   1.99046848e-02,   8.09860933e-01],\n",
       "       [  1.22572623e-01,   9.04354385e-03,   1.52396427e-03, ...,\n",
       "          9.56466631e-02,   5.10744905e-02,   9.28649770e-01],\n",
       "       ..., \n",
       "       [  1.21471839e-01,   9.05970281e-03,   1.52352790e-03, ...,\n",
       "          9.58134868e-02,   5.10635065e-02,   9.28447717e-01],\n",
       "       [  3.58856882e-02,   6.46522624e-03,   8.29971944e-04, ...,\n",
       "          1.69573073e-01,   1.99322086e-02,   8.10612059e-01],\n",
       "       [  1.21698585e-01,   9.05729829e-03,   1.52377720e-03, ...,\n",
       "          9.57724985e-02,   5.10741510e-02,   9.28498261e-01]])"
      ]
     },
     "execution_count": 91,
     "metadata": {},
     "output_type": "execute_result"
    }
   ],
   "source": [
    "# Generate predictions: predictions\n",
    "predictions = clf.predict_proba(holdout[numeric_columns].fillna(-1000))\n",
    "\n",
    "predictions"
   ]
  },
  {
   "cell_type": "markdown",
   "metadata": {},
   "source": [
    "### Writing out your results to a csv for submission\n",
    "- we just put our predicitons array into a data frame and add a couple very important steps\n",
    "- The column names need to be the flattened labels\n",
    "- The row index needs to match that of the holdout labels data frame as this is how they will be compared"
   ]
  },
  {
   "cell_type": "code",
   "execution_count": 92,
   "metadata": {},
   "outputs": [
    {
     "data": {
      "text/html": [
       "<div>\n",
       "<style>\n",
       "    .dataframe thead tr:only-child th {\n",
       "        text-align: right;\n",
       "    }\n",
       "\n",
       "    .dataframe thead th {\n",
       "        text-align: left;\n",
       "    }\n",
       "\n",
       "    .dataframe tbody tr th {\n",
       "        vertical-align: top;\n",
       "    }\n",
       "</style>\n",
       "<table border=\"1\" class=\"dataframe\">\n",
       "  <thead>\n",
       "    <tr style=\"text-align: right;\">\n",
       "      <th></th>\n",
       "      <th>Function_Aides Compensation</th>\n",
       "      <th>Function_Career &amp; Academic Counseling</th>\n",
       "      <th>Function_Communications</th>\n",
       "      <th>Function_Curriculum Development</th>\n",
       "      <th>Function_Data Processing &amp; Information Services</th>\n",
       "      <th>Function_Development &amp; Fundraising</th>\n",
       "      <th>Function_Enrichment</th>\n",
       "      <th>Function_Extended Time &amp; Tutoring</th>\n",
       "      <th>Function_Facilities &amp; Maintenance</th>\n",
       "      <th>Function_Facilities Planning</th>\n",
       "      <th>...</th>\n",
       "      <th>Object_Type_Rent/Utilities</th>\n",
       "      <th>Object_Type_Substitute Compensation</th>\n",
       "      <th>Object_Type_Supplies/Materials</th>\n",
       "      <th>Object_Type_Travel &amp; Conferences</th>\n",
       "      <th>Pre_K_NO_LABEL</th>\n",
       "      <th>Pre_K_Non PreK</th>\n",
       "      <th>Pre_K_PreK</th>\n",
       "      <th>Operating_Status_Non-Operating</th>\n",
       "      <th>Operating_Status_Operating, Not PreK-12</th>\n",
       "      <th>Operating_Status_PreK-12 Operating</th>\n",
       "    </tr>\n",
       "  </thead>\n",
       "  <tbody>\n",
       "    <tr>\n",
       "      <th>237</th>\n",
       "      <td>0.122569</td>\n",
       "      <td>0.009044</td>\n",
       "      <td>0.001524</td>\n",
       "      <td>0.028673</td>\n",
       "      <td>0.016023</td>\n",
       "      <td>0.017080</td>\n",
       "      <td>0.043999</td>\n",
       "      <td>0.031789</td>\n",
       "      <td>0.114390</td>\n",
       "      <td>0.017293</td>\n",
       "      <td>...</td>\n",
       "      <td>0.005603</td>\n",
       "      <td>0.175347</td>\n",
       "      <td>0.139567</td>\n",
       "      <td>0.016081</td>\n",
       "      <td>0.500542</td>\n",
       "      <td>0.473756</td>\n",
       "      <td>0.099110</td>\n",
       "      <td>0.095647</td>\n",
       "      <td>0.051074</td>\n",
       "      <td>0.928649</td>\n",
       "    </tr>\n",
       "    <tr>\n",
       "      <th>466</th>\n",
       "      <td>0.035417</td>\n",
       "      <td>0.006476</td>\n",
       "      <td>0.000829</td>\n",
       "      <td>0.023868</td>\n",
       "      <td>0.008919</td>\n",
       "      <td>0.000220</td>\n",
       "      <td>0.031991</td>\n",
       "      <td>0.024358</td>\n",
       "      <td>0.051891</td>\n",
       "      <td>0.000048</td>\n",
       "      <td>...</td>\n",
       "      <td>0.010763</td>\n",
       "      <td>0.029631</td>\n",
       "      <td>0.113427</td>\n",
       "      <td>0.017329</td>\n",
       "      <td>0.831876</td>\n",
       "      <td>0.140301</td>\n",
       "      <td>0.027606</td>\n",
       "      <td>0.170001</td>\n",
       "      <td>0.019905</td>\n",
       "      <td>0.809861</td>\n",
       "    </tr>\n",
       "    <tr>\n",
       "      <th>784</th>\n",
       "      <td>0.122573</td>\n",
       "      <td>0.009044</td>\n",
       "      <td>0.001524</td>\n",
       "      <td>0.028673</td>\n",
       "      <td>0.016023</td>\n",
       "      <td>0.017080</td>\n",
       "      <td>0.043999</td>\n",
       "      <td>0.031790</td>\n",
       "      <td>0.114391</td>\n",
       "      <td>0.017294</td>\n",
       "      <td>...</td>\n",
       "      <td>0.005602</td>\n",
       "      <td>0.175430</td>\n",
       "      <td>0.139575</td>\n",
       "      <td>0.016081</td>\n",
       "      <td>0.500539</td>\n",
       "      <td>0.473760</td>\n",
       "      <td>0.099111</td>\n",
       "      <td>0.095647</td>\n",
       "      <td>0.051074</td>\n",
       "      <td>0.928650</td>\n",
       "    </tr>\n",
       "    <tr>\n",
       "      <th>1786</th>\n",
       "      <td>0.122397</td>\n",
       "      <td>0.009045</td>\n",
       "      <td>0.001524</td>\n",
       "      <td>0.028666</td>\n",
       "      <td>0.016024</td>\n",
       "      <td>0.017073</td>\n",
       "      <td>0.043984</td>\n",
       "      <td>0.031781</td>\n",
       "      <td>0.114334</td>\n",
       "      <td>0.017284</td>\n",
       "      <td>...</td>\n",
       "      <td>0.005605</td>\n",
       "      <td>0.171171</td>\n",
       "      <td>0.139155</td>\n",
       "      <td>0.016078</td>\n",
       "      <td>0.500689</td>\n",
       "      <td>0.473562</td>\n",
       "      <td>0.099049</td>\n",
       "      <td>0.095678</td>\n",
       "      <td>0.051066</td>\n",
       "      <td>0.928611</td>\n",
       "    </tr>\n",
       "    <tr>\n",
       "      <th>2643</th>\n",
       "      <td>0.035403</td>\n",
       "      <td>0.006477</td>\n",
       "      <td>0.000829</td>\n",
       "      <td>0.023866</td>\n",
       "      <td>0.008919</td>\n",
       "      <td>0.000220</td>\n",
       "      <td>0.031988</td>\n",
       "      <td>0.024356</td>\n",
       "      <td>0.051884</td>\n",
       "      <td>0.000048</td>\n",
       "      <td>...</td>\n",
       "      <td>0.010764</td>\n",
       "      <td>0.029407</td>\n",
       "      <td>0.113334</td>\n",
       "      <td>0.017328</td>\n",
       "      <td>0.831898</td>\n",
       "      <td>0.140276</td>\n",
       "      <td>0.027601</td>\n",
       "      <td>0.170015</td>\n",
       "      <td>0.019904</td>\n",
       "      <td>0.809837</td>\n",
       "    </tr>\n",
       "  </tbody>\n",
       "</table>\n",
       "<p>5 rows × 104 columns</p>\n",
       "</div>"
      ],
      "text/plain": [
       "      Function_Aides Compensation  Function_Career & Academic Counseling  \\\n",
       "237                      0.122569                               0.009044   \n",
       "466                      0.035417                               0.006476   \n",
       "784                      0.122573                               0.009044   \n",
       "1786                     0.122397                               0.009045   \n",
       "2643                     0.035403                               0.006477   \n",
       "\n",
       "      Function_Communications  Function_Curriculum Development  \\\n",
       "237                  0.001524                         0.028673   \n",
       "466                  0.000829                         0.023868   \n",
       "784                  0.001524                         0.028673   \n",
       "1786                 0.001524                         0.028666   \n",
       "2643                 0.000829                         0.023866   \n",
       "\n",
       "      Function_Data Processing & Information Services  \\\n",
       "237                                          0.016023   \n",
       "466                                          0.008919   \n",
       "784                                          0.016023   \n",
       "1786                                         0.016024   \n",
       "2643                                         0.008919   \n",
       "\n",
       "      Function_Development & Fundraising  Function_Enrichment  \\\n",
       "237                             0.017080             0.043999   \n",
       "466                             0.000220             0.031991   \n",
       "784                             0.017080             0.043999   \n",
       "1786                            0.017073             0.043984   \n",
       "2643                            0.000220             0.031988   \n",
       "\n",
       "      Function_Extended Time & Tutoring  Function_Facilities & Maintenance  \\\n",
       "237                            0.031789                           0.114390   \n",
       "466                            0.024358                           0.051891   \n",
       "784                            0.031790                           0.114391   \n",
       "1786                           0.031781                           0.114334   \n",
       "2643                           0.024356                           0.051884   \n",
       "\n",
       "      Function_Facilities Planning                 ...                  \\\n",
       "237                       0.017293                 ...                   \n",
       "466                       0.000048                 ...                   \n",
       "784                       0.017294                 ...                   \n",
       "1786                      0.017284                 ...                   \n",
       "2643                      0.000048                 ...                   \n",
       "\n",
       "      Object_Type_Rent/Utilities  Object_Type_Substitute Compensation  \\\n",
       "237                     0.005603                             0.175347   \n",
       "466                     0.010763                             0.029631   \n",
       "784                     0.005602                             0.175430   \n",
       "1786                    0.005605                             0.171171   \n",
       "2643                    0.010764                             0.029407   \n",
       "\n",
       "      Object_Type_Supplies/Materials  Object_Type_Travel & Conferences  \\\n",
       "237                         0.139567                          0.016081   \n",
       "466                         0.113427                          0.017329   \n",
       "784                         0.139575                          0.016081   \n",
       "1786                        0.139155                          0.016078   \n",
       "2643                        0.113334                          0.017328   \n",
       "\n",
       "      Pre_K_NO_LABEL  Pre_K_Non PreK  Pre_K_PreK  \\\n",
       "237         0.500542        0.473756    0.099110   \n",
       "466         0.831876        0.140301    0.027606   \n",
       "784         0.500539        0.473760    0.099111   \n",
       "1786        0.500689        0.473562    0.099049   \n",
       "2643        0.831898        0.140276    0.027601   \n",
       "\n",
       "      Operating_Status_Non-Operating  Operating_Status_Operating, Not PreK-12  \\\n",
       "237                         0.095647                                 0.051074   \n",
       "466                         0.170001                                 0.019905   \n",
       "784                         0.095647                                 0.051074   \n",
       "1786                        0.095678                                 0.051066   \n",
       "2643                        0.170015                                 0.019904   \n",
       "\n",
       "      Operating_Status_PreK-12 Operating  \n",
       "237                             0.928649  \n",
       "466                             0.809861  \n",
       "784                             0.928650  \n",
       "1786                            0.928611  \n",
       "2643                            0.809837  \n",
       "\n",
       "[5 rows x 104 columns]"
      ]
     },
     "execution_count": 92,
     "metadata": {},
     "output_type": "execute_result"
    }
   ],
   "source": [
    "# Format predictions in DataFrame: prediction_df\n",
    "prediction_df = pd.DataFrame(\n",
    "    columns=pd.get_dummies(df[labels]).columns,\n",
    "    index=holdout.index,\n",
    "    data=predictions)\n",
    "\n",
    "# Save prediction_df to csv\n",
    "prediction_df.to_csv('predictions.csv')\n",
    "\n",
    "prediction_df.head()"
   ]
  },
  {
   "cell_type": "code",
   "execution_count": 93,
   "metadata": {},
   "outputs": [
    {
     "name": "stdout",
     "output_type": "stream",
     "text": [
      "<class 'pandas.core.frame.DataFrame'>\n",
      "Int64Index: 2000 entries, 237 to 142060\n",
      "Columns: 104 entries, Function_Aides Compensation to Operating_Status_PreK-12 Operating\n",
      "dtypes: float64(104)\n",
      "memory usage: 1.6 MB\n"
     ]
    }
   ],
   "source": [
    "prediction_df.info()"
   ]
  },
  {
   "cell_type": "markdown",
   "metadata": {},
   "source": [
    "#### Test the predictions against the holdout labels\n",
    "- I am modifying a function they use to work with the data I have already loaded\n",
    "- They had a function that liked to the files locations\n",
    " - Thats fine, but I already have everything loaded in the workspace so I don't really need that\n",
    "- I do need to spread the holdout labels df so it has boolean columns for each `function_category` combination\n",
    "- I also assert that the columns and indexes are the same or I know things will be wrong\n",
    "- Then just run log loss function and return the result"
   ]
  },
  {
   "cell_type": "code",
   "execution_count": 99,
   "metadata": {},
   "outputs": [],
   "source": [
    "def score_submission(holdout_predictions, holdout_labels):\n",
    "\n",
    "    ## convert the holdout labels to boolean columns\n",
    "    holdout_labels = pd.get_dummies(holdout_labels.apply(lambda x: x.astype('category'), axis=0))\n",
    "    \n",
    "    # make sure that format is correct\n",
    "    assert (holdout_predictions.columns == holdout_labels.columns).all()\n",
    "    assert (holdout_predictions.index == holdout_labels.index).all()\n",
    "\n",
    "    return compute_log_loss(holdout_predictions.values, holdout_labels.values)"
   ]
  },
  {
   "cell_type": "code",
   "execution_count": 100,
   "metadata": {},
   "outputs": [
    {
     "name": "stdout",
     "output_type": "stream",
     "text": [
      "Your model, trained with numeric data only, yields logloss score: 0.1850500766198114\n"
     ]
    }
   ],
   "source": [
    "# Submit the predictions for scoring: score\n",
    "score = score_submission(prediction_df, holdout_labels)\n",
    "\n",
    "# Print score\n",
    "print('Your model, trained with numeric data only, yields logloss score: {}'.format(score))"
   ]
  },
  {
   "cell_type": "markdown",
   "metadata": {},
   "source": [
    "- Here we got 0.1850 which is just a little worse than 0.1819 that we had with the test data. \n",
    "- This makes sense. It should be a little less accurate since its entirely new data \n",
    " - But we didn't really use any folding so its not like the test data was used to train the model.\n",
    " - It could just be random difference. \n",
    " - I could create a hypothesis model and simulate it a 1000 times. but ha. no\n",
    "- I'm still curious why this is better than the 0.3665 on the leaderboard\n",
    "- Maybe I could create predictions from the test data provided for the competition and submit that to see what I get. \n",
    " - It should be worse than 0.3665 by a lot, since I'm just using two columns to predict"
   ]
  },
  {
   "cell_type": "markdown",
   "metadata": {},
   "source": [
    "#### Create a real submission for the competition"
   ]
  },
  {
   "cell_type": "code",
   "execution_count": 123,
   "metadata": {},
   "outputs": [
    {
     "name": "stderr",
     "output_type": "stream",
     "text": [
      "/Users/williamsurles/anaconda3/envs/python_datacamp/lib/python3.6/site-packages/IPython/core/interactiveshell.py:2728: DtypeWarning: Columns (5,11) have mixed types. Specify dtype option on import or set low_memory=False.\n",
      "  interactivity=interactivity, compiler=compiler, result=result)\n"
     ]
    },
    {
     "data": {
      "text/html": [
       "<div>\n",
       "<style>\n",
       "    .dataframe thead tr:only-child th {\n",
       "        text-align: right;\n",
       "    }\n",
       "\n",
       "    .dataframe thead th {\n",
       "        text-align: left;\n",
       "    }\n",
       "\n",
       "    .dataframe tbody tr th {\n",
       "        vertical-align: top;\n",
       "    }\n",
       "</style>\n",
       "<table border=\"1\" class=\"dataframe\">\n",
       "  <thead>\n",
       "    <tr style=\"text-align: right;\">\n",
       "      <th></th>\n",
       "      <th>Object_Description</th>\n",
       "      <th>Program_Description</th>\n",
       "      <th>SubFund_Description</th>\n",
       "      <th>Job_Title_Description</th>\n",
       "      <th>Facility_or_Department</th>\n",
       "      <th>Sub_Object_Description</th>\n",
       "      <th>Location_Description</th>\n",
       "      <th>FTE</th>\n",
       "      <th>Function_Description</th>\n",
       "      <th>Position_Extra</th>\n",
       "      <th>Text_4</th>\n",
       "      <th>Total</th>\n",
       "      <th>Text_2</th>\n",
       "      <th>Text_3</th>\n",
       "      <th>Fund_Description</th>\n",
       "      <th>Text_1</th>\n",
       "    </tr>\n",
       "  </thead>\n",
       "  <tbody>\n",
       "    <tr>\n",
       "      <th>180042</th>\n",
       "      <td>Student Meals/Room/Other</td>\n",
       "      <td>Basic Educational Services</td>\n",
       "      <td>NaN</td>\n",
       "      <td>NaN</td>\n",
       "      <td>NaN</td>\n",
       "      <td>Line Item that is paid with Campus' money</td>\n",
       "      <td>School</td>\n",
       "      <td>NaN</td>\n",
       "      <td>Instruction</td>\n",
       "      <td>NaN</td>\n",
       "      <td>NaN</td>\n",
       "      <td>3999.910000</td>\n",
       "      <td>NaN</td>\n",
       "      <td>NaN</td>\n",
       "      <td>General Fund</td>\n",
       "      <td>NaN</td>\n",
       "    </tr>\n",
       "    <tr>\n",
       "      <th>28872</th>\n",
       "      <td>Extra Duty/Signing Bonus Pay</td>\n",
       "      <td>Undistributed</td>\n",
       "      <td>NaN</td>\n",
       "      <td>CHEERLEADER DIR</td>\n",
       "      <td>NaN</td>\n",
       "      <td>General</td>\n",
       "      <td>School</td>\n",
       "      <td>NaN</td>\n",
       "      <td>Cocurricular &amp; Extra Curricular Activities</td>\n",
       "      <td>NaN</td>\n",
       "      <td>NaN</td>\n",
       "      <td>3447.320213</td>\n",
       "      <td>NaN</td>\n",
       "      <td>NaN</td>\n",
       "      <td>General Fund</td>\n",
       "      <td>NaN</td>\n",
       "    </tr>\n",
       "    <tr>\n",
       "      <th>186915</th>\n",
       "      <td>Professional Salaries</td>\n",
       "      <td>Bilingual Education</td>\n",
       "      <td>NaN</td>\n",
       "      <td>T-EL 1ST BIL</td>\n",
       "      <td>NaN</td>\n",
       "      <td>General</td>\n",
       "      <td>School</td>\n",
       "      <td>1.0</td>\n",
       "      <td>Instruction</td>\n",
       "      <td>NaN</td>\n",
       "      <td>NaN</td>\n",
       "      <td>52738.780869</td>\n",
       "      <td>NaN</td>\n",
       "      <td>NaN</td>\n",
       "      <td>General Fund</td>\n",
       "      <td>NaN</td>\n",
       "    </tr>\n",
       "    <tr>\n",
       "      <th>412396</th>\n",
       "      <td>Professional Salaries</td>\n",
       "      <td>Bilingual Education</td>\n",
       "      <td>NaN</td>\n",
       "      <td>T-EL 2ND BIL</td>\n",
       "      <td>NaN</td>\n",
       "      <td>General</td>\n",
       "      <td>School</td>\n",
       "      <td>1.0</td>\n",
       "      <td>Instruction</td>\n",
       "      <td>NaN</td>\n",
       "      <td>NaN</td>\n",
       "      <td>69729.263191</td>\n",
       "      <td>NaN</td>\n",
       "      <td>NaN</td>\n",
       "      <td>General Fund</td>\n",
       "      <td>NaN</td>\n",
       "    </tr>\n",
       "    <tr>\n",
       "      <th>427740</th>\n",
       "      <td>Salaries for Support Personnel</td>\n",
       "      <td>Undistributed</td>\n",
       "      <td>NaN</td>\n",
       "      <td>CLERK III- SCH</td>\n",
       "      <td>NaN</td>\n",
       "      <td>General</td>\n",
       "      <td>School</td>\n",
       "      <td>1.0</td>\n",
       "      <td>School Leadership</td>\n",
       "      <td>NaN</td>\n",
       "      <td>NaN</td>\n",
       "      <td>29492.834215</td>\n",
       "      <td>NaN</td>\n",
       "      <td>NaN</td>\n",
       "      <td>General Fund</td>\n",
       "      <td>NaN</td>\n",
       "    </tr>\n",
       "    <tr>\n",
       "      <th>69847</th>\n",
       "      <td>General Supplies</td>\n",
       "      <td>Gifted and Talented</td>\n",
       "      <td>NaN</td>\n",
       "      <td>NaN</td>\n",
       "      <td>NaN</td>\n",
       "      <td>Magnet School</td>\n",
       "      <td>School</td>\n",
       "      <td>NaN</td>\n",
       "      <td>School Leadership</td>\n",
       "      <td>NaN</td>\n",
       "      <td>NaN</td>\n",
       "      <td>611.730000</td>\n",
       "      <td>NaN</td>\n",
       "      <td>NaN</td>\n",
       "      <td>General Fund</td>\n",
       "      <td>NaN</td>\n",
       "    </tr>\n",
       "    <tr>\n",
       "      <th>358824</th>\n",
       "      <td>Maint: Vehicles</td>\n",
       "      <td>Special Education</td>\n",
       "      <td>NaN</td>\n",
       "      <td>NaN</td>\n",
       "      <td>NaN</td>\n",
       "      <td>General</td>\n",
       "      <td>Transportation Office</td>\n",
       "      <td>NaN</td>\n",
       "      <td>Student Transportation</td>\n",
       "      <td>NaN</td>\n",
       "      <td>NaN</td>\n",
       "      <td>45999.960000</td>\n",
       "      <td>NaN</td>\n",
       "      <td>NaN</td>\n",
       "      <td>General Fund</td>\n",
       "      <td>NaN</td>\n",
       "    </tr>\n",
       "    <tr>\n",
       "      <th>254148</th>\n",
       "      <td>Extra Duty/Signing Bonus Pay</td>\n",
       "      <td>Special Education</td>\n",
       "      <td>NaN</td>\n",
       "      <td>NaN</td>\n",
       "      <td>NaN</td>\n",
       "      <td>General</td>\n",
       "      <td>Special Ed Evaluation Services</td>\n",
       "      <td>NaN</td>\n",
       "      <td>Guidance, Counseling and Evaluation Services</td>\n",
       "      <td>NaN</td>\n",
       "      <td>NaN</td>\n",
       "      <td>9342.409000</td>\n",
       "      <td>NaN</td>\n",
       "      <td>NaN</td>\n",
       "      <td>IDEA-B Formula</td>\n",
       "      <td>NaN</td>\n",
       "    </tr>\n",
       "    <tr>\n",
       "      <th>296</th>\n",
       "      <td>General Supplies</td>\n",
       "      <td>Basic Educational Services</td>\n",
       "      <td>NaN</td>\n",
       "      <td>NaN</td>\n",
       "      <td>NaN</td>\n",
       "      <td>Art</td>\n",
       "      <td>School</td>\n",
       "      <td>NaN</td>\n",
       "      <td>Instruction</td>\n",
       "      <td>NaN</td>\n",
       "      <td>NaN</td>\n",
       "      <td>1480.970000</td>\n",
       "      <td>NaN</td>\n",
       "      <td>NaN</td>\n",
       "      <td>General Fund</td>\n",
       "      <td>NaN</td>\n",
       "    </tr>\n",
       "    <tr>\n",
       "      <th>416755</th>\n",
       "      <td>Salaries for Support Personnel</td>\n",
       "      <td>Undistributed</td>\n",
       "      <td>NaN</td>\n",
       "      <td>FOOD PROD SP II</td>\n",
       "      <td>NaN</td>\n",
       "      <td>General</td>\n",
       "      <td>School</td>\n",
       "      <td>0.5</td>\n",
       "      <td>Food Services</td>\n",
       "      <td>NaN</td>\n",
       "      <td>NaN</td>\n",
       "      <td>13675.591718</td>\n",
       "      <td>NaN</td>\n",
       "      <td>NaN</td>\n",
       "      <td>Nat'l Schl Breakfast &amp; Lunch Prog.</td>\n",
       "      <td>NaN</td>\n",
       "    </tr>\n",
       "  </tbody>\n",
       "</table>\n",
       "</div>"
      ],
      "text/plain": [
       "                    Object_Description         Program_Description  \\\n",
       "180042        Student Meals/Room/Other  Basic Educational Services   \n",
       "28872     Extra Duty/Signing Bonus Pay               Undistributed   \n",
       "186915           Professional Salaries         Bilingual Education   \n",
       "412396           Professional Salaries         Bilingual Education   \n",
       "427740  Salaries for Support Personnel               Undistributed   \n",
       "69847                 General Supplies         Gifted and Talented   \n",
       "358824                 Maint: Vehicles           Special Education   \n",
       "254148    Extra Duty/Signing Bonus Pay           Special Education   \n",
       "296                   General Supplies  Basic Educational Services   \n",
       "416755  Salaries for Support Personnel               Undistributed   \n",
       "\n",
       "       SubFund_Description Job_Title_Description Facility_or_Department  \\\n",
       "180042                 NaN                   NaN                    NaN   \n",
       "28872                  NaN       CHEERLEADER DIR                    NaN   \n",
       "186915                 NaN          T-EL 1ST BIL                    NaN   \n",
       "412396                 NaN          T-EL 2ND BIL                    NaN   \n",
       "427740                 NaN        CLERK III- SCH                    NaN   \n",
       "69847                  NaN                   NaN                    NaN   \n",
       "358824                 NaN                   NaN                    NaN   \n",
       "254148                 NaN                   NaN                    NaN   \n",
       "296                    NaN                   NaN                    NaN   \n",
       "416755                 NaN       FOOD PROD SP II                    NaN   \n",
       "\n",
       "                           Sub_Object_Description  \\\n",
       "180042  Line Item that is paid with Campus' money   \n",
       "28872                                     General   \n",
       "186915                                    General   \n",
       "412396                                    General   \n",
       "427740                                    General   \n",
       "69847                               Magnet School   \n",
       "358824                                    General   \n",
       "254148                                    General   \n",
       "296                                           Art   \n",
       "416755                                    General   \n",
       "\n",
       "                  Location_Description  FTE  \\\n",
       "180042                         School   NaN   \n",
       "28872                          School   NaN   \n",
       "186915                         School   1.0   \n",
       "412396                         School   1.0   \n",
       "427740                         School   1.0   \n",
       "69847                          School   NaN   \n",
       "358824           Transportation Office  NaN   \n",
       "254148  Special Ed Evaluation Services  NaN   \n",
       "296                            School   NaN   \n",
       "416755                         School   0.5   \n",
       "\n",
       "                                Function_Description Position_Extra Text_4  \\\n",
       "180042                                   Instruction            NaN    NaN   \n",
       "28872     Cocurricular & Extra Curricular Activities            NaN    NaN   \n",
       "186915                                   Instruction            NaN    NaN   \n",
       "412396                                   Instruction            NaN    NaN   \n",
       "427740                             School Leadership            NaN    NaN   \n",
       "69847                              School Leadership            NaN    NaN   \n",
       "358824                        Student Transportation            NaN    NaN   \n",
       "254148  Guidance, Counseling and Evaluation Services            NaN    NaN   \n",
       "296                                      Instruction            NaN    NaN   \n",
       "416755                                 Food Services            NaN    NaN   \n",
       "\n",
       "               Total Text_2 Text_3                    Fund_Description Text_1  \n",
       "180042   3999.910000    NaN    NaN                        General Fund    NaN  \n",
       "28872    3447.320213    NaN    NaN                        General Fund    NaN  \n",
       "186915  52738.780869    NaN    NaN                        General Fund    NaN  \n",
       "412396  69729.263191    NaN    NaN                        General Fund    NaN  \n",
       "427740  29492.834215    NaN    NaN                        General Fund    NaN  \n",
       "69847     611.730000    NaN    NaN                        General Fund    NaN  \n",
       "358824  45999.960000    NaN    NaN                        General Fund    NaN  \n",
       "254148   9342.409000    NaN    NaN                      IDEA-B Formula    NaN  \n",
       "296      1480.970000    NaN    NaN                        General Fund    NaN  \n",
       "416755  13675.591718    NaN    NaN  Nat'l Schl Breakfast & Lunch Prog.    NaN  "
      ]
     },
     "execution_count": 123,
     "metadata": {},
     "output_type": "execute_result"
    }
   ],
   "source": [
    "file = 'data/TestData.csv'\n",
    "test_data = pd.read_csv(file, index_col = 0)\n",
    "test_data.head(10)"
   ]
  },
  {
   "cell_type": "code",
   "execution_count": 126,
   "metadata": {},
   "outputs": [
    {
     "name": "stderr",
     "output_type": "stream",
     "text": [
      "/Users/williamsurles/anaconda3/envs/python_datacamp/lib/python3.6/site-packages/sklearn/linear_model/base.py:340: RuntimeWarning: overflow encountered in exp\n",
      "  np.exp(prob, prob)\n"
     ]
    },
    {
     "data": {
      "text/html": [
       "<div>\n",
       "<style>\n",
       "    .dataframe thead tr:only-child th {\n",
       "        text-align: right;\n",
       "    }\n",
       "\n",
       "    .dataframe thead th {\n",
       "        text-align: left;\n",
       "    }\n",
       "\n",
       "    .dataframe tbody tr th {\n",
       "        vertical-align: top;\n",
       "    }\n",
       "</style>\n",
       "<table border=\"1\" class=\"dataframe\">\n",
       "  <thead>\n",
       "    <tr style=\"text-align: right;\">\n",
       "      <th></th>\n",
       "      <th>Function__Aides Compensation</th>\n",
       "      <th>Function__Career &amp; Academic Counseling</th>\n",
       "      <th>Function__Communications</th>\n",
       "      <th>Function__Curriculum Development</th>\n",
       "      <th>Function__Data Processing &amp; Information Services</th>\n",
       "      <th>Function__Development &amp; Fundraising</th>\n",
       "      <th>Function__Enrichment</th>\n",
       "      <th>Function__Extended Time &amp; Tutoring</th>\n",
       "      <th>Function__Facilities &amp; Maintenance</th>\n",
       "      <th>Function__Facilities Planning</th>\n",
       "      <th>...</th>\n",
       "      <th>Object_Type__Rent/Utilities</th>\n",
       "      <th>Object_Type__Substitute Compensation</th>\n",
       "      <th>Object_Type__Supplies/Materials</th>\n",
       "      <th>Object_Type__Travel &amp; Conferences</th>\n",
       "      <th>Pre_K__NO_LABEL</th>\n",
       "      <th>Pre_K__Non PreK</th>\n",
       "      <th>Pre_K__PreK</th>\n",
       "      <th>Operating_Status__Non-Operating</th>\n",
       "      <th>Operating_Status__Operating, Not PreK-12</th>\n",
       "      <th>Operating_Status__PreK-12 Operating</th>\n",
       "    </tr>\n",
       "  </thead>\n",
       "  <tbody>\n",
       "    <tr>\n",
       "      <th>0</th>\n",
       "      <td>0.035842</td>\n",
       "      <td>0.006466</td>\n",
       "      <td>0.000830</td>\n",
       "      <td>0.023918</td>\n",
       "      <td>0.008916</td>\n",
       "      <td>0.000221</td>\n",
       "      <td>0.032077</td>\n",
       "      <td>0.024406</td>\n",
       "      <td>0.052099</td>\n",
       "      <td>0.000048</td>\n",
       "      <td>...</td>\n",
       "      <td>0.010729</td>\n",
       "      <td>0.036846</td>\n",
       "      <td>0.116126</td>\n",
       "      <td>0.017360</td>\n",
       "      <td>0.831241</td>\n",
       "      <td>0.141031</td>\n",
       "      <td>0.027749</td>\n",
       "      <td>0.169612</td>\n",
       "      <td>0.019930</td>\n",
       "      <td>0.810543</td>\n",
       "    </tr>\n",
       "    <tr>\n",
       "      <th>1</th>\n",
       "      <td>0.035848</td>\n",
       "      <td>0.006466</td>\n",
       "      <td>0.000830</td>\n",
       "      <td>0.023919</td>\n",
       "      <td>0.008916</td>\n",
       "      <td>0.000221</td>\n",
       "      <td>0.032078</td>\n",
       "      <td>0.024406</td>\n",
       "      <td>0.052102</td>\n",
       "      <td>0.000048</td>\n",
       "      <td>...</td>\n",
       "      <td>0.010728</td>\n",
       "      <td>0.036959</td>\n",
       "      <td>0.116164</td>\n",
       "      <td>0.017361</td>\n",
       "      <td>0.831233</td>\n",
       "      <td>0.141041</td>\n",
       "      <td>0.027751</td>\n",
       "      <td>0.169607</td>\n",
       "      <td>0.019930</td>\n",
       "      <td>0.810553</td>\n",
       "    </tr>\n",
       "    <tr>\n",
       "      <th>2</th>\n",
       "      <td>0.120947</td>\n",
       "      <td>0.009065</td>\n",
       "      <td>0.001523</td>\n",
       "      <td>0.028599</td>\n",
       "      <td>0.016040</td>\n",
       "      <td>0.017085</td>\n",
       "      <td>0.043858</td>\n",
       "      <td>0.031715</td>\n",
       "      <td>0.113907</td>\n",
       "      <td>0.017293</td>\n",
       "      <td>...</td>\n",
       "      <td>0.005622</td>\n",
       "      <td>0.136221</td>\n",
       "      <td>0.135391</td>\n",
       "      <td>0.016041</td>\n",
       "      <td>0.501655</td>\n",
       "      <td>0.472173</td>\n",
       "      <td>0.098601</td>\n",
       "      <td>0.095909</td>\n",
       "      <td>0.051039</td>\n",
       "      <td>0.928330</td>\n",
       "    </tr>\n",
       "    <tr>\n",
       "      <th>3</th>\n",
       "      <td>0.120381</td>\n",
       "      <td>0.009071</td>\n",
       "      <td>0.001522</td>\n",
       "      <td>0.028573</td>\n",
       "      <td>0.016043</td>\n",
       "      <td>0.017063</td>\n",
       "      <td>0.043808</td>\n",
       "      <td>0.031688</td>\n",
       "      <td>0.113723</td>\n",
       "      <td>0.017261</td>\n",
       "      <td>...</td>\n",
       "      <td>0.005630</td>\n",
       "      <td>0.125189</td>\n",
       "      <td>0.134056</td>\n",
       "      <td>0.016029</td>\n",
       "      <td>0.502143</td>\n",
       "      <td>0.471525</td>\n",
       "      <td>0.098399</td>\n",
       "      <td>0.096012</td>\n",
       "      <td>0.051012</td>\n",
       "      <td>0.928203</td>\n",
       "    </tr>\n",
       "    <tr>\n",
       "      <th>4</th>\n",
       "      <td>0.121725</td>\n",
       "      <td>0.009057</td>\n",
       "      <td>0.001524</td>\n",
       "      <td>0.028634</td>\n",
       "      <td>0.016037</td>\n",
       "      <td>0.017115</td>\n",
       "      <td>0.043926</td>\n",
       "      <td>0.031752</td>\n",
       "      <td>0.114158</td>\n",
       "      <td>0.017338</td>\n",
       "      <td>...</td>\n",
       "      <td>0.005612</td>\n",
       "      <td>0.152629</td>\n",
       "      <td>0.137236</td>\n",
       "      <td>0.016058</td>\n",
       "      <td>0.500987</td>\n",
       "      <td>0.473061</td>\n",
       "      <td>0.098879</td>\n",
       "      <td>0.095768</td>\n",
       "      <td>0.051075</td>\n",
       "      <td>0.928504</td>\n",
       "    </tr>\n",
       "  </tbody>\n",
       "</table>\n",
       "<p>5 rows × 104 columns</p>\n",
       "</div>"
      ],
      "text/plain": [
       "   Function__Aides Compensation  Function__Career & Academic Counseling  \\\n",
       "0                      0.035842                                0.006466   \n",
       "1                      0.035848                                0.006466   \n",
       "2                      0.120947                                0.009065   \n",
       "3                      0.120381                                0.009071   \n",
       "4                      0.121725                                0.009057   \n",
       "\n",
       "   Function__Communications  Function__Curriculum Development  \\\n",
       "0                  0.000830                          0.023918   \n",
       "1                  0.000830                          0.023919   \n",
       "2                  0.001523                          0.028599   \n",
       "3                  0.001522                          0.028573   \n",
       "4                  0.001524                          0.028634   \n",
       "\n",
       "   Function__Data Processing & Information Services  \\\n",
       "0                                          0.008916   \n",
       "1                                          0.008916   \n",
       "2                                          0.016040   \n",
       "3                                          0.016043   \n",
       "4                                          0.016037   \n",
       "\n",
       "   Function__Development & Fundraising  Function__Enrichment  \\\n",
       "0                             0.000221              0.032077   \n",
       "1                             0.000221              0.032078   \n",
       "2                             0.017085              0.043858   \n",
       "3                             0.017063              0.043808   \n",
       "4                             0.017115              0.043926   \n",
       "\n",
       "   Function__Extended Time & Tutoring  Function__Facilities & Maintenance  \\\n",
       "0                            0.024406                            0.052099   \n",
       "1                            0.024406                            0.052102   \n",
       "2                            0.031715                            0.113907   \n",
       "3                            0.031688                            0.113723   \n",
       "4                            0.031752                            0.114158   \n",
       "\n",
       "   Function__Facilities Planning                 ...                   \\\n",
       "0                       0.000048                 ...                    \n",
       "1                       0.000048                 ...                    \n",
       "2                       0.017293                 ...                    \n",
       "3                       0.017261                 ...                    \n",
       "4                       0.017338                 ...                    \n",
       "\n",
       "   Object_Type__Rent/Utilities  Object_Type__Substitute Compensation  \\\n",
       "0                     0.010729                              0.036846   \n",
       "1                     0.010728                              0.036959   \n",
       "2                     0.005622                              0.136221   \n",
       "3                     0.005630                              0.125189   \n",
       "4                     0.005612                              0.152629   \n",
       "\n",
       "   Object_Type__Supplies/Materials  Object_Type__Travel & Conferences  \\\n",
       "0                         0.116126                           0.017360   \n",
       "1                         0.116164                           0.017361   \n",
       "2                         0.135391                           0.016041   \n",
       "3                         0.134056                           0.016029   \n",
       "4                         0.137236                           0.016058   \n",
       "\n",
       "   Pre_K__NO_LABEL  Pre_K__Non PreK  Pre_K__PreK  \\\n",
       "0         0.831241         0.141031     0.027749   \n",
       "1         0.831233         0.141041     0.027751   \n",
       "2         0.501655         0.472173     0.098601   \n",
       "3         0.502143         0.471525     0.098399   \n",
       "4         0.500987         0.473061     0.098879   \n",
       "\n",
       "   Operating_Status__Non-Operating  Operating_Status__Operating, Not PreK-12  \\\n",
       "0                         0.169612                                  0.019930   \n",
       "1                         0.169607                                  0.019930   \n",
       "2                         0.095909                                  0.051039   \n",
       "3                         0.096012                                  0.051012   \n",
       "4                         0.095768                                  0.051075   \n",
       "\n",
       "   Operating_Status__PreK-12 Operating  \n",
       "0                             0.810543  \n",
       "1                             0.810553  \n",
       "2                             0.928330  \n",
       "3                             0.928203  \n",
       "4                             0.928504  \n",
       "\n",
       "[5 rows x 104 columns]"
      ]
     },
     "execution_count": 126,
     "metadata": {},
     "output_type": "execute_result"
    }
   ],
   "source": [
    "predictions = clf.predict_proba(test_data[numeric_columns].fillna(-1000))\n",
    "\n",
    "prediction_df = pd.DataFrame(\n",
    "    columns=pd.get_dummies(df[labels], prefix_sep = '__').columns,\n",
    "    data=predictions)\n",
    "\n",
    "prediction_df.head()"
   ]
  },
  {
   "cell_type": "code",
   "execution_count": 127,
   "metadata": {},
   "outputs": [],
   "source": [
    "prediction_df.to_csv('predictions1.csv')"
   ]
  },
  {
   "cell_type": "markdown",
   "metadata": {},
   "source": [
    "## A very brief introduction to NLP"
   ]
  },
  {
   "cell_type": "markdown",
   "metadata": {},
   "source": [
    "#### A very brief introduction to NLP\n",
    "- Data for NLP:\n",
    " - Text, documents, speech, ...\n",
    "- Tokenization\n",
    " - Splitting a string into segments\n",
    " - Store segments as list\n",
    "- Example: 'Natural Language processing'\n",
    " - -> ['Natural','Language','Processing']"
   ]
  },
  {
   "cell_type": "markdown",
   "metadata": {},
   "source": [
    "#### Tokens and token patterns\n",
    "- Tokenize on whitespace\n",
    " - 'Petro-Vend Fuel and Fluids'\n",
    " - ['Petro-Vend','Fuel','and','Fluids']\n",
    "- Tokenize on whitespace and punctuation\n",
    " - 'Petro-Vend Fuel and Fluids'\n",
    " - ['Petro','Vend','Fuel','and','Fluids']"
   ]
  },
  {
   "cell_type": "markdown",
   "metadata": {},
   "source": [
    "#### Bag of words representation\n",
    "- Count the number of times a particular token appears\n",
    "- \"Bag of words\"\n",
    " - Count the number of times a word was pulled out of the bag\n",
    "- This approach discards information about word order\n",
    " - \"Red, not blue\" is the same as \"blue, not red\""
   ]
  },
  {
   "cell_type": "markdown",
   "metadata": {},
   "source": [
    "#### n-grams\n",
    "- A little more sophisticated approach then simply counting words is to link multiple words together\n",
    "- These are grams. single words is 1-gram, two words is 2-gram or bigram and so on. \n",
    "- This maintains word order. "
   ]
  },
  {
   "cell_type": "markdown",
   "metadata": {},
   "source": [
    "## Representing text numerically"
   ]
  },
  {
   "cell_type": "markdown",
   "metadata": {
    "collapsed": true
   },
   "source": [
    "- Bag-of-words\n",
    " - Simple way to represent tet in machine learning\n",
    " - Discards information about grammar and word order\n",
    " - Computes frequency of occurrence\n",
    "\n",
    "#### Sciket-learn tools for bag-of-words\n",
    "- CountVectorizer()\n",
    " - Tokenizes all the strings\n",
    " - Builds a 'vocablary'\n",
    " - Counts the occurrences of each token in the vocabulary\n",
    " "
   ]
  },
  {
   "cell_type": "markdown",
   "metadata": {},
   "source": [
    "### Creating a bag-of-words in scikit-learn\n",
    "- Here we will just practice with one column. \n",
    "- The `Position_Extra` column has additional info not captured in `Position_Type`, like 'Bus Driver'"
   ]
  },
  {
   "cell_type": "code",
   "execution_count": 129,
   "metadata": {},
   "outputs": [
    {
     "data": {
      "text/plain": [
       "134338                 KINDERGARTEN \n",
       "206341                  UNDESIGNATED\n",
       "326408                       TEACHER\n",
       "364634    PROFESSIONAL-INSTRUCTIONAL\n",
       "47683     PROFESSIONAL-INSTRUCTIONAL\n",
       "229958                  UNDESIGNATED\n",
       "417668        SUPPLIES AND MATERIALS\n",
       "126378                  UNDESIGNATED\n",
       "275539    PROFESSIONAL-INSTRUCTIONAL\n",
       "85262     PROFESSIONAL-INSTRUCTIONAL\n",
       "Name: Position_Extra, dtype: object"
      ]
     },
     "execution_count": 129,
     "metadata": {},
     "output_type": "execute_result"
    }
   ],
   "source": [
    "df.Position_Extra[:10]"
   ]
  },
  {
   "cell_type": "code",
   "execution_count": 130,
   "metadata": {},
   "outputs": [
    {
     "data": {
      "text/plain": [
       "Function                                         Student Transportation\n",
       "Use                                                                 O&M\n",
       "Sharing                                                 Shared Services\n",
       "Reporting                                                    Non-School\n",
       "Student_Type                                                Unspecified\n",
       "Position_Type                                                     Other\n",
       "Object_Type                                  Other Compensation/Stipend\n",
       "Pre_K                                                          Non PreK\n",
       "Operating_Status                                      PreK-12 Operating\n",
       "Object_Description        Extra Duty Pay/Overtime For Support Personnel\n",
       "Text_2                                                              NaN\n",
       "SubFund_Description                                          Operations\n",
       "Job_Title_Description                     TRANSPORTATION,BUS DR., RADIO\n",
       "Text_3                                                              NaN\n",
       "Text_4                                     transportation - Second Runs\n",
       "Sub_Object_Description    Extra Duty Pay/Overtime For Support Personnel\n",
       "Location_Description                                        Unallocated\n",
       "FTE                                                                 NaN\n",
       "Function_Description                                     Transportation\n",
       "Facility_or_Department                        Transportation Department\n",
       "Position_Extra                                               BUS DRIVER\n",
       "Total                                                           1752.45\n",
       "Program_Description                                       Undistributed\n",
       "Fund_Description                                 General Operating Fund\n",
       "Text_1                                                    EXTENDED DAYS\n",
       "Name: 8960, dtype: object"
      ]
     },
     "execution_count": 130,
     "metadata": {},
     "output_type": "execute_result"
    }
   ],
   "source": [
    "df.loc[8960]"
   ]
  },
  {
   "cell_type": "code",
   "execution_count": 133,
   "metadata": {},
   "outputs": [
    {
     "name": "stdout",
     "output_type": "stream",
     "text": [
      "There are 415 tokens in Position_Extra if we split on white-space only\n",
      "Here are the first 15 tokens:\n",
      "['&', '(no', '(slp)', '-', '-2nd', '1st', '2nd', '3rd', '4th', '56', '5th', '9th', 'a', 'ab', 'accountability']\n",
      "----------------------------------\n",
      "There are 385 tokens in Position_Extra if we split on non-alpha numeric\n",
      "Here are the first 15 tokens:\n",
      "['1st', '2nd', '3rd', '4th', '56', '5th', '9th', 'a', 'ab', 'accountability', 'adaptive', 'addit', 'additional', 'adm', 'admin']\n"
     ]
    }
   ],
   "source": [
    "# Import CountVectorizer\n",
    "from sklearn.feature_extraction.text import CountVectorizer\n",
    "\n",
    "# Create the token pattern:\n",
    "TOKENS_WHITESPACE = '\\\\S+(?=\\\\s+)'\n",
    "TOKENS_ALPHANUMERIC = '[A-Za-z0-9]+(?=\\\\s+)'\n",
    "\n",
    "# Fill missing values in df.Position_Extra\n",
    "df.Position_Extra.fillna('', inplace = True)\n",
    "\n",
    "# Instantiate the CountVectorizer:\n",
    "vec_whitespace = CountVectorizer(token_pattern = TOKENS_WHITESPACE)\n",
    "vec_alphanumeric = CountVectorizer(token_pattern = TOKENS_ALPHANUMERIC)\n",
    "\n",
    "# Fit to the data\n",
    "vec_whitespace.fit(df.Position_Extra)\n",
    "vec_alphanumeric.fit(df.Position_Extra)\n",
    "\n",
    "# Print the number of tokens and first 15 tokens\n",
    "msg = \"There are {} tokens in Position_Extra if we split on white-space only\"\n",
    "print(msg.format(len(vec_whitespace.get_feature_names())))\n",
    "print('Here are the first 15 tokens:')\n",
    "print(vec_whitespace.get_feature_names()[:15])\n",
    "print('----------------------------------')\n",
    "\n",
    "# Print the number of tokens and first 15 tokens\n",
    "msg = \"There are {} tokens in Position_Extra if we split on non-alpha numeric\"\n",
    "print(msg.format(len(vec_alphanumeric.get_feature_names())))\n",
    "print('Here are the first 15 tokens:')\n",
    "print(vec_alphanumeric.get_feature_names()[:15])"
   ]
  },
  {
   "cell_type": "markdown",
   "metadata": {},
   "source": [
    "### Combining text columns for tokenization\n",
    "- In the real world we will use all the text columns to create the set of tokens. \n",
    " - Each row will have a bunch of words that represent it. \n",
    " - I guess it does not matter, in this case, which column it comes from"
   ]
  },
  {
   "cell_type": "code",
   "execution_count": 157,
   "metadata": {
    "collapsed": true
   },
   "outputs": [],
   "source": [
    "# Define combine_text_columns()\n",
    "def combine_text_columns(data_frame, to_drop=labels + numeric_columns):\n",
    "    \"\"\" converts all text in each row of data_frame to single vector \"\"\"\n",
    "    \n",
    "    # Drop non-text columns that are in the df\n",
    "    to_drop = set(to_drop) & set(data_frame.columns.tolist())\n",
    "    text_data = data_frame.drop(to_drop, axis = 1)\n",
    "    \n",
    "    # Replace nans with blanks\n",
    "    text_data.fillna(\"\", inplace=True)\n",
    "    \n",
    "    # Join all text items in a row that have a space in between\n",
    "    return text_data.apply(lambda x: \" \".join(x), axis=1)"
   ]
  },
  {
   "cell_type": "markdown",
   "metadata": {},
   "source": [
    "### What's in a token?\n",
    "- The fit_transfrom returns the TDM. From [sklearn docs](http://scikit-learn.org/stable/modules/generated/sklearn.feature_extraction.text.CountVectorizer.html):\n",
    " - `fit(raw_documents[, y])`\tLearn a vocabulary dictionary of all tokens in the raw documents.\n",
    " - `fit_transform(raw_documents[, y])`\tLearn the vocabulary dictionary and return term-document matrix."
   ]
  },
  {
   "cell_type": "code",
   "execution_count": 158,
   "metadata": {},
   "outputs": [
    {
     "name": "stdout",
     "output_type": "stream",
     "text": [
      "['FTE', 'Total']\n",
      "['Function', 'Use', 'Sharing', 'Reporting', 'Student_Type', 'Position_Type', 'Object_Type', 'Pre_K', 'Operating_Status']\n"
     ]
    }
   ],
   "source": [
    "print(numeric_columns)\n",
    "print(labels)"
   ]
  },
  {
   "cell_type": "code",
   "execution_count": 159,
   "metadata": {},
   "outputs": [
    {
     "data": {
      "text/plain": [
       "134338       Teacher-Elementary        KINDERGARTEN  KIN...\n",
       "206341    CONTRACTOR SERVICES BOND EXPENDITURES BUILDING...\n",
       "326408    Personal Services - Teachers   TCHER 2ND GRADE...\n",
       "364634    EMPLOYEE BENEFITS TEACHER SUBS GENERAL FUND Te...\n",
       "47683     TEACHER COVERAGE FOR TEACHER TEACHER SUBS GENE...\n",
       "229958    CONTRA BENEFITS  GENERAL FUND Custodian - PT -...\n",
       "417668    EDUCATIONAL SPECIAL EDUCATION INSTRUCTION LOCA...\n",
       "126378    EMPLOYEE BENEFITS  GENERAL FUND Sub Manager, F...\n",
       "275539    EMPLOYEE BENEFITS  GENERAL FUND Teacher, Eleme...\n",
       "85262     EMPLOYEE BENEFITS TEACHER SUBS GENERAL FUND Te...\n",
       "dtype: object"
      ]
     },
     "execution_count": 159,
     "metadata": {},
     "output_type": "execute_result"
    }
   ],
   "source": [
    "# Create the text vector\n",
    "text_vector = combine_text_columns(df, to_drop = numeric_columns + labels)\n",
    "text_vector[:10]"
   ]
  },
  {
   "cell_type": "code",
   "execution_count": 160,
   "metadata": {},
   "outputs": [
    {
     "name": "stdout",
     "output_type": "stream",
     "text": [
      "There are 4758 tokens in the dataset\n",
      "--------------------------------------\n",
      "There are 3284 alpha-numeric tokens in the dataset\n"
     ]
    }
   ],
   "source": [
    "# Import the CountVectorizer\n",
    "from sklearn.feature_extraction.text import CountVectorizer\n",
    "\n",
    "# Create the token pattern\n",
    "TOKENS_BASIC = '\\\\S+(?=\\\\s+)'\n",
    "TOKENS_ALPHANUMERIC = '[A-Za-z0-9]+(?=\\\\s+)'\n",
    "\n",
    "# Instantiate basic CountVectorizer:\n",
    "vec_basic = CountVectorizer(token_pattern=TOKENS_BASIC)\n",
    "vec_alphanumeric = CountVectorizer(token_pattern=TOKENS_ALPHANUMERIC)\n",
    "\n",
    "# Fit and transform\n",
    "vec_basic.fit_transform(text_vector)\n",
    "vec_alphanumeric.fit_transform(text_vector)\n",
    "\n",
    "# Print number of tokens of vec_basic\n",
    "print(\"There are {} tokens in the dataset\".format(len(vec_basic.get_feature_names())))\n",
    "print('--------------------------------------')\n",
    "# Print number of tokens of vec_alphanumeric\n",
    "print(\"There are {} alpha-numeric tokens in the dataset\".format(len(vec_alphanumeric.get_feature_names())))"
   ]
  },
  {
   "cell_type": "markdown",
   "metadata": {},
   "source": [
    "# Improving your model"
   ]
  },
  {
   "cell_type": "markdown",
   "metadata": {},
   "source": [
    "## Pipelines, feature & text preprocessing"
   ]
  },
  {
   "cell_type": "markdown",
   "metadata": {
    "collapsed": true
   },
   "source": [
    "#### The pipeline workflow\n",
    "- Repeatable way to go from raw data to trained model\n",
    "- Pipeline object takes sequential list of steps\n",
    " - Output of one step is input to next step\n",
    "- Each step is a tuple with two elements\n",
    " - Name: string\n",
    " - Transform: obj implementing .fit() and .transform()\n",
    "- Flexible: a step can itself be another pipeline!"
   ]
  },
  {
   "cell_type": "markdown",
   "metadata": {},
   "source": [
    "### Instantiate pipeline\n",
    "- First we will just practice building up a pipeline with modeling and preprocessing steps using some sample data."
   ]
  },
  {
   "cell_type": "code",
   "execution_count": 143,
   "metadata": {},
   "outputs": [
    {
     "data": {
      "text/html": [
       "<div>\n",
       "<style>\n",
       "    .dataframe thead tr:only-child th {\n",
       "        text-align: right;\n",
       "    }\n",
       "\n",
       "    .dataframe thead th {\n",
       "        text-align: left;\n",
       "    }\n",
       "\n",
       "    .dataframe tbody tr th {\n",
       "        vertical-align: top;\n",
       "    }\n",
       "</style>\n",
       "<table border=\"1\" class=\"dataframe\">\n",
       "  <thead>\n",
       "    <tr style=\"text-align: right;\">\n",
       "      <th></th>\n",
       "      <th>numeric</th>\n",
       "      <th>text</th>\n",
       "      <th>with_missing</th>\n",
       "      <th>label</th>\n",
       "    </tr>\n",
       "  </thead>\n",
       "  <tbody>\n",
       "    <tr>\n",
       "      <th>0</th>\n",
       "      <td>-10.856306</td>\n",
       "      <td></td>\n",
       "      <td>4.433240</td>\n",
       "      <td>b</td>\n",
       "    </tr>\n",
       "    <tr>\n",
       "      <th>1</th>\n",
       "      <td>9.973454</td>\n",
       "      <td>foo</td>\n",
       "      <td>4.310229</td>\n",
       "      <td>b</td>\n",
       "    </tr>\n",
       "    <tr>\n",
       "      <th>2</th>\n",
       "      <td>2.829785</td>\n",
       "      <td>foo bar</td>\n",
       "      <td>2.469828</td>\n",
       "      <td>a</td>\n",
       "    </tr>\n",
       "    <tr>\n",
       "      <th>3</th>\n",
       "      <td>-15.062947</td>\n",
       "      <td></td>\n",
       "      <td>2.852981</td>\n",
       "      <td>b</td>\n",
       "    </tr>\n",
       "    <tr>\n",
       "      <th>4</th>\n",
       "      <td>-5.786003</td>\n",
       "      <td>foo bar</td>\n",
       "      <td>1.826475</td>\n",
       "      <td>a</td>\n",
       "    </tr>\n",
       "  </tbody>\n",
       "</table>\n",
       "</div>"
      ],
      "text/plain": [
       "     numeric     text  with_missing label\n",
       "0 -10.856306               4.433240     b\n",
       "1   9.973454      foo      4.310229     b\n",
       "2   2.829785  foo bar      2.469828     a\n",
       "3 -15.062947               2.852981     b\n",
       "4  -5.786003  foo bar      1.826475     a"
      ]
     },
     "execution_count": 143,
     "metadata": {},
     "output_type": "execute_result"
    }
   ],
   "source": [
    "%run data/sample_df.py\n",
    "sample_df.head()"
   ]
  },
  {
   "cell_type": "code",
   "execution_count": 144,
   "metadata": {},
   "outputs": [
    {
     "name": "stdout",
     "output_type": "stream",
     "text": [
      "\n",
      "Accuracy on sample data - numeric, no nans:  0.62\n"
     ]
    }
   ],
   "source": [
    "# Import Pipeline\n",
    "from sklearn.pipeline import Pipeline\n",
    "\n",
    "# Import other necessary modules\n",
    "from sklearn.model_selection import train_test_split\n",
    "from sklearn.linear_model import LogisticRegression\n",
    "from sklearn.multiclass import OneVsRestClassifier\n",
    "\n",
    "# Split and select numeric data only, no nans \n",
    "X_train, X_test, y_train, y_test = train_test_split(\n",
    "    sample_df[['numeric']],\n",
    "    pd.get_dummies(sample_df['label']), \n",
    "    random_state=22)\n",
    "\n",
    "# Instantiate Pipeline object: pl\n",
    "pl = Pipeline([\n",
    "        ('clf', OneVsRestClassifier(LogisticRegression()))\n",
    "    ])\n",
    "\n",
    "# Fit the pipeline to the training data\n",
    "pl.fit(X_train, y_train)\n",
    "\n",
    "# Compute and print accuracy\n",
    "accuracy = pl.score(X_test, y_test)\n",
    "print(\"\\nAccuracy on sample data - numeric, no nans: \", accuracy)"
   ]
  },
  {
   "cell_type": "markdown",
   "metadata": {},
   "source": [
    "### Preprocessing numeric features\n",
    "- If we want to include the aptly named column 'with_missing' we will need to add an imputation pre-procesing step\n",
    " - But this is super easy. We will just use the `Imputer()` defualts which is the average of the column\n",
    " - [sklean docs for imputer](http://scikit-learn.org/stable/modules/generated/sklearn.preprocessing.Imputer.html)"
   ]
  },
  {
   "cell_type": "code",
   "execution_count": 145,
   "metadata": {},
   "outputs": [
    {
     "name": "stdout",
     "output_type": "stream",
     "text": [
      "\n",
      "Accuracy on sample data - all numeric, incl nans:  0.636\n"
     ]
    }
   ],
   "source": [
    "# Import the Imputer object\n",
    "from sklearn.preprocessing import Imputer\n",
    "\n",
    "# Create training and test sets using only numeric data\n",
    "X_train, X_test, y_train, y_test = train_test_split(\n",
    "    sample_df[['numeric', 'with_missing']],\n",
    "    pd.get_dummies(sample_df['label']), \n",
    "    random_state=456)\n",
    "\n",
    "# Insantiate Pipeline object: pl\n",
    "pl = Pipeline([\n",
    "        ('imp', Imputer()),\n",
    "        ('clf', OneVsRestClassifier(LogisticRegression()))\n",
    "    ])\n",
    "\n",
    "# Fit the pipeline to the training data\n",
    "pl.fit(X_train, y_train)\n",
    "\n",
    "# Compute and print accuracy\n",
    "accuracy = pl.score(X_test, y_test)\n",
    "print(\"\\nAccuracy on sample data - all numeric, incl nans: \", accuracy)"
   ]
  },
  {
   "cell_type": "markdown",
   "metadata": {},
   "source": [
    "## Text features and feature unions"
   ]
  },
  {
   "cell_type": "markdown",
   "metadata": {
    "collapsed": true
   },
   "source": [
    "#### Preprocessing multiple dtypes\n",
    "- Want to use all available features in one pipeline\n",
    "- Problem:\n",
    " - Pipeline steps for numeric and text preprocesing can't follow each other\n",
    " - e.g., output of CountVectorizer can't be input to Imputer\n",
    "- Solution\n",
    " - FunctionTransformer() & FeatureUnion()\n",
    "\n",
    "#### Function Transformer\n",
    "- Turns a Python function into an object that a scikit-learn pipeline can understand\n",
    "- Need to write two functions for pipeline preprocessing\n",
    " - Take entire DataFrame, return numeric columns\n",
    " - Take entire DataFrame, return text columns\n",
    "- Can then preprocess numeric and text data in separate pipelines"
   ]
  },
  {
   "cell_type": "markdown",
   "metadata": {},
   "source": [
    "### Preprocessing text features\n",
    "- First we will just practice, briefly, with using just the text data in the model"
   ]
  },
  {
   "cell_type": "code",
   "execution_count": 146,
   "metadata": {},
   "outputs": [
    {
     "name": "stdout",
     "output_type": "stream",
     "text": [
      "\n",
      "Accuracy on sample data - just text data:  0.808\n"
     ]
    }
   ],
   "source": [
    "# Import the CountVectorizer\n",
    "from sklearn.feature_extraction.text import CountVectorizer\n",
    "\n",
    "# Split out only the text data\n",
    "X_train, X_test, y_train, y_test = train_test_split(\n",
    "    sample_df['text'],\n",
    "    pd.get_dummies(sample_df['label']), \n",
    "    random_state=456)\n",
    "\n",
    "# Instantiate Pipeline object: pl\n",
    "pl = Pipeline([\n",
    "        ('vec', CountVectorizer()),\n",
    "        ('clf', OneVsRestClassifier(LogisticRegression()))\n",
    "    ])\n",
    "\n",
    "# Fit to the training data\n",
    "pl.fit(X_train, y_train)\n",
    "\n",
    "# Compute and print accuracy\n",
    "accuracy = pl.score(X_test, y_test)\n",
    "print(\"\\nAccuracy on sample data - just text data: \", accuracy)\n"
   ]
  },
  {
   "cell_type": "markdown",
   "metadata": {},
   "source": [
    "- Not bad. Thats much better accuracy than we had with the numeric data alone. "
   ]
  },
  {
   "cell_type": "markdown",
   "metadata": {},
   "source": [
    "### Multiple types of processing: FunctionTransformer\n",
    "- Any step in the pipeline must be an object that implements the fit and transform methods. \n",
    "- The `FunctionTransformer` creates an object with these methods out of any Python function that you pass to it. \n",
    "- We'll use it to help select subsets of data in a way that plays nicely with pipelines."
   ]
  },
  {
   "cell_type": "code",
   "execution_count": 148,
   "metadata": {},
   "outputs": [
    {
     "name": "stdout",
     "output_type": "stream",
     "text": [
      "Text Data\n",
      "0           \n",
      "1        foo\n",
      "2    foo bar\n",
      "3           \n",
      "4    foo bar\n",
      "Name: text, dtype: object\n",
      "----------------------\n",
      "\n",
      "Numeric Data\n",
      "     numeric  with_missing\n",
      "0 -10.856306      4.433240\n",
      "1   9.973454      4.310229\n",
      "2   2.829785      2.469828\n",
      "3 -15.062947      2.852981\n",
      "4  -5.786003      1.826475\n"
     ]
    }
   ],
   "source": [
    "# Import FunctionTransformer\n",
    "from sklearn.preprocessing import FunctionTransformer\n",
    "\n",
    "# Obtain the text data: get_text_data\n",
    "get_text_data = FunctionTransformer(lambda x: x['text'], validate=False)\n",
    "\n",
    "# Obtain the numeric data: get_numeric_data\n",
    "get_numeric_data = FunctionTransformer(lambda x: x[['numeric', 'with_missing']], validate=False)\n",
    "\n",
    "# Fit and transform the text data: just_text_data\n",
    "just_text_data = get_text_data.fit_transform(sample_df)\n",
    "\n",
    "# Fit and transform the numeric data: just_numeric_data\n",
    "just_numeric_data = get_numeric_data.fit_transform(sample_df)\n",
    "\n",
    "# Print head to check results\n",
    "print('Text Data')\n",
    "print(just_text_data.head())\n",
    "print('----------------------')\n",
    "print('\\nNumeric Data')\n",
    "print(just_numeric_data.head())"
   ]
  },
  {
   "cell_type": "markdown",
   "metadata": {},
   "source": [
    "### Multiple types of processing: FeatureUnion\n",
    "- Now we can streamline all preprocessing steps for our model, even when multiple datatypes are involved. \n",
    " - We don't want to impute our text data, \n",
    " - And we don't want to create a bag-of-words with our numeric data. \n",
    "- We will deal with these separately and then join the results together using `FeatureUnion()`"
   ]
  },
  {
   "cell_type": "code",
   "execution_count": 149,
   "metadata": {},
   "outputs": [
    {
     "name": "stdout",
     "output_type": "stream",
     "text": [
      "\n",
      "Accuracy on sample data - all data:  0.928\n"
     ]
    }
   ],
   "source": [
    "# Import FeatureUnion\n",
    "from sklearn.pipeline import FeatureUnion\n",
    "\n",
    "# Split using ALL data in sample_df\n",
    "X_train, X_test, y_train, y_test = train_test_split(\n",
    "    sample_df[['numeric', 'with_missing', 'text']],\n",
    "    pd.get_dummies(sample_df['label']), \n",
    "    random_state=22)\n",
    "\n",
    "# Create a FeatureUnion with nested pipeline: process_and_join_features\n",
    "process_and_join_features = FeatureUnion(\n",
    "            transformer_list = [\n",
    "                ('numeric_features', Pipeline([\n",
    "                    ('selector', get_numeric_data),\n",
    "                    ('imputer', Imputer())\n",
    "                ])),\n",
    "                ('text_features', Pipeline([\n",
    "                    ('selector', get_text_data),\n",
    "                    ('vectorizer', CountVectorizer())\n",
    "                ]))\n",
    "             ]\n",
    "        )\n",
    "\n",
    "# Instantiate nested pipeline: pl\n",
    "pl = Pipeline([\n",
    "        ('union', process_and_join_features),\n",
    "        ('clf', OneVsRestClassifier(LogisticRegression()))\n",
    "    ])\n",
    "\n",
    "\n",
    "# Fit pl to the training data\n",
    "pl.fit(X_train, y_train)\n",
    "\n",
    "# Compute and print accuracy\n",
    "accuracy = pl.score(X_test, y_test)\n",
    "print(\"\\nAccuracy on sample data - all data: \", accuracy)\n"
   ]
  },
  {
   "cell_type": "markdown",
   "metadata": {},
   "source": [
    "## Choosing a classification model"
   ]
  },
  {
   "cell_type": "markdown",
   "metadata": {
    "collapsed": true
   },
   "source": [
    "#### Flexibility of model step\n",
    "- Is current model the best?\n",
    "- Can quickly try different models with pipelines\n",
    " - Pipeline preprocessing steps unchanged\n",
    " - Edit the model step in your pipeline\n",
    " - Random Forest, Naive Bayes, k-NN"
   ]
  },
  {
   "cell_type": "markdown",
   "metadata": {},
   "source": [
    "### Using FunctionTransformer on the main dataset"
   ]
  },
  {
   "cell_type": "code",
   "execution_count": 150,
   "metadata": {},
   "outputs": [
    {
     "name": "stdout",
     "output_type": "stream",
     "text": [
      "['Function', 'Use', 'Sharing', 'Reporting', 'Student_Type', 'Position_Type', 'Object_Type', 'Pre_K', 'Operating_Status']\n",
      "['FTE', 'Total']\n"
     ]
    }
   ],
   "source": [
    "print(labels)\n",
    "print(numeric_columns)"
   ]
  },
  {
   "cell_type": "code",
   "execution_count": 153,
   "metadata": {},
   "outputs": [
    {
     "data": {
      "text/html": [
       "<div>\n",
       "<style>\n",
       "    .dataframe thead tr:only-child th {\n",
       "        text-align: right;\n",
       "    }\n",
       "\n",
       "    .dataframe thead th {\n",
       "        text-align: left;\n",
       "    }\n",
       "\n",
       "    .dataframe tbody tr th {\n",
       "        vertical-align: top;\n",
       "    }\n",
       "</style>\n",
       "<table border=\"1\" class=\"dataframe\">\n",
       "  <thead>\n",
       "    <tr style=\"text-align: right;\">\n",
       "      <th></th>\n",
       "      <th>Function</th>\n",
       "      <th>Use</th>\n",
       "      <th>Sharing</th>\n",
       "      <th>Reporting</th>\n",
       "      <th>Student_Type</th>\n",
       "      <th>Position_Type</th>\n",
       "      <th>Object_Type</th>\n",
       "      <th>Pre_K</th>\n",
       "      <th>Operating_Status</th>\n",
       "      <th>Object_Description</th>\n",
       "      <th>...</th>\n",
       "      <th>Sub_Object_Description</th>\n",
       "      <th>Location_Description</th>\n",
       "      <th>FTE</th>\n",
       "      <th>Function_Description</th>\n",
       "      <th>Facility_or_Department</th>\n",
       "      <th>Position_Extra</th>\n",
       "      <th>Total</th>\n",
       "      <th>Program_Description</th>\n",
       "      <th>Fund_Description</th>\n",
       "      <th>Text_1</th>\n",
       "    </tr>\n",
       "  </thead>\n",
       "  <tbody>\n",
       "    <tr>\n",
       "      <th>134338</th>\n",
       "      <td>Teacher Compensation</td>\n",
       "      <td>Instruction</td>\n",
       "      <td>School Reported</td>\n",
       "      <td>School</td>\n",
       "      <td>NO_LABEL</td>\n",
       "      <td>Teacher</td>\n",
       "      <td>NO_LABEL</td>\n",
       "      <td>NO_LABEL</td>\n",
       "      <td>PreK-12 Operating</td>\n",
       "      <td>NaN</td>\n",
       "      <td>...</td>\n",
       "      <td>NaN</td>\n",
       "      <td>NaN</td>\n",
       "      <td>1.0</td>\n",
       "      <td>NaN</td>\n",
       "      <td>NaN</td>\n",
       "      <td>KINDERGARTEN</td>\n",
       "      <td>50471.810</td>\n",
       "      <td>KINDERGARTEN</td>\n",
       "      <td>General Fund</td>\n",
       "      <td>NaN</td>\n",
       "    </tr>\n",
       "    <tr>\n",
       "      <th>206341</th>\n",
       "      <td>NO_LABEL</td>\n",
       "      <td>NO_LABEL</td>\n",
       "      <td>NO_LABEL</td>\n",
       "      <td>NO_LABEL</td>\n",
       "      <td>NO_LABEL</td>\n",
       "      <td>NO_LABEL</td>\n",
       "      <td>NO_LABEL</td>\n",
       "      <td>NO_LABEL</td>\n",
       "      <td>Non-Operating</td>\n",
       "      <td>CONTRACTOR SERVICES</td>\n",
       "      <td>...</td>\n",
       "      <td>NaN</td>\n",
       "      <td>NaN</td>\n",
       "      <td>NaN</td>\n",
       "      <td>RGN  GOB</td>\n",
       "      <td>NaN</td>\n",
       "      <td>UNDESIGNATED</td>\n",
       "      <td>3477.860</td>\n",
       "      <td>BUILDING IMPROVEMENT SERVICES</td>\n",
       "      <td>NaN</td>\n",
       "      <td>BUILDING IMPROVEMENT SERVICES</td>\n",
       "    </tr>\n",
       "    <tr>\n",
       "      <th>326408</th>\n",
       "      <td>Teacher Compensation</td>\n",
       "      <td>Instruction</td>\n",
       "      <td>School Reported</td>\n",
       "      <td>School</td>\n",
       "      <td>Unspecified</td>\n",
       "      <td>Teacher</td>\n",
       "      <td>Base Salary/Compensation</td>\n",
       "      <td>Non PreK</td>\n",
       "      <td>PreK-12 Operating</td>\n",
       "      <td>Personal Services - Teachers</td>\n",
       "      <td>...</td>\n",
       "      <td>NaN</td>\n",
       "      <td>NaN</td>\n",
       "      <td>1.0</td>\n",
       "      <td>NaN</td>\n",
       "      <td>NaN</td>\n",
       "      <td>TEACHER</td>\n",
       "      <td>62237.130</td>\n",
       "      <td>Instruction - Regular</td>\n",
       "      <td>General Purpose School</td>\n",
       "      <td>NaN</td>\n",
       "    </tr>\n",
       "    <tr>\n",
       "      <th>364634</th>\n",
       "      <td>Substitute Compensation</td>\n",
       "      <td>Instruction</td>\n",
       "      <td>School Reported</td>\n",
       "      <td>School</td>\n",
       "      <td>Unspecified</td>\n",
       "      <td>Substitute</td>\n",
       "      <td>Benefits</td>\n",
       "      <td>NO_LABEL</td>\n",
       "      <td>PreK-12 Operating</td>\n",
       "      <td>EMPLOYEE BENEFITS</td>\n",
       "      <td>...</td>\n",
       "      <td>NaN</td>\n",
       "      <td>NaN</td>\n",
       "      <td>NaN</td>\n",
       "      <td>UNALLOC BUDGETS/SCHOOLS</td>\n",
       "      <td>NaN</td>\n",
       "      <td>PROFESSIONAL-INSTRUCTIONAL</td>\n",
       "      <td>22.300</td>\n",
       "      <td>GENERAL MIDDLE/JUNIOR HIGH SCH</td>\n",
       "      <td>NaN</td>\n",
       "      <td>REGULAR INSTRUCTION</td>\n",
       "    </tr>\n",
       "    <tr>\n",
       "      <th>47683</th>\n",
       "      <td>Substitute Compensation</td>\n",
       "      <td>Instruction</td>\n",
       "      <td>School Reported</td>\n",
       "      <td>School</td>\n",
       "      <td>Unspecified</td>\n",
       "      <td>Teacher</td>\n",
       "      <td>Substitute Compensation</td>\n",
       "      <td>NO_LABEL</td>\n",
       "      <td>PreK-12 Operating</td>\n",
       "      <td>TEACHER COVERAGE FOR TEACHER</td>\n",
       "      <td>...</td>\n",
       "      <td>NaN</td>\n",
       "      <td>NaN</td>\n",
       "      <td>NaN</td>\n",
       "      <td>NON-PROJECT</td>\n",
       "      <td>NaN</td>\n",
       "      <td>PROFESSIONAL-INSTRUCTIONAL</td>\n",
       "      <td>54.166</td>\n",
       "      <td>GENERAL HIGH SCHOOL EDUCATION</td>\n",
       "      <td>NaN</td>\n",
       "      <td>REGULAR INSTRUCTION</td>\n",
       "    </tr>\n",
       "  </tbody>\n",
       "</table>\n",
       "<p>5 rows × 25 columns</p>\n",
       "</div>"
      ],
      "text/plain": [
       "                       Function          Use          Sharing Reporting  \\\n",
       "134338     Teacher Compensation  Instruction  School Reported    School   \n",
       "206341                 NO_LABEL     NO_LABEL         NO_LABEL  NO_LABEL   \n",
       "326408     Teacher Compensation  Instruction  School Reported    School   \n",
       "364634  Substitute Compensation  Instruction  School Reported    School   \n",
       "47683   Substitute Compensation  Instruction  School Reported    School   \n",
       "\n",
       "       Student_Type Position_Type               Object_Type     Pre_K  \\\n",
       "134338     NO_LABEL       Teacher                  NO_LABEL  NO_LABEL   \n",
       "206341     NO_LABEL      NO_LABEL                  NO_LABEL  NO_LABEL   \n",
       "326408  Unspecified       Teacher  Base Salary/Compensation  Non PreK   \n",
       "364634  Unspecified    Substitute                  Benefits  NO_LABEL   \n",
       "47683   Unspecified       Teacher   Substitute Compensation  NO_LABEL   \n",
       "\n",
       "         Operating_Status            Object_Description  \\\n",
       "134338  PreK-12 Operating                           NaN   \n",
       "206341      Non-Operating           CONTRACTOR SERVICES   \n",
       "326408  PreK-12 Operating  Personal Services - Teachers   \n",
       "364634  PreK-12 Operating             EMPLOYEE BENEFITS   \n",
       "47683   PreK-12 Operating  TEACHER COVERAGE FOR TEACHER   \n",
       "\n",
       "                    ...               Sub_Object_Description  \\\n",
       "134338              ...                                  NaN   \n",
       "206341              ...                                  NaN   \n",
       "326408              ...                                  NaN   \n",
       "364634              ...                                  NaN   \n",
       "47683               ...                                  NaN   \n",
       "\n",
       "       Location_Description  FTE     Function_Description  \\\n",
       "134338                  NaN  1.0                      NaN   \n",
       "206341                  NaN  NaN                 RGN  GOB   \n",
       "326408                  NaN  1.0                      NaN   \n",
       "364634                  NaN  NaN  UNALLOC BUDGETS/SCHOOLS   \n",
       "47683                   NaN  NaN              NON-PROJECT   \n",
       "\n",
       "       Facility_or_Department              Position_Extra      Total  \\\n",
       "134338                    NaN               KINDERGARTEN   50471.810   \n",
       "206341                    NaN                UNDESIGNATED   3477.860   \n",
       "326408                    NaN                     TEACHER  62237.130   \n",
       "364634                    NaN  PROFESSIONAL-INSTRUCTIONAL     22.300   \n",
       "47683                     NaN  PROFESSIONAL-INSTRUCTIONAL     54.166   \n",
       "\n",
       "                   Program_Description        Fund_Description  \\\n",
       "134338                    KINDERGARTEN            General Fund   \n",
       "206341   BUILDING IMPROVEMENT SERVICES                     NaN   \n",
       "326408           Instruction - Regular  General Purpose School   \n",
       "364634  GENERAL MIDDLE/JUNIOR HIGH SCH                     NaN   \n",
       "47683    GENERAL HIGH SCHOOL EDUCATION                     NaN   \n",
       "\n",
       "                               Text_1  \n",
       "134338                            NaN  \n",
       "206341  BUILDING IMPROVEMENT SERVICES  \n",
       "326408                            NaN  \n",
       "364634            REGULAR INSTRUCTION  \n",
       "47683             REGULAR INSTRUCTION  \n",
       "\n",
       "[5 rows x 25 columns]"
      ]
     },
     "execution_count": 153,
     "metadata": {},
     "output_type": "execute_result"
    }
   ],
   "source": [
    "df.head()"
   ]
  },
  {
   "cell_type": "code",
   "execution_count": 161,
   "metadata": {},
   "outputs": [],
   "source": [
    "# Import FunctionTransformer\n",
    "from sklearn.preprocessing import FunctionTransformer\n",
    "\n",
    "# Get the dummy encoding of the labels\n",
    "dummy_labels = pd.get_dummies(df[labels])\n",
    "\n",
    "# Get the columns that are features in the original df\n",
    "NON_LABELS = [c for c in df.columns if c not in labels]\n",
    "\n",
    "# Split into training and test sets\n",
    "X_train, X_test, y_train, y_test = multilabel_train_test_split(\n",
    "    df[NON_LABELS],\n",
    "    dummy_labels,\n",
    "    0.2, \n",
    "    seed=123)\n",
    "\n",
    "# Preprocess the text data: get_text_data\n",
    "get_text_data = FunctionTransformer(\n",
    "    combine_text_columns,\n",
    "    validate = False)\n",
    "\n",
    "# Preprocess the numeric data: get_numeric_data\n",
    "get_numeric_data = FunctionTransformer(\n",
    "    lambda x: x[numeric_columns], validate=False)\n"
   ]
  },
  {
   "cell_type": "markdown",
   "metadata": {},
   "source": [
    "### Add a model to the pipeline"
   ]
  },
  {
   "cell_type": "code",
   "execution_count": 162,
   "metadata": {},
   "outputs": [
    {
     "name": "stdout",
     "output_type": "stream",
     "text": [
      "\n",
      "Accuracy on budget dataset:  0.35674223971\n"
     ]
    }
   ],
   "source": [
    "# Complete the pipeline: pl\n",
    "pl = Pipeline([\n",
    "        ('union', FeatureUnion(\n",
    "            transformer_list = [\n",
    "                ('numeric_features', Pipeline([\n",
    "                    ('selector', get_numeric_data),\n",
    "                    ('imputer', Imputer())\n",
    "                ])),\n",
    "                ('text_features', Pipeline([\n",
    "                    ('selector', get_text_data),\n",
    "                    ('vectorizer', CountVectorizer())\n",
    "                ]))\n",
    "             ]\n",
    "        )),\n",
    "        ('clf', OneVsRestClassifier(LogisticRegression()))\n",
    "    ])\n",
    "\n",
    "# Fit to the training data\n",
    "pl.fit(X_train, y_train)\n",
    "\n",
    "# Compute and print accuracy\n",
    "accuracy = pl.score(X_test, y_test)\n",
    "print(\"\\nAccuracy on budget dataset: \", accuracy)"
   ]
  },
  {
   "cell_type": "markdown",
   "metadata": {},
   "source": [
    "### Try a different class of model\n",
    "- Look how easy it is to change the model\n",
    "- Here we will swap out the logistic-regression model and replace it with a random forest classifier, which uses the statistics of an ensemble of decision trees to generate predictions."
   ]
  },
  {
   "cell_type": "code",
   "execution_count": 163,
   "metadata": {},
   "outputs": [
    {
     "name": "stdout",
     "output_type": "stream",
     "text": [
      "\n",
      "Accuracy on budget dataset:  0.904877896446\n"
     ]
    }
   ],
   "source": [
    "# Import random forest classifer\n",
    "from sklearn.ensemble import RandomForestClassifier\n",
    "\n",
    "# Edit model step in pipeline\n",
    "pl = Pipeline([\n",
    "        ('union', FeatureUnion(\n",
    "            transformer_list = [\n",
    "                ('numeric_features', Pipeline([\n",
    "                    ('selector', get_numeric_data),\n",
    "                    ('imputer', Imputer())\n",
    "                ])),\n",
    "                ('text_features', Pipeline([\n",
    "                    ('selector', get_text_data),\n",
    "                    ('vectorizer', CountVectorizer())\n",
    "                ]))\n",
    "             ]\n",
    "        )),\n",
    "        ('clf', RandomForestClassifier())\n",
    "    ])\n",
    "\n",
    "# Fit to the training data\n",
    "pl.fit(X_train, y_train)\n",
    "\n",
    "# Compute and print accuracy\n",
    "accuracy = pl.score(X_test, y_test)\n",
    "print(\"\\nAccuracy on budget dataset: \", accuracy)"
   ]
  },
  {
   "cell_type": "markdown",
   "metadata": {},
   "source": [
    "### Can you adjust the model or parameters to improve accuracy?\n",
    "- Here we just do a bit of parameter tuning to improve accuracy\n",
    "- It would be nicer if I could dynamically set the model in a variable and then just rerun the same code. \n",
    " - But I will just follow along with the class code for now."
   ]
  },
  {
   "cell_type": "code",
   "execution_count": 164,
   "metadata": {},
   "outputs": [
    {
     "name": "stdout",
     "output_type": "stream",
     "text": [
      "\n",
      "Accuracy on budget dataset:  0.912397726563\n"
     ]
    }
   ],
   "source": [
    "# Import RandomForestClassifier\n",
    "from sklearn.ensemble import RandomForestClassifier\n",
    "\n",
    "# Add model step to pipeline: pl\n",
    "pl = Pipeline([\n",
    "        ('union', FeatureUnion(\n",
    "            transformer_list = [\n",
    "                ('numeric_features', Pipeline([\n",
    "                    ('selector', get_numeric_data),\n",
    "                    ('imputer', Imputer())\n",
    "                ])),\n",
    "                ('text_features', Pipeline([\n",
    "                    ('selector', get_text_data),\n",
    "                    ('vectorizer', CountVectorizer())\n",
    "                ]))\n",
    "             ]\n",
    "        )),\n",
    "        ('clf', RandomForestClassifier(n_estimators = 15))\n",
    "    ])\n",
    "\n",
    "# Fit to the training data\n",
    "pl.fit(X_train, y_train)\n",
    "\n",
    "# Compute and print accuracy\n",
    "accuracy = pl.score(X_test, y_test)\n",
    "print(\"\\nAccuracy on budget dataset: \", accuracy)"
   ]
  },
  {
   "cell_type": "markdown",
   "metadata": {},
   "source": [
    "- That seems rediculously accurate given the nature of the data\n",
    "- I look forward to seeing what the log loss of the tweeked model will be."
   ]
  },
  {
   "cell_type": "markdown",
   "metadata": {},
   "source": [
    "# Learning from the experts"
   ]
  },
  {
   "cell_type": "markdown",
   "metadata": {},
   "source": [
    "## Learning from the expert: processing"
   ]
  },
  {
   "cell_type": "markdown",
   "metadata": {
    "collapsed": true
   },
   "source": [
    "#### Learning from the expert: text preprocessing\n",
    "- NLP tricks for text data\n",
    " - Tokenize on punctuation to avoid hyphens, underscores, etc\n",
    " - Include unigrams and bi-grams in the model to cature important information involving multiple tokens - e.g. 'middle school'\n",
    " \n",
    "#### N-grams and tokenization\n",
    "- Simple changes to COuntVectorizer\n",
    " - alphanumeric tokenization\n",
    " - ngram_range = (1, 2)"
   ]
  },
  {
   "cell_type": "markdown",
   "metadata": {},
   "source": [
    "### Deciding what's a word"
   ]
  },
  {
   "cell_type": "code",
   "execution_count": 167,
   "metadata": {},
   "outputs": [
    {
     "name": "stdout",
     "output_type": "stream",
     "text": [
      "['00a', '12', '1st', '2nd', '3rd', '4th', '5', '56', '5th', '6', '60', '6th', '70', '70h', '70hr', '70hrs', '70hs', '8', '80', '80hs', '9th', 'a', 'aaps', 'ab', 'aba', 'absence', 'absorber', 'ac', 'acad', 'academ']\n"
     ]
    }
   ],
   "source": [
    "# Import the CountVectorizer\n",
    "from sklearn.feature_extraction.text import CountVectorizer\n",
    "\n",
    "# Create the text vector\n",
    "text_vector = combine_text_columns(X_train)\n",
    "\n",
    "# Create the token pattern: TOKENS_ALPHANUMERIC\n",
    "TOKENS_ALPHANUMERIC = '[A-Za-z0-9]+(?=\\\\s+)'\n",
    "\n",
    "# Instantiate the CountVectorizer: text_features\n",
    "text_features = CountVectorizer(token_pattern=TOKENS_ALPHANUMERIC)\n",
    "\n",
    "# Fit text_features to the text vector\n",
    "text_features.fit(text_vector)\n",
    "\n",
    "# Print the first 10 tokens\n",
    "print(text_features.get_feature_names()[:30])"
   ]
  },
  {
   "cell_type": "markdown",
   "metadata": {},
   "source": [
    "### N-gram range in scikit-learn\n",
    "- We are adding some new key steps here \n",
    " - the `dim_red` step following the vectorizer step for dimensionality reduction, \n",
    " - the `scale` step preceeding the clf (classification) step to scale the features to lie between -1 and 1\n",
    "- The `dim_red` step uses a `scikit-learn` function called `SelectKBest()`, applying something called the chi-squared test to select the K \"best\" features. \n",
    "- The scale step uses a `scikit-learn` function called `MaxAbsScaler()` in order to squash the relevant features into the interval -1 to 1."
   ]
  },
  {
   "cell_type": "code",
   "execution_count": 170,
   "metadata": {
    "collapsed": true
   },
   "outputs": [],
   "source": [
    "# Import pipeline\n",
    "from sklearn.pipeline import Pipeline\n",
    "\n",
    "# Import classifiers\n",
    "from sklearn.linear_model import LogisticRegression\n",
    "from sklearn.multiclass import OneVsRestClassifier\n",
    "\n",
    "# Import CountVectorizer\n",
    "from sklearn.feature_extraction.text import CountVectorizer\n",
    "\n",
    "# Import other preprocessing modules\n",
    "from sklearn.preprocessing import Imputer\n",
    "from sklearn.feature_selection import chi2, SelectKBest\n",
    "\n",
    "# Select 300 best features\n",
    "chi_k = 300\n",
    "\n",
    "# Import functional utilities\n",
    "from sklearn.preprocessing import FunctionTransformer, MaxAbsScaler\n",
    "from sklearn.pipeline import FeatureUnion\n",
    "\n",
    "# Perform preprocessing\n",
    "get_text_data = FunctionTransformer(combine_text_columns, validate=False)\n",
    "get_numeric_data = FunctionTransformer(lambda x: x[numeric_columns], validate=False)\n",
    "\n",
    "# Create the token pattern: TOKENS_ALPHANUMERIC\n",
    "TOKENS_ALPHANUMERIC = '[A-Za-z0-9]+(?=\\\\s+)'\n",
    "\n",
    "# Instantiate pipeline: pl\n",
    "pl = Pipeline([\n",
    "        ('union', FeatureUnion(\n",
    "            transformer_list = [\n",
    "                ('numeric_features', Pipeline([\n",
    "                    ('selector', get_numeric_data),\n",
    "                    ('imputer', Imputer())\n",
    "                ])),\n",
    "                ('text_features', Pipeline([\n",
    "                    ('selector', get_text_data),\n",
    "                    ('vectorizer', CountVectorizer(\n",
    "                        token_pattern = TOKENS_ALPHANUMERIC,\n",
    "                        ngram_range = (1, 2))),\n",
    "                    ('dim_red', SelectKBest(chi2, chi_k))\n",
    "                ]))\n",
    "             ]\n",
    "        )),\n",
    "        ('scale', MaxAbsScaler()),\n",
    "        ('clf', OneVsRestClassifier(LogisticRegression()))\n",
    "    ])"
   ]
  },
  {
   "cell_type": "markdown",
   "metadata": {},
   "source": [
    "#### So how much better is this?"
   ]
  },
  {
   "cell_type": "code",
   "execution_count": 171,
   "metadata": {},
   "outputs": [
    {
     "name": "stdout",
     "output_type": "stream",
     "text": [
      "\n",
      "Accuracy on budget dataset:  0.558178752108\n"
     ]
    }
   ],
   "source": [
    "# Fit to the training data\n",
    "pl.fit(X_train, y_train)\n",
    "\n",
    "# Compute and print accuracy\n",
    "accuracy = pl.score(X_test, y_test)\n",
    "print(\"\\nAccuracy on budget dataset: \", accuracy)"
   ]
  },
  {
   "cell_type": "markdown",
   "metadata": {},
   "source": [
    "- Well its much better than the previous logisitic regression model\n",
    " - But not nearly as good as the Random forest model"
   ]
  },
  {
   "cell_type": "markdown",
   "metadata": {},
   "source": [
    "## Learning from the expert: a stats trick"
   ]
  },
  {
   "cell_type": "markdown",
   "metadata": {
    "collapsed": true
   },
   "source": [
    "#### Interaction terms\n",
    "- Statistical tool that the winner used: interaction terms\n",
    "- Example\n",
    " - English teacher for 2nd grade\n",
    " - 2nd grade - budget for English teacher\n",
    "- Interaction terms mathematically describe when tokens appear together\n",
    "$$ \\beta_1x_1 + \\beta_2x_2 + \\beta_3(x_1 \\times x_2) $$\n",
    " - In our case because we have term booleans as 1 or 0 we would get a 1 if the terms appear together and 0 if they do not. "
   ]
  },
  {
   "cell_type": "markdown",
   "metadata": {},
   "source": [
    "#### Adding interaction features with scikit-learn"
   ]
  },
  {
   "cell_type": "code",
   "execution_count": null,
   "metadata": {
    "collapsed": true
   },
   "outputs": [],
   "source": [
    "from sklearn.preprocessing import PolynomialFeatures\n",
    "\n",
    "interaction = PolynomialFeatures(\n",
    "    degree=2,\n",
    "    interaction_only = True\n",
    "    include_bias = False)\n",
    "\n",
    "interaction.fit_transform(x)"
   ]
  },
  {
   "cell_type": "markdown",
   "metadata": {},
   "source": [
    "- Notes:\n",
    " - the `interaction_only` term means don't multiple a term by itself\n",
    " - the include bias term allows model to have non-zero y value when x value is zero. \n",
    " - Its like the intercept value for a regression line I think"
   ]
  },
  {
   "cell_type": "markdown",
   "metadata": {},
   "source": [
    "#### Sparse interaction features\n",
    "- The number of interaction terms grows exponentially\n",
    "- Our vectorizer saves memory by using a sparse matrix\n",
    "- Polynomial Features does not support sparse matrices\n",
    "- We have provided SparseInteractions to work for this problem\n",
    "- the function code is provided [here](https://github.com/drivendataorg/box-plots-sklearn/blob/master/src/features/SparseInteractions.py)"
   ]
  },
  {
   "cell_type": "code",
   "execution_count": 172,
   "metadata": {
    "collapsed": true
   },
   "outputs": [],
   "source": [
    "from itertools import combinations\n",
    "\n",
    "import numpy as np\n",
    "from scipy import sparse\n",
    "from sklearn.base import BaseEstimator, TransformerMixin\n",
    "\n",
    "\n",
    "class SparseInteractions(BaseEstimator, TransformerMixin):\n",
    "    def __init__(self, degree=2, feature_name_separator=\"_\"):\n",
    "        self.degree = degree\n",
    "        self.feature_name_separator = feature_name_separator\n",
    "\n",
    "    def fit(self, X, y=None):\n",
    "        return self\n",
    "\n",
    "    def transform(self, X):\n",
    "        if not sparse.isspmatrix_csc(X):\n",
    "            X = sparse.csc_matrix(X)\n",
    "\n",
    "        if hasattr(X, \"columns\"):\n",
    "            self.orig_col_names = X.columns\n",
    "        else:\n",
    "            self.orig_col_names = np.array([str(i) for i in range(X.shape[1])])\n",
    "\n",
    "        spi = self._create_sparse_interactions(X)\n",
    "        return spi\n",
    "\n",
    "    def get_feature_names(self):\n",
    "        return self.feature_names\n",
    "\n",
    "    def _create_sparse_interactions(self, X):\n",
    "        out_mat = []\n",
    "        self.feature_names = self.orig_col_names.tolist()\n",
    "\n",
    "        for sub_degree in range(2, self.degree + 1):\n",
    "            for col_ixs in combinations(range(X.shape[1]), sub_degree):\n",
    "                # add name for new column\n",
    "                name = self.feature_name_separator.join(self.orig_col_names[list(col_ixs)])\n",
    "                self.feature_names.append(name)\n",
    "\n",
    "                # get column multiplications value\n",
    "                out = X[:, col_ixs[0]]\n",
    "                for j in col_ixs[1:]:\n",
    "                    out = out.multiply(X[:, j])\n",
    "\n",
    "                out_mat.append(out)\n",
    "\n",
    "        return sparse.hstack([X] + out_mat)"
   ]
  },
  {
   "cell_type": "markdown",
   "metadata": {},
   "source": [
    "### Implement interaction modeling in scikit-learn\n",
    "- Okay, maybe it is not a good idea to run this model on the full dataset without using the last technique to increase computation efficiency\n",
    "- This models takes an extremely long time. \n",
    " - The number of features grows exponentially when you add interaction terms\n",
    "- We can limit the number of features by using a hash table\n",
    " - This will be covered next."
   ]
  },
  {
   "cell_type": "code",
   "execution_count": 175,
   "metadata": {},
   "outputs": [],
   "source": [
    "# Instantiate pipeline: pl\n",
    "pl = Pipeline([\n",
    "        ('union', FeatureUnion(\n",
    "            transformer_list = [\n",
    "                ('numeric_features', Pipeline([\n",
    "                    ('selector', get_numeric_data),\n",
    "                    ('imputer', Imputer())\n",
    "                ])),\n",
    "                ('text_features', Pipeline([\n",
    "                    ('selector', get_text_data),\n",
    "                    ('vectorizer', CountVectorizer(token_pattern=TOKENS_ALPHANUMERIC,\n",
    "                                                   ngram_range=(1, 2))),  \n",
    "                    ('dim_red', SelectKBest(chi2, chi_k))\n",
    "                ]))\n",
    "             ]\n",
    "        )),\n",
    "        ('int', SparseInteractions(degree = 2)),\n",
    "        ('scale', MaxAbsScaler()),\n",
    "        ('clf', OneVsRestClassifier(LogisticRegression()))\n",
    "    ])"
   ]
  },
  {
   "cell_type": "markdown",
   "metadata": {},
   "source": [
    "## Learning from the expert: a computational trick and the winning model"
   ]
  },
  {
   "cell_type": "markdown",
   "metadata": {
    "collapsed": true
   },
   "source": [
    "#### Hashing trick\n",
    "- Adding new features may cause enormous increase in array size\n",
    "- Hashing is a way of increasing memory efficiency\n",
    "- Hash function limits possible outputs, fixing array size\n",
    "- multiple tokens may be added to the same hash, but this has been shown (in research papers) to not have much of a negative impact on the models ability to predict. Thats, um, pretty neat. \n",
    "\n",
    "#### When to use the hashing trick\n",
    "- Want to make array of features as small as possible\n",
    " - Dimensionality reduction\n",
    "- Particularly useful on large datasets\n",
    " - e.g., lots of text data!"
   ]
  },
  {
   "cell_type": "markdown",
   "metadata": {},
   "source": [
    "#### Implementing the hashin trick in scikit-learn"
   ]
  },
  {
   "cell_type": "code",
   "execution_count": null,
   "metadata": {
    "collapsed": true
   },
   "outputs": [],
   "source": [
    "from sklearn.feature_extraction.text import HashingVectorizer\n",
    "\n",
    "vec = HashingVectorizer(\n",
    "    norm = None,\n",
    "    non_negative = True,\n",
    "    token_pattern = TOKENS_ALPHANUMERIC,\n",
    "    ngram_range = (1,2))"
   ]
  },
  {
   "cell_type": "markdown",
   "metadata": {},
   "source": [
    "#### The model that won it all\n",
    "- You now know all the expert moves to make on this dataset\n",
    " - NLP: Range of n-grams, punctuation tokenization\n",
    " - Stats: Interaction terms\n",
    " - Computation: Hashing trick\n",
    "- What class of model was used?\n",
    " - Deep convolutional neural network? Nope\n",
    " - Extreme graident boosted trees? Nope\n",
    " - Ensemble of local expert elastic regression nets? Nope\n",
    " - Logistic Regression? Yep\n",
    "- Sometime a simple model with smarlty chosen feature engineering is all thats needed\n",
    " - And its usually better to start with simple models that can also offer explaination. \n",
    " - See how far you can get with simple models before going to more complicated black box style models"
   ]
  },
  {
   "cell_type": "markdown",
   "metadata": {},
   "source": [
    "### Why is hashing a useful trick?"
   ]
  },
  {
   "cell_type": "markdown",
   "metadata": {},
   "source": [
    "Some problems are memory-bound and not easily parallelizable, and hashing enforces a fixed length computation instead of using a mutable datatype (like a dictionary)."
   ]
  },
  {
   "cell_type": "code",
   "execution_count": 178,
   "metadata": {},
   "outputs": [
    {
     "name": "stdout",
     "output_type": "stream",
     "text": [
      "{'and': 780, 'fluids': 354, 'fuel': 895, 'petro': 354, 'vend': 785}\n"
     ]
    }
   ],
   "source": [
    "hash_dict = {'and': 780, 'fluids': 354, 'fuel': 895, \n",
    "             'petro': 354, 'vend': 785}\n",
    "print(hash_dict)"
   ]
  },
  {
   "cell_type": "markdown",
   "metadata": {},
   "source": [
    "### Implementing the hashing trick in scikit-learn"
   ]
  },
  {
   "cell_type": "code",
   "execution_count": 179,
   "metadata": {},
   "outputs": [
    {
     "name": "stdout",
     "output_type": "stream",
     "text": [
      "          0\n",
      "0  0.377964\n",
      "1  0.755929\n",
      "2  0.377964\n",
      "3  0.377964\n",
      "4  0.235702\n"
     ]
    }
   ],
   "source": [
    "# Import HashingVectorizer\n",
    "from sklearn.feature_extraction.text import HashingVectorizer\n",
    "\n",
    "# Get text data: text_data\n",
    "text_data = combine_text_columns(X_train)\n",
    "\n",
    "# Create the token pattern: TOKENS_ALPHANUMERIC\n",
    "TOKENS_ALPHANUMERIC = '[A-Za-z0-9]+(?=\\\\s+)' \n",
    "\n",
    "# Instantiate the HashingVectorizer: hashing_vec\n",
    "hashing_vec = HashingVectorizer(token_pattern=TOKENS_ALPHANUMERIC)\n",
    "\n",
    "# Fit and transform the Hashing Vectorizer\n",
    "hashed_text = hashing_vec.fit_transform(text_data)\n",
    "\n",
    "# Create DataFrame and print the head\n",
    "hashed_df = pd.DataFrame(hashed_text.data)\n",
    "print(hashed_df.head())"
   ]
  },
  {
   "cell_type": "markdown",
   "metadata": {},
   "source": [
    "### Build the winning model"
   ]
  },
  {
   "cell_type": "code",
   "execution_count": 180,
   "metadata": {
    "collapsed": true
   },
   "outputs": [],
   "source": [
    "# Import the hashing vectorizer\n",
    "from sklearn.feature_extraction.text import HashingVectorizer\n",
    "\n",
    "# Instantiate the winning model pipeline: pl\n",
    "pl = Pipeline([\n",
    "        ('union', FeatureUnion(\n",
    "            transformer_list = [\n",
    "                ('numeric_features', Pipeline([\n",
    "                    ('selector', get_numeric_data),\n",
    "                    ('imputer', Imputer())\n",
    "                ])),\n",
    "                ('text_features', Pipeline([\n",
    "                    ('selector', get_text_data),\n",
    "                    ('vectorizer', HashingVectorizer(\n",
    "                        token_pattern=TOKENS_ALPHANUMERIC,\n",
    "                        non_negative=True, \n",
    "                        norm=None, \n",
    "                        binary=False,\n",
    "                        ngram_range=(1, 2))),\n",
    "                    ('dim_red', SelectKBest(chi2, chi_k))\n",
    "                ]))\n",
    "             ]\n",
    "        )),\n",
    "        ('int', SparseInteractions(degree=2)),\n",
    "        ('scale', MaxAbsScaler()),\n",
    "        ('clf', OneVsRestClassifier(LogisticRegression()))\n",
    "    ])"
   ]
  },
  {
   "cell_type": "code",
   "execution_count": null,
   "metadata": {},
   "outputs": [
    {
     "name": "stderr",
     "output_type": "stream",
     "text": [
      "/Users/williamsurles/anaconda3/envs/python_datacamp/lib/python3.6/site-packages/sklearn/feature_extraction/hashing.py:94: DeprecationWarning: the option non_negative=True has been deprecated in 0.19 and will be removed in version 0.21.\n",
      "  \" in version 0.21.\", DeprecationWarning)\n",
      "/Users/williamsurles/anaconda3/envs/python_datacamp/lib/python3.6/site-packages/sklearn/feature_extraction/hashing.py:94: DeprecationWarning: the option non_negative=True has been deprecated in 0.19 and will be removed in version 0.21.\n",
      "  \" in version 0.21.\", DeprecationWarning)\n"
     ]
    }
   ],
   "source": [
    "# Fit to the training data\n",
    "pl.fit(X_train, y_train)\n",
    "\n",
    "# Compute and print accuracy\n",
    "accuracy = pl.score(X_test, y_test)\n",
    "print(\"\\nAccuracy on budget dataset: \", accuracy)"
   ]
  },
  {
   "cell_type": "markdown",
   "metadata": {},
   "source": [
    "### What tactics got the winner the best score?"
   ]
  },
  {
   "cell_type": "markdown",
   "metadata": {
    "collapsed": true
   },
   "source": [
    "- OMG, here is all the code needed to build the winning model. \n",
    "- I can learn form this. \n",
    "- I wanted to build my own notebook to use the data from the competition and make a submission that is accepted. \n",
    "- I'll start with this\n",
    "- [jupyter notebook with code](https://github.com/datacamp/course-resources-ml-with-experts-budgets/blob/master/notebooks/1.0-full-model.ipynb)"
   ]
  },
  {
   "cell_type": "markdown",
   "metadata": {},
   "source": [
    "## Next steps and the social impact of your work"
   ]
  },
  {
   "cell_type": "markdown",
   "metadata": {
    "collapsed": true
   },
   "source": [
    "- We have seen the flexibility of the pipeline steps\n",
    "- Here are some possible ways we could improve the model even more\n",
    " - NLP: Stemming, stop-word removal\n",
    " - Model: RandomForest, k-NN, Naive Bayes\n",
    " - Numeric Processing: Imputation strategies beyond the default average\n",
    " - Optimization: Grid search over pipeline objects\n",
    " - Experiment with new scikit-learn techniques"
   ]
  }
 ],
 "metadata": {
  "kernelspec": {
   "display_name": "Python [conda env:python_datacamp]",
   "language": "python",
   "name": "conda-env-python_datacamp-py"
  },
  "language_info": {
   "codemirror_mode": {
    "name": "ipython",
    "version": 3
   },
   "file_extension": ".py",
   "mimetype": "text/x-python",
   "name": "python",
   "nbconvert_exporter": "python",
   "pygments_lexer": "ipython3",
   "version": "3.6.3"
  }
 },
 "nbformat": 4,
 "nbformat_minor": 2
}
