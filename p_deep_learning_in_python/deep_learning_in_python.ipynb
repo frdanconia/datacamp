{
 "cells": [
  {
   "cell_type": "markdown",
   "metadata": {},
   "source": [
    "# Deep Learning in Python\n",
    "- William Surles\n",
    "- 2017-12-22\n",
    "- Datacamp class\n",
    "- https://www.datacamp.com/courses/deep-learning-in-python"
   ]
  },
  {
   "cell_type": "markdown",
   "metadata": {},
   "source": [
    "## Whats Covered"
   ]
  },
  {
   "cell_type": "markdown",
   "metadata": {},
   "source": [
    "**Basics of deep learning and neural networks**\n",
    "- Introduction to deep learning\n",
    "- Forward propagation\n",
    "- Activation functions\n",
    "- Deeper networks\n",
    "\n",
    "**Otimizing a neural network with backward propagation**\n",
    "- The need for optimization\n",
    "- Gradient descent\n",
    "- Backpropagation\n",
    "- Backpropagation in practice\n",
    "\n",
    "**Building deep learning models with keras**\n",
    "- Creating a keras model\n",
    "- Compiling and fitting a model\n",
    "- Classification models\n",
    "- Using models\n",
    "\n",
    "**Fine-tuning keras models**\n",
    "- Understanding model optimization\n",
    "- Model validation\n",
    "- Thinking about model capacity\n",
    "- Stepping up to images\n",
    "- Final thoughts"
   ]
  },
  {
   "cell_type": "markdown",
   "metadata": {},
   "source": [
    "## Additional Resources"
   ]
  },
  {
   "cell_type": "markdown",
   "metadata": {
    "collapsed": true
   },
   "source": [
    "- Check this [wiki page](https://en.wikipedia.org/wiki/List_of_datasets_for_machine_learning_research) on data sets for machine learning research"
   ]
  },
  {
   "cell_type": "markdown",
   "metadata": {},
   "source": [
    "## Libraries and Data"
   ]
  },
  {
   "cell_type": "code",
   "execution_count": 1,
   "metadata": {
    "collapsed": true
   },
   "outputs": [],
   "source": [
    "import numpy as np\n",
    "import pandas as pd\n",
    "import matplotlib.pyplot as plt"
   ]
  },
  {
   "cell_type": "markdown",
   "metadata": {},
   "source": [
    "# Basics of deep learning and neural networks"
   ]
  },
  {
   "cell_type": "markdown",
   "metadata": {},
   "source": [
    "## Introduction to deep learning"
   ]
  },
  {
   "cell_type": "markdown",
   "metadata": {},
   "source": [
    "#### Interactions\n",
    "- Imagine you work for a bank and you need to predict the number of transactions each customer will make next year\n",
    "- I linear regression model could give you an answer based on weighting certain factors, like age or number of kids. But it does not do a great job of capturing the intricate interactions of the real world process.\n",
    "- Neural networks account for interactions really well\n",
    "- Deep learning uses especially powerfyl neural networks\n",
    " - This works well for the intricacies in many types of data like...\n",
    " - Text, images, video, audio, source code, etc\n",
    " \n",
    "#### Course structure\n",
    "- First to chapters focus on conceptual knowledge\n",
    " - debug and tune deep learing models on conventional prediction problems\n",
    " - Lay the foundation for progressin towards modern applications\n",
    "- Chp 3 and 4 covers keras\n",
    " - Build and tune models in keras"
   ]
  },
  {
   "cell_type": "markdown",
   "metadata": {},
   "source": [
    "## Forward propagation"
   ]
  },
  {
   "cell_type": "markdown",
   "metadata": {},
   "source": [
    "- There are good pictures in the slides. I'll just explain it\n",
    "- Each link between nodes is given a weighting\n",
    "- the inputs times the weights added together equals the value at the next node\n",
    " - this is essentially a dot product of inputs and weights (yay matrix math)\n",
    "- keep doing this until you get the output value at the end. \n",
    "- This happens for one data point (or row, or observation) at a time. The output is the prediction for the data point\n",
    " - The trick is to get all the weightings correct so the model is accurate."
   ]
  },
  {
   "cell_type": "markdown",
   "metadata": {},
   "source": [
    "### Coding the forward propagation algorithm\n",
    "\n",
    "![](images/1_hidden_layer.png)"
   ]
  },
  {
   "cell_type": "code",
   "execution_count": 2,
   "metadata": {
    "collapsed": true
   },
   "outputs": [],
   "source": [
    "input_data = np.array([3, 5])\n",
    "weights = {'node_0': np.array([2, 4]), 'node_1': np.array([ 4, -5]), 'output': np.array([2, 7])}"
   ]
  },
  {
   "cell_type": "code",
   "execution_count": 3,
   "metadata": {},
   "outputs": [
    {
     "name": "stdout",
     "output_type": "stream",
     "text": [
      "-39\n"
     ]
    }
   ],
   "source": [
    "# Calculate node 0 value: node_0_value\n",
    "node_0_value = (input_data * weights['node_0']).sum()\n",
    "\n",
    "# Calculate node 1 value: node_1_value\n",
    "node_1_value = (input_data * weights['node_1']).sum()\n",
    "\n",
    "# Put node values into array: hidden_layer_outputs\n",
    "hidden_layer_outputs = np.array([node_0_value, node_1_value])\n",
    "\n",
    "# Calculate output: output\n",
    "output = (hidden_layer_outputs * weights['output']).sum()\n",
    "\n",
    "# Print output\n",
    "print(output)\n"
   ]
  },
  {
   "cell_type": "markdown",
   "metadata": {},
   "source": [
    "- Well, that was easy. : ) \n",
    "- -39 seems like a wierd value but I'm sure will fix that later\n",
    "- This is just for one observation with two variables\n",
    "- And there is just one layer with 2 nodes.\n",
    "- About as simple as you can get. \n",
    "- But this is about as complex as most regression models I guess."
   ]
  },
  {
   "cell_type": "markdown",
   "metadata": {},
   "source": [
    "## Activation functions"
   ]
  },
  {
   "cell_type": "markdown",
   "metadata": {},
   "source": [
    "- Activation functions are applied at the node\n",
    "- The modify the node input value to something different for the node output\n",
    "- This is used to capture non-linearity in the the model\n",
    "- They have been shown to greatly increase the perofrmance of a neural network\n",
    "- For a long time `tanh()` was used as the standard activation function\n",
    "- Now ReLU (Rectified Linear Activation) is the standard\n",
    " - A ReLu function is basically just `max(0, input)`\n",
    " - Its prevents negative numbers at the node"
   ]
  },
  {
   "cell_type": "markdown",
   "metadata": {},
   "source": [
    "### The Rectified Linear Activation Function"
   ]
  },
  {
   "cell_type": "code",
   "execution_count": 4,
   "metadata": {},
   "outputs": [
    {
     "name": "stdout",
     "output_type": "stream",
     "text": [
      "52\n"
     ]
    }
   ],
   "source": [
    "def relu(input):\n",
    "    '''Define your relu activation function here'''\n",
    "    # Calculate the value for the output of the relu function: output\n",
    "    output = max(0, input)\n",
    "    \n",
    "    # Return the value just calculated\n",
    "    return(output)\n",
    "\n",
    "# Calculate node 0 value: node_0_output\n",
    "node_0_input = (input_data * weights['node_0']).sum()\n",
    "node_0_output = relu(node_0_input)\n",
    "\n",
    "# Calculate node 1 value: node_1_output\n",
    "node_1_input = (input_data * weights['node_1']).sum()\n",
    "node_1_output = relu(node_1_input)\n",
    "\n",
    "# Put node values into array: hidden_layer_outputs\n",
    "hidden_layer_outputs = np.array([node_0_output, node_1_output])\n",
    "\n",
    "# Calculate model output (do not apply relu)\n",
    "model_output = (hidden_layer_outputs * weights['output']).sum()\n",
    "\n",
    "# Print model output\n",
    "print(model_output)"
   ]
  },
  {
   "cell_type": "markdown",
   "metadata": {},
   "source": [
    "### Applying the network to many observations/rows of data"
   ]
  },
  {
   "cell_type": "code",
   "execution_count": 5,
   "metadata": {
    "collapsed": true
   },
   "outputs": [],
   "source": [
    "input_data = [np.array([3, 5]), np.array([ 1, -1]), np.array([0, 0]), np.array([8, 4])]\n",
    "weights = {\n",
    "    'node_0': np.array([2, 4]), \n",
    "    'node_1': np.array([ 4, -5]), \n",
    "    'output': np.array([2, 7])}"
   ]
  },
  {
   "cell_type": "code",
   "execution_count": 6,
   "metadata": {},
   "outputs": [
    {
     "name": "stdout",
     "output_type": "stream",
     "text": [
      "[52, 63, 0, 148]\n"
     ]
    }
   ],
   "source": [
    "# Define predict_with_network()\n",
    "def predict_with_network(input_data_row, weights):\n",
    "\n",
    "    # Calculate node 0 value\n",
    "    node_0_input = (input_data_row * weights['node_0']).sum()\n",
    "    node_0_output = relu(node_0_input)\n",
    "\n",
    "    # Calculate node 1 value\n",
    "    node_1_input = (input_data_row * weights['node_1']).sum()\n",
    "    node_1_output = relu(node_1_input)\n",
    "\n",
    "    # Put node values into array: hidden_layer_outputs\n",
    "    hidden_layer_outputs = np.array([node_0_output, node_1_output])\n",
    "    \n",
    "    # Calculate model output\n",
    "    input_to_final_layer = (hidden_layer_outputs * weights['output']).sum()\n",
    "    \n",
    "    model_output = relu(input_to_final_layer)\n",
    "    \n",
    "    # Return model output\n",
    "    return(model_output)\n",
    "\n",
    "\n",
    "# Create empty list to store prediction results\n",
    "results = []\n",
    "for input_data_row in input_data:\n",
    "    # Append prediction to results\n",
    "    results.append(predict_with_network(input_data_row, weights))\n",
    "\n",
    "# Print results\n",
    "print(results)\n",
    "        "
   ]
  },
  {
   "cell_type": "markdown",
   "metadata": {},
   "source": [
    "## Deeper networks"
   ]
  },
  {
   "cell_type": "markdown",
   "metadata": {},
   "source": [
    "- Deeper networks just have more layers\n",
    "- 5- 10 maybe\n",
    "- At pone point 15 was the cutting edge\n",
    "- Now you could see 1000 hidden layers\n",
    "- Its just about proccessing power\n",
    " - These work well with parallel processing so you can scale out for the large networks\n",
    "- The more layers the more complex the features get\n",
    " - At first the model may find things like lines, then shapes, maybe even an eye\n",
    " - Then it may recognize a face \n",
    " - Then different faces like human or cat, or differnt people. \n",
    " - I'm sure this is how google and face book do face recognition"
   ]
  },
  {
   "cell_type": "markdown",
   "metadata": {},
   "source": [
    "### Multi-layer neural networks\n",
    "![](images/2_hidden_layers.png)"
   ]
  },
  {
   "cell_type": "code",
   "execution_count": 7,
   "metadata": {
    "collapsed": true
   },
   "outputs": [],
   "source": [
    "input_data = np.array([3, 5])\n",
    "weights = {\n",
    "    'node_0_0': np.array([2, 4]),\n",
    "    'node_0_1': np.array([ 4, -5]),\n",
    "    'node_1_0': np.array([-1,  2]),\n",
    "    'node_1_1': np.array([1, 2]),\n",
    "    'output': np.array([2, 7])}"
   ]
  },
  {
   "cell_type": "code",
   "execution_count": 8,
   "metadata": {},
   "outputs": [
    {
     "name": "stdout",
     "output_type": "stream",
     "text": [
      "182\n"
     ]
    }
   ],
   "source": [
    "def predict_with_network(input_data):\n",
    "    # Calculate node 0 in the first hidden layer\n",
    "    node_0_0_input = (input_data * weights['node_0_0']).sum()\n",
    "    node_0_0_output = relu(node_0_0_input)\n",
    "\n",
    "    # Calculate node 1 in the first hidden layer\n",
    "    node_0_1_input = (input_data * weights['node_0_1']).sum()\n",
    "    node_0_1_output = relu(node_0_1_input)\n",
    "\n",
    "    # Put node values into array: hidden_0_outputs\n",
    "    hidden_0_outputs = np.array([node_0_0_output, node_0_1_output])\n",
    "    \n",
    "    # Calculate node 0 in the second hidden layer\n",
    "    node_1_0_input = (hidden_0_outputs * weights['node_1_0']).sum()\n",
    "    node_1_0_output = relu(node_1_0_input)\n",
    "\n",
    "    # Calculate node 1 in the second hidden layer\n",
    "    node_1_1_input = (hidden_0_outputs * weights['node_1_1']).sum()\n",
    "    node_1_1_output = relu(node_1_1_input)\n",
    "\n",
    "    # Put node values into array: hidden_1_outputs\n",
    "    hidden_1_outputs = np.array([node_1_0_output, node_1_1_output])\n",
    "\n",
    "    # Calculate model output: model_output\n",
    "    model_output = (hidden_1_outputs * weights['output']).sum()\n",
    "    \n",
    "    # Return model_output\n",
    "    return(model_output)\n",
    "\n",
    "output = predict_with_network(input_data)\n",
    "print(output)\n"
   ]
  },
  {
   "cell_type": "markdown",
   "metadata": {},
   "source": [
    "### Representations are learned"
   ]
  },
  {
   "cell_type": "markdown",
   "metadata": {},
   "source": [
    "How are the weights that deterimine the features/interaction in Neural Networks created>\n",
    " - The model training process sets them to optimize predictive accuracy"
   ]
  },
  {
   "cell_type": "markdown",
   "metadata": {},
   "source": [
    "# Otimizing a neural network with backward propagation"
   ]
  },
  {
   "cell_type": "markdown",
   "metadata": {},
   "source": [
    "## The need for optimization"
   ]
  },
  {
   "cell_type": "markdown",
   "metadata": {},
   "source": [
    "- The weights are how you optimize the neural network. \n",
    "- Change the weights until the output is correct\n",
    "\n",
    "#### Predictions with multiple points\n",
    "- Making acurate predictions gets harder with more points\n",
    "- At any set of weights, there are many values of the error\n",
    "- ... corresponding to the many points we make predictions for\n",
    "\n",
    "#### Loss funciton\n",
    "- Aggregates errors in predictions from many data points into single number\n",
    "- Measure of model's predictive performance\n",
    "- Could be mean squarred error\n",
    "- Lower loss function value means a better model\n",
    "- Goal: Find the weights thta five the lowest value for the loss function\n",
    "- Gradient descent is how you find the lowest value\n",
    "\n",
    "#### Gradient descent\n",
    "- Imaginge you are in a pitch dark field\n",
    "- you want to find the lowest point\n",
    "- Feel the ground to see how it slopes\n",
    "- Take a small step downhill\n",
    "- Repeat until it is uphill in every direction\n",
    "\n",
    "#### Gradient descent steps\n",
    "- Start at random point\n",
    "- Until yo are somewhere flat:\n",
    " - Find the slope\n",
    " - Take a step downhill"
   ]
  },
  {
   "cell_type": "markdown",
   "metadata": {},
   "source": [
    "### Coding how weight changes affect accuracy"
   ]
  },
  {
   "cell_type": "code",
   "execution_count": 9,
   "metadata": {
    "collapsed": true
   },
   "outputs": [],
   "source": [
    "def predict_with_network(input_data, weights):\n",
    "    # Calculate node 0 in the first hidden layer\n",
    "    node_0_input = (input_data * weights['node_0']).sum()\n",
    "    node_0_output = relu(node_0_input)\n",
    "\n",
    "    # Calculate node 1 in the first hidden layer\n",
    "    node_1_input = (input_data * weights['node_1']).sum()\n",
    "    node_1_output = relu(node_1_input)\n",
    "\n",
    "    # Put node values into array: hidden_0_outputs\n",
    "    hidden_outputs = np.array([node_0_output, node_1_output])\n",
    "    \n",
    "    # Calculate model output: model_output\n",
    "    model_output = (hidden_outputs * weights['output']).sum()\n",
    "    \n",
    "    # Return model_output\n",
    "    return(model_output)\n"
   ]
  },
  {
   "cell_type": "code",
   "execution_count": 10,
   "metadata": {},
   "outputs": [
    {
     "name": "stdout",
     "output_type": "stream",
     "text": [
      "6\n",
      "0\n"
     ]
    }
   ],
   "source": [
    "# The data point you will make a prediction for\n",
    "input_data = np.array([0, 3])\n",
    "\n",
    "# Sample weights\n",
    "weights_0 = {'node_0': [2, 1],\n",
    "             'node_1': [1, 2],\n",
    "             'output': [1, 1]\n",
    "            }\n",
    "\n",
    "# The actual target value, used to calculate the error\n",
    "target_actual = 3\n",
    "\n",
    "# Make prediction using original weights\n",
    "model_output_0 = predict_with_network(input_data, weights_0)\n",
    "\n",
    "# Calculate error: error_0\n",
    "error_0 = model_output_0 - target_actual\n",
    "\n",
    "# Create weights that cause the network to make perfect prediction (3): weights_1\n",
    "weights_1 = {'node_0': [2, 1],\n",
    "             'node_1': [1, 2],\n",
    "             'output': [1, 0]\n",
    "            }\n",
    "\n",
    "# Make prediction using new weights: model_output_1\n",
    "model_output_1 = predict_with_network(input_data, weights_1)\n",
    "\n",
    "# Calculate error: error_1\n",
    "error_1 = model_output_1 - target_actual\n",
    "\n",
    "# Print error_0 and error_1\n",
    "print(error_0)\n",
    "print(error_1)\n"
   ]
  },
  {
   "cell_type": "markdown",
   "metadata": {},
   "source": [
    "### Scaling up to multiple data points"
   ]
  },
  {
   "cell_type": "code",
   "execution_count": 11,
   "metadata": {
    "collapsed": true
   },
   "outputs": [],
   "source": [
    "input_data = [np.array([0, 3]), np.array([1, 2]), np.array([-1, -2]), np.array([4, 0])]\n",
    "target_actuals = [1, 3, 5, 7]\n",
    "\n",
    "weights_0 = {'node_0': [2, 1], \n",
    "             'node_1': [1, 2], \n",
    "             'output': [1, 1]}\n",
    "\n",
    "weights_1 = {'node_0': [2, 1],\n",
    "             'node_1': [ 1. ,  1.5],\n",
    "             'output': [ 1. ,  1.5]}"
   ]
  },
  {
   "cell_type": "code",
   "execution_count": 12,
   "metadata": {},
   "outputs": [
    {
     "name": "stdout",
     "output_type": "stream",
     "text": [
      "[9, 9, 0, 12]\n",
      "[9.75, 10.0, 0.0, 14.0]\n",
      "target actuals:\n",
      "[1, 3, 5, 7]\n",
      "Mean squared error with weights_0: 37.500000\n",
      "Mean squared error with weights_1: 49.890625\n"
     ]
    }
   ],
   "source": [
    "from sklearn.metrics import mean_squared_error\n",
    "\n",
    "# Create model_output_0 \n",
    "model_output_0 = []\n",
    "# Create model_output_0\n",
    "model_output_1 = []\n",
    "\n",
    "# Loop over input_data\n",
    "for row in input_data:\n",
    "    # Append prediction to model_output_0\n",
    "    model_output_0.append(predict_with_network(row, weights_0))\n",
    "    \n",
    "    # Append prediction to model_output_1\n",
    "    model_output_1.append(predict_with_network(row, weights_1))\n",
    "\n",
    "# Calculate the mean squared error for model_output_0: mse_0\n",
    "mse_0 = mean_squared_error(target_actuals, model_output_0)\n",
    "\n",
    "# Calculate the mean squared error for model_output_1: mse_1\n",
    "mse_1 = mean_squared_error(target_actuals, model_output_1)\n",
    "\n",
    "print(model_output_0)\n",
    "print(model_output_1)\n",
    "\n",
    "print('target actuals:')\n",
    "print(target_actuals)\n",
    "\n",
    "# Print mse_0 and mse_1\n",
    "print(\"Mean squared error with weights_0: %f\" %mse_0)\n",
    "print(\"Mean squared error with weights_1: %f\" %mse_1)\n"
   ]
  },
  {
   "cell_type": "markdown",
   "metadata": {},
   "source": [
    "## Gradient descent"
   ]
  },
  {
   "cell_type": "markdown",
   "metadata": {},
   "source": [
    "- If the slope is positive:\n",
    " - Going opposite the slope means moving to lower numbers\n",
    " - Subtract the slope from the current value\n",
    " - Too big a step might lead us astray\n",
    "- Solution: learning rate\n",
    " - Update each weight by subtracting learning rate * slope\n",
    " - Learning rates are frequently around 0.01\n",
    "\n",
    "#### Slope calculation example\n",
    "- to calculate the slope for a weight, need to multiply 3 things:\n",
    " - slope of the loss function wrt value at the node we feed into\n",
    " - the valye of the node that feeds into our weight\n",
    " - slope of the activation functino wrt value we feed into\n",
    "- example\n",
    " - node = 3, weight = 2, output = 4, actual target value = 10\n",
    "- lets step through those 3 things:\n",
    "- slope of mean-squarred loss funciton wrt prediciton:\n",
    " - 2 * (Predictied Value = Actual Value) = 2 * Error = 2 * -4\n",
    "- the vale of the node that feeds into our weight\n",
    " - 2 * -4 * 3 = -24\n",
    "- slope of the activation functino wrt value we feed into\n",
    " - We don't have an activation function so ignore that here\n",
    "- if learning rate is 0.01 the new wieght would be \n",
    " - 2 - 0.01(-24) = 2.24\n",
    " - this will give us better model and will continue to get better as we repeat this process\n",
    " - We would repeat this process separately for each weight, then update them simultaneously with the respective deriviative\n",
    " "
   ]
  },
  {
   "cell_type": "markdown",
   "metadata": {},
   "source": [
    "### Calculating slopes"
   ]
  },
  {
   "cell_type": "markdown",
   "metadata": {},
   "source": [
    "- When plotting the mean-squared error loss function against predictions, the slope is 2 * x * (y-xb), or 2 * input_data * error. \n",
    "- Note that x and b may have multiple numbers (x is a vector for each data point, and b is a vector). \n",
    "- In this case, the output will also be a vector, which is exactly what you want.\n",
    "- In our example we have 3 input nodes and one prediciton node as the target"
   ]
  },
  {
   "cell_type": "code",
   "execution_count": 13,
   "metadata": {
    "collapsed": true
   },
   "outputs": [],
   "source": [
    "weights = np.array([0, 2, 1])\n",
    "input_data = np.array([1, 2, 3])\n",
    "target = 0"
   ]
  },
  {
   "cell_type": "code",
   "execution_count": 14,
   "metadata": {},
   "outputs": [
    {
     "name": "stdout",
     "output_type": "stream",
     "text": [
      "pred: 7\n",
      "target: 0\n",
      "[14 28 42]\n"
     ]
    }
   ],
   "source": [
    "# Calculate the predictions: preds\n",
    "preds = (weights * input_data).sum()\n",
    "print(\"pred:\", preds)\n",
    "print(\"target:\", target)\n",
    "\n",
    "# Calculate the error: error\n",
    "error =  preds - target\n",
    "\n",
    "# Calculate the slope: slope\n",
    "slope = 2 * error * input_data\n",
    "\n",
    "# Print the slope\n",
    "print(slope)\n"
   ]
  },
  {
   "cell_type": "markdown",
   "metadata": {},
   "source": [
    "### Improving model weights"
   ]
  },
  {
   "cell_type": "code",
   "execution_count": 15,
   "metadata": {},
   "outputs": [
    {
     "name": "stdout",
     "output_type": "stream",
     "text": [
      "7\n",
      "5.04\n"
     ]
    }
   ],
   "source": [
    "# Set the learning rate: learning_rate\n",
    "learning_rate = 0.01\n",
    "\n",
    "# Update the weights: weights_updated\n",
    "weights_updated = weights - (slope * learning_rate)\n",
    "\n",
    "# Get updated predictions: preds_updated\n",
    "preds_updated = (weights_updated * input_data).sum()\n",
    "\n",
    "# Calculate updated error: error_updated\n",
    "error_updated = preds_updated - target\n",
    "\n",
    "# Print the original error\n",
    "print(error)\n",
    "\n",
    "# Print the updated error\n",
    "print(error_updated)"
   ]
  },
  {
   "cell_type": "markdown",
   "metadata": {},
   "source": [
    "### Making multiple updates to weights\n",
    "- Lets clean up this process so we can do this multiple times easily\n",
    "- We are wrapping the error and slope calculations in functions"
   ]
  },
  {
   "cell_type": "code",
   "execution_count": 16,
   "metadata": {
    "collapsed": true
   },
   "outputs": [],
   "source": [
    "def get_error(input_data, target, weights):\n",
    "    preds = (weights * input_data).sum()\n",
    "    error = preds - target\n",
    "    return(error)\n",
    "    \n",
    "def get_slope(input_data, target, weights):\n",
    "    error = get_error(input_data, target, weights)\n",
    "    slope = 2 * input_data * error\n",
    "    return(slope)\n",
    "\n",
    "def get_mse(input_data, target, weights):\n",
    "    errors = get_error(input_data, target, weights)\n",
    "    mse = np.mean(errors**2)\n",
    "    return(mse)"
   ]
  },
  {
   "cell_type": "code",
   "execution_count": 17,
   "metadata": {},
   "outputs": [
    {
     "data": {
      "image/png": "[encoded data removed]",
      "text/plain": [
       "<matplotlib.figure.Figure at 0x1a0f4d7048>"
      ]
     },
     "metadata": {},
     "output_type": "display_data"
    }
   ],
   "source": [
    "n_updates = 20\n",
    "mse_hist = []\n",
    "\n",
    "# Iterate over the number of updates\n",
    "for i in range(n_updates):\n",
    "    # Calculate the slope: slope\n",
    "    slope = get_slope(input_data, target, weights)\n",
    "    \n",
    "    # Update the weights: weights\n",
    "    weights = weights - slope * 0.01\n",
    "    \n",
    "    # Calculate mse with new weights: mse\n",
    "    mse = get_mse(input_data, target, weights)\n",
    "    \n",
    "    # Append the mse to mse_hist\n",
    "    mse_hist.append(mse)\n",
    "\n",
    "# Plot the mse history\n",
    "plt.plot(mse_hist)\n",
    "plt.xlabel('Iterations')\n",
    "plt.ylabel('Mean Squared Error')\n",
    "plt.show()"
   ]
  },
  {
   "cell_type": "markdown",
   "metadata": {},
   "source": [
    "## Backpropagation"
   ]
  },
  {
   "cell_type": "markdown",
   "metadata": {
    "collapsed": true
   },
   "source": [
    "- Allows gradient descent to update all weights in neural network (by getting gradients for all weights)\n",
    "- Comes from chain rule of calculus\n",
    "- Important to understand the process, but you will generally use a library that implements this\n",
    "\n",
    "#### Backpropagation process\n",
    "- Trying to estimate the slope of the loss function wrt each weight\n",
    "- Do forward propagation to calculate predictions and errors first, before we do backpropagation\n",
    "- Go back one layer at a time\n",
    "- Gradients for weight is product of:\n",
    "  - Node value feeding into that weight\n",
    "    - We know this from the calculation when doing forward propagation\n",
    "  - Slope of loss function wrt node it feeds into\n",
    "    - We just calculated this in the back propagation process. \n",
    "  - Slope of activation function at the node it feeds into\n",
    "    - For the ReLU activation function this is 0 if the value is negative and 1 if its positive\n",
    "- We need to also keep track of the slopes of the loss funciton wrt node values\n",
    "  - Slope of node values are just the sum of the slopes for all weights that come out of them"
   ]
  },
  {
   "cell_type": "markdown",
   "metadata": {},
   "source": [
    "### The relationship between forward and backward propagation"
   ]
  },
  {
   "cell_type": "markdown",
   "metadata": {
    "collapsed": true
   },
   "source": [
    "- its 1 to 1\n",
    "- Each time you generate predictions using forward propagation, you updated the weights using backward propagation."
   ]
  },
  {
   "cell_type": "markdown",
   "metadata": {},
   "source": [
    "### Thinking about backward propagation"
   ]
  },
  {
   "cell_type": "markdown",
   "metadata": {
    "collapsed": true
   },
   "source": [
    "- If your predictions were all exactly right, and your errors were all exactly 0, the slope of the loss function with respect to your predictions would also be 0. \n",
    "- In that circumstance, the updates to all weights in the newtwork would also be 0."
   ]
  },
  {
   "cell_type": "markdown",
   "metadata": {},
   "source": [
    "## Backpropagation in practice"
   ]
  },
  {
   "cell_type": "markdown",
   "metadata": {
    "collapsed": true
   },
   "source": [
    "- See a simple example of backpropagtion in the slides\n",
    "\n",
    "#### Calculating slopes associated with any weight\n",
    "- Gradients for weight is product of:\n",
    "  - Node value feeding into that weight\n",
    "  - Slope of activation function for the node being fed into \n",
    "    - This is simple the sum of slopes of weights coming out of node\n",
    "  - Slope of loss function wrt output node\n",
    "    - For relu this is 0 if negative and 1 if positive value at node\n",
    "\n",
    "#### Backpropagation: Recap\n",
    "- Start at some random set of weights\n",
    "- Use forward propagation to make a prediction\n",
    "- Use backward propagation to calculate the slope of the loss function wrt each weight\n",
    "- Multiply that slope by the learning rate, and subtract from the current weights\n",
    "- Keep going with that cycle until we get to a flat part\n",
    "\n",
    "#### Stochastic gradient descent\n",
    "- It is common to calclate slopes on only a subset of the data ('batch')\n",
    "- Use a different batch of data to calculate the next update\n",
    "- Start over from the beginning once all data is used\n",
    "- Each time through the training data is called an epoch\n",
    "- When slopes are calculated on one batch at a time its called stochastic gradient descent\n",
    "- Note: I guess this is a way to prevent over fitting to a specific 'batch' of training data. Or it could just be used to speed things up."
   ]
  },
  {
   "cell_type": "markdown",
   "metadata": {},
   "source": [
    "# Building deep learning models with keras"
   ]
  },
  {
   "cell_type": "markdown",
   "metadata": {},
   "source": [
    "## Creating a keras model"
   ]
  },
  {
   "cell_type": "markdown",
   "metadata": {
    "collapsed": true
   },
   "source": [
    "#### Model building steps\n",
    "- Specify Architecture\n",
    "- Compile\n",
    "- Fit\n",
    "- Predict\n",
    "\n",
    "#### keras notes\n",
    "- you need to specify the number of inputs to the first layer. This is the number of features or columns in the data\n",
    "- We will focus on sequential. This means layers connect only to the next layer. Like what we have practiced in this clas. There are more complex layer formats but this will work for now. \n",
    "- In a dense layer all of the nodes in the previous layer connect to all the nodes in the current layer.\n",
    "- Here we use the 'relu' activation function. Keras supports pretty much all activtion functions we would want to use in practice."
   ]
  },
  {
   "cell_type": "markdown",
   "metadata": {},
   "source": [
    "### Specifying a model"
   ]
  },
  {
   "cell_type": "code",
   "execution_count": 18,
   "metadata": {},
   "outputs": [
    {
     "data": {
      "text/html": [
       "<div>\n",
       "<style>\n",
       "    .dataframe thead tr:only-child th {\n",
       "        text-align: right;\n",
       "    }\n",
       "\n",
       "    .dataframe thead th {\n",
       "        text-align: left;\n",
       "    }\n",
       "\n",
       "    .dataframe tbody tr th {\n",
       "        vertical-align: top;\n",
       "    }\n",
       "</style>\n",
       "<table border=\"1\" class=\"dataframe\">\n",
       "  <thead>\n",
       "    <tr style=\"text-align: right;\">\n",
       "      <th></th>\n",
       "      <th>wage_per_hour</th>\n",
       "      <th>union</th>\n",
       "      <th>education_yrs</th>\n",
       "      <th>experience_yrs</th>\n",
       "      <th>age</th>\n",
       "      <th>female</th>\n",
       "      <th>marr</th>\n",
       "      <th>south</th>\n",
       "      <th>manufacturing</th>\n",
       "      <th>construction</th>\n",
       "    </tr>\n",
       "  </thead>\n",
       "  <tbody>\n",
       "    <tr>\n",
       "      <th>0</th>\n",
       "      <td>5.10</td>\n",
       "      <td>0</td>\n",
       "      <td>8</td>\n",
       "      <td>21</td>\n",
       "      <td>35</td>\n",
       "      <td>1</td>\n",
       "      <td>1</td>\n",
       "      <td>0</td>\n",
       "      <td>1</td>\n",
       "      <td>0</td>\n",
       "    </tr>\n",
       "    <tr>\n",
       "      <th>1</th>\n",
       "      <td>4.95</td>\n",
       "      <td>0</td>\n",
       "      <td>9</td>\n",
       "      <td>42</td>\n",
       "      <td>57</td>\n",
       "      <td>1</td>\n",
       "      <td>1</td>\n",
       "      <td>0</td>\n",
       "      <td>1</td>\n",
       "      <td>0</td>\n",
       "    </tr>\n",
       "    <tr>\n",
       "      <th>2</th>\n",
       "      <td>6.67</td>\n",
       "      <td>0</td>\n",
       "      <td>12</td>\n",
       "      <td>1</td>\n",
       "      <td>19</td>\n",
       "      <td>0</td>\n",
       "      <td>0</td>\n",
       "      <td>0</td>\n",
       "      <td>1</td>\n",
       "      <td>0</td>\n",
       "    </tr>\n",
       "    <tr>\n",
       "      <th>3</th>\n",
       "      <td>4.00</td>\n",
       "      <td>0</td>\n",
       "      <td>12</td>\n",
       "      <td>4</td>\n",
       "      <td>22</td>\n",
       "      <td>0</td>\n",
       "      <td>0</td>\n",
       "      <td>0</td>\n",
       "      <td>0</td>\n",
       "      <td>0</td>\n",
       "    </tr>\n",
       "    <tr>\n",
       "      <th>4</th>\n",
       "      <td>7.50</td>\n",
       "      <td>0</td>\n",
       "      <td>12</td>\n",
       "      <td>17</td>\n",
       "      <td>35</td>\n",
       "      <td>0</td>\n",
       "      <td>1</td>\n",
       "      <td>0</td>\n",
       "      <td>0</td>\n",
       "      <td>0</td>\n",
       "    </tr>\n",
       "  </tbody>\n",
       "</table>\n",
       "</div>"
      ],
      "text/plain": [
       "   wage_per_hour  union  education_yrs  experience_yrs  age  female  marr  \\\n",
       "0           5.10      0              8              21   35       1     1   \n",
       "1           4.95      0              9              42   57       1     1   \n",
       "2           6.67      0             12               1   19       0     0   \n",
       "3           4.00      0             12               4   22       0     0   \n",
       "4           7.50      0             12              17   35       0     1   \n",
       "\n",
       "   south  manufacturing  construction  \n",
       "0      0              1             0  \n",
       "1      0              1             0  \n",
       "2      0              1             0  \n",
       "3      0              0             0  \n",
       "4      0              0             0  "
      ]
     },
     "execution_count": 18,
     "metadata": {},
     "output_type": "execute_result"
    }
   ],
   "source": [
    "file = 'https://assets.datacamp.com/production/course_1975/datasets/hourly_wages.csv'\n",
    "wages = pd.read_csv(file)\n",
    "wages.head()"
   ]
  },
  {
   "cell_type": "code",
   "execution_count": 19,
   "metadata": {},
   "outputs": [
    {
     "name": "stdout",
     "output_type": "stream",
     "text": [
      "(534,)\n"
     ]
    },
    {
     "data": {
      "text/plain": [
       "array([  5.1 ,   4.95,   6.67,   4.  ,   7.5 ,  13.07])"
      ]
     },
     "execution_count": 19,
     "metadata": {},
     "output_type": "execute_result"
    }
   ],
   "source": [
    "target = wages['wage_per_hour'].values\n",
    "print(target.shape)\n",
    "target[0:6]\n"
   ]
  },
  {
   "cell_type": "code",
   "execution_count": 20,
   "metadata": {},
   "outputs": [
    {
     "name": "stdout",
     "output_type": "stream",
     "text": [
      "(534, 9)\n"
     ]
    },
    {
     "data": {
      "text/plain": [
       "array([[ 0,  8, 21, ...,  0,  1,  0],\n",
       "       [ 0,  9, 42, ...,  0,  1,  0],\n",
       "       [ 0, 12,  1, ...,  0,  1,  0],\n",
       "       ..., \n",
       "       [ 1, 17, 25, ...,  0,  0,  0],\n",
       "       [ 1, 12, 13, ...,  1,  0,  0],\n",
       "       [ 0, 16, 33, ...,  0,  1,  0]])"
      ]
     },
     "execution_count": 20,
     "metadata": {},
     "output_type": "execute_result"
    }
   ],
   "source": [
    "predictors = wages.drop('wage_per_hour', axis = 1).values\n",
    "print(predictors.shape)\n",
    "predictors"
   ]
  },
  {
   "cell_type": "code",
   "execution_count": 21,
   "metadata": {},
   "outputs": [
    {
     "name": "stderr",
     "output_type": "stream",
     "text": [
      "Using TensorFlow backend.\n"
     ]
    }
   ],
   "source": [
    "# Import necessary modules\n",
    "import keras\n",
    "from keras.layers import Dense\n",
    "from keras.models import Sequential\n",
    "\n",
    "# Save the number of columns in predictors: n_cols\n",
    "n_cols = predictors.shape[1]\n",
    "\n",
    "# Set up the model: model\n",
    "model = Sequential()\n",
    "\n",
    "# Add the first layer\n",
    "model.add(Dense(50, activation = 'relu', input_shape = (n_cols,)))\n",
    "\n",
    "# Add the second layer\n",
    "model.add(Dense(32, activation = 'relu'))\n",
    "\n",
    "# Add the output layer\n",
    "model.add(Dense(1))\n"
   ]
  },
  {
   "cell_type": "markdown",
   "metadata": {},
   "source": [
    "## Compiling and fitting a model"
   ]
  },
  {
   "cell_type": "markdown",
   "metadata": {
    "collapsed": true
   },
   "source": [
    "#### Compile your model\n",
    "- Specify the optimizer\n",
    "  - Controls the learning rate\n",
    "  - Many options and mathematically complex\n",
    "    - Even the experts don't know all the details and options\n",
    "  - \"Adam\" is ususally a good robust choice\n",
    "- Loss function\n",
    "  - \"mean_squarred_error\" is common for regression problems\n",
    "  - we will use something else later for classificaiton problems\n",
    " \n",
    "#### Fitting a model\n",
    "- Applying backpropation and gradient descent with your data to update the weights\n",
    "- This will be similar to what we did in scikitlearn but with more options\n",
    "- Scaling data before fitting can ease optimization"
   ]
  },
  {
   "cell_type": "markdown",
   "metadata": {},
   "source": [
    "### Compiling the model"
   ]
  },
  {
   "cell_type": "markdown",
   "metadata": {},
   "source": [
    "- [documention](https://keras.io/optimizers/#adam) on \"adam\" model and others\n",
    "- [original paper](https://arxiv.org/abs/1412.6980v8) on adam model"
   ]
  },
  {
   "cell_type": "code",
   "execution_count": 22,
   "metadata": {},
   "outputs": [
    {
     "name": "stdout",
     "output_type": "stream",
     "text": [
      "Loss function: mean_squared_error\n"
     ]
    }
   ],
   "source": [
    "# Compile the model\n",
    "model.compile(optimizer = 'adam', loss = 'mean_squared_error')\n",
    "\n",
    "# Verify that model contains information from compiling\n",
    "print(\"Loss function: \" + model.loss)"
   ]
  },
  {
   "cell_type": "markdown",
   "metadata": {},
   "source": [
    "### Fitting the model"
   ]
  },
  {
   "cell_type": "code",
   "execution_count": 23,
   "metadata": {},
   "outputs": [
    {
     "name": "stdout",
     "output_type": "stream",
     "text": [
      "Epoch 1/10\n",
      "534/534 [==============================] - 0s - loss: 23.9523     \n",
      "Epoch 2/10\n",
      "534/534 [==============================] - 0s - loss: 22.2524     \n",
      "Epoch 3/10\n",
      "534/534 [==============================] - 0s - loss: 23.1267     \n",
      "Epoch 4/10\n",
      "534/534 [==============================] - 0s - loss: 22.4713     \n",
      "Epoch 5/10\n",
      "534/534 [==============================] - 0s - loss: 21.8556     \n",
      "Epoch 6/10\n",
      "534/534 [==============================] - 0s - loss: 21.5578     \n",
      "Epoch 7/10\n",
      "534/534 [==============================] - 0s - loss: 20.8700     \n",
      "Epoch 8/10\n",
      "534/534 [==============================] - 0s - loss: 21.9230     \n",
      "Epoch 9/10\n",
      "534/534 [==============================] - 0s - loss: 21.6118     \n",
      "Epoch 10/10\n",
      "534/534 [==============================] - 0s - loss: 20.6129     \n"
     ]
    },
    {
     "data": {
      "text/plain": [
       "<keras.callbacks.History at 0x1a2288dfd0>"
      ]
     },
     "execution_count": 23,
     "metadata": {},
     "output_type": "execute_result"
    }
   ],
   "source": [
    "# Fit the model\n",
    "model.fit(predictors, target)"
   ]
  },
  {
   "cell_type": "markdown",
   "metadata": {},
   "source": [
    "## Classification models"
   ]
  },
  {
   "cell_type": "markdown",
   "metadata": {
    "collapsed": true
   },
   "source": [
    "#### Classification\n",
    "- 'categorical_crossentropy' loss function\n",
    "  - Not the only one, but by far the most common\n",
    "- Similar to log loss: lower to better\n",
    "- Add metrics = ['accuracy'] to compile step for easy-to-understand diagnostics\n",
    "- Output layer has separate node for each possible outcome and uses 'softmax' activation\n",
    "  - this is ensures the output sums to 1 so they can be interpreted as probabilities\n",
    "\n",
    "- We will have a separate node in the output for each possible class\n",
    "- We will split or results classification into a boolean column for each outcome\n",
    "  - This is called one hot encoding\n",
    "  \n",
    "- We use the function `to_categorical` to do the one hot encoding\n",
    "- the instructor likes to load data with pandas so he can inspect it easily. I do too.\n",
    "- We will drop the target and then convert to a numpy matrix with `to_matrix`\n",
    "- Then convert the target data to categorical columns\n",
    "- After that our model looks the same except we use 2 nodes at the end andit has the softmax activation function\n",
    "- We will look at better ways to determine how long to train later on.\n",
    "  \n",
    "\n"
   ]
  },
  {
   "cell_type": "markdown",
   "metadata": {},
   "source": [
    "### Understanding your classification data"
   ]
  },
  {
   "cell_type": "code",
   "execution_count": 24,
   "metadata": {},
   "outputs": [
    {
     "data": {
      "text/html": [
       "<div>\n",
       "<style>\n",
       "    .dataframe thead tr:only-child th {\n",
       "        text-align: right;\n",
       "    }\n",
       "\n",
       "    .dataframe thead th {\n",
       "        text-align: left;\n",
       "    }\n",
       "\n",
       "    .dataframe tbody tr th {\n",
       "        vertical-align: top;\n",
       "    }\n",
       "</style>\n",
       "<table border=\"1\" class=\"dataframe\">\n",
       "  <thead>\n",
       "    <tr style=\"text-align: right;\">\n",
       "      <th></th>\n",
       "      <th>survived</th>\n",
       "      <th>pclass</th>\n",
       "      <th>age</th>\n",
       "      <th>sibsp</th>\n",
       "      <th>parch</th>\n",
       "      <th>fare</th>\n",
       "      <th>male</th>\n",
       "      <th>age_was_missing</th>\n",
       "      <th>embarked_from_cherbourg</th>\n",
       "      <th>embarked_from_queenstown</th>\n",
       "      <th>embarked_from_southampton</th>\n",
       "    </tr>\n",
       "  </thead>\n",
       "  <tbody>\n",
       "    <tr>\n",
       "      <th>0</th>\n",
       "      <td>0</td>\n",
       "      <td>3</td>\n",
       "      <td>22.0</td>\n",
       "      <td>1</td>\n",
       "      <td>0</td>\n",
       "      <td>7.2500</td>\n",
       "      <td>1</td>\n",
       "      <td>False</td>\n",
       "      <td>0</td>\n",
       "      <td>0</td>\n",
       "      <td>1</td>\n",
       "    </tr>\n",
       "    <tr>\n",
       "      <th>1</th>\n",
       "      <td>1</td>\n",
       "      <td>1</td>\n",
       "      <td>38.0</td>\n",
       "      <td>1</td>\n",
       "      <td>0</td>\n",
       "      <td>71.2833</td>\n",
       "      <td>0</td>\n",
       "      <td>False</td>\n",
       "      <td>1</td>\n",
       "      <td>0</td>\n",
       "      <td>0</td>\n",
       "    </tr>\n",
       "    <tr>\n",
       "      <th>2</th>\n",
       "      <td>1</td>\n",
       "      <td>3</td>\n",
       "      <td>26.0</td>\n",
       "      <td>0</td>\n",
       "      <td>0</td>\n",
       "      <td>7.9250</td>\n",
       "      <td>0</td>\n",
       "      <td>False</td>\n",
       "      <td>0</td>\n",
       "      <td>0</td>\n",
       "      <td>1</td>\n",
       "    </tr>\n",
       "    <tr>\n",
       "      <th>3</th>\n",
       "      <td>1</td>\n",
       "      <td>1</td>\n",
       "      <td>35.0</td>\n",
       "      <td>1</td>\n",
       "      <td>0</td>\n",
       "      <td>53.1000</td>\n",
       "      <td>0</td>\n",
       "      <td>False</td>\n",
       "      <td>0</td>\n",
       "      <td>0</td>\n",
       "      <td>1</td>\n",
       "    </tr>\n",
       "    <tr>\n",
       "      <th>4</th>\n",
       "      <td>0</td>\n",
       "      <td>3</td>\n",
       "      <td>35.0</td>\n",
       "      <td>0</td>\n",
       "      <td>0</td>\n",
       "      <td>8.0500</td>\n",
       "      <td>1</td>\n",
       "      <td>False</td>\n",
       "      <td>0</td>\n",
       "      <td>0</td>\n",
       "      <td>1</td>\n",
       "    </tr>\n",
       "  </tbody>\n",
       "</table>\n",
       "</div>"
      ],
      "text/plain": [
       "   survived  pclass   age  sibsp  parch     fare  male  age_was_missing  \\\n",
       "0         0       3  22.0      1      0   7.2500     1            False   \n",
       "1         1       1  38.0      1      0  71.2833     0            False   \n",
       "2         1       3  26.0      0      0   7.9250     0            False   \n",
       "3         1       1  35.0      1      0  53.1000     0            False   \n",
       "4         0       3  35.0      0      0   8.0500     1            False   \n",
       "\n",
       "   embarked_from_cherbourg  embarked_from_queenstown  \\\n",
       "0                        0                         0   \n",
       "1                        1                         0   \n",
       "2                        0                         0   \n",
       "3                        0                         0   \n",
       "4                        0                         0   \n",
       "\n",
       "   embarked_from_southampton  \n",
       "0                          1  \n",
       "1                          0  \n",
       "2                          1  \n",
       "3                          1  \n",
       "4                          1  "
      ]
     },
     "execution_count": 24,
     "metadata": {},
     "output_type": "execute_result"
    }
   ],
   "source": [
    "file = 'https://assets.datacamp.com/production/course_1975/datasets/titanic_all_numeric.csv'\n",
    "titanic = pd.read_csv(file)\n",
    "titanic.head()"
   ]
  },
  {
   "cell_type": "code",
   "execution_count": 25,
   "metadata": {},
   "outputs": [
    {
     "data": {
      "text/html": [
       "<div>\n",
       "<style>\n",
       "    .dataframe thead tr:only-child th {\n",
       "        text-align: right;\n",
       "    }\n",
       "\n",
       "    .dataframe thead th {\n",
       "        text-align: left;\n",
       "    }\n",
       "\n",
       "    .dataframe tbody tr th {\n",
       "        vertical-align: top;\n",
       "    }\n",
       "</style>\n",
       "<table border=\"1\" class=\"dataframe\">\n",
       "  <thead>\n",
       "    <tr style=\"text-align: right;\">\n",
       "      <th></th>\n",
       "      <th>survived</th>\n",
       "      <th>pclass</th>\n",
       "      <th>age</th>\n",
       "      <th>sibsp</th>\n",
       "      <th>parch</th>\n",
       "      <th>fare</th>\n",
       "      <th>male</th>\n",
       "      <th>embarked_from_cherbourg</th>\n",
       "      <th>embarked_from_queenstown</th>\n",
       "      <th>embarked_from_southampton</th>\n",
       "    </tr>\n",
       "  </thead>\n",
       "  <tbody>\n",
       "    <tr>\n",
       "      <th>count</th>\n",
       "      <td>891.000000</td>\n",
       "      <td>891.000000</td>\n",
       "      <td>891.000000</td>\n",
       "      <td>891.000000</td>\n",
       "      <td>891.000000</td>\n",
       "      <td>891.000000</td>\n",
       "      <td>891.000000</td>\n",
       "      <td>891.000000</td>\n",
       "      <td>891.000000</td>\n",
       "      <td>891.000000</td>\n",
       "    </tr>\n",
       "    <tr>\n",
       "      <th>mean</th>\n",
       "      <td>0.383838</td>\n",
       "      <td>2.308642</td>\n",
       "      <td>29.699118</td>\n",
       "      <td>0.523008</td>\n",
       "      <td>0.381594</td>\n",
       "      <td>32.204208</td>\n",
       "      <td>0.647587</td>\n",
       "      <td>0.188552</td>\n",
       "      <td>0.086420</td>\n",
       "      <td>0.722783</td>\n",
       "    </tr>\n",
       "    <tr>\n",
       "      <th>std</th>\n",
       "      <td>0.486592</td>\n",
       "      <td>0.836071</td>\n",
       "      <td>13.002015</td>\n",
       "      <td>1.102743</td>\n",
       "      <td>0.806057</td>\n",
       "      <td>49.693429</td>\n",
       "      <td>0.477990</td>\n",
       "      <td>0.391372</td>\n",
       "      <td>0.281141</td>\n",
       "      <td>0.447876</td>\n",
       "    </tr>\n",
       "    <tr>\n",
       "      <th>min</th>\n",
       "      <td>0.000000</td>\n",
       "      <td>1.000000</td>\n",
       "      <td>0.420000</td>\n",
       "      <td>0.000000</td>\n",
       "      <td>0.000000</td>\n",
       "      <td>0.000000</td>\n",
       "      <td>0.000000</td>\n",
       "      <td>0.000000</td>\n",
       "      <td>0.000000</td>\n",
       "      <td>0.000000</td>\n",
       "    </tr>\n",
       "    <tr>\n",
       "      <th>25%</th>\n",
       "      <td>0.000000</td>\n",
       "      <td>2.000000</td>\n",
       "      <td>22.000000</td>\n",
       "      <td>0.000000</td>\n",
       "      <td>0.000000</td>\n",
       "      <td>7.910400</td>\n",
       "      <td>0.000000</td>\n",
       "      <td>0.000000</td>\n",
       "      <td>0.000000</td>\n",
       "      <td>0.000000</td>\n",
       "    </tr>\n",
       "    <tr>\n",
       "      <th>50%</th>\n",
       "      <td>0.000000</td>\n",
       "      <td>3.000000</td>\n",
       "      <td>29.699118</td>\n",
       "      <td>0.000000</td>\n",
       "      <td>0.000000</td>\n",
       "      <td>14.454200</td>\n",
       "      <td>1.000000</td>\n",
       "      <td>0.000000</td>\n",
       "      <td>0.000000</td>\n",
       "      <td>1.000000</td>\n",
       "    </tr>\n",
       "    <tr>\n",
       "      <th>75%</th>\n",
       "      <td>1.000000</td>\n",
       "      <td>3.000000</td>\n",
       "      <td>35.000000</td>\n",
       "      <td>1.000000</td>\n",
       "      <td>0.000000</td>\n",
       "      <td>31.000000</td>\n",
       "      <td>1.000000</td>\n",
       "      <td>0.000000</td>\n",
       "      <td>0.000000</td>\n",
       "      <td>1.000000</td>\n",
       "    </tr>\n",
       "    <tr>\n",
       "      <th>max</th>\n",
       "      <td>1.000000</td>\n",
       "      <td>3.000000</td>\n",
       "      <td>80.000000</td>\n",
       "      <td>8.000000</td>\n",
       "      <td>6.000000</td>\n",
       "      <td>512.329200</td>\n",
       "      <td>1.000000</td>\n",
       "      <td>1.000000</td>\n",
       "      <td>1.000000</td>\n",
       "      <td>1.000000</td>\n",
       "    </tr>\n",
       "  </tbody>\n",
       "</table>\n",
       "</div>"
      ],
      "text/plain": [
       "         survived      pclass         age       sibsp       parch        fare  \\\n",
       "count  891.000000  891.000000  891.000000  891.000000  891.000000  891.000000   \n",
       "mean     0.383838    2.308642   29.699118    0.523008    0.381594   32.204208   \n",
       "std      0.486592    0.836071   13.002015    1.102743    0.806057   49.693429   \n",
       "min      0.000000    1.000000    0.420000    0.000000    0.000000    0.000000   \n",
       "25%      0.000000    2.000000   22.000000    0.000000    0.000000    7.910400   \n",
       "50%      0.000000    3.000000   29.699118    0.000000    0.000000   14.454200   \n",
       "75%      1.000000    3.000000   35.000000    1.000000    0.000000   31.000000   \n",
       "max      1.000000    3.000000   80.000000    8.000000    6.000000  512.329200   \n",
       "\n",
       "             male  embarked_from_cherbourg  embarked_from_queenstown  \\\n",
       "count  891.000000               891.000000                891.000000   \n",
       "mean     0.647587                 0.188552                  0.086420   \n",
       "std      0.477990                 0.391372                  0.281141   \n",
       "min      0.000000                 0.000000                  0.000000   \n",
       "25%      0.000000                 0.000000                  0.000000   \n",
       "50%      1.000000                 0.000000                  0.000000   \n",
       "75%      1.000000                 0.000000                  0.000000   \n",
       "max      1.000000                 1.000000                  1.000000   \n",
       "\n",
       "       embarked_from_southampton  \n",
       "count                 891.000000  \n",
       "mean                    0.722783  \n",
       "std                     0.447876  \n",
       "min                     0.000000  \n",
       "25%                     0.000000  \n",
       "50%                     1.000000  \n",
       "75%                     1.000000  \n",
       "max                     1.000000  "
      ]
     },
     "execution_count": 25,
     "metadata": {},
     "output_type": "execute_result"
    }
   ],
   "source": [
    "titanic.describe()"
   ]
  },
  {
   "cell_type": "markdown",
   "metadata": {},
   "source": [
    "### Last steps in classification models"
   ]
  },
  {
   "cell_type": "code",
   "execution_count": 26,
   "metadata": {},
   "outputs": [
    {
     "data": {
      "text/plain": [
       "array([[3, 22.0, 1, ..., 0, 0, 1],\n",
       "       [1, 38.0, 1, ..., 1, 0, 0],\n",
       "       [3, 26.0, 0, ..., 0, 0, 1],\n",
       "       ..., \n",
       "       [3, 29.69911764705882, 1, ..., 0, 0, 1],\n",
       "       [1, 26.0, 0, ..., 1, 0, 0],\n",
       "       [3, 32.0, 0, ..., 0, 1, 0]], dtype=object)"
      ]
     },
     "execution_count": 26,
     "metadata": {},
     "output_type": "execute_result"
    }
   ],
   "source": [
    "predictors = titanic.drop('survived', axis = 1).values\n",
    "predictors"
   ]
  },
  {
   "cell_type": "code",
   "execution_count": 28,
   "metadata": {},
   "outputs": [
    {
     "data": {
      "text/plain": [
       "array([[ 1.,  0.],\n",
       "       [ 0.,  1.],\n",
       "       [ 0.,  1.],\n",
       "       ..., \n",
       "       [ 1.,  0.],\n",
       "       [ 0.,  1.],\n",
       "       [ 1.,  0.]])"
      ]
     },
     "execution_count": 28,
     "metadata": {},
     "output_type": "execute_result"
    }
   ],
   "source": [
    "from keras.utils import to_categorical\n",
    "\n",
    "# Convert the target to categorical: target\n",
    "target = to_categorical(titanic.survived)\n",
    "target"
   ]
  },
  {
   "cell_type": "code",
   "execution_count": 29,
   "metadata": {},
   "outputs": [
    {
     "data": {
      "text/plain": [
       "0    0\n",
       "1    1\n",
       "2    1\n",
       "3    1\n",
       "4    0\n",
       "Name: survived, dtype: int64"
      ]
     },
     "execution_count": 29,
     "metadata": {},
     "output_type": "execute_result"
    }
   ],
   "source": [
    "titanic.survived.head()"
   ]
  },
  {
   "cell_type": "code",
   "execution_count": 30,
   "metadata": {
    "collapsed": true
   },
   "outputs": [],
   "source": [
    "n_cols = predictors.shape[1]"
   ]
  },
  {
   "cell_type": "code",
   "execution_count": 31,
   "metadata": {},
   "outputs": [
    {
     "name": "stdout",
     "output_type": "stream",
     "text": [
      "Epoch 1/10\n",
      "891/891 [==============================] - 0s - loss: 3.7363 - acc: 0.5915     \n",
      "Epoch 2/10\n",
      "891/891 [==============================] - 0s - loss: 2.4379 - acc: 0.6386     \n",
      "Epoch 3/10\n",
      "891/891 [==============================] - 0s - loss: 1.6070 - acc: 0.6251     \n",
      "Epoch 4/10\n",
      "891/891 [==============================] - 0s - loss: 0.8699 - acc: 0.6083     \n",
      "Epoch 5/10\n",
      "891/891 [==============================] - 0s - loss: 0.6500 - acc: 0.6790     \n",
      "Epoch 6/10\n",
      "891/891 [==============================] - 0s - loss: 0.6460 - acc: 0.6768     \n",
      "Epoch 7/10\n",
      "891/891 [==============================] - 0s - loss: 0.6203 - acc: 0.6756     \n",
      "Epoch 8/10\n",
      "891/891 [==============================] - 0s - loss: 0.5954 - acc: 0.6857     \n",
      "Epoch 9/10\n",
      "891/891 [==============================] - 0s - loss: 0.5809 - acc: 0.7026     \n",
      "Epoch 10/10\n",
      "891/891 [==============================] - 0s - loss: 0.5879 - acc: 0.7037     \n"
     ]
    },
    {
     "data": {
      "text/plain": [
       "<keras.callbacks.History at 0x1a22b72908>"
      ]
     },
     "execution_count": 31,
     "metadata": {},
     "output_type": "execute_result"
    }
   ],
   "source": [
    "# Import necessary modules\n",
    "import keras\n",
    "from keras.layers import Dense\n",
    "from keras.models import Sequential\n",
    "\n",
    "# Set up the model\n",
    "model = Sequential()\n",
    "\n",
    "# Add the first layer\n",
    "model.add(Dense(32, activation = 'relu', input_shape = (n_cols,)))\n",
    "\n",
    "# Add the output layer\n",
    "model.add(Dense(2, activation = 'softmax'))\n",
    "\n",
    "# Compile the model\n",
    "model.compile(\n",
    "    optimizer = 'sgd',\n",
    "    loss = 'categorical_crossentropy',\n",
    "    metrics = ['accuracy']\n",
    ")\n",
    "\n",
    "# Fit the model\n",
    "model.fit(predictors, target)\n"
   ]
  },
  {
   "cell_type": "markdown",
   "metadata": {},
   "source": [
    "- What if I used more layers.\n",
    "- Just doing a litle practice here\n",
    "- The example in the slides had more layers and an `adam` optimizer"
   ]
  },
  {
   "cell_type": "code",
   "execution_count": 32,
   "metadata": {},
   "outputs": [
    {
     "name": "stdout",
     "output_type": "stream",
     "text": [
      "Epoch 1/10\n",
      "891/891 [==============================] - 0s - loss: 1.2053 - acc: 0.6139     \n",
      "Epoch 2/10\n",
      "891/891 [==============================] - 0s - loss: 0.6568 - acc: 0.6712     \n",
      "Epoch 3/10\n",
      "891/891 [==============================] - 0s - loss: 0.6202 - acc: 0.6689     \n",
      "Epoch 4/10\n",
      "891/891 [==============================] - 0s - loss: 0.6006 - acc: 0.7015     \n",
      "Epoch 5/10\n",
      "891/891 [==============================] - 0s - loss: 0.6223 - acc: 0.6835     \n",
      "Epoch 6/10\n",
      "891/891 [==============================] - 0s - loss: 0.6002 - acc: 0.6970     \n",
      "Epoch 7/10\n",
      "891/891 [==============================] - 0s - loss: 0.5935 - acc: 0.7116     \n",
      "Epoch 8/10\n",
      "891/891 [==============================] - 0s - loss: 0.5977 - acc: 0.7116     \n",
      "Epoch 9/10\n",
      "891/891 [==============================] - 0s - loss: 0.5982 - acc: 0.6970     \n",
      "Epoch 10/10\n",
      "891/891 [==============================] - 0s - loss: 0.5915 - acc: 0.7026     \n"
     ]
    },
    {
     "data": {
      "text/plain": [
       "<keras.callbacks.History at 0x1a22d99710>"
      ]
     },
     "execution_count": 32,
     "metadata": {},
     "output_type": "execute_result"
    }
   ],
   "source": [
    "model = Sequential()\n",
    "model.add(Dense(100, activation = 'relu', input_shape = (n_cols,)))\n",
    "model.add(Dense(100, activation = 'relu'))\n",
    "model.add(Dense(100, activation = 'relu'))\n",
    "model.add(Dense(2, activation = 'softmax'))\n",
    "\n",
    "model.compile(\n",
    "    optimizer = 'sgd',\n",
    "    loss = 'categorical_crossentropy',\n",
    "    metrics = ['accuracy']\n",
    ")\n",
    "\n",
    "model.fit(predictors, target)"
   ]
  },
  {
   "cell_type": "markdown",
   "metadata": {},
   "source": [
    "- Using a thousand nodes in each layer makes it way slower, but it gets more accurate\n",
    "- Wait how does it test the accuracy? Does it use cross validation?"
   ]
  },
  {
   "cell_type": "code",
   "execution_count": 33,
   "metadata": {},
   "outputs": [
    {
     "name": "stdout",
     "output_type": "stream",
     "text": [
      "Epoch 1/10\n",
      "891/891 [==============================] - 0s - loss: 1.3850 - acc: 0.6364     \n",
      "Epoch 2/10\n",
      "891/891 [==============================] - 0s - loss: 0.6407 - acc: 0.6599     \n",
      "Epoch 3/10\n",
      "891/891 [==============================] - 0s - loss: 0.6035 - acc: 0.6835     \n",
      "Epoch 4/10\n",
      "891/891 [==============================] - 0s - loss: 0.6009 - acc: 0.6857     \n",
      "Epoch 5/10\n",
      "891/891 [==============================] - 0s - loss: 0.5830 - acc: 0.7093     \n",
      "Epoch 6/10\n",
      "891/891 [==============================] - 0s - loss: 0.5498 - acc: 0.7217     \n",
      "Epoch 7/10\n",
      "891/891 [==============================] - 0s - loss: 0.5435 - acc: 0.7340     \n",
      "Epoch 8/10\n",
      "891/891 [==============================] - 0s - loss: 0.5237 - acc: 0.7542     \n",
      "Epoch 9/10\n",
      "891/891 [==============================] - 0s - loss: 0.5092 - acc: 0.7744     \n",
      "Epoch 10/10\n",
      "891/891 [==============================] - 0s - loss: 0.5113 - acc: 0.7778     \n"
     ]
    },
    {
     "data": {
      "text/plain": [
       "<keras.callbacks.History at 0x1a23092c18>"
      ]
     },
     "execution_count": 33,
     "metadata": {},
     "output_type": "execute_result"
    }
   ],
   "source": [
    "model = Sequential()\n",
    "model.add(Dense(1000, activation = 'relu', input_shape = (n_cols,)))\n",
    "model.add(Dense(1000, activation = 'relu'))\n",
    "model.add(Dense(1000, activation = 'relu'))\n",
    "model.add(Dense(2, activation = 'softmax'))\n",
    "\n",
    "model.compile(\n",
    "    optimizer = 'adam',\n",
    "    loss = 'categorical_crossentropy',\n",
    "    metrics = ['accuracy']\n",
    ")\n",
    "\n",
    "model.fit(predictors, target)"
   ]
  },
  {
   "cell_type": "markdown",
   "metadata": {},
   "source": [
    "## Using models"
   ]
  },
  {
   "cell_type": "markdown",
   "metadata": {
    "collapsed": true
   },
   "source": [
    "#### Steps \n",
    "- Save the model\n",
    "- Reload it\n",
    "- Make predictions with it\n",
    "\n",
    "#### Notes\n",
    "- Use the save method and a file name to save the model \n",
    "- we use hdf5 files to save the model which are .h5 extension\n",
    "- The predictions result will be in the same format as the target variable (two columns, categorical)\n",
    " - We just want percent survived here so we take the second column\n",
    " - I'm using the predictors data that we used to train the model just for the example\n",
    " - Of course I'd want to use testing data normally"
   ]
  },
  {
   "cell_type": "code",
   "execution_count": 34,
   "metadata": {
    "collapsed": true
   },
   "outputs": [],
   "source": [
    "from keras.models import load_model\n",
    "model.save('model_file.h5')\n",
    "my_model = load_model('model_file.h5')\n",
    "predictions = my_model.predict(predictors)\n",
    "probability_true = predictions[:,1]"
   ]
  },
  {
   "cell_type": "code",
   "execution_count": 35,
   "metadata": {},
   "outputs": [
    {
     "data": {
      "text/plain": [
       "array([ 0.1120833 ,  0.83139241,  0.49863389,  0.75253439,  0.1349951 ,\n",
       "        0.21149245,  0.54944605,  0.17865145,  0.47126898,  0.66157144], dtype=float32)"
      ]
     },
     "execution_count": 35,
     "metadata": {},
     "output_type": "execute_result"
    }
   ],
   "source": [
    "probability_true[0:10]"
   ]
  },
  {
   "cell_type": "markdown",
   "metadata": {},
   "source": [
    "#### Verifying model structure"
   ]
  },
  {
   "cell_type": "code",
   "execution_count": 36,
   "metadata": {},
   "outputs": [
    {
     "name": "stdout",
     "output_type": "stream",
     "text": [
      "_________________________________________________________________\n",
      "Layer (type)                 Output Shape              Param #   \n",
      "=================================================================\n",
      "dense_10 (Dense)             (None, 1000)              11000     \n",
      "_________________________________________________________________\n",
      "dense_11 (Dense)             (None, 1000)              1001000   \n",
      "_________________________________________________________________\n",
      "dense_12 (Dense)             (None, 1000)              1001000   \n",
      "_________________________________________________________________\n",
      "dense_13 (Dense)             (None, 2)                 2002      \n",
      "=================================================================\n",
      "Total params: 2,015,002\n",
      "Trainable params: 2,015,002\n",
      "Non-trainable params: 0\n",
      "_________________________________________________________________\n"
     ]
    }
   ],
   "source": [
    "my_model.summary()"
   ]
  },
  {
   "cell_type": "markdown",
   "metadata": {},
   "source": [
    "### Making predictions\n",
    "- This just repeats what I did above, but this is the full process\n",
    "- Except I don't have hold out data so I will use the predictors matrix again"
   ]
  },
  {
   "cell_type": "code",
   "execution_count": 37,
   "metadata": {},
   "outputs": [
    {
     "name": "stdout",
     "output_type": "stream",
     "text": [
      "Epoch 1/10\n",
      "891/891 [==============================] - 0s - loss: 1.7703 - acc: 0.6240     \n",
      "Epoch 2/10\n",
      "891/891 [==============================] - 0s - loss: 1.0856 - acc: 0.6296     \n",
      "Epoch 3/10\n",
      "891/891 [==============================] - 0s - loss: 0.8507 - acc: 0.6611     \n",
      "Epoch 4/10\n",
      "891/891 [==============================] - 0s - loss: 0.6627 - acc: 0.6779     \n",
      "Epoch 5/10\n",
      "891/891 [==============================] - 0s - loss: 0.6611 - acc: 0.6869     \n",
      "Epoch 6/10\n",
      "891/891 [==============================] - 0s - loss: 0.6244 - acc: 0.6745     \n",
      "Epoch 7/10\n",
      "891/891 [==============================] - 0s - loss: 0.5952 - acc: 0.6869     \n",
      "Epoch 8/10\n",
      "891/891 [==============================] - 0s - loss: 0.5894 - acc: 0.6902     \n",
      "Epoch 9/10\n",
      "891/891 [==============================] - 0s - loss: 0.5776 - acc: 0.7037     \n",
      "Epoch 10/10\n",
      "891/891 [==============================] - 0s - loss: 0.5874 - acc: 0.6824     \n",
      "[ 0.3534275   0.63720858  0.53274614  0.60081106  0.35978973  0.42827499\n",
      "  0.51305556  0.39906359  0.69578516  0.53771579  0.47262841  0.78592378\n",
      "  0.41851735  0.3808707   0.53381234  0.59713489  0.39880708  0.510961\n",
      "  0.57460928  0.50815487]\n"
     ]
    }
   ],
   "source": [
    "# Specify, compile, and fit the model\n",
    "model = Sequential()\n",
    "model.add(Dense(32, activation='relu', input_shape = (n_cols,)))\n",
    "model.add(Dense(2, activation='softmax'))\n",
    "model.compile(optimizer='sgd', \n",
    "              loss='categorical_crossentropy', \n",
    "              metrics=['accuracy'])\n",
    "model.fit(predictors, target)\n",
    "\n",
    "# Calculate predictions: predictions\n",
    "predictions = model.predict(predictors)\n",
    "\n",
    "# Calculate predicted probability of survival: predicted_prob_true\n",
    "predicted_prob_true = predictions[:,1]\n",
    "\n",
    "# print predicted_prob_true\n",
    "print(predicted_prob_true[:20])"
   ]
  },
  {
   "cell_type": "markdown",
   "metadata": {},
   "source": [
    "# Fine-tuning keras models"
   ]
  },
  {
   "cell_type": "markdown",
   "metadata": {},
   "source": [
    "## Understanding model optimization"
   ]
  },
  {
   "cell_type": "markdown",
   "metadata": {
    "collapsed": true
   },
   "source": [
    "#### Why optimization is hard\n",
    "- Simultanesously optimixing 1000s of parameters with complex relationships\n",
    "  - The optimum weight for any one weight depends on the values of the other weights and there are a lot of weights\n",
    "- Updates may not improve model meaningfully\n",
    "- Updates too small (if learning rate is low) or too large (if learning rate is high)\n",
    "  - Smart optimizers like `adam` help, but problems can still occur\n",
    "\n",
    "#### Dying neuron problem\n",
    "- Once a node starts always getting negative inputs\n",
    "  - It may continue only getting negative inputs\n",
    "- Conributes nothing to the model\n",
    "  - \"Dead\" neuron\n",
    "\n",
    "#### Vanishing gradient problem\n",
    "- Occurs when many layers have very small slopes (e.g. due to being on flat par of tanh curve)\n",
    "- This can happen when using tanh activation funciton. There is no zero slope. But as the values get high the slopes approch zero\n",
    "- In deep networks, updates to backprop were close to 0\n",
    "- Research on activation functions is on going"
   ]
  },
  {
   "cell_type": "markdown",
   "metadata": {},
   "source": [
    "### Changing optimization parameters"
   ]
  },
  {
   "cell_type": "code",
   "execution_count": 38,
   "metadata": {
    "collapsed": true
   },
   "outputs": [],
   "source": [
    "def get_new_model(input_shape):\n",
    "    model = Sequential()\n",
    "    model.add(Dense(100, activation='relu', input_shape = input_shape))\n",
    "    model.add(Dense(100, activation='relu'))\n",
    "    model.add(Dense(2, activation='softmax'))\n",
    "    return(model)"
   ]
  },
  {
   "cell_type": "code",
   "execution_count": 39,
   "metadata": {},
   "outputs": [
    {
     "name": "stdout",
     "output_type": "stream",
     "text": [
      "\n",
      "\n",
      "Testing model with learning rate: 0.000001\n",
      "\n",
      "Epoch 1/10\n",
      "891/891 [==============================] - 0s - loss: 3.1818     \n",
      "Epoch 2/10\n",
      "891/891 [==============================] - 0s - loss: 3.1507     \n",
      "Epoch 3/10\n",
      "891/891 [==============================] - 0s - loss: 3.1194     \n",
      "Epoch 4/10\n",
      "891/891 [==============================] - 0s - loss: 3.0883     \n",
      "Epoch 5/10\n",
      "891/891 [==============================] - 0s - loss: 3.0573     \n",
      "Epoch 6/10\n",
      "891/891 [==============================] - 0s - loss: 3.0266     \n",
      "Epoch 7/10\n",
      "891/891 [==============================] - 0s - loss: 2.9961     \n",
      "Epoch 8/10\n",
      "891/891 [==============================] - 0s - loss: 2.9657     \n",
      "Epoch 9/10\n",
      "891/891 [==============================] - 0s - loss: 2.9356     \n",
      "Epoch 10/10\n",
      "891/891 [==============================] - 0s - loss: 2.9057     \n",
      "\n",
      "\n",
      "Testing model with learning rate: 0.010000\n",
      "\n",
      "Epoch 1/10\n",
      "891/891 [==============================] - 0s - loss: 2.3632     \n",
      "Epoch 2/10\n",
      "891/891 [==============================] - 0s - loss: 0.6984     \n",
      "Epoch 3/10\n",
      "891/891 [==============================] - 0s - loss: 0.6477     \n",
      "Epoch 4/10\n",
      "891/891 [==============================] - 0s - loss: 0.6272     \n",
      "Epoch 5/10\n",
      "891/891 [==============================] - 0s - loss: 0.6094     \n",
      "Epoch 6/10\n",
      "891/891 [==============================] - 0s - loss: 0.6059     \n",
      "Epoch 7/10\n",
      "891/891 [==============================] - 0s - loss: 0.6025     \n",
      "Epoch 8/10\n",
      "891/891 [==============================] - 0s - loss: 0.6064     \n",
      "Epoch 9/10\n",
      "891/891 [==============================] - 0s - loss: 0.6000     \n",
      "Epoch 10/10\n",
      "891/891 [==============================] - 0s - loss: 0.6019     \n",
      "\n",
      "\n",
      "Testing model with learning rate: 1.000000\n",
      "\n",
      "Epoch 1/10\n",
      "891/891 [==============================] - 0s - loss: 9.5850     \n",
      "Epoch 2/10\n",
      "891/891 [==============================] - 0s - loss: 9.9314     \n",
      "Epoch 3/10\n",
      "891/891 [==============================] - 0s - loss: 9.9314     \n",
      "Epoch 4/10\n",
      "891/891 [==============================] - 0s - loss: 9.9314      \n",
      "Epoch 5/10\n",
      "891/891 [==============================] - 0s - loss: 9.9314     \n",
      "Epoch 6/10\n",
      "891/891 [==============================] - 0s - loss: 9.9314      \n",
      "Epoch 7/10\n",
      "891/891 [==============================] - 0s - loss: 9.9314     \n",
      "Epoch 8/10\n",
      "891/891 [==============================] - 0s - loss: 9.9314      \n",
      "Epoch 9/10\n",
      "891/891 [==============================] - 0s - loss: 9.9314     \n",
      "Epoch 10/10\n",
      "891/891 [==============================] - 0s - loss: 9.9314     \n"
     ]
    }
   ],
   "source": [
    "# Import the SGD optimizer\n",
    "from keras.optimizers import SGD\n",
    "\n",
    "# Create list of learning rates: lr_to_test\n",
    "lr_to_test = [.000001, 0.01, 1]\n",
    "\n",
    "input_shape = (predictors.shape[1],)\n",
    "\n",
    "# Loop over learning rates\n",
    "for lr in lr_to_test:\n",
    "    print('\\n\\nTesting model with learning rate: %f\\n'%lr )\n",
    "    \n",
    "    # Build new model to test, unaffected by previous models\n",
    "    model = get_new_model(input_shape)\n",
    "    \n",
    "    # Create SGD optimizer with specified learning rate: my_optimizer\n",
    "    my_optimizer = SGD(lr=lr)\n",
    "    \n",
    "    # Compile the model\n",
    "    model.compile(\n",
    "        optimizer = my_optimizer, \n",
    "        loss = 'categorical_crossentropy')\n",
    "    \n",
    "    # Fit the model\n",
    "    model.fit(predictors, target)\n",
    "    "
   ]
  },
  {
   "cell_type": "markdown",
   "metadata": {},
   "source": [
    "## Model validation"
   ]
  },
  {
   "cell_type": "markdown",
   "metadata": {
    "collapsed": true
   },
   "source": [
    "#### Validation in deep learning\n",
    "- Commonly use validation split rather than cross-validation\n",
    "- Deep learning widely used on large datasets\n",
    "- Single validation score is based on large amount of data, and is reliable\n",
    "- Repeated training from cross-validation would take long time\n",
    "\n",
    "#### Model Validation\n",
    "- You can use `validation_split = 0.3` in the `model.fit` function\n",
    "\n",
    "#### Earling Stopping\n",
    "- You can set up an early stopping monitor with a patience. \n",
    "- The patients is the number of epochs that the model can go withouth improving before it stops\n",
    "- One epoch is normal, but 2 or 3 is unlikely. If that many epochs go by without improvement the model is uunliekly to turn around and start improving again. \n",
    "- The early stopping monitor is passed into the `model.fit` function as a callback. \n",
    "- There are other callbacks we can used when we get more advanced at this.\n",
    "- Now we can set a higher max epochs because we know our model will stop if it finished early\n",
    "  - we use the `epochs = 20` argument\n",
    "  \n",
    "#### Experimentation\n",
    "- Experiment with differnt architectures\n",
    "- More layers, fewer layers, more nodes, fewer nodes, etc\n",
    "- A good model requires some experimentation\n",
    "- We will need to build more intuition on where to experiment"
   ]
  },
  {
   "cell_type": "markdown",
   "metadata": {},
   "source": [
    "### Evaluating model accuracy on validation dataset"
   ]
  },
  {
   "cell_type": "code",
   "execution_count": 40,
   "metadata": {},
   "outputs": [
    {
     "name": "stdout",
     "output_type": "stream",
     "text": [
      "Train on 623 samples, validate on 268 samples\n",
      "Epoch 1/10\n",
      "623/623 [==============================] - 0s - loss: 1.1801 - acc: 0.5907 - val_loss: 0.5950 - val_acc: 0.7201\n",
      "Epoch 2/10\n",
      "623/623 [==============================] - 0s - loss: 0.7189 - acc: 0.6260 - val_loss: 0.8434 - val_acc: 0.6418\n",
      "Epoch 3/10\n",
      "623/623 [==============================] - 0s - loss: 0.7093 - acc: 0.6308 - val_loss: 0.5980 - val_acc: 0.7537\n",
      "Epoch 4/10\n",
      "623/623 [==============================] - 0s - loss: 0.6414 - acc: 0.6854 - val_loss: 0.6069 - val_acc: 0.7164\n",
      "Epoch 5/10\n",
      "623/623 [==============================] - 0s - loss: 0.6204 - acc: 0.6822 - val_loss: 0.6076 - val_acc: 0.7127\n",
      "Epoch 6/10\n",
      "623/623 [==============================] - 0s - loss: 0.6050 - acc: 0.6902 - val_loss: 0.8333 - val_acc: 0.6418\n",
      "Epoch 7/10\n",
      "623/623 [==============================] - 0s - loss: 0.6338 - acc: 0.6613 - val_loss: 0.6267 - val_acc: 0.6866\n",
      "Epoch 8/10\n",
      "623/623 [==============================] - 0s - loss: 0.5822 - acc: 0.6982 - val_loss: 0.5007 - val_acc: 0.7313\n",
      "Epoch 9/10\n",
      "623/623 [==============================] - 0s - loss: 0.5614 - acc: 0.7191 - val_loss: 0.5747 - val_acc: 0.7500\n",
      "Epoch 10/10\n",
      "623/623 [==============================] - 0s - loss: 0.6705 - acc: 0.6790 - val_loss: 0.4853 - val_acc: 0.7463\n"
     ]
    }
   ],
   "source": [
    "# Save the number of columns in predictors: n_cols\n",
    "n_cols = predictors.shape[1]\n",
    "input_shape = (n_cols,)\n",
    "\n",
    "# Specify the model\n",
    "model = Sequential()\n",
    "model.add(Dense(100, activation='relu', input_shape = input_shape))\n",
    "model.add(Dense(100, activation='relu'))\n",
    "model.add(Dense(2, activation='softmax'))\n",
    "\n",
    "# Compile the model\n",
    "model.compile(\n",
    "    optimizer = 'adam',\n",
    "    loss = 'categorical_crossentropy',\n",
    "    metrics = ['accuracy'])\n",
    "\n",
    "# Fit the model\n",
    "hist = model.fit(\n",
    "    predictors, target, \n",
    "    validation_split = 0.3)\n"
   ]
  },
  {
   "cell_type": "markdown",
   "metadata": {},
   "source": [
    "### Early stopping: Optimizing the optimization"
   ]
  },
  {
   "cell_type": "code",
   "execution_count": 41,
   "metadata": {},
   "outputs": [
    {
     "name": "stdout",
     "output_type": "stream",
     "text": [
      "Train on 623 samples, validate on 268 samples\n",
      "Epoch 1/30\n",
      "623/623 [==============================] - 0s - loss: 1.1611 - acc: 0.6340 - val_loss: 0.6281 - val_acc: 0.7164\n",
      "Epoch 2/30\n",
      "623/623 [==============================] - 0s - loss: 0.7219 - acc: 0.6453 - val_loss: 0.5069 - val_acc: 0.7537\n",
      "Epoch 3/30\n",
      "623/623 [==============================] - 0s - loss: 0.7429 - acc: 0.6485 - val_loss: 0.6091 - val_acc: 0.7201\n",
      "Epoch 4/30\n",
      "623/623 [==============================] - 0s - loss: 0.6417 - acc: 0.6661 - val_loss: 0.4943 - val_acc: 0.7537\n",
      "Epoch 5/30\n",
      "623/623 [==============================] - 0s - loss: 0.5877 - acc: 0.6870 - val_loss: 0.4948 - val_acc: 0.7463\n",
      "Epoch 6/30\n",
      "623/623 [==============================] - 0s - loss: 0.5868 - acc: 0.6838 - val_loss: 0.4926 - val_acc: 0.7500\n",
      "Epoch 7/30\n",
      "623/623 [==============================] - 0s - loss: 0.5792 - acc: 0.7095 - val_loss: 0.5859 - val_acc: 0.6679\n",
      "Epoch 8/30\n",
      "623/623 [==============================] - 0s - loss: 0.5615 - acc: 0.7095 - val_loss: 0.5402 - val_acc: 0.7761\n",
      "Epoch 9/30\n",
      "623/623 [==============================] - 0s - loss: 0.5839 - acc: 0.7127 - val_loss: 0.5158 - val_acc: 0.7873\n"
     ]
    },
    {
     "data": {
      "text/plain": [
       "<keras.callbacks.History at 0x1a250a3fd0>"
      ]
     },
     "execution_count": 41,
     "metadata": {},
     "output_type": "execute_result"
    }
   ],
   "source": [
    "# Import EarlyStopping\n",
    "from keras.callbacks import EarlyStopping\n",
    "\n",
    "# Save the number of columns in predictors: n_cols\n",
    "n_cols = predictors.shape[1]\n",
    "input_shape = (n_cols,)\n",
    "\n",
    "# Specify the model\n",
    "model = Sequential()\n",
    "model.add(Dense(100, activation='relu', input_shape = input_shape))\n",
    "model.add(Dense(100, activation='relu'))\n",
    "model.add(Dense(2, activation='softmax'))\n",
    "\n",
    "# Compile the model\n",
    "model.compile(\n",
    "    optimizer = 'adam',\n",
    "    loss = 'categorical_crossentropy',\n",
    "    metrics = ['accuracy'])\n",
    "\n",
    "# Define early_stopping_monitor\n",
    "early_stopping_monitor = EarlyStopping(patience = 2)\n",
    "\n",
    "# Fit the model\n",
    "model.fit(\n",
    "    predictors, target,\n",
    "    epochs = 30,\n",
    "    validation_split = 0.3,\n",
    "    callbacks = [early_stopping_monitor])\n"
   ]
  },
  {
   "cell_type": "markdown",
   "metadata": {},
   "source": [
    "- This seems a little confusing to me still. \n",
    "- The `val_loss` score hits .5130. The next 2 epochs are not as good but it does not stop there\n",
    "- Its stops later after one non improving epoch. Seems to make no sense"
   ]
  },
  {
   "cell_type": "markdown",
   "metadata": {},
   "source": [
    "### Experimenting with wider networks"
   ]
  },
  {
   "cell_type": "code",
   "execution_count": 42,
   "metadata": {},
   "outputs": [
    {
     "data": {
      "image/png": "[encoded data removed]",
      "text/plain": [
       "<matplotlib.figure.Figure at 0x1a2552deb8>"
      ]
     },
     "metadata": {},
     "output_type": "display_data"
    }
   ],
   "source": [
    "# Define early_stopping_monitor\n",
    "early_stopping_monitor = EarlyStopping(patience=2)\n",
    "\n",
    "# Create model 1\n",
    "model_1 = Sequential()\n",
    "model_1.add(Dense(10, activation='relu', input_shape = input_shape))\n",
    "model_1.add(Dense(10, activation='relu'))\n",
    "model_1.add(Dense(2, activation='softmax'))\n",
    "\n",
    "# Compile model_2\n",
    "model_1.compile(\n",
    "    optimizer = 'adam',\n",
    "    loss = 'categorical_crossentropy',\n",
    "    metrics = ['accuracy'])\n",
    "\n",
    "# Create the new model: model_2\n",
    "model_2 = Sequential()\n",
    "model_2.add(Dense(100, activation='relu', input_shape = input_shape))\n",
    "model_2.add(Dense(100, activation='relu'))\n",
    "model_2.add(Dense(2, activation='softmax'))\n",
    "\n",
    "# Compile model_2\n",
    "model_2.compile(\n",
    "    optimizer = 'adam',\n",
    "    loss = 'categorical_crossentropy',\n",
    "    metrics = ['accuracy'])\n",
    "\n",
    "# Fit model_1\n",
    "model_1_training = model_1.fit(\n",
    "    predictors, target, \n",
    "    epochs=15, \n",
    "    validation_split=0.2, \n",
    "    callbacks=[early_stopping_monitor], \n",
    "    verbose=False)\n",
    "\n",
    "# Fit model_2\n",
    "model_2_training = model_2.fit(\n",
    "    predictors, target, \n",
    "    epochs=15, \n",
    "    validation_split=0.2, \n",
    "    callbacks=[early_stopping_monitor], \n",
    "    verbose=False)\n",
    "\n",
    "# Create the plot\n",
    "plt.plot(\n",
    "    model_1_training.history['val_loss'], 'r', \n",
    "    model_2_training.history['val_loss'], 'b')\n",
    "plt.xlabel('Epochs')\n",
    "plt.ylabel('Validation score')\n",
    "plt.show()\n"
   ]
  },
  {
   "cell_type": "markdown",
   "metadata": {},
   "source": [
    "- The blue model is very different each time I run this code chunk\n",
    "  - It does not seem as stable. It has a tendency to jump up and down\n",
    "- The red model usually looks fairly similar on each run.\n",
    " - Some times it actually does better than the blue model which is supposed to be better here. "
   ]
  },
  {
   "cell_type": "markdown",
   "metadata": {},
   "source": [
    "### Adding layers to a network\n",
    "- Now we'll experiment with a deeper network"
   ]
  },
  {
   "cell_type": "code",
   "execution_count": 43,
   "metadata": {},
   "outputs": [
    {
     "data": {
      "image/png": "[encoded data removed]",
      "text/plain": [
       "<matplotlib.figure.Figure at 0x1a26c17f28>"
      ]
     },
     "metadata": {},
     "output_type": "display_data"
    }
   ],
   "source": [
    "# The input shape to use in the first hidden layer\n",
    "input_shape = (n_cols,)\n",
    "\n",
    "# Create model 1\n",
    "# Create the new model: model_2\n",
    "model_1 = Sequential()\n",
    "model_1.add(Dense(50, activation='relu', input_shape = input_shape))\n",
    "model_1.add(Dense(50, activation='relu'))\n",
    "model_1.add(Dense(50, activation='relu'))\n",
    "model_1.add(Dense(2, activation='softmax'))\n",
    "\n",
    "# Compile model_1\n",
    "model_1.compile(\n",
    "    optimizer = 'adam',\n",
    "    loss = 'categorical_crossentropy',\n",
    "    metrics = ['accuracy'])\n",
    "\n",
    "\n",
    "# Create the new model: model_2\n",
    "model_2 = Sequential()\n",
    "model_2.add(Dense(50, activation='relu', input_shape = input_shape))\n",
    "model_2.add(Dense(50, activation='relu'))\n",
    "model_2.add(Dense(50, activation='relu'))\n",
    "model_2.add(Dense(2, activation='softmax'))\n",
    "\n",
    "# Compile model_2\n",
    "model_2.compile(\n",
    "    optimizer = 'adam',\n",
    "    loss = 'categorical_crossentropy',\n",
    "    metrics = ['accuracy'])\n",
    "\n",
    "# Fit model 1\n",
    "model_1_training = model_1.fit(\n",
    "    predictors, target, \n",
    "    epochs=20, \n",
    "    validation_split=0.4, \n",
    "    callbacks=[early_stopping_monitor], \n",
    "    verbose=False)\n",
    "\n",
    "# Fit model 2\n",
    "model_2_training = model_2.fit(\n",
    "    predictors, target, \n",
    "    epochs=20, \n",
    "    validation_split=0.4, \n",
    "    callbacks=[early_stopping_monitor], \n",
    "    verbose=False)\n",
    "\n",
    "# Create the plot\n",
    "plt.plot(\n",
    "    model_1_training.history['val_loss'], 'r',\n",
    "    model_2_training.history['val_loss'], 'b')\n",
    "plt.xlabel('Epochs')\n",
    "plt.ylabel('Validation score')\n",
    "plt.show()\n"
   ]
  },
  {
   "cell_type": "markdown",
   "metadata": {},
   "source": [
    "- This is an interesting example.  But again it seems to be a coin flip as to which model is better. \n",
    "- Also they pth seem to jump up in the validation score sometimes at random. \n",
    "  - I would think the tuning would improve over time steadily"
   ]
  },
  {
   "cell_type": "markdown",
   "metadata": {},
   "source": [
    "## Thinking about model capacity"
   ]
  },
  {
   "cell_type": "markdown",
   "metadata": {
    "collapsed": true
   },
   "source": [
    "- Its still a little more of an 'art' to tune good deep learning algorithms compared to other types of maching learning algorithms\n",
    "- Model capacity should be one of the key considerations when considering what models to try \n",
    "- Model (or network) capacity is closely related to over and under fitting\n",
    "- Model capicity is our models ability to capture predictive patterns in our data\n",
    "- Adding more nodoes to a layer or more layers, increases the models capacity\n",
    "![](images/model_capacity.png)"
   ]
  },
  {
   "cell_type": "markdown",
   "metadata": {},
   "source": [
    "#### Workflow for optimizing model capacity\n",
    "- Start with a small network\n",
    "- Gradually increase capacity\n",
    "- Keep increasing capacity until validation score is no longer improving\n",
    "- You can back it up a little bit but the model is probably near the ideal\n",
    "- Here is an example workflow\n",
    "![](images/workflow.png)\n",
    "\n",
    "\n",
    "- How should we add capaicty, nodes or layer?\n",
    "  - There is no universal answer to this\n",
    "  - Generally we just want to consider if we are increasing or decreasing capacity\n",
    " "
   ]
  },
  {
   "cell_type": "markdown",
   "metadata": {},
   "source": [
    "## Stepping up to images"
   ]
  },
  {
   "cell_type": "markdown",
   "metadata": {
    "collapsed": true
   },
   "source": [
    "#### Recognizin handwritten digits\n",
    "- MNIST dataset\n",
    "  - This is a very popular dataset to get started working with images\n",
    "  - I think we used this in Andrew Ng's machine learning class on coursera\n",
    "- 28 x 28 grid flattened to 784 values for each image\n",
    "- Value in each part of array denotes darkness of that pixel 0 - 255"
   ]
  },
  {
   "cell_type": "markdown",
   "metadata": {},
   "source": [
    "### Building your own digit recognition model"
   ]
  },
  {
   "cell_type": "markdown",
   "metadata": {},
   "source": [
    "- We've loaded only 2500 images, rather than 60000 which you will see in some published results. \n",
    "- Deep learning models perform better with more data, however, they also take longer to train, especially when they start becoming more complex.\n",
    "\n",
    "- If you have a computer with a CUDA compatible GPU, you can take advantage of it to improve computation time. \n",
    "- If you don't have a GPU, no problem! You can set up a deep learning environment in the cloud that can run your models on a GPU. \n",
    "- Here is a [blog post](https://www.datacamp.com/community/tutorials/deep-learning-jupyter-aws) by Dan that explains how to do this - check it out after completing this exercise! It is a great next step as you continue your deep learning journey."
   ]
  },
  {
   "cell_type": "code",
   "execution_count": 44,
   "metadata": {},
   "outputs": [
    {
     "name": "stdout",
     "output_type": "stream",
     "text": [
      "(2000, 785)\n"
     ]
    },
    {
     "data": {
      "text/html": [
       "<div>\n",
       "<style>\n",
       "    .dataframe thead tr:only-child th {\n",
       "        text-align: right;\n",
       "    }\n",
       "\n",
       "    .dataframe thead th {\n",
       "        text-align: left;\n",
       "    }\n",
       "\n",
       "    .dataframe tbody tr th {\n",
       "        vertical-align: top;\n",
       "    }\n",
       "</style>\n",
       "<table border=\"1\" class=\"dataframe\">\n",
       "  <thead>\n",
       "    <tr style=\"text-align: right;\">\n",
       "      <th></th>\n",
       "      <th>5</th>\n",
       "      <th>0</th>\n",
       "      <th>0.1</th>\n",
       "      <th>0.2</th>\n",
       "      <th>0.3</th>\n",
       "      <th>0.4</th>\n",
       "      <th>0.5</th>\n",
       "      <th>0.6</th>\n",
       "      <th>0.7</th>\n",
       "      <th>0.8</th>\n",
       "      <th>...</th>\n",
       "      <th>0.608</th>\n",
       "      <th>0.609</th>\n",
       "      <th>0.610</th>\n",
       "      <th>0.611</th>\n",
       "      <th>0.612</th>\n",
       "      <th>0.613</th>\n",
       "      <th>0.614</th>\n",
       "      <th>0.615</th>\n",
       "      <th>0.616</th>\n",
       "      <th>0.617</th>\n",
       "    </tr>\n",
       "  </thead>\n",
       "  <tbody>\n",
       "    <tr>\n",
       "      <th>0</th>\n",
       "      <td>4</td>\n",
       "      <td>0</td>\n",
       "      <td>0</td>\n",
       "      <td>0</td>\n",
       "      <td>0</td>\n",
       "      <td>0</td>\n",
       "      <td>0</td>\n",
       "      <td>0</td>\n",
       "      <td>0</td>\n",
       "      <td>0</td>\n",
       "      <td>...</td>\n",
       "      <td>0</td>\n",
       "      <td>0</td>\n",
       "      <td>0</td>\n",
       "      <td>0</td>\n",
       "      <td>0</td>\n",
       "      <td>0</td>\n",
       "      <td>0</td>\n",
       "      <td>0</td>\n",
       "      <td>0</td>\n",
       "      <td>0</td>\n",
       "    </tr>\n",
       "    <tr>\n",
       "      <th>1</th>\n",
       "      <td>3</td>\n",
       "      <td>0</td>\n",
       "      <td>0</td>\n",
       "      <td>0</td>\n",
       "      <td>0</td>\n",
       "      <td>0</td>\n",
       "      <td>0</td>\n",
       "      <td>0</td>\n",
       "      <td>0</td>\n",
       "      <td>0</td>\n",
       "      <td>...</td>\n",
       "      <td>0</td>\n",
       "      <td>0</td>\n",
       "      <td>0</td>\n",
       "      <td>0</td>\n",
       "      <td>0</td>\n",
       "      <td>0</td>\n",
       "      <td>0</td>\n",
       "      <td>0</td>\n",
       "      <td>0</td>\n",
       "      <td>0</td>\n",
       "    </tr>\n",
       "    <tr>\n",
       "      <th>2</th>\n",
       "      <td>0</td>\n",
       "      <td>0</td>\n",
       "      <td>0</td>\n",
       "      <td>0</td>\n",
       "      <td>0</td>\n",
       "      <td>0</td>\n",
       "      <td>0</td>\n",
       "      <td>0</td>\n",
       "      <td>0</td>\n",
       "      <td>0</td>\n",
       "      <td>...</td>\n",
       "      <td>0</td>\n",
       "      <td>0</td>\n",
       "      <td>0</td>\n",
       "      <td>0</td>\n",
       "      <td>0</td>\n",
       "      <td>0</td>\n",
       "      <td>0</td>\n",
       "      <td>0</td>\n",
       "      <td>0</td>\n",
       "      <td>0</td>\n",
       "    </tr>\n",
       "    <tr>\n",
       "      <th>3</th>\n",
       "      <td>2</td>\n",
       "      <td>0</td>\n",
       "      <td>0</td>\n",
       "      <td>0</td>\n",
       "      <td>0</td>\n",
       "      <td>0</td>\n",
       "      <td>0</td>\n",
       "      <td>0</td>\n",
       "      <td>0</td>\n",
       "      <td>0</td>\n",
       "      <td>...</td>\n",
       "      <td>0</td>\n",
       "      <td>0</td>\n",
       "      <td>0</td>\n",
       "      <td>0</td>\n",
       "      <td>0</td>\n",
       "      <td>0</td>\n",
       "      <td>0</td>\n",
       "      <td>0</td>\n",
       "      <td>0</td>\n",
       "      <td>0</td>\n",
       "    </tr>\n",
       "    <tr>\n",
       "      <th>4</th>\n",
       "      <td>8</td>\n",
       "      <td>0</td>\n",
       "      <td>0</td>\n",
       "      <td>0</td>\n",
       "      <td>0</td>\n",
       "      <td>0</td>\n",
       "      <td>0</td>\n",
       "      <td>0</td>\n",
       "      <td>0</td>\n",
       "      <td>0</td>\n",
       "      <td>...</td>\n",
       "      <td>0</td>\n",
       "      <td>0</td>\n",
       "      <td>0</td>\n",
       "      <td>0</td>\n",
       "      <td>0</td>\n",
       "      <td>0</td>\n",
       "      <td>0</td>\n",
       "      <td>0</td>\n",
       "      <td>0</td>\n",
       "      <td>0</td>\n",
       "    </tr>\n",
       "  </tbody>\n",
       "</table>\n",
       "<p>5 rows × 785 columns</p>\n",
       "</div>"
      ],
      "text/plain": [
       "   5  0  0.1  0.2  0.3  0.4  0.5  0.6  0.7  0.8  ...    0.608  0.609  0.610  \\\n",
       "0  4  0    0    0    0    0    0    0    0    0  ...        0      0      0   \n",
       "1  3  0    0    0    0    0    0    0    0    0  ...        0      0      0   \n",
       "2  0  0    0    0    0    0    0    0    0    0  ...        0      0      0   \n",
       "3  2  0    0    0    0    0    0    0    0    0  ...        0      0      0   \n",
       "4  8  0    0    0    0    0    0    0    0    0  ...        0      0      0   \n",
       "\n",
       "   0.611  0.612  0.613  0.614  0.615  0.616  0.617  \n",
       "0      0      0      0      0      0      0      0  \n",
       "1      0      0      0      0      0      0      0  \n",
       "2      0      0      0      0      0      0      0  \n",
       "3      0      0      0      0      0      0      0  \n",
       "4      0      0      0      0      0      0      0  \n",
       "\n",
       "[5 rows x 785 columns]"
      ]
     },
     "execution_count": 44,
     "metadata": {},
     "output_type": "execute_result"
    }
   ],
   "source": [
    "file = 'https://assets.datacamp.com/production/course_1975/datasets/mnist.csv'\n",
    "digits = pd.read_csv(file)\n",
    "print(digits.shape)\n",
    "digits.head()"
   ]
  },
  {
   "cell_type": "code",
   "execution_count": 45,
   "metadata": {},
   "outputs": [
    {
     "data": {
      "text/plain": [
       "array([[0, 0, 0, ..., 0, 0, 0],\n",
       "       [0, 0, 0, ..., 0, 0, 0],\n",
       "       [0, 0, 0, ..., 0, 0, 0],\n",
       "       ..., \n",
       "       [0, 0, 0, ..., 0, 0, 0],\n",
       "       [0, 0, 0, ..., 0, 0, 0],\n",
       "       [0, 0, 0, ..., 0, 0, 0]])"
      ]
     },
     "execution_count": 45,
     "metadata": {},
     "output_type": "execute_result"
    }
   ],
   "source": [
    "X = digits.drop('5', axis = 1).values\n",
    "X"
   ]
  },
  {
   "cell_type": "code",
   "execution_count": 46,
   "metadata": {},
   "outputs": [
    {
     "data": {
      "text/plain": [
       "array([[ 0.,  0.,  0., ...,  0.,  0.,  0.],\n",
       "       [ 0.,  0.,  0., ...,  0.,  0.,  0.],\n",
       "       [ 1.,  0.,  0., ...,  0.,  0.,  0.],\n",
       "       ..., \n",
       "       [ 0.,  0.,  0., ...,  0.,  1.,  0.],\n",
       "       [ 0.,  0.,  0., ...,  0.,  0.,  1.],\n",
       "       [ 0.,  0.,  0., ...,  0.,  0.,  1.]])"
      ]
     },
     "execution_count": 46,
     "metadata": {},
     "output_type": "execute_result"
    }
   ],
   "source": [
    "y = to_categorical(digits.iloc[:,0])\n",
    "y"
   ]
  },
  {
   "cell_type": "markdown",
   "metadata": {},
   "source": [
    "- I'm actyally just getting around 53% accuracy so I'm going to tweek this a bit\n"
   ]
  },
  {
   "cell_type": "code",
   "execution_count": 47,
   "metadata": {},
   "outputs": [
    {
     "data": {
      "image/png": "[encoded data removed]",
      "text/plain": [
       "<matplotlib.figure.Figure at 0x1a287fdc18>"
      ]
     },
     "metadata": {},
     "output_type": "display_data"
    },
    {
     "data": {
      "image/png": "[encoded data removed]",
      "text/plain": [
       "<matplotlib.figure.Figure at 0x1a287fdc88>"
      ]
     },
     "metadata": {},
     "output_type": "display_data"
    }
   ],
   "source": [
    "from keras.callbacks import EarlyStopping\n",
    "\n",
    "n_cols = X.shape[1]\n",
    "\n",
    "# Create the model: model\n",
    "model = Sequential()\n",
    "model.add(Dense(50, activation = 'relu', input_shape = (n_cols,)))\n",
    "model.add(Dense(50, activation = 'relu'))\n",
    "model.add(Dense(10, activation = 'softmax'))\n",
    "\n",
    "# Compile the model\n",
    "model.compile(\n",
    "    optimizer = 'adam',\n",
    "    loss = 'categorical_crossentropy',\n",
    "    metrics = ['accuracy'])\n",
    "\n",
    "# Fit the model\n",
    "model_training = model.fit(\n",
    "    X, y, \n",
    "    epochs = 20,\n",
    "    validation_split = 0.3,\n",
    "    callbacks = [EarlyStopping(patience = 3)],\n",
    "    verbose = False)\n",
    "\n",
    "# Create the plot\n",
    "plt.plot(model_training.history['val_loss'], 'b')\n",
    "plt.xlabel('Epochs')\n",
    "plt.ylabel('Validation score')\n",
    "plt.show()\n",
    "\n",
    "plt.plot(model_training.history['val_acc'], 'r')\n",
    "plt.xlabel('Epochs')\n",
    "plt.ylabel('Validation Accuracy')\n",
    "plt.show()\n"
   ]
  },
  {
   "cell_type": "markdown",
   "metadata": {},
   "source": [
    "- Well that a little dissappointing\n",
    "- I was hoping for something in the high nineties\n",
    "- In the class we get .8893 with what I think is the same data"
   ]
  },
  {
   "cell_type": "markdown",
   "metadata": {},
   "source": [
    "## Final thoughts"
   ]
  },
  {
   "cell_type": "markdown",
   "metadata": {
    "collapsed": true
   },
   "source": [
    "- The instructor says its just like riding a bike. The hardest part is getting to the point where you can practice on your own. And now we are there\n",
    "- Start with problems that involve standard prediction problems on tables of numbers\n",
    "  - So like the ones we have seen in previous classes\n",
    "  - I can also use kaggle or other tutorials to see how this will perform\n",
    "- Then try images (with convolutional neural networks)\n",
    "- Kaggle is a great place to find datasets to work with\n",
    " - And there forums are a good place to keep learning as well\n",
    "- Check this [wiki page](https://en.wikipedia.org/wiki/List_of_datasets_for_machine_learning_research) on data sets for machine learning research\n",
    "- keras.io has excellent documention\n",
    " - it also has nice examples\n",
    "- tensor flow also has some good examples\n",
    "- We need to set up a computer with GPUs. Get some on amazon. \n"
   ]
  }
 ],
 "metadata": {
  "kernelspec": {
   "display_name": "Python [conda env:python_datacamp]",
   "language": "python",
   "name": "conda-env-python_datacamp-py"
  },
  "language_info": {
   "codemirror_mode": {
    "name": "ipython",
    "version": 3
   },
   "file_extension": ".py",
   "mimetype": "text/x-python",
   "name": "python",
   "nbconvert_exporter": "python",
   "pygments_lexer": "ipython3",
   "version": "3.6.3"
  }
 },
 "nbformat": 4,
 "nbformat_minor": 2
}
